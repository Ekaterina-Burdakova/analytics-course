{
 "cells": [
  {
   "cell_type": "markdown",
   "metadata": {},
   "source": [
    "# Анализ доходности приложения ProcrastinatePRO+"
   ]
  },
  {
   "cell_type": "markdown",
   "metadata": {},
   "source": [
    "#  Описание проекта и данных"
   ]
  },
  {
   "cell_type": "markdown",
   "metadata": {},
   "source": [
    "# Описание проекта:\n",
    "\n",
    "Компания по приложению `Procrastinate Pro+`вкладывает огромные суммы денег в рекламу, но последние несколько месяцев терпит убытки. Моя задача — разобраться в причинах и помочь компании выйти в плюс.\n",
    "\n",
    "***Данные о пользователях, привлечённых с 1 мая по 27 октября 2019 года:***\n",
    "*\tлог сервера с данными об их посещениях,\n",
    "*\tвыгрузка их покупок за этот период,\n",
    "*\tрекламные расходы.\n",
    "\n",
    "***Предстоит изучить:***\n",
    "*\tоткуда приходят пользователи и какими устройствами они пользуются,\n",
    "*\tсколько стоит привлечение пользователей из различных рекламных каналов;\n",
    "*\tсколько денег приносит каждый клиент,\n",
    "*\tкогда расходы на привлечение клиента окупаются,\n",
    "*\tкакие факторы мешают привлечению клиентов.\n",
    "\n",
    "\n",
    "\n",
    "# Описание данных\n",
    "Таблица `visits_log_short` (лог сервера с информацией о посещениях сайта):\n",
    "\n",
    "* ***User Id*** — уникальный идентификатор пользователя\n",
    "* ***Device*** — категория устройства пользователя\n",
    "* ***Session start*** — дата и время начала сессии\n",
    "* ***Session End*** — дата и время окончания сессии\n",
    "* ***Channel*** — идентификатор рекламного источника, из которого пришел пользователь\n",
    "* ***Region*** - страна пользователя\n",
    "\n",
    "Таблица `orders_log_short` (информация о заказах):\n",
    "\n",
    "* ***User Id*** — уникальный id пользователя, который сделал заказ\n",
    "* ***Event Dt*** — дата и время покупки\n",
    "* ***Revenue*** — выручка\n",
    "\n",
    "Таблица `costs_short` (информация о затратах на маркетинг):\n",
    "\n",
    "* ***Channel*** — идентификатор рекламного источника\n",
    "* ***Dt*** — дата\n",
    "* ***Costs*** — затраты на этот рекламный источник в этот день"
   ]
  },
  {
   "cell_type": "code",
   "execution_count": 1,
   "metadata": {},
   "outputs": [],
   "source": [
    "# импорт библиотек\n",
    "import pandas as pd\n",
    "import numpy as np\n",
    "import matplotlib.pyplot as plt \n",
    "import seaborn as sns\n",
    "sns.set()\n",
    "\n",
    "from datetime import datetime, timedelta\n",
    "\n",
    "from scipy import stats as st\n",
    "import math\n",
    "\n",
    "from plotly.offline import init_notebook_mode, iplot\n",
    "import plotly\n",
    "import plotly.graph_objs as go\n"
   ]
  },
  {
   "cell_type": "markdown",
   "metadata": {},
   "source": [
    "## Шаг. Загрузка и подготовка данных\n",
    "Загрузим данные о визитах, заказах и расходах в переменные. Оптимизируем данные для анализа. Убедимся, что тип данных в каждой колонке — правильный. Путь к файлам:\n",
    "\n",
    " -   /datasets/visits_info_short.csv. \n",
    " -   /datasets/orders_info_short.csv. \n",
    " -   /datasets/costs_info_short.csv."
   ]
  },
  {
   "cell_type": "code",
   "execution_count": 11,
   "metadata": {},
   "outputs": [
    {
     "ename": "OSError",
     "evalue": "[Errno 22] Invalid argument: 'datasets\\x0bisits_info_short.csv'",
     "output_type": "error",
     "traceback": [
      "\u001b[1;31m---------------------------------------------------------------------------\u001b[0m",
      "\u001b[1;31mOSError\u001b[0m                                   Traceback (most recent call last)",
      "\u001b[1;32m~\\AppData\\Local\\Temp/ipykernel_12424/3483080655.py\u001b[0m in \u001b[0;36m<module>\u001b[1;34m\u001b[0m\n\u001b[0;32m      1\u001b[0m \u001b[1;32mtry\u001b[0m\u001b[1;33m:\u001b[0m\u001b[1;33m\u001b[0m\u001b[1;33m\u001b[0m\u001b[0m\n\u001b[1;32m----> 2\u001b[1;33m     \u001b[0mvisits\u001b[0m \u001b[1;33m=\u001b[0m \u001b[0mpd\u001b[0m\u001b[1;33m.\u001b[0m\u001b[0mread_csv\u001b[0m\u001b[1;33m(\u001b[0m\u001b[1;34m'\\\\datasets\\visits_info_short.csv'\u001b[0m\u001b[1;33m)\u001b[0m \u001b[1;31m# информация о посещении сайта\u001b[0m\u001b[1;33m\u001b[0m\u001b[1;33m\u001b[0m\u001b[0m\n\u001b[0m\u001b[0;32m      3\u001b[0m     \u001b[0morders\u001b[0m \u001b[1;33m=\u001b[0m \u001b[0mpd\u001b[0m\u001b[1;33m.\u001b[0m\u001b[0mread_csv\u001b[0m\u001b[1;33m(\u001b[0m\u001b[1;34m'\\\\datasets\\orders_info_short.csv'\u001b[0m\u001b[1;33m)\u001b[0m \u001b[1;31m# информация о заказах\u001b[0m\u001b[1;33m\u001b[0m\u001b[1;33m\u001b[0m\u001b[0m\n",
      "\u001b[1;32mC:\\ProgramData\\Anaconda3\\lib\\site-packages\\pandas\\util\\_decorators.py\u001b[0m in \u001b[0;36mwrapper\u001b[1;34m(*args, **kwargs)\u001b[0m\n\u001b[0;32m    310\u001b[0m                 )\n\u001b[1;32m--> 311\u001b[1;33m             \u001b[1;32mreturn\u001b[0m \u001b[0mfunc\u001b[0m\u001b[1;33m(\u001b[0m\u001b[1;33m*\u001b[0m\u001b[0margs\u001b[0m\u001b[1;33m,\u001b[0m \u001b[1;33m**\u001b[0m\u001b[0mkwargs\u001b[0m\u001b[1;33m)\u001b[0m\u001b[1;33m\u001b[0m\u001b[1;33m\u001b[0m\u001b[0m\n\u001b[0m\u001b[0;32m    312\u001b[0m \u001b[1;33m\u001b[0m\u001b[0m\n",
      "\u001b[1;32mC:\\ProgramData\\Anaconda3\\lib\\site-packages\\pandas\\io\\parsers\\readers.py\u001b[0m in \u001b[0;36mread_csv\u001b[1;34m(filepath_or_buffer, sep, delimiter, header, names, index_col, usecols, squeeze, prefix, mangle_dupe_cols, dtype, engine, converters, true_values, false_values, skipinitialspace, skiprows, skipfooter, nrows, na_values, keep_default_na, na_filter, verbose, skip_blank_lines, parse_dates, infer_datetime_format, keep_date_col, date_parser, dayfirst, cache_dates, iterator, chunksize, compression, thousands, decimal, lineterminator, quotechar, quoting, doublequote, escapechar, comment, encoding, encoding_errors, dialect, error_bad_lines, warn_bad_lines, on_bad_lines, delim_whitespace, low_memory, memory_map, float_precision, storage_options)\u001b[0m\n\u001b[0;32m    585\u001b[0m \u001b[1;33m\u001b[0m\u001b[0m\n\u001b[1;32m--> 586\u001b[1;33m     \u001b[1;32mreturn\u001b[0m \u001b[0m_read\u001b[0m\u001b[1;33m(\u001b[0m\u001b[0mfilepath_or_buffer\u001b[0m\u001b[1;33m,\u001b[0m \u001b[0mkwds\u001b[0m\u001b[1;33m)\u001b[0m\u001b[1;33m\u001b[0m\u001b[1;33m\u001b[0m\u001b[0m\n\u001b[0m\u001b[0;32m    587\u001b[0m \u001b[1;33m\u001b[0m\u001b[0m\n",
      "\u001b[1;32mC:\\ProgramData\\Anaconda3\\lib\\site-packages\\pandas\\io\\parsers\\readers.py\u001b[0m in \u001b[0;36m_read\u001b[1;34m(filepath_or_buffer, kwds)\u001b[0m\n\u001b[0;32m    481\u001b[0m     \u001b[1;31m# Create the parser.\u001b[0m\u001b[1;33m\u001b[0m\u001b[1;33m\u001b[0m\u001b[0m\n\u001b[1;32m--> 482\u001b[1;33m     \u001b[0mparser\u001b[0m \u001b[1;33m=\u001b[0m \u001b[0mTextFileReader\u001b[0m\u001b[1;33m(\u001b[0m\u001b[0mfilepath_or_buffer\u001b[0m\u001b[1;33m,\u001b[0m \u001b[1;33m**\u001b[0m\u001b[0mkwds\u001b[0m\u001b[1;33m)\u001b[0m\u001b[1;33m\u001b[0m\u001b[1;33m\u001b[0m\u001b[0m\n\u001b[0m\u001b[0;32m    483\u001b[0m \u001b[1;33m\u001b[0m\u001b[0m\n",
      "\u001b[1;32mC:\\ProgramData\\Anaconda3\\lib\\site-packages\\pandas\\io\\parsers\\readers.py\u001b[0m in \u001b[0;36m__init__\u001b[1;34m(self, f, engine, **kwds)\u001b[0m\n\u001b[0;32m    810\u001b[0m \u001b[1;33m\u001b[0m\u001b[0m\n\u001b[1;32m--> 811\u001b[1;33m         \u001b[0mself\u001b[0m\u001b[1;33m.\u001b[0m\u001b[0m_engine\u001b[0m \u001b[1;33m=\u001b[0m \u001b[0mself\u001b[0m\u001b[1;33m.\u001b[0m\u001b[0m_make_engine\u001b[0m\u001b[1;33m(\u001b[0m\u001b[0mself\u001b[0m\u001b[1;33m.\u001b[0m\u001b[0mengine\u001b[0m\u001b[1;33m)\u001b[0m\u001b[1;33m\u001b[0m\u001b[1;33m\u001b[0m\u001b[0m\n\u001b[0m\u001b[0;32m    812\u001b[0m \u001b[1;33m\u001b[0m\u001b[0m\n",
      "\u001b[1;32mC:\\ProgramData\\Anaconda3\\lib\\site-packages\\pandas\\io\\parsers\\readers.py\u001b[0m in \u001b[0;36m_make_engine\u001b[1;34m(self, engine)\u001b[0m\n\u001b[0;32m   1039\u001b[0m         \u001b[1;31m# error: Too many arguments for \"ParserBase\"\u001b[0m\u001b[1;33m\u001b[0m\u001b[1;33m\u001b[0m\u001b[0m\n\u001b[1;32m-> 1040\u001b[1;33m         \u001b[1;32mreturn\u001b[0m \u001b[0mmapping\u001b[0m\u001b[1;33m[\u001b[0m\u001b[0mengine\u001b[0m\u001b[1;33m]\u001b[0m\u001b[1;33m(\u001b[0m\u001b[0mself\u001b[0m\u001b[1;33m.\u001b[0m\u001b[0mf\u001b[0m\u001b[1;33m,\u001b[0m \u001b[1;33m**\u001b[0m\u001b[0mself\u001b[0m\u001b[1;33m.\u001b[0m\u001b[0moptions\u001b[0m\u001b[1;33m)\u001b[0m  \u001b[1;31m# type: ignore[call-arg]\u001b[0m\u001b[1;33m\u001b[0m\u001b[1;33m\u001b[0m\u001b[0m\n\u001b[0m\u001b[0;32m   1041\u001b[0m \u001b[1;33m\u001b[0m\u001b[0m\n",
      "\u001b[1;32mC:\\ProgramData\\Anaconda3\\lib\\site-packages\\pandas\\io\\parsers\\c_parser_wrapper.py\u001b[0m in \u001b[0;36m__init__\u001b[1;34m(self, src, **kwds)\u001b[0m\n\u001b[0;32m     50\u001b[0m         \u001b[1;31m# open handles\u001b[0m\u001b[1;33m\u001b[0m\u001b[1;33m\u001b[0m\u001b[0m\n\u001b[1;32m---> 51\u001b[1;33m         \u001b[0mself\u001b[0m\u001b[1;33m.\u001b[0m\u001b[0m_open_handles\u001b[0m\u001b[1;33m(\u001b[0m\u001b[0msrc\u001b[0m\u001b[1;33m,\u001b[0m \u001b[0mkwds\u001b[0m\u001b[1;33m)\u001b[0m\u001b[1;33m\u001b[0m\u001b[1;33m\u001b[0m\u001b[0m\n\u001b[0m\u001b[0;32m     52\u001b[0m         \u001b[1;32massert\u001b[0m \u001b[0mself\u001b[0m\u001b[1;33m.\u001b[0m\u001b[0mhandles\u001b[0m \u001b[1;32mis\u001b[0m \u001b[1;32mnot\u001b[0m \u001b[1;32mNone\u001b[0m\u001b[1;33m\u001b[0m\u001b[1;33m\u001b[0m\u001b[0m\n",
      "\u001b[1;32mC:\\ProgramData\\Anaconda3\\lib\\site-packages\\pandas\\io\\parsers\\base_parser.py\u001b[0m in \u001b[0;36m_open_handles\u001b[1;34m(self, src, kwds)\u001b[0m\n\u001b[0;32m    221\u001b[0m         \"\"\"\n\u001b[1;32m--> 222\u001b[1;33m         self.handles = get_handle(\n\u001b[0m\u001b[0;32m    223\u001b[0m             \u001b[0msrc\u001b[0m\u001b[1;33m,\u001b[0m\u001b[1;33m\u001b[0m\u001b[1;33m\u001b[0m\u001b[0m\n",
      "\u001b[1;32mC:\\ProgramData\\Anaconda3\\lib\\site-packages\\pandas\\io\\common.py\u001b[0m in \u001b[0;36mget_handle\u001b[1;34m(path_or_buf, mode, encoding, compression, memory_map, is_text, errors, storage_options)\u001b[0m\n\u001b[0;32m    701\u001b[0m             \u001b[1;31m# Encoding\u001b[0m\u001b[1;33m\u001b[0m\u001b[1;33m\u001b[0m\u001b[0m\n\u001b[1;32m--> 702\u001b[1;33m             handle = open(\n\u001b[0m\u001b[0;32m    703\u001b[0m                 \u001b[0mhandle\u001b[0m\u001b[1;33m,\u001b[0m\u001b[1;33m\u001b[0m\u001b[1;33m\u001b[0m\u001b[0m\n",
      "\u001b[1;31mOSError\u001b[0m: [Errno 22] Invalid argument: '\\\\datasets\\x0bisits_info_short.csv'",
      "\nDuring handling of the above exception, another exception occurred:\n",
      "\u001b[1;31mOSError\u001b[0m                                   Traceback (most recent call last)",
      "\u001b[1;32m~\\AppData\\Local\\Temp/ipykernel_12424/3483080655.py\u001b[0m in \u001b[0;36m<module>\u001b[1;34m\u001b[0m\n\u001b[0;32m      4\u001b[0m     \u001b[0mcosts\u001b[0m \u001b[1;33m=\u001b[0m \u001b[0mpd\u001b[0m\u001b[1;33m.\u001b[0m\u001b[0mread_csv\u001b[0m\u001b[1;33m(\u001b[0m\u001b[1;34m'\\\\datasets\\costs_info_short.csv'\u001b[0m\u001b[1;33m)\u001b[0m \u001b[1;31m# информация о затратах на маркетинг\u001b[0m\u001b[1;33m\u001b[0m\u001b[1;33m\u001b[0m\u001b[0m\n\u001b[0;32m      5\u001b[0m \u001b[1;32mexcept\u001b[0m\u001b[1;33m:\u001b[0m\u001b[1;33m\u001b[0m\u001b[1;33m\u001b[0m\u001b[0m\n\u001b[1;32m----> 6\u001b[1;33m     \u001b[0mvisits\u001b[0m \u001b[1;33m=\u001b[0m \u001b[0mpd\u001b[0m\u001b[1;33m.\u001b[0m\u001b[0mread_csv\u001b[0m\u001b[1;33m(\u001b[0m\u001b[1;34m'datasets\\visits_info_short.csv'\u001b[0m\u001b[1;33m)\u001b[0m \u001b[1;31m# информация о посещении сайта\u001b[0m\u001b[1;33m\u001b[0m\u001b[1;33m\u001b[0m\u001b[0m\n\u001b[0m\u001b[0;32m      7\u001b[0m     \u001b[0morders\u001b[0m \u001b[1;33m=\u001b[0m \u001b[0mpd\u001b[0m\u001b[1;33m.\u001b[0m\u001b[0mread_csv\u001b[0m\u001b[1;33m(\u001b[0m\u001b[1;34m'datasets\\orders_info_short.csv'\u001b[0m\u001b[1;33m)\u001b[0m \u001b[1;31m# информация о заказах\u001b[0m\u001b[1;33m\u001b[0m\u001b[1;33m\u001b[0m\u001b[0m\n\u001b[0;32m      8\u001b[0m     \u001b[0mcosts\u001b[0m \u001b[1;33m=\u001b[0m \u001b[0mpd\u001b[0m\u001b[1;33m.\u001b[0m\u001b[0mread_csv\u001b[0m\u001b[1;33m(\u001b[0m\u001b[1;34m'datasets\\costs_info_short.csv'\u001b[0m\u001b[1;33m)\u001b[0m \u001b[1;31m# информация о затратах на маркетинг\u001b[0m\u001b[1;33m\u001b[0m\u001b[1;33m\u001b[0m\u001b[0m\n",
      "\u001b[1;32mC:\\ProgramData\\Anaconda3\\lib\\site-packages\\pandas\\util\\_decorators.py\u001b[0m in \u001b[0;36mwrapper\u001b[1;34m(*args, **kwargs)\u001b[0m\n\u001b[0;32m    309\u001b[0m                     \u001b[0mstacklevel\u001b[0m\u001b[1;33m=\u001b[0m\u001b[0mstacklevel\u001b[0m\u001b[1;33m,\u001b[0m\u001b[1;33m\u001b[0m\u001b[1;33m\u001b[0m\u001b[0m\n\u001b[0;32m    310\u001b[0m                 )\n\u001b[1;32m--> 311\u001b[1;33m             \u001b[1;32mreturn\u001b[0m \u001b[0mfunc\u001b[0m\u001b[1;33m(\u001b[0m\u001b[1;33m*\u001b[0m\u001b[0margs\u001b[0m\u001b[1;33m,\u001b[0m \u001b[1;33m**\u001b[0m\u001b[0mkwargs\u001b[0m\u001b[1;33m)\u001b[0m\u001b[1;33m\u001b[0m\u001b[1;33m\u001b[0m\u001b[0m\n\u001b[0m\u001b[0;32m    312\u001b[0m \u001b[1;33m\u001b[0m\u001b[0m\n\u001b[0;32m    313\u001b[0m         \u001b[1;32mreturn\u001b[0m \u001b[0mwrapper\u001b[0m\u001b[1;33m\u001b[0m\u001b[1;33m\u001b[0m\u001b[0m\n",
      "\u001b[1;32mC:\\ProgramData\\Anaconda3\\lib\\site-packages\\pandas\\io\\parsers\\readers.py\u001b[0m in \u001b[0;36mread_csv\u001b[1;34m(filepath_or_buffer, sep, delimiter, header, names, index_col, usecols, squeeze, prefix, mangle_dupe_cols, dtype, engine, converters, true_values, false_values, skipinitialspace, skiprows, skipfooter, nrows, na_values, keep_default_na, na_filter, verbose, skip_blank_lines, parse_dates, infer_datetime_format, keep_date_col, date_parser, dayfirst, cache_dates, iterator, chunksize, compression, thousands, decimal, lineterminator, quotechar, quoting, doublequote, escapechar, comment, encoding, encoding_errors, dialect, error_bad_lines, warn_bad_lines, on_bad_lines, delim_whitespace, low_memory, memory_map, float_precision, storage_options)\u001b[0m\n\u001b[0;32m    584\u001b[0m     \u001b[0mkwds\u001b[0m\u001b[1;33m.\u001b[0m\u001b[0mupdate\u001b[0m\u001b[1;33m(\u001b[0m\u001b[0mkwds_defaults\u001b[0m\u001b[1;33m)\u001b[0m\u001b[1;33m\u001b[0m\u001b[1;33m\u001b[0m\u001b[0m\n\u001b[0;32m    585\u001b[0m \u001b[1;33m\u001b[0m\u001b[0m\n\u001b[1;32m--> 586\u001b[1;33m     \u001b[1;32mreturn\u001b[0m \u001b[0m_read\u001b[0m\u001b[1;33m(\u001b[0m\u001b[0mfilepath_or_buffer\u001b[0m\u001b[1;33m,\u001b[0m \u001b[0mkwds\u001b[0m\u001b[1;33m)\u001b[0m\u001b[1;33m\u001b[0m\u001b[1;33m\u001b[0m\u001b[0m\n\u001b[0m\u001b[0;32m    587\u001b[0m \u001b[1;33m\u001b[0m\u001b[0m\n\u001b[0;32m    588\u001b[0m \u001b[1;33m\u001b[0m\u001b[0m\n",
      "\u001b[1;32mC:\\ProgramData\\Anaconda3\\lib\\site-packages\\pandas\\io\\parsers\\readers.py\u001b[0m in \u001b[0;36m_read\u001b[1;34m(filepath_or_buffer, kwds)\u001b[0m\n\u001b[0;32m    480\u001b[0m \u001b[1;33m\u001b[0m\u001b[0m\n\u001b[0;32m    481\u001b[0m     \u001b[1;31m# Create the parser.\u001b[0m\u001b[1;33m\u001b[0m\u001b[1;33m\u001b[0m\u001b[0m\n\u001b[1;32m--> 482\u001b[1;33m     \u001b[0mparser\u001b[0m \u001b[1;33m=\u001b[0m \u001b[0mTextFileReader\u001b[0m\u001b[1;33m(\u001b[0m\u001b[0mfilepath_or_buffer\u001b[0m\u001b[1;33m,\u001b[0m \u001b[1;33m**\u001b[0m\u001b[0mkwds\u001b[0m\u001b[1;33m)\u001b[0m\u001b[1;33m\u001b[0m\u001b[1;33m\u001b[0m\u001b[0m\n\u001b[0m\u001b[0;32m    483\u001b[0m \u001b[1;33m\u001b[0m\u001b[0m\n\u001b[0;32m    484\u001b[0m     \u001b[1;32mif\u001b[0m \u001b[0mchunksize\u001b[0m \u001b[1;32mor\u001b[0m \u001b[0miterator\u001b[0m\u001b[1;33m:\u001b[0m\u001b[1;33m\u001b[0m\u001b[1;33m\u001b[0m\u001b[0m\n",
      "\u001b[1;32mC:\\ProgramData\\Anaconda3\\lib\\site-packages\\pandas\\io\\parsers\\readers.py\u001b[0m in \u001b[0;36m__init__\u001b[1;34m(self, f, engine, **kwds)\u001b[0m\n\u001b[0;32m    809\u001b[0m             \u001b[0mself\u001b[0m\u001b[1;33m.\u001b[0m\u001b[0moptions\u001b[0m\u001b[1;33m[\u001b[0m\u001b[1;34m\"has_index_names\"\u001b[0m\u001b[1;33m]\u001b[0m \u001b[1;33m=\u001b[0m \u001b[0mkwds\u001b[0m\u001b[1;33m[\u001b[0m\u001b[1;34m\"has_index_names\"\u001b[0m\u001b[1;33m]\u001b[0m\u001b[1;33m\u001b[0m\u001b[1;33m\u001b[0m\u001b[0m\n\u001b[0;32m    810\u001b[0m \u001b[1;33m\u001b[0m\u001b[0m\n\u001b[1;32m--> 811\u001b[1;33m         \u001b[0mself\u001b[0m\u001b[1;33m.\u001b[0m\u001b[0m_engine\u001b[0m \u001b[1;33m=\u001b[0m \u001b[0mself\u001b[0m\u001b[1;33m.\u001b[0m\u001b[0m_make_engine\u001b[0m\u001b[1;33m(\u001b[0m\u001b[0mself\u001b[0m\u001b[1;33m.\u001b[0m\u001b[0mengine\u001b[0m\u001b[1;33m)\u001b[0m\u001b[1;33m\u001b[0m\u001b[1;33m\u001b[0m\u001b[0m\n\u001b[0m\u001b[0;32m    812\u001b[0m \u001b[1;33m\u001b[0m\u001b[0m\n\u001b[0;32m    813\u001b[0m     \u001b[1;32mdef\u001b[0m \u001b[0mclose\u001b[0m\u001b[1;33m(\u001b[0m\u001b[0mself\u001b[0m\u001b[1;33m)\u001b[0m\u001b[1;33m:\u001b[0m\u001b[1;33m\u001b[0m\u001b[1;33m\u001b[0m\u001b[0m\n",
      "\u001b[1;32mC:\\ProgramData\\Anaconda3\\lib\\site-packages\\pandas\\io\\parsers\\readers.py\u001b[0m in \u001b[0;36m_make_engine\u001b[1;34m(self, engine)\u001b[0m\n\u001b[0;32m   1038\u001b[0m             )\n\u001b[0;32m   1039\u001b[0m         \u001b[1;31m# error: Too many arguments for \"ParserBase\"\u001b[0m\u001b[1;33m\u001b[0m\u001b[1;33m\u001b[0m\u001b[0m\n\u001b[1;32m-> 1040\u001b[1;33m         \u001b[1;32mreturn\u001b[0m \u001b[0mmapping\u001b[0m\u001b[1;33m[\u001b[0m\u001b[0mengine\u001b[0m\u001b[1;33m]\u001b[0m\u001b[1;33m(\u001b[0m\u001b[0mself\u001b[0m\u001b[1;33m.\u001b[0m\u001b[0mf\u001b[0m\u001b[1;33m,\u001b[0m \u001b[1;33m**\u001b[0m\u001b[0mself\u001b[0m\u001b[1;33m.\u001b[0m\u001b[0moptions\u001b[0m\u001b[1;33m)\u001b[0m  \u001b[1;31m# type: ignore[call-arg]\u001b[0m\u001b[1;33m\u001b[0m\u001b[1;33m\u001b[0m\u001b[0m\n\u001b[0m\u001b[0;32m   1041\u001b[0m \u001b[1;33m\u001b[0m\u001b[0m\n\u001b[0;32m   1042\u001b[0m     \u001b[1;32mdef\u001b[0m \u001b[0m_failover_to_python\u001b[0m\u001b[1;33m(\u001b[0m\u001b[0mself\u001b[0m\u001b[1;33m)\u001b[0m\u001b[1;33m:\u001b[0m\u001b[1;33m\u001b[0m\u001b[1;33m\u001b[0m\u001b[0m\n",
      "\u001b[1;32mC:\\ProgramData\\Anaconda3\\lib\\site-packages\\pandas\\io\\parsers\\c_parser_wrapper.py\u001b[0m in \u001b[0;36m__init__\u001b[1;34m(self, src, **kwds)\u001b[0m\n\u001b[0;32m     49\u001b[0m \u001b[1;33m\u001b[0m\u001b[0m\n\u001b[0;32m     50\u001b[0m         \u001b[1;31m# open handles\u001b[0m\u001b[1;33m\u001b[0m\u001b[1;33m\u001b[0m\u001b[0m\n\u001b[1;32m---> 51\u001b[1;33m         \u001b[0mself\u001b[0m\u001b[1;33m.\u001b[0m\u001b[0m_open_handles\u001b[0m\u001b[1;33m(\u001b[0m\u001b[0msrc\u001b[0m\u001b[1;33m,\u001b[0m \u001b[0mkwds\u001b[0m\u001b[1;33m)\u001b[0m\u001b[1;33m\u001b[0m\u001b[1;33m\u001b[0m\u001b[0m\n\u001b[0m\u001b[0;32m     52\u001b[0m         \u001b[1;32massert\u001b[0m \u001b[0mself\u001b[0m\u001b[1;33m.\u001b[0m\u001b[0mhandles\u001b[0m \u001b[1;32mis\u001b[0m \u001b[1;32mnot\u001b[0m \u001b[1;32mNone\u001b[0m\u001b[1;33m\u001b[0m\u001b[1;33m\u001b[0m\u001b[0m\n\u001b[0;32m     53\u001b[0m \u001b[1;33m\u001b[0m\u001b[0m\n",
      "\u001b[1;32mC:\\ProgramData\\Anaconda3\\lib\\site-packages\\pandas\\io\\parsers\\base_parser.py\u001b[0m in \u001b[0;36m_open_handles\u001b[1;34m(self, src, kwds)\u001b[0m\n\u001b[0;32m    220\u001b[0m         \u001b[0mLet\u001b[0m \u001b[0mthe\u001b[0m \u001b[0mreaders\u001b[0m \u001b[0mopen\u001b[0m \u001b[0mIOHandles\u001b[0m \u001b[0mafter\u001b[0m \u001b[0mthey\u001b[0m \u001b[0mare\u001b[0m \u001b[0mdone\u001b[0m \u001b[1;32mwith\u001b[0m \u001b[0mtheir\u001b[0m \u001b[0mpotential\u001b[0m \u001b[0mraises\u001b[0m\u001b[1;33m.\u001b[0m\u001b[1;33m\u001b[0m\u001b[1;33m\u001b[0m\u001b[0m\n\u001b[0;32m    221\u001b[0m         \"\"\"\n\u001b[1;32m--> 222\u001b[1;33m         self.handles = get_handle(\n\u001b[0m\u001b[0;32m    223\u001b[0m             \u001b[0msrc\u001b[0m\u001b[1;33m,\u001b[0m\u001b[1;33m\u001b[0m\u001b[1;33m\u001b[0m\u001b[0m\n\u001b[0;32m    224\u001b[0m             \u001b[1;34m\"r\"\u001b[0m\u001b[1;33m,\u001b[0m\u001b[1;33m\u001b[0m\u001b[1;33m\u001b[0m\u001b[0m\n",
      "\u001b[1;32mC:\\ProgramData\\Anaconda3\\lib\\site-packages\\pandas\\io\\common.py\u001b[0m in \u001b[0;36mget_handle\u001b[1;34m(path_or_buf, mode, encoding, compression, memory_map, is_text, errors, storage_options)\u001b[0m\n\u001b[0;32m    700\u001b[0m         \u001b[1;32mif\u001b[0m \u001b[0mioargs\u001b[0m\u001b[1;33m.\u001b[0m\u001b[0mencoding\u001b[0m \u001b[1;32mand\u001b[0m \u001b[1;34m\"b\"\u001b[0m \u001b[1;32mnot\u001b[0m \u001b[1;32min\u001b[0m \u001b[0mioargs\u001b[0m\u001b[1;33m.\u001b[0m\u001b[0mmode\u001b[0m\u001b[1;33m:\u001b[0m\u001b[1;33m\u001b[0m\u001b[1;33m\u001b[0m\u001b[0m\n\u001b[0;32m    701\u001b[0m             \u001b[1;31m# Encoding\u001b[0m\u001b[1;33m\u001b[0m\u001b[1;33m\u001b[0m\u001b[0m\n\u001b[1;32m--> 702\u001b[1;33m             handle = open(\n\u001b[0m\u001b[0;32m    703\u001b[0m                 \u001b[0mhandle\u001b[0m\u001b[1;33m,\u001b[0m\u001b[1;33m\u001b[0m\u001b[1;33m\u001b[0m\u001b[0m\n\u001b[0;32m    704\u001b[0m                 \u001b[0mioargs\u001b[0m\u001b[1;33m.\u001b[0m\u001b[0mmode\u001b[0m\u001b[1;33m,\u001b[0m\u001b[1;33m\u001b[0m\u001b[1;33m\u001b[0m\u001b[0m\n",
      "\u001b[1;31mOSError\u001b[0m: [Errno 22] Invalid argument: 'datasets\\x0bisits_info_short.csv'"
     ]
    }
   ],
   "source": [
    "try:\n",
    "    visits = pd.read_csv('\\\\datasets\\visits_info_short.csv') # информация о посещении сайта\n",
    "    orders = pd.read_csv('\\\\datasets\\orders_info_short.csv') # информация о заказах\n",
    "    costs = pd.read_csv('\\\\datasets\\costs_info_short.csv') # информация о затратах на маркетинг\n",
    "except:\n",
    "    visits = pd.read_csv('datasets\\visits_info_short.csv') # информация о посещении сайта\n",
    "    orders = pd.read_csv('datasets\\orders_info_short.csv') # информация о заказах\n",
    "    costs = pd.read_csv('datasets\\costs_info_short.csv') # информация о затратах на маркетинг"
   ]
  },
  {
   "cell_type": "markdown",
   "metadata": {},
   "source": [
    "Посмотрим общую информацию об имеющихся датасетах и проверим есть ли явные дубликаты"
   ]
  },
  {
   "cell_type": "code",
   "execution_count": null,
   "metadata": {},
   "outputs": [],
   "source": [
    "visits.head()"
   ]
  },
  {
   "cell_type": "code",
   "execution_count": null,
   "metadata": {},
   "outputs": [],
   "source": [
    "visits.info()\n",
    "visits.duplicated().sum()"
   ]
  },
  {
   "cell_type": "code",
   "execution_count": null,
   "metadata": {},
   "outputs": [],
   "source": [
    "orders.head()"
   ]
  },
  {
   "cell_type": "code",
   "execution_count": null,
   "metadata": {},
   "outputs": [],
   "source": [
    "orders.info()\n",
    "orders.duplicated().sum()"
   ]
  },
  {
   "cell_type": "code",
   "execution_count": null,
   "metadata": {},
   "outputs": [],
   "source": [
    "costs.head()"
   ]
  },
  {
   "cell_type": "code",
   "execution_count": null,
   "metadata": {},
   "outputs": [],
   "source": [
    "costs.info()\n",
    "costs.duplicated().sum()"
   ]
  },
  {
   "cell_type": "markdown",
   "metadata": {},
   "source": [
    "* во всех таблицах приведем названия столбцов к нижнему регистру и \"змеиному\" виду;\n",
    "* столбцы `visits['session_start']`, `visits['session_end']`, `orders['event_dt']` приведем к типу `datatime`, а `costs['dt']` приведем к дате;\n",
    "* явных дубликатов не обнаружено."
   ]
  },
  {
   "cell_type": "code",
   "execution_count": null,
   "metadata": {},
   "outputs": [],
   "source": [
    "visits.columns = ['user_id', 'region', 'device', 'channel', 'session_start', 'session_end']\n",
    "visits['session_start'] = pd.to_datetime(visits['session_start'])\n",
    "visits['session_end'] = pd.to_datetime(visits['session_end'])\n",
    "visits.dtypes"
   ]
  },
  {
   "cell_type": "code",
   "execution_count": null,
   "metadata": {},
   "outputs": [],
   "source": [
    "orders.columns = ['user_id', 'event_dt', 'revenue']\n",
    "orders['event_dt'] = pd.to_datetime(orders['event_dt'])\n",
    "orders.dtypes"
   ]
  },
  {
   "cell_type": "code",
   "execution_count": null,
   "metadata": {
    "scrolled": true
   },
   "outputs": [],
   "source": [
    "costs.columns = costs.columns.str.lower()\n",
    "costs['dt'] = pd.to_datetime(costs['dt']).dt.date\n",
    "costs.dtypes"
   ]
  },
  {
   "cell_type": "markdown",
   "metadata": {},
   "source": [
    "### Вывод.\n",
    "* заголовки столбцов приведены к нижнему регистру и \"змеиному\" виду;\n",
    "* тип данных во всех колонках теперь соответствует значениям.\n",
    "\n",
    "Переходим к следующему шагу"
   ]
  },
  {
   "cell_type": "markdown",
   "metadata": {},
   "source": [
    "## Шаг. Задаем функции для расчета и анализа LTV, ROI, удержания и конверсии\n",
    "\n",
    "Разрешается использовать функции, с которыми мы познакомились в теоретических уроках."
   ]
  },
  {
   "cell_type": "code",
   "execution_count": null,
   "metadata": {},
   "outputs": [],
   "source": [
    "# функция для создания пользовательских профилей\n",
    "\n",
    "def get_profiles(visits, orders, costs, event_names=[]):\n",
    "\n",
    "    # находим параметры первых посещений\n",
    "    profiles = (\n",
    "        visits.sort_values(by=['user_id', 'session_start'])\n",
    "        .groupby('user_id')\n",
    "        .agg(\n",
    "            {\n",
    "                'session_start': 'first',\n",
    "                'channel': 'first',\n",
    "                'device': 'first',\n",
    "                'region': 'first',\n",
    "            }\n",
    "        )\n",
    "        .rename(columns={'session_start': 'first_ts'})\n",
    "        .reset_index()\n",
    "    )\n",
    "\n",
    "    # для когортного анализа определяем дату первого посещения\n",
    "    # и первый день месяца, в который это посещение произошло\n",
    "    profiles['dt'] = profiles['first_ts'].dt.date\n",
    "    profiles['month'] = profiles['first_ts'].astype('datetime64[M]')\n",
    "\n",
    "    # добавляем признак платящих пользователей\n",
    "    profiles['payer'] = profiles['user_id'].isin(orders['user_id'].unique())\n",
    "\n",
    "    # добавляем флаги для всех событий из event_names\n",
    "    for event in event_names:\n",
    "        if event in events['event_name'].unique():\n",
    "            profiles[event] = profiles['user_id'].isin(\n",
    "                events.query('event_name == @event')['user_id'].unique()\n",
    "            )\n",
    "\n",
    "    # считаем количество уникальных пользователей\n",
    "    # с одинаковыми источником и датой привлечения\n",
    "    new_users = (\n",
    "        profiles.groupby(['dt', 'channel'])\n",
    "        .agg({'user_id': 'nunique'})\n",
    "        .rename(columns={'user_id': 'unique_users'})\n",
    "        .reset_index()\n",
    "    )\n",
    "\n",
    "    # объединяем траты на рекламу и число привлечённых пользователей\n",
    "    costs = costs.merge(new_users, on=['dt', 'channel'], how='left')\n",
    "\n",
    "    # делим рекламные расходы на число привлечённых пользователей\n",
    "    costs['acquisition_cost'] = costs['costs'] / costs['unique_users']\n",
    "\n",
    "    # добавляем стоимость привлечения в профили\n",
    "    profiles = profiles.merge(\n",
    "        costs[['dt', 'channel', 'acquisition_cost']],\n",
    "        on=['dt', 'channel'],\n",
    "        how='left',\n",
    "    )\n",
    "\n",
    "    # стоимость привлечения органических пользователей равна нулю\n",
    "    profiles['acquisition_cost'] = profiles['acquisition_cost'].fillna(0)\n",
    "\n",
    "    return profiles"
   ]
  },
  {
   "cell_type": "code",
   "execution_count": null,
   "metadata": {},
   "outputs": [],
   "source": [
    " \n",
    "# функция для расчёта конверсии\n",
    "\n",
    "def get_conversion(\n",
    "    profiles,\n",
    "    purchases,\n",
    "    observation_date,\n",
    "    horizon_days,\n",
    "    dimensions=[],\n",
    "    ignore_horizon=False,\n",
    "):\n",
    "\n",
    "    # исключаем пользователей, не «доживших» до горизонта анализа\n",
    "    last_suitable_acquisition_date = observation_date\n",
    "    if not ignore_horizon:\n",
    "        last_suitable_acquisition_date = observation_date - timedelta(\n",
    "            days=horizon_days - 1\n",
    "        )\n",
    "    result_raw = profiles.query('dt <= @last_suitable_acquisition_date')\n",
    "\n",
    "    # определяем дату и время первой покупки для каждого пользователя\n",
    "    first_purchases = (\n",
    "        purchases.sort_values(by=['user_id', 'event_dt'])\n",
    "        .groupby('user_id')\n",
    "        .agg({'event_dt': 'first'})\n",
    "        .reset_index()\n",
    "    )\n",
    "\n",
    "    # добавляем данные о покупках в профили\n",
    "    result_raw = result_raw.merge(\n",
    "        first_purchases[['user_id', 'event_dt']], on='user_id', how='left'\n",
    "    )\n",
    "\n",
    "    # рассчитываем лайфтайм для каждой покупки\n",
    "    result_raw['lifetime'] = (\n",
    "        result_raw['event_dt'] - result_raw['first_ts']\n",
    "    ).dt.days\n",
    "\n",
    "    # группируем по cohort, если в dimensions ничего нет\n",
    "    if len(dimensions) == 0:\n",
    "        result_raw['cohort'] = 'All users' \n",
    "        dimensions = dimensions + ['cohort']\n",
    "\n",
    "    # функция для группировки таблицы по желаемым признакам\n",
    "    def group_by_dimensions(df, dims, horizon_days):\n",
    "        result = df.pivot_table(\n",
    "            index=dims, columns='lifetime', values='user_id', aggfunc='nunique'\n",
    "        )\n",
    "        result = result.fillna(0).cumsum(axis = 1)\n",
    "        cohort_sizes = (\n",
    "            df.groupby(dims)\n",
    "            .agg({'user_id': 'nunique'})\n",
    "            .rename(columns={'user_id': 'cohort_size'})\n",
    "        )\n",
    "        result = cohort_sizes.merge(result, on=dims, how='left').fillna(0)\n",
    "        # делим каждую «ячейку» в строке на размер когорты\n",
    "        # и получаем conversion rate\n",
    "        result = result.div(result['cohort_size'], axis=0)\n",
    "        result = result[['cohort_size'] + list(range(horizon_days))]\n",
    "        result['cohort_size'] = cohort_sizes\n",
    "        return result\n",
    "\n",
    "    # получаем таблицу конверсии\n",
    "    result_grouped = group_by_dimensions(result_raw, dimensions, horizon_days)\n",
    "\n",
    "    # для таблицы динамики конверсии убираем 'cohort' из dimensions\n",
    "    if 'cohort' in dimensions: \n",
    "        dimensions = []\n",
    "\n",
    "    # получаем таблицу динамики конверсии\n",
    "    result_in_time = group_by_dimensions(\n",
    "        result_raw, dimensions + ['dt'], horizon_days\n",
    "    )\n",
    "\n",
    "    # возвращаем обе таблицы и сырые данные\n",
    "    return result_raw, result_grouped, result_in_time"
   ]
  },
  {
   "cell_type": "code",
   "execution_count": null,
   "metadata": {},
   "outputs": [],
   "source": [
    "# функция для расчёта удержания\n",
    "\n",
    "def get_retention(\n",
    "    profiles,\n",
    "    sessions,\n",
    "    observation_date,\n",
    "    horizon_days,\n",
    "    dimensions=[],\n",
    "    ignore_horizon=False,\n",
    "):\n",
    "\n",
    "    # добавляем столбец payer в передаваемый dimensions список\n",
    "    dimensions = ['payer'] + dimensions\n",
    "\n",
    "    # исключаем пользователей, не «доживших» до горизонта анализа\n",
    "    last_suitable_acquisition_date = observation_date\n",
    "    if not ignore_horizon:\n",
    "        last_suitable_acquisition_date = observation_date - timedelta(\n",
    "            days=horizon_days - 1\n",
    "        )\n",
    "    result_raw = profiles.query('dt <= @last_suitable_acquisition_date')\n",
    "\n",
    "    # собираем «сырые» данные для расчёта удержания\n",
    "    result_raw = result_raw.merge(\n",
    "        sessions[['user_id', 'session_start']], on='user_id', how='left'\n",
    "    )\n",
    "    result_raw['lifetime'] = (\n",
    "        result_raw['session_start'] - result_raw['first_ts']\n",
    "    ).dt.days\n",
    "\n",
    "    # функция для группировки таблицы по желаемым признакам\n",
    "    def group_by_dimensions(df, dims, horizon_days):\n",
    "        result = df.pivot_table(\n",
    "            index=dims, columns='lifetime', values='user_id', aggfunc='nunique'\n",
    "        )\n",
    "        cohort_sizes = (\n",
    "            df.groupby(dims)\n",
    "            .agg({'user_id': 'nunique'})\n",
    "            .rename(columns={'user_id': 'cohort_size'})\n",
    "        )\n",
    "        result = cohort_sizes.merge(result, on=dims, how='left').fillna(0)\n",
    "        result = result.div(result['cohort_size'], axis=0)\n",
    "        result = result[['cohort_size'] + list(range(horizon_days))]\n",
    "        result['cohort_size'] = cohort_sizes\n",
    "        return result\n",
    "\n",
    "    # получаем таблицу удержания\n",
    "    result_grouped = group_by_dimensions(result_raw, dimensions, horizon_days)\n",
    "\n",
    "    # получаем таблицу динамики удержания\n",
    "    result_in_time = group_by_dimensions(\n",
    "        result_raw, dimensions + ['dt'], horizon_days\n",
    "    )\n",
    "\n",
    "    # возвращаем обе таблицы и сырые данные\n",
    "    return result_raw, result_grouped, result_in_time"
   ]
  },
  {
   "cell_type": "code",
   "execution_count": null,
   "metadata": {},
   "outputs": [],
   "source": [
    "# функция для расчёта LTV и ROI\n",
    "\n",
    "def get_ltv(\n",
    "    profiles,\n",
    "    purchases,\n",
    "    observation_date,\n",
    "    horizon_days,\n",
    "    dimensions=[],\n",
    "    ignore_horizon=False,\n",
    "):\n",
    "\n",
    "    # исключаем пользователей, не «доживших» до горизонта анализа\n",
    "    last_suitable_acquisition_date = observation_date\n",
    "    if not ignore_horizon:\n",
    "        last_suitable_acquisition_date = observation_date - timedelta(\n",
    "            days=horizon_days - 1\n",
    "        )\n",
    "    result_raw = profiles.query('dt <= @last_suitable_acquisition_date')\n",
    "    # добавляем данные о покупках в профили\n",
    "    result_raw = result_raw.merge(\n",
    "        purchases[['user_id', 'event_dt', 'revenue']], on='user_id', how='left'\n",
    "    )\n",
    "    # рассчитываем лайфтайм пользователя для каждой покупки\n",
    "    result_raw['lifetime'] = (\n",
    "        result_raw['event_dt'] - result_raw['first_ts']\n",
    "    ).dt.days\n",
    "    # группируем по cohort, если в dimensions ничего нет\n",
    "    if len(dimensions) == 0:\n",
    "        result_raw['cohort'] = 'All users'\n",
    "        dimensions = dimensions + ['cohort']\n",
    "\n",
    "    # функция группировки по желаемым признакам\n",
    "    def group_by_dimensions(df, dims, horizon_days):\n",
    "        # строим «треугольную» таблицу выручки\n",
    "        result = df.pivot_table(\n",
    "            index=dims, columns='lifetime', values='revenue', aggfunc='sum'\n",
    "        )\n",
    "        # находим сумму выручки с накоплением\n",
    "        result = result.fillna(0).cumsum(axis=1)\n",
    "        # вычисляем размеры когорт\n",
    "        cohort_sizes = (\n",
    "            df.groupby(dims)\n",
    "            .agg({'user_id': 'nunique'})\n",
    "            .rename(columns={'user_id': 'cohort_size'})\n",
    "        )\n",
    "        # объединяем размеры когорт и таблицу выручки\n",
    "        result = cohort_sizes.merge(result, on=dims, how='left').fillna(0)\n",
    "        # считаем LTV: делим каждую «ячейку» в строке на размер когорты\n",
    "        result = result.div(result['cohort_size'], axis=0)\n",
    "        # исключаем все лайфтаймы, превышающие горизонт анализа\n",
    "        result = result[['cohort_size'] + list(range(horizon_days))]\n",
    "        # восстанавливаем размеры когорт\n",
    "        result['cohort_size'] = cohort_sizes\n",
    "\n",
    "        # собираем датафрейм с данными пользователей и значениями CAC, \n",
    "        # добавляя параметры из dimensions\n",
    "        cac = df[['user_id', 'acquisition_cost'] + dims].drop_duplicates()\n",
    "\n",
    "        # считаем средний CAC по параметрам из dimensions\n",
    "        cac = (\n",
    "            cac.groupby(dims)\n",
    "            .agg({'acquisition_cost': 'mean'})\n",
    "            .rename(columns={'acquisition_cost': 'cac'})\n",
    "        )\n",
    "\n",
    "        # считаем ROI: делим LTV на CAC\n",
    "        roi = result.div(cac['cac'], axis=0)\n",
    "\n",
    "        # удаляем строки с бесконечным ROI\n",
    "        roi = roi[~roi['cohort_size'].isin([np.inf])]\n",
    "\n",
    "        # восстанавливаем размеры когорт в таблице ROI\n",
    "        roi['cohort_size'] = cohort_sizes\n",
    "\n",
    "        # добавляем CAC в таблицу ROI\n",
    "        roi['cac'] = cac['cac']\n",
    "\n",
    "        # в финальной таблице оставляем размеры когорт, CAC\n",
    "        # и ROI в лайфтаймы, не превышающие горизонт анализа\n",
    "        roi = roi[['cohort_size', 'cac'] + list(range(horizon_days))]\n",
    "\n",
    "        # возвращаем таблицы LTV и ROI\n",
    "        return result, roi\n",
    "\n",
    "    # получаем таблицы LTV и ROI\n",
    "    result_grouped, roi_grouped = group_by_dimensions(\n",
    "        result_raw, dimensions, horizon_days\n",
    "    )\n",
    "\n",
    "    # для таблиц динамики убираем 'cohort' из dimensions\n",
    "    if 'cohort' in dimensions:\n",
    "        dimensions = []\n",
    "\n",
    "    # получаем таблицы динамики LTV и ROI\n",
    "    result_in_time, roi_in_time = group_by_dimensions(\n",
    "        result_raw, dimensions + ['dt'], horizon_days\n",
    "    )\n",
    "\n",
    "    return (\n",
    "        result_raw,  # сырые данные\n",
    "        result_grouped,  # таблица LTV\n",
    "        result_in_time,  # таблица динамики LTV\n",
    "        roi_grouped,  # таблица ROI\n",
    "        roi_in_time,  # таблица динамики ROI\n",
    "    )"
   ]
  },
  {
   "cell_type": "code",
   "execution_count": null,
   "metadata": {},
   "outputs": [],
   "source": [
    "# функция для визуализации LTV и ROI\n",
    "\n",
    "def plot_ltv_roi(ltv, ltv_history, roi, roi_history, horizon, window=7):\n",
    "\n",
    "    # задаём сетку отрисовки графиков\n",
    "    plt.figure(figsize=(20, 10))\n",
    "\n",
    "    # из таблицы ltv исключаем размеры когорт\n",
    "    ltv = ltv.drop(columns=['cohort_size'])\n",
    "    # в таблице динамики ltv оставляем только нужный лайфтайм\n",
    "    ltv_history = ltv_history.drop(columns=['cohort_size'])[[horizon - 1]]\n",
    "\n",
    "    # стоимость привлечения запишем в отдельный фрейм\n",
    "    cac_history = roi_history[['cac']]\n",
    "\n",
    "    # из таблицы roi исключаем размеры когорт и cac\n",
    "    roi = roi.drop(columns=['cohort_size', 'cac'])\n",
    "    # в таблице динамики roi оставляем только нужный лайфтайм\n",
    "    roi_history = roi_history.drop(columns=['cohort_size', 'cac'])[\n",
    "        [horizon - 1]\n",
    "    ]\n",
    "\n",
    "    # первый график — кривые ltv\n",
    "    ax1 = plt.subplot(2, 3, 1)\n",
    "    ltv.T.plot(grid=True, ax=ax1)\n",
    "    plt.legend()\n",
    "    plt.xlabel('Лайфтайм')\n",
    "    plt.title('LTV')\n",
    "\n",
    "    # второй график — динамика ltv\n",
    "    ax2 = plt.subplot(2, 3, 2, sharey=ax1)\n",
    "    # столбцами сводной таблицы станут все столбцы индекса, кроме даты\n",
    "    columns = [name for name in ltv_history.index.names if name not in ['dt']]\n",
    "    filtered_data = ltv_history.pivot_table(\n",
    "        index='dt', columns=columns, values=horizon - 1, aggfunc='mean'\n",
    "    )\n",
    "    filter_data(filtered_data, window).plot(grid=True, ax=ax2)\n",
    "    plt.xlabel('Дата привлечения')\n",
    "    plt.title('Динамика LTV пользователей на {}-й день'.format(horizon))\n",
    "\n",
    "    # третий график — динамика cac\n",
    "    ax3 = plt.subplot(2, 3, 3, sharey=ax1)\n",
    "    # столбцами сводной таблицы станут все столбцы индекса, кроме даты\n",
    "    columns = [name for name in cac_history.index.names if name not in ['dt']]\n",
    "    filtered_data = cac_history.pivot_table(\n",
    "        index='dt', columns=columns, values='cac', aggfunc='mean'\n",
    "    )\n",
    "    filter_data(filtered_data, window).plot(grid=True, ax=ax3)\n",
    "    plt.xlabel('Дата привлечения')\n",
    "    plt.title('Динамика стоимости привлечения пользователей')\n",
    "\n",
    "    # четвёртый график — кривые roi\n",
    "    ax4 = plt.subplot(2, 3, 4)\n",
    "    roi.T.plot(grid=True, ax=ax4)\n",
    "    plt.axhline(y=1, color='red', linestyle='--', label='Уровень окупаемости')\n",
    "    plt.legend()\n",
    "    plt.xlabel('Лайфтайм')\n",
    "    plt.title('ROI')\n",
    "\n",
    "    # пятый график — динамика roi\n",
    "    ax5 = plt.subplot(2, 3, 5, sharey=ax4)\n",
    "    # столбцами сводной таблицы станут все столбцы индекса, кроме даты\n",
    "    columns = [name for name in roi_history.index.names if name not in ['dt']]\n",
    "    filtered_data = roi_history.pivot_table(\n",
    "        index='dt', columns=columns, values=horizon - 1, aggfunc='mean'\n",
    "    )\n",
    "    filter_data(filtered_data, window).plot(grid=True, ax=ax5)\n",
    "    plt.axhline(y=1, color='red', linestyle='--', label='Уровень окупаемости')\n",
    "    plt.xlabel('Дата привлечения')\n",
    "    plt.title('Динамика ROI пользователей на {}-й день'.format(horizon))\n",
    "\n",
    "    plt.tight_layout()\n",
    "    plt.show()"
   ]
  },
  {
   "cell_type": "code",
   "execution_count": null,
   "metadata": {},
   "outputs": [],
   "source": [
    "# функция для визуализации конверсии\n",
    "\n",
    "def plot_conversion(conversion, conversion_history, horizon, window=7):\n",
    "\n",
    "    # задаём размер сетки для графиков\n",
    "    plt.figure(figsize=(15, 5))\n",
    "\n",
    "    # исключаем размеры когорт\n",
    "    conversion = conversion.drop(columns=['cohort_size'])\n",
    "    # в таблице динамики оставляем только нужный лайфтайм\n",
    "    conversion_history = conversion_history.drop(columns=['cohort_size'])[\n",
    "        [horizon - 1]\n",
    "    ]\n",
    "\n",
    "    # первый график — кривые конверсии\n",
    "    ax1 = plt.subplot(1, 2, 1)\n",
    "    conversion.T.plot(grid=True, ax=ax1)\n",
    "    plt.legend()\n",
    "    plt.xlabel('Лайфтайм')\n",
    "    plt.title('Конверсия пользователей')\n",
    "\n",
    "    # второй график — динамика конверсии\n",
    "    ax2 = plt.subplot(1, 2, 2, sharey=ax1)\n",
    "    columns = [\n",
    "        # столбцами сводной таблицы станут все столбцы индекса, кроме даты\n",
    "        name for name in conversion_history.index.names if name not in ['dt']\n",
    "    ]\n",
    "    filtered_data = conversion_history.pivot_table(\n",
    "        index='dt', columns=columns, values=horizon - 1, aggfunc='mean'\n",
    "    )\n",
    "    filter_data(filtered_data, window).plot(grid=True, ax=ax2)\n",
    "    plt.xlabel('Дата привлечения')\n",
    "    plt.title('Динамика конверсии пользователей на {}-й день'.format(horizon))\n",
    "\n",
    "    plt.tight_layout()\n",
    "    plt.show()"
   ]
  },
  {
   "cell_type": "code",
   "execution_count": null,
   "metadata": {},
   "outputs": [],
   "source": [
    "# функция для визуализации удержания\n",
    "\n",
    "def plot_retention(retention, retention_history, horizon, window=7):\n",
    "\n",
    "    # задаём размер сетки для графиков\n",
    "    plt.figure(figsize=(15, 10))\n",
    "\n",
    "    # исключаем размеры когорт и удержание первого дня\n",
    "    retention = retention.drop(columns=['cohort_size', 0])\n",
    "    # в таблице динамики оставляем только нужный лайфтайм\n",
    "    retention_history = retention_history.drop(columns=['cohort_size'])[\n",
    "        [horizon - 1]\n",
    "    ]\n",
    "\n",
    "    # если в индексах таблицы удержания только payer,\n",
    "    # добавляем второй признак — cohort\n",
    "    if retention.index.nlevels == 1:\n",
    "        retention['cohort'] = 'All users'\n",
    "        retention = retention.reset_index().set_index(['cohort', 'payer'])\n",
    "\n",
    "    # в таблице графиков — два столбца и две строки, четыре ячейки\n",
    "    # в первой строим кривые удержания платящих пользователей\n",
    "    ax1 = plt.subplot(2, 2, 1)\n",
    "    retention.query('payer == True').droplevel('payer').T.plot(\n",
    "        grid=True, ax=ax1\n",
    "    )\n",
    "    plt.legend()\n",
    "    plt.xlabel('Лайфтайм')\n",
    "    plt.title('Удержание платящих пользователей')\n",
    "\n",
    "    # во второй ячейке строим кривые удержания неплатящих\n",
    "    # вертикальная ось — от графика из первой ячейки\n",
    "    ax2 = plt.subplot(2, 2, 2, sharey=ax1)\n",
    "    retention.query('payer == False').droplevel('payer').T.plot(\n",
    "        grid=True, ax=ax2\n",
    "    )\n",
    "    plt.legend()\n",
    "    plt.xlabel('Лайфтайм')\n",
    "    plt.title('Удержание неплатящих пользователей')\n",
    "\n",
    "    # в третьей ячейке — динамика удержания платящих\n",
    "    ax3 = plt.subplot(2, 2, 3)\n",
    "    # получаем названия столбцов для сводной таблицы\n",
    "    columns = [\n",
    "        name\n",
    "        for name in retention_history.index.names\n",
    "        if name not in ['dt', 'payer']\n",
    "    ]\n",
    "    # фильтруем данные и строим график\n",
    "    filtered_data = retention_history.query('payer == True').pivot_table(\n",
    "        index='dt', columns=columns, values=horizon - 1, aggfunc='mean'\n",
    "    )\n",
    "    filter_data(filtered_data, window).plot(grid=True, ax=ax3)\n",
    "    plt.xlabel('Дата привлечения')\n",
    "    plt.title(\n",
    "        'Динамика удержания платящих пользователей на {}-й день'.format(\n",
    "            horizon\n",
    "        )\n",
    "    )\n",
    "\n",
    "    # в чётвертой ячейке — динамика удержания неплатящих\n",
    "    ax4 = plt.subplot(2, 2, 4, sharey=ax3)\n",
    "    # фильтруем данные и строим график\n",
    "    filtered_data = retention_history.query('payer == False').pivot_table(\n",
    "        index='dt', columns=columns, values=horizon - 1, aggfunc='mean'\n",
    "    )\n",
    "    filter_data(filtered_data, window).plot(grid=True, ax=ax4)\n",
    "    plt.xlabel('Дата привлечения')\n",
    "    plt.title(\n",
    "        'Динамика удержания неплатящих пользователей на {}-й день'.format(\n",
    "            horizon\n",
    "        )\n",
    "    )\n",
    "    \n",
    "    plt.tight_layout()\n",
    "    plt.show()"
   ]
  },
  {
   "cell_type": "code",
   "execution_count": null,
   "metadata": {},
   "outputs": [],
   "source": [
    "# функция для сглаживания фрейма\n",
    "\n",
    "def filter_data(df, window):\n",
    "    # для каждого столбца применяем скользящее среднее\n",
    "    for column in df.columns.values:\n",
    "        df[column] = df[column].rolling(window).mean() \n",
    "    return df"
   ]
  },
  {
   "cell_type": "markdown",
   "metadata": {},
   "source": [
    "## Шаг. Проведем исследовательский анализ данных\n",
    "\n",
    "Построим профили пользователей. Определим минимальную и максимальную дату привлечения пользователей.\n",
    "\n",
    "Выясним:\n",
    "- Из каких стран приходят посетители? Какие страны дают больше всего платящих пользователей?\n",
    "- Какими устройствами они пользуются? С каких устройств чаще всего заходят платящие пользователи?\n",
    "- По каким рекламным каналам шло привлечение пользователей? Какие каналы приносят больше всего платящих пользователей?"
   ]
  },
  {
   "cell_type": "markdown",
   "metadata": {},
   "source": [
    "### Создание пользовательских профилей"
   ]
  },
  {
   "cell_type": "code",
   "execution_count": null,
   "metadata": {
    "scrolled": false
   },
   "outputs": [],
   "source": [
    "# для построения пользовательских профилей будем использовать функцию get_profiles\n",
    "profiles = get_profiles(visits, orders, costs)\n",
    "display (profiles.head(5))\n",
    "print (\"Минимальная дата привлечения пользователей -> \", profiles['first_ts'].min())\n",
    "print (\"Максимальная дата привлечения пользователей ->\", profiles['first_ts'].max())"
   ]
  },
  {
   "cell_type": "markdown",
   "metadata": {},
   "source": [
    "Пользовательские профили построены, даты привлечения соответствуют указанным в задании с 01.05.2019 по 27.10.2019.\n",
    "\n",
    "Из анализа удалим клиентов `organic`, т.к. мы анализируем окупаемость рекламных инвестиций, а продажи клиентам  `organic` за привлечение которых компания не платила будут невольно улучшать в общей массе рекламные показатели, что может помешать нам правильно оценить картину."
   ]
  },
  {
   "cell_type": "code",
   "execution_count": null,
   "metadata": {},
   "outputs": [],
   "source": [
    "#profiles = profiles.query(\"channel != 'organic'\")"
   ]
  },
  {
   "cell_type": "markdown",
   "metadata": {},
   "source": [
    "### Пользовательская география"
   ]
  },
  {
   "cell_type": "code",
   "execution_count": null,
   "metadata": {},
   "outputs": [],
   "source": [
    "# выведем проценты и округлим до двух знаков после запятой в python pandas\n",
    "pd.options.display.float_format =lambda x:'{:.2%}'.format(x)"
   ]
  },
  {
   "cell_type": "code",
   "execution_count": null,
   "metadata": {},
   "outputs": [],
   "source": [
    "profiles.groupby('region').agg(\n",
    "    {'user_id': 'nunique',\n",
    "    'payer': ['sum', 'mean']}\n",
    ").rename(columns={'user_id': 'unique_users', 'mean':'ratio'})"
   ]
  },
  {
   "cell_type": "markdown",
   "metadata": {},
   "source": [
    "Львиную долю пользователей составляют клиенты из США, их 100 тыс. человек. Это более чем в 5 раз превышает количество пользователей из Франции, Германии и Великобритании. Доля платящих пользователей в США также самая высокая и составляет почти 7%, в Европейских странах этот показатель менее 4%. Интересно, что несмотря на более чем пятикратное превосходство в числе пользователей, доля платящих клиентов выше только чуть менее чем в два раза."
   ]
  },
  {
   "cell_type": "markdown",
   "metadata": {},
   "source": [
    "### Пользовательские устройства "
   ]
  },
  {
   "cell_type": "code",
   "execution_count": null,
   "metadata": {},
   "outputs": [],
   "source": [
    "profiles.groupby('device').agg(\n",
    "    {'user_id': 'nunique',\n",
    "    'payer': ['sum', 'mean']}\n",
    ").rename(columns={'user_id': 'unique_users', 'mean':'ratio'})"
   ]
  },
  {
   "cell_type": "markdown",
   "metadata": {},
   "source": [
    "Большинство пользователей являются владельцами iPhone (54479), на втором месте с отставанием владельцы Android. Практически поровну владельцев MAC/PC. \n",
    "\n",
    "При этом интересно заметить, что доля платящих пользователей выше среди владельцев техники Apple (iPhone/MAC). Любители Apple платили примерно в чуть выше чем 6,3% случаях. Для владельцев Android это значение наблюдаем на уровне 5,85%, для PC 5,05%  \n",
    "\n"
   ]
  },
  {
   "cell_type": "markdown",
   "metadata": {},
   "source": [
    "###  Источники привлечения"
   ]
  },
  {
   "cell_type": "code",
   "execution_count": null,
   "metadata": {
    "scrolled": false
   },
   "outputs": [],
   "source": [
    "users_by_channel = profiles.groupby('channel').agg(\n",
    "    {'user_id': 'nunique',\n",
    "    'payer': ['sum', 'mean']}\n",
    ").rename(columns={'user_id': 'unique_users', 'mean':'ratio'}).sort_values([('unique_users', 'nunique')], ascending = False)\n",
    "users_by_channel"
   ]
  },
  {
   "cell_type": "code",
   "execution_count": null,
   "metadata": {},
   "outputs": [],
   "source": [
    "# отменяем стандарт оформления в процентах для float\n",
    "pd.reset_option('^display.', silent=True)"
   ]
  },
  {
   "cell_type": "markdown",
   "metadata": {},
   "source": [
    "Самый большой траффик мы получаем без специальных средств привлечения, но и доля платящих в `organic` самая низкая.\n",
    "Явно выделяются источники `FaceBoom` c 12,2% платящих пользователей, `Tip Top` c 9.6%. Оба этих источника и привлекают наибольшее количество клиентов (если не учитывать organic конечно).\n",
    "Стоит обратить внимание еще на `AdNonSense` и `lambdaMediaAds` которые хоть и являются \"аутсайдерами\" по привлечению пользователей, но зато имеют хороший процент конвертации их в плательщиков на уровне лидеров (11,34% и 10,47% соответственно). Не плохая конвертация еще у `RocketSuperAds` на уровне почти 8%. Остальные источники и привлекают ощутимо меньше и превращают в плательщиков менее 5% своего контингента."
   ]
  },
  {
   "cell_type": "markdown",
   "metadata": {},
   "source": [
    "### Вывод по шагу 3"
   ]
  },
  {
   "cell_type": "markdown",
   "metadata": {},
   "source": [
    "На данном шаге мы построили пользовательские профили из имеющихся данных, а также убедились, что даты привлечения пользователей совпадают с указанными в задаче (с 01.05.2019 по 27.10.2019). Провели небольшой исследовательский анализ, который показал следующее:\n",
    "\n",
    "* подавляющее большинство клиентов `Procrastinate Pro+` проживают в США;\n",
    "* клиенты предпочитают пользоваться мобильными устройствами, в первую очередь iPhone;\n",
    "* большинство платящих клиентов пользуются устройствами `Apple (MAC, iPhone)`;\n",
    "* наибольшее количество траффика `Procrastinate Pro+`получает через `FaceBoom` и `TipTop`, конвертация пользователей в плательщиков через эти каналы также высокая (12,2% и 9,6% соответственно).\n",
    "* аутсайдеры по привлечению клиентов `AdNonSense` и `lambdaMediaAds` показывают конвертацию пользователей в плательщики на уровне лидеров (11,34% и 10,47% соответственно), кроме этих каналов неплохую конвертацию на уровне 8% показывает `RocketSuperAds`, хотя привлекает значительно меньше траффика.\n",
    "\n",
    "Переходим к следующему шагу."
   ]
  },
  {
   "cell_type": "markdown",
   "metadata": {},
   "source": [
    "## Шаг. Маркетинг\n",
    "\n",
    "Выясните:\n",
    "- Сколько денег потратили? Всего / на каждый источник / по времени\n",
    "- Сколько в среднем стоило привлечение одного покупателя из каждого источника?"
   ]
  },
  {
   "cell_type": "markdown",
   "metadata": {},
   "source": [
    "### Расходы на маркетинг"
   ]
  },
  {
   "cell_type": "code",
   "execution_count": null,
   "metadata": {},
   "outputs": [],
   "source": [
    "profiles = profiles.query(\"channel != 'organic'\")"
   ]
  },
  {
   "cell_type": "code",
   "execution_count": null,
   "metadata": {
    "scrolled": true
   },
   "outputs": [],
   "source": [
    "full_costs = round(costs['costs'].sum(), 2)\n",
    "print ('Общие затраты на рекламу составили -> ', full_costs,\"$\")"
   ]
  },
  {
   "cell_type": "markdown",
   "metadata": {},
   "source": [
    "далее проверим сколько денег было вложено в каждый из рекламных источников"
   ]
  },
  {
   "cell_type": "code",
   "execution_count": null,
   "metadata": {
    "scrolled": false
   },
   "outputs": [],
   "source": [
    "costs_by_channel = costs.groupby('channel').agg({'costs':'sum'}).sort_values(by='costs', ascending = False)\n",
    "costs_by_channel"
   ]
  },
  {
   "cell_type": "markdown",
   "metadata": {},
   "source": [
    "Основную часть рекламного бюджета компания вкладывает в сети `TipTop 54 751$` и `FaceBoom 32 445$`, т.е. более 80% всех затрат. Вложения в остальные источники траффика по сравнению с ними кажутся просто ничтожными. Вложения в компании на которые мы обратили внимание на прошлом шаге `AdNonSense и lambdaMediaAds` составляют чуть более 5 000$ на двоих. "
   ]
  },
  {
   "cell_type": "code",
   "execution_count": null,
   "metadata": {
    "scrolled": true
   },
   "outputs": [],
   "source": [
    "# для отображения затрат во времени, выделим в таблице costs месяц в отдельный столбец\n",
    "costs['month'] = costs['dt'].astype('datetime64[M]')"
   ]
  },
  {
   "cell_type": "code",
   "execution_count": null,
   "metadata": {},
   "outputs": [],
   "source": [
    "data = []\n",
    "\n",
    "for channel in costs['channel'].unique():\n",
    "    data.append(\n",
    "        go.Scatter(x=costs[costs.channel==channel].groupby(\"month\")['costs'].sum().index,\n",
    "               y=costs[costs.channel==channel].groupby(\"month\")['costs'].sum(),\n",
    "               name=channel)\n",
    "    )\n",
    "layout = {'title': 'Расходы на рекламу по каналам и месяцам'}\n",
    "    \n",
    "fig = go.Figure(data=data, layout=layout)\n",
    "iplot(fig, show_link = False)"
   ]
  },
  {
   "cell_type": "markdown",
   "metadata": {},
   "source": [
    "* расходы на `TipTop` в рассматриваемом периоде стабильно росли и выросли с 2981  до 13 232 `$`  немного снизились только в октябре.\n",
    "* расходы на `FaceBoom` основную часть времени колеблются на уровне 5 - 6 тыс. долларов\n",
    "\n",
    "для того чтобы посмотреть на динамику остальных компаний отключим линии лидеров на графике, после чего можем видеть следующую картину\n",
    "\n",
    "* существенные изменения в распределении рекламных средств наблюдались первые два месяца (например были увеличены инвестиции в `WahooNetBanner` и уменьшены в `AdNonSense`)Затраты первого на старте составляли 418 `$`, после чего выросли и находятся на уровне 920 - 1040 `$`.  Затраты второго колеблются на уровне 530 - 580 `$`,  хотя на старте были 1169`$` \n",
    "* затраты по остальным источникам находятся в диапазоне 100 - 400 `$` ежемесячно.\n",
    "\n",
    "в целом основные инвестиции компания делает только в два источника `TipTop` и `FaceBoom`, остальные рекламные вложения на их фоне ничтожны."
   ]
  },
  {
   "cell_type": "markdown",
   "metadata": {},
   "source": [
    "### CAC"
   ]
  },
  {
   "cell_type": "markdown",
   "metadata": {},
   "source": [
    "Для начала рассчитаем CAC для всего проекта без разделения на когорты."
   ]
  },
  {
   "cell_type": "code",
   "execution_count": null,
   "metadata": {},
   "outputs": [],
   "source": [
    "# CAC для всего проекта\n",
    "# profiles_filtred = profiles.query(\"channel != 'organic'\")\n",
    "round (full_costs / profiles['user_id'].count(), 2)"
   ]
  },
  {
   "cell_type": "markdown",
   "metadata": {},
   "source": [
    "Итак, средний CAC на одного пользователя для всего проекта составляет `1,13$`. Далее считаем CAC для каждого канала для всего проекта"
   ]
  },
  {
   "cell_type": "code",
   "execution_count": null,
   "metadata": {
    "scrolled": true
   },
   "outputs": [],
   "source": [
    "cac_by_channel = costs_by_channel.merge(users_by_channel['unique_users'],\n",
    "                      on = 'channel', \n",
    "                      how='left'\n",
    "                     )\n",
    "\n",
    "cac_by_channel['CAC'] = round (cac_by_channel['costs'] / cac_by_channel['nunique'], 2)   \n",
    "cac_by_channel.sort_values(by='CAC', ascending = False)"
   ]
  },
  {
   "cell_type": "markdown",
   "metadata": {},
   "source": [
    "CAC `TipTop` в `2.8$` выглядит аномально высоким на фоне остальных. В 2.5 раза выше чем у нашего второго инвестиционного лидера `FaceBoom`.\n",
    "\n",
    "Теперь посмотрим как менялся СAC с течением времени для всего проекта"
   ]
  },
  {
   "cell_type": "code",
   "execution_count": null,
   "metadata": {
    "scrolled": false
   },
   "outputs": [],
   "source": [
    "profiles.pivot_table(\n",
    "    index='dt', columns='channel', values='acquisition_cost', aggfunc='mean'\n",
    ").plot(grid=True, figsize=(25, 10))\n",
    "plt.ylabel('CAC, $')\n",
    "plt.xlabel('Дата привлечения')\n",
    "plt.title('Динамика САС по каналам привлечения')\n",
    "plt.show()"
   ]
  },
  {
   "cell_type": "markdown",
   "metadata": {},
   "source": [
    "`TipTop` единственный источник траффика CAC которого стабильно растет на всем наблюдаемом временном интервале. САС остальных источников значительно не менялся, колебания есть, но все они вдоль прямой линии."
   ]
  },
  {
   "cell_type": "markdown",
   "metadata": {},
   "source": [
    "### Вывод"
   ]
  },
  {
   "cell_type": "markdown",
   "metadata": {},
   "source": [
    "* более 80% рекламного бюджета вкладывалось в `FaceBoom` и `TipTop`. Лидером по рекламным инвестициям является  `TipTop` вложения в который стабильно росли и даже превышали `13 000$` в месяц в сентябре\n",
    "* средний CAC для всех источников для всего проекта составил `1,13$`\n",
    "* самый высокий CAC `TipTop` `2.8$`, что более чем в два раза выше чем у ближайших конкурентов по этому показателю `FaceBoom` и `AdNonSense` у которых этот показатель чуть выше `1$`\n",
    "* СAC для `TipTop` стабильно и стремительно увеличивается, для остальных источников колебания незначительны\n",
    "* CAC остальных источников не превышает 72 центов\n",
    "\n",
    "Уже можно предположить, что `TipTop` может быть одной из проблем окупаемости компании, но это пока не точно. Более подробно разберемся на следующем шаге."
   ]
  },
  {
   "cell_type": "markdown",
   "metadata": {},
   "source": [
    "## Шаг. Оценим окупаемость рекламы для привлечения пользователей\n",
    "\n",
    "С помощью LTV и ROI:\n",
    "- Проанализируйте общую окупаемость рекламы;\n",
    "- Проанализируйте окупаемость рекламы с разбивкой по устройствам;\n",
    "- Проанализируйте окупаемость рекламы с разбивкой по странам;\n",
    "- Проанализируйте окупаемость рекламы с разбивкой по рекламным каналам.\n",
    "\n",
    "Опишите проблемы, которые вы обнаружили. Ответьте на вопросы:\n",
    "- Окупается ли реклама, направленная на привлечение пользователей в целом? \n",
    "- Какие устройства, страны и рекламные каналы могут оказывать негативное влияние на окупаемость рекламы?\n",
    "- Чем могут быть вызваны проблемы окупаемости? Изучите конверсию и удержание с разбивкой по устройствам, странам, рекламным каналам.\n",
    "\n",
    "Опишите возможные причины обнаруженных проблем и сформируйте рекомендации для рекламного отдела. При решении этого шага считайте, что вы смотрите данные 1-го ноября 2019 года и что в вашей организации принято считать, что окупаемость должна наступать не позднее, чем через 2 недели после привлечения пользователей."
   ]
  },
  {
   "cell_type": "code",
   "execution_count": null,
   "metadata": {},
   "outputs": [],
   "source": [
    "# задаем момент и горизонт анализа, согласно указаниям в задании\n",
    "observation_date = datetime(2019, 11, 1).date()  # момент анализа\n",
    "horizon_days = 14  # горизонт анализа "
   ]
  },
  {
   "cell_type": "markdown",
   "metadata": {},
   "source": [
    "### Проанализируем общую окупаемость рекламы"
   ]
  },
  {
   "cell_type": "code",
   "execution_count": null,
   "metadata": {},
   "outputs": [],
   "source": [
    "# считаем LTV и ROI\n",
    "ltv_raw, ltv_grouped, ltv_history, roi_grouped, roi_history = get_ltv(\n",
    "    profiles, orders, observation_date, horizon_days\n",
    ")\n",
    "\n",
    "# строим графики\n",
    "plot_ltv_roi(ltv_grouped, ltv_history, roi_grouped, roi_history, horizon_days)"
   ]
  },
  {
   "cell_type": "markdown",
   "metadata": {},
   "source": [
    "По графикам можно сделать такие выводы:\n",
    "* реклама не окупается. ROI в конце двух недель доходит только до 80%;\n",
    "* CAC растет,  значит, увеличение рекламного бюджета играет здесь роль;\n",
    "* на LTV может влиять сезонный фактор, но этот показатель достаточно стабилен. Значит, дело не в ухудшении качества пользователей;\n",
    "* ROI пользователей на 14-й день уходит значительно ниже уровня окупаемости - бизнес план не работает! \n",
    "\n",
    "В целом картина совсем не радует. Чтобы разобраться в причинах, пройдём по всем доступным характеристикам пользователей — стране, источнику и устройству первого посещения."
   ]
  },
  {
   "cell_type": "markdown",
   "metadata": {},
   "source": [
    "### Проанализируем окупаемость рекламы с разбивкой по устройствам"
   ]
  },
  {
   "cell_type": "code",
   "execution_count": null,
   "metadata": {
    "scrolled": false
   },
   "outputs": [],
   "source": [
    "# смотрим окупаемость с разбивкой по странам\n",
    "\n",
    "dimensions = ['device']\n",
    "\n",
    "ltv_raw, ltv_grouped, ltv_history, roi_grouped, roi_history = get_ltv(\n",
    "    profiles, orders, observation_date, horizon_days, dimensions=dimensions\n",
    ")\n",
    "\n",
    "plot_ltv_roi(\n",
    "    ltv_grouped, ltv_history, roi_grouped, roi_history, horizon_days, window=14\n",
    ") "
   ]
  },
  {
   "cell_type": "markdown",
   "metadata": {},
   "source": [
    "* Стоимость привлечения растет для пользователей всех устройств, но особенно выделяются пользователи Apple (iPhone и MAC), при этом на окупаемость привлечения пользователей этих устройств компания не выходит. Также до окупаемость не достигается для Android-users.  \n",
    "* динамика ROI на 14-й день для Apple-users также ужастна, Android тоже оставляет желать лучшего. \n",
    "* с владельцами PC все не на столько плохо, они выползают на окупаемость, для большинства когорт динамика ROI 14-го дня выше уровня окупаемости \n",
    "\n",
    "При этом как мы выяснили ранее основные плательщики это пользователи устройств Apple. Итак на этом шаге видно, что у нас сильно возрасла стоимость привлечения основных платящих пользователей, которых к тому же и в принципе большинство. "
   ]
  },
  {
   "cell_type": "markdown",
   "metadata": {},
   "source": [
    "### Проанализируем окупаемость рекламы с разбивкой по странам"
   ]
  },
  {
   "cell_type": "code",
   "execution_count": null,
   "metadata": {
    "scrolled": false
   },
   "outputs": [],
   "source": [
    "dimensions = ['region']\n",
    "\n",
    "ltv_raw, ltv_grouped, ltv_history, roi_grouped, roi_history = get_ltv(\n",
    "    profiles, orders, observation_date, horizon_days, dimensions=dimensions\n",
    ")\n",
    "\n",
    "plot_ltv_roi(\n",
    "    ltv_grouped, ltv_history, roi_grouped, roi_history, horizon_days, window=14\n",
    ") "
   ]
  },
  {
   "cell_type": "markdown",
   "metadata": {},
   "source": [
    "Кошмар продолжается\n",
    "* стоимость привлечения клиентов из США улетает в космос по сравнению с европейскими странами, там в июне стоимость привлечения наоборот снизилась;\n",
    "* клиенты из США убыточны, ROI приблизительно на уровне 70%, динамика ROI 14 дня уверенно движется в пропасть;\n",
    "* с Европейскими клиентами все хорошо, стоимость их привлечения снизилась, затем стала стабильной и они окупаются.\n",
    "\n",
    "Как мы выяснили ранее подавляющее большинство клиентов компании находятся именно в США, поэтому такая картина с их окупаемостью будет серьезно сказываться на финансовом результате компании. "
   ]
  },
  {
   "cell_type": "markdown",
   "metadata": {},
   "source": [
    "### Проанализируем окупаемость рекламы с разбивкой по рекламным каналам"
   ]
  },
  {
   "cell_type": "code",
   "execution_count": null,
   "metadata": {
    "scrolled": false
   },
   "outputs": [],
   "source": [
    "dimensions = ['channel']\n",
    "\n",
    "ltv_raw, ltv_grouped, ltv_history, roi_grouped, roi_history = get_ltv(\n",
    "    profiles, orders, observation_date, horizon_days, dimensions=dimensions\n",
    ")\n",
    "\n",
    "plot_ltv_roi(\n",
    "    ltv_grouped, ltv_history, roi_grouped, roi_history, horizon_days, window=14\n",
    ") "
   ]
  },
  {
   "cell_type": "markdown",
   "metadata": {},
   "source": [
    "не окупаются следующие каналы привлечения\n",
    "* `TipTop`, `FaceBoom`, `AddNonSense`\n",
    "\n",
    "Хуже всего ситуация по `TipTop`, инвестиции туда растут, а окупаемости стабильно нет, ROI у него худший \n",
    "\n",
    "* реклама в остальных каналах окупается, лучший показатель окупаемости показывает `YRabbit`"
   ]
  },
  {
   "cell_type": "markdown",
   "metadata": {},
   "source": [
    "### Анализ окупаемости рекламы в США"
   ]
  },
  {
   "cell_type": "code",
   "execution_count": null,
   "metadata": {},
   "outputs": [],
   "source": [
    "profiles_USA = profiles.query(\"region == 'United States'\")"
   ]
  },
  {
   "cell_type": "code",
   "execution_count": null,
   "metadata": {
    "scrolled": false
   },
   "outputs": [],
   "source": [
    "dimensions = ['device']\n",
    "\n",
    "ltv_raw, ltv_grouped, ltv_history, roi_grouped, roi_history = get_ltv(\n",
    "    profiles_USA, orders, observation_date, horizon_days, dimensions=dimensions\n",
    ")\n",
    "\n",
    "plot_ltv_roi(\n",
    "    ltv_grouped, ltv_history, roi_grouped, roi_history, horizon_days, window=14\n",
    ") "
   ]
  },
  {
   "cell_type": "markdown",
   "metadata": {},
   "source": [
    "Рекламные активности в США уводят компанию в убыток.\n",
    "\n",
    "* стоимость привлечения пользователей всех устройств стабильно и стремительно растет;\n",
    "* вместе с ней стабильно падает ROI;\n",
    "* примерно к концу июня CAC вырастает настолько, что ROI всех когорт уходит ниже окупаемости и продолжает стабильно падать\n",
    "* ROI пользователей Android самый высокий, но и он чуть - чуть не дотягивает даже до 80%, а ROI Apple пользователей, которых большинство только в районе 70%"
   ]
  },
  {
   "cell_type": "code",
   "execution_count": null,
   "metadata": {
    "scrolled": false
   },
   "outputs": [],
   "source": [
    "dimensions = ['channel']\n",
    "\n",
    "ltv_raw, ltv_grouped, ltv_history, roi_grouped, roi_history = get_ltv(\n",
    "    profiles_USA, orders, observation_date, horizon_days, dimensions=dimensions\n",
    ")\n",
    "\n",
    "plot_ltv_roi(\n",
    "    ltv_grouped, ltv_history, roi_grouped, roi_history, horizon_days, window=14\n",
    ") "
   ]
  },
  {
   "cell_type": "markdown",
   "metadata": {},
   "source": [
    "в США иcпользуются не все каналы, видимо часть из них по каким-то причинам работают только в Европе... либо маркетинг не стал их задействовать в США.\n",
    "\n",
    "проблемными являются два рекламных источника `TipTop` и `FaceBoom`, остальные выходят на окупаемость."
   ]
  },
  {
   "cell_type": "markdown",
   "metadata": {},
   "source": [
    "### Удержание и конверсия"
   ]
  },
  {
   "cell_type": "markdown",
   "metadata": {},
   "source": [
    "Построим графики конверсии пользователей и динамики конверсии с разбивкой по устройствам."
   ]
  },
  {
   "cell_type": "code",
   "execution_count": null,
   "metadata": {
    "scrolled": true
   },
   "outputs": [],
   "source": [
    "dimensions = ['device']\n",
    "conversion_raw, conversion_grouped, conversion_history = get_conversion(\n",
    "    profiles, orders, observation_date, horizon_days, dimensions=dimensions\n",
    ")\n",
    "\n",
    "plot_conversion(conversion_grouped, conversion_history, horizon_days) "
   ]
  },
  {
   "cell_type": "markdown",
   "metadata": {},
   "source": [
    "Графики подтверждают ранее сделанные выводы, о том, что лучшую конверсию на уровне чуть выше 8,5% показывают пользователи Apple-устройств (MAC и iPhone), немного отстает конверсия для Android-users, а вот c PC этот параметр выглядит довольно печально на фоне остальных около 6.5%. "
   ]
  },
  {
   "cell_type": "code",
   "execution_count": null,
   "metadata": {
    "scrolled": false
   },
   "outputs": [],
   "source": [
    "# смотрим удержание с разбивкой по устройствам\n",
    "\n",
    "retention_raw, retention_grouped, retention_history = get_retention(\n",
    "    profiles, visits, observation_date, horizon_days, dimensions=dimensions\n",
    ")\n",
    "\n",
    "plot_retention(retention_grouped, retention_history, horizon_days) "
   ]
  },
  {
   "cell_type": "markdown",
   "metadata": {},
   "source": [
    "* удержание самых платящих клиентов Apple-users самое низкое, а удержание пользователей с самой низкой конверсией PC-user самое высокое. Хорошо бы наоборот. Хотя в целом процент удержания к 14-му лайфтайму на уровне 9-12% для пользователей всех девайсов, что не так уж и плохо.\n",
    "* удержание не платящих стабильно невысоко для всех, что в целом естественно"
   ]
  },
  {
   "cell_type": "markdown",
   "metadata": {},
   "source": [
    "Теперь рассмотрим те же метрики, но с географической разбивкой"
   ]
  },
  {
   "cell_type": "code",
   "execution_count": null,
   "metadata": {
    "scrolled": true
   },
   "outputs": [],
   "source": [
    "dimensions = ['region']\n",
    "conversion_raw, conversion_grouped, conversion_history = get_conversion(\n",
    "    profiles, orders, observation_date, horizon_days, dimensions=dimensions\n",
    ")\n",
    "\n",
    "plot_conversion(conversion_grouped, conversion_history, horizon_days) "
   ]
  },
  {
   "cell_type": "markdown",
   "metadata": {},
   "source": [
    "Конверсия в США (где скорее всего еще и больше всех Apple-usesrs) достигает почти 9%, что на порядок превышает конверсию в европейских странах. А если вспомнить, что у нас еще и клиентов из США в разы больше, то это позволяет смотреть на будущее компании с надеждой."
   ]
  },
  {
   "cell_type": "code",
   "execution_count": null,
   "metadata": {
    "scrolled": false
   },
   "outputs": [],
   "source": [
    "retention_raw, retention_grouped, retention_history = get_retention(\n",
    "    profiles, visits, observation_date, horizon_days, dimensions=dimensions\n",
    ")\n",
    "\n",
    "plot_retention(retention_grouped, retention_history, horizon_days) "
   ]
  },
  {
   "cell_type": "markdown",
   "metadata": {},
   "source": [
    "Только понадеялись на светлое будущее компании, как надежды разбиваются о графики удержания. Если компания может добиваться удержания европейский пользователей на уровне  около 15-18%, то нужно что-то придумывать с повышением удержания американцев, которое к 14-му лайф тайму не дотягивает до 10. Динамика удержания 14го дня наших приоритетных клиентов из США также достаточно низкая. "
   ]
  },
  {
   "cell_type": "markdown",
   "metadata": {},
   "source": [
    "Теперь разбивка по каналам привлечения."
   ]
  },
  {
   "cell_type": "code",
   "execution_count": null,
   "metadata": {
    "scrolled": false
   },
   "outputs": [],
   "source": [
    "dimensions = ['channel']\n",
    "conversion_raw, conversion_grouped, conversion_history = get_conversion(\n",
    "    profiles, orders, observation_date, horizon_days, dimensions=dimensions\n",
    ")\n",
    "\n",
    "plot_conversion(conversion_grouped, conversion_history, horizon_days) "
   ]
  },
  {
   "cell_type": "markdown",
   "metadata": {},
   "source": [
    "Как отмечали ранее, лидеры по конверсии `FaceBoom`, `AdNonSense`, `LambdaMediaAds`,`TipTop`, `RocketSuperAds`.\n",
    "Интересно, что наш самый дорогой `TipTop` лишь на 4-м месте в этом рейтинге."
   ]
  },
  {
   "cell_type": "code",
   "execution_count": null,
   "metadata": {
    "scrolled": false
   },
   "outputs": [],
   "source": [
    "retention_raw, retention_grouped, retention_history = get_retention(\n",
    "    profiles, visits, observation_date, horizon_days, dimensions=dimensions\n",
    ")\n",
    "\n",
    "plot_retention(retention_grouped, retention_history, horizon_days) "
   ]
  },
  {
   "cell_type": "markdown",
   "metadata": {},
   "source": [
    "Лидеры по привлечению = аутсайдеры по удержанию, получается через `FaceBoom`, `AdNonSense` мы получаем совсем \"коротких\" клиентов.\n",
    "`LambdaMediaAds`вновь заслуживает внимания, удержание на уровне почти 20% при конверсии выше 10% делает ее довольно интересной."
   ]
  },
  {
   "cell_type": "markdown",
   "metadata": {},
   "source": [
    "### Удержание и конверсия в США"
   ]
  },
  {
   "cell_type": "code",
   "execution_count": null,
   "metadata": {},
   "outputs": [],
   "source": [
    "dimensions = ['device']\n",
    "conversion_raw, conversion_grouped, conversion_history = get_conversion(\n",
    "    profiles_USA, orders, observation_date, horizon_days, dimensions=dimensions\n",
    ")\n",
    "\n",
    "plot_conversion(conversion_grouped, conversion_history, horizon_days) "
   ]
  },
  {
   "cell_type": "code",
   "execution_count": null,
   "metadata": {
    "scrolled": false
   },
   "outputs": [],
   "source": [
    "# смотрим удержание с разбивкой по устройствам\n",
    "\n",
    "retention_raw, retention_grouped, retention_history = get_retention(\n",
    "    profiles_USA, visits, observation_date, horizon_days, dimensions=dimensions\n",
    ")\n",
    "\n",
    "plot_retention(retention_grouped, retention_history, horizon_days) "
   ]
  },
  {
   "cell_type": "markdown",
   "metadata": {},
   "source": [
    "Проверка конверсии и удержания клиентов США с разбивкой по устройвам не выявляет каких - то аномалий для пользователей разных устройств. Конверсия Android - users чуть лучше, удержание у всех на одном уровне в районе 10 % к 14-му дню, что не плохо."
   ]
  },
  {
   "cell_type": "code",
   "execution_count": null,
   "metadata": {},
   "outputs": [],
   "source": [
    "dimensions = ['channel']\n",
    "conversion_raw, conversion_grouped, conversion_history = get_conversion(\n",
    "    profiles_USA, orders, observation_date, horizon_days, dimensions=dimensions\n",
    ")\n",
    "\n",
    "plot_conversion(conversion_grouped, conversion_history, horizon_days) "
   ]
  },
  {
   "cell_type": "code",
   "execution_count": null,
   "metadata": {
    "scrolled": false
   },
   "outputs": [],
   "source": [
    "retention_raw, retention_grouped, retention_history = get_retention(\n",
    "    profiles_USA, visits, observation_date, horizon_days, dimensions=dimensions\n",
    ")\n",
    "\n",
    "plot_retention(retention_grouped, retention_history, horizon_days) "
   ]
  },
  {
   "cell_type": "markdown",
   "metadata": {},
   "source": [
    "удержание и конверсия в разбивке по рекламным каналам для американцев приципиально не отличается от общей картины.\n",
    "запомним `RocketSuperAds` c неплохой конверсией и лучшим удержанием."
   ]
  },
  {
   "cell_type": "markdown",
   "metadata": {},
   "source": [
    "### Вывод"
   ]
  },
  {
   "cell_type": "markdown",
   "metadata": {},
   "source": [
    "* лучшая конверсия у пользователей Apple устройств из США;\n",
    "* при этом у них же и самый плохой показатель удержания;\n",
    "* лидеры по конверсии `FaceBoom`, `AdNonSense`, `LambdaMediaAds`,`TipTop`, `RocketSuperAds`, однако `FaceBoom`, `AdNonSense`показывают плохие значения по удержанию.\n",
    "\n",
    "Резльтат анализа окупаемости рекламы следующий:\n",
    "\n",
    "* в целом реклама не окупается, ROI едва дотягивает до 80%;\n",
    "* окупаются только пользователи PC, а вот Android и Apple users убыточны, при этом последние еще и составляют абсолютное большинство клиентской базы;\n",
    "* имеются три канала привлечения, которые являются убыточными, это `TipTop`, `FaceBoom`, `AddNonSense`, при этом `TipTop`, `FaceBoom`являются абсолютными лидерами по инвестициям, да еще и инвестиции в `TipTop` стабильно росли;\n",
    "* пользователи из Европы стабильно выходят на окупаемость, но вот только подавляющее число клиентов из США и они являются убыточными, скорее всего за счет высокой стоимости привлечения.\n",
    "\n",
    "\n",
    "\n"
   ]
  },
  {
   "cell_type": "markdown",
   "metadata": {},
   "source": [
    "## Шаг 6. Общий вывод\n",
    "- Выделим причины неэффективности привлечения пользователей;\n",
    "- Сформируем рекомендации для отдела маркетинга для повышения эффективности."
   ]
  },
  {
   "cell_type": "markdown",
   "metadata": {},
   "source": [
    "В данной работе были проанализированы данные о пользователях компании по приложению `Procrastinate+` c 1.05 по 27.10.2019 года\n",
    "За данный период компания инвестировала в рекламу сумму порядка `105 000$`, однако потерпела убытки. Мы провели анализ расходов и окупаемости в разрезе по странам, устройствам и каналам, подробные выводы описаны выше. \n",
    "\n",
    "Большинство клиентов данной компании проживают в США и являются пользователями устройств компании Apple, к сожалению несмотря на хороший показатель конверсии этих клиентов именно они и являются убыточными в первую очередь за счет дорогого привлечения. \n",
    "Люди проживающие в Европе пусть и в значительно меньшем количестве тоже являются клиентами компании, с их окупаемостью все в порядке.\n",
    "\n",
    "\n",
    "Итак, сформулируем возможные причины проблем и рекомендации для рекламного отдела.\n",
    "\n",
    " * основной причиной убытков видятся завышенные расходы на привлечение пользователей из США, которые, увы не окупились, даже несмотря на хорошую конверсию и большое количество пользователей. \n",
    " * особенно необходимо обратить внимание на инвестиции в канал `TipTop`, исходя из вышесказанного он лидер по убыточности и инвестиции в него стоит сокращать в первую очередь, также нужно подумать о целесообразности небольшого сокращения инвестиций в `FaceBoom`, `AdNonSense` - уж очень плохое удержание \n",
    " * можно обратить внимание на канал `LambdaMediaAds`, который показывает не плохие значения конверсии, удержания, ROI. \n",
    " * еще хорошо себя показывает канал `RocketSuperAds` неплохая конверсия и отличное удержание по сравнению с остальными.\n",
    " \n",
    "Европейский рынок выглядит недоосвоенным, клиенты из Европейских стран демонстрирует ROI стабильно выше окупаемости, но их число в сравнении с американцами незначительно.\n",
    "\n",
    "Ощущается явный перекос рекламных вложений в пользу Apple-users, вероятно стоит чуть больше внимания уделить пользователям PC и Android. Делать это нужно осторожно, для начала небольшими вложениями, т.к. сейчас их ROI выше за счет более низкого CAC, а что будет после увеличения объемов рекламы пока сказать сложно\n",
    "\n",
    "Отдельного анализа требует \"пользовательский путь\" organic клиентов, их много, но конвертация на низком уровне, к сожалению эта часть пока выходит за рамки текущего исследования.\n"
   ]
  }
 ],
 "metadata": {
  "ExecuteTimeLog": [
   {
    "duration": 129,
    "start_time": "2022-04-21T12:53:31.178Z"
   },
   {
    "duration": 2349,
    "start_time": "2022-04-21T12:53:34.578Z"
   },
   {
    "duration": 2644,
    "start_time": "2022-04-21T12:53:36.931Z"
   },
   {
    "duration": 31,
    "start_time": "2022-04-21T12:53:39.579Z"
   },
   {
    "duration": 12,
    "start_time": "2022-04-21T13:05:12.239Z"
   },
   {
    "duration": 16,
    "start_time": "2022-04-21T13:05:37.024Z"
   },
   {
    "duration": 86,
    "start_time": "2022-04-21T13:06:04.027Z"
   },
   {
    "duration": 27,
    "start_time": "2022-04-21T13:06:35.763Z"
   },
   {
    "duration": 21,
    "start_time": "2022-04-21T13:06:47.684Z"
   },
   {
    "duration": 392,
    "start_time": "2022-04-21T13:28:38.887Z"
   },
   {
    "duration": 20,
    "start_time": "2022-04-21T13:28:56.663Z"
   },
   {
    "duration": 10,
    "start_time": "2022-04-21T13:29:15.891Z"
   },
   {
    "duration": 6,
    "start_time": "2022-04-21T13:34:24.661Z"
   },
   {
    "duration": 181,
    "start_time": "2022-04-21T15:48:53.477Z"
   },
   {
    "duration": 6,
    "start_time": "2022-04-21T15:48:58.463Z"
   },
   {
    "duration": 12,
    "start_time": "2022-04-21T15:49:04.400Z"
   },
   {
    "duration": 1144,
    "start_time": "2022-04-21T15:49:17.987Z"
   },
   {
    "duration": 3,
    "start_time": "2022-04-21T15:49:21.833Z"
   },
   {
    "duration": 5,
    "start_time": "2022-04-21T15:49:24.513Z"
   },
   {
    "duration": 4,
    "start_time": "2022-04-21T15:49:26.172Z"
   },
   {
    "duration": 4,
    "start_time": "2022-04-21T15:51:17.930Z"
   },
   {
    "duration": 3,
    "start_time": "2022-04-21T15:53:15.643Z"
   },
   {
    "duration": 14,
    "start_time": "2022-04-21T15:53:19.225Z"
   },
   {
    "duration": 1607,
    "start_time": "2022-04-21T15:53:26.425Z"
   },
   {
    "duration": 870,
    "start_time": "2022-04-21T15:53:28.035Z"
   },
   {
    "duration": 5,
    "start_time": "2022-04-21T15:53:28.908Z"
   },
   {
    "duration": 5,
    "start_time": "2022-04-21T15:53:28.917Z"
   },
   {
    "duration": 23,
    "start_time": "2022-04-21T15:53:28.925Z"
   },
   {
    "duration": 118,
    "start_time": "2022-04-21T15:53:28.951Z"
   },
   {
    "duration": 441,
    "start_time": "2022-04-21T15:53:29.072Z"
   },
   {
    "duration": 11,
    "start_time": "2022-04-21T15:53:29.516Z"
   },
   {
    "duration": 24,
    "start_time": "2022-04-21T15:53:29.529Z"
   },
   {
    "duration": 56,
    "start_time": "2022-04-21T15:53:29.558Z"
   },
   {
    "duration": 13,
    "start_time": "2022-04-21T15:53:29.617Z"
   },
   {
    "duration": 62,
    "start_time": "2022-04-21T15:53:29.633Z"
   },
   {
    "duration": 11,
    "start_time": "2022-04-21T15:53:29.698Z"
   },
   {
    "duration": 197,
    "start_time": "2022-04-21T15:53:29.712Z"
   },
   {
    "duration": 0,
    "start_time": "2022-04-21T15:53:29.911Z"
   },
   {
    "duration": 153,
    "start_time": "2022-04-21T15:57:11.513Z"
   },
   {
    "duration": 11,
    "start_time": "2022-04-21T15:57:15.937Z"
   },
   {
    "duration": 1094,
    "start_time": "2022-04-21T15:57:20.791Z"
   },
   {
    "duration": 20,
    "start_time": "2022-04-21T15:57:24.686Z"
   },
   {
    "duration": 13,
    "start_time": "2022-04-21T15:57:28.554Z"
   },
   {
    "duration": 14,
    "start_time": "2022-04-21T15:58:55.657Z"
   },
   {
    "duration": 148,
    "start_time": "2022-04-21T15:58:57.521Z"
   },
   {
    "duration": 6,
    "start_time": "2022-04-21T15:59:00.101Z"
   },
   {
    "duration": 15,
    "start_time": "2022-04-21T15:59:07.086Z"
   },
   {
    "duration": 3876,
    "start_time": "2022-04-21T15:59:21.821Z"
   },
   {
    "duration": 6,
    "start_time": "2022-04-21T16:00:08.692Z"
   },
   {
    "duration": 268,
    "start_time": "2022-04-21T16:00:51.025Z"
   },
   {
    "duration": 37,
    "start_time": "2022-04-21T16:01:53.475Z"
   },
   {
    "duration": 31,
    "start_time": "2022-04-21T16:01:58.211Z"
   },
   {
    "duration": 15,
    "start_time": "2022-04-21T16:08:55.222Z"
   },
   {
    "duration": 67,
    "start_time": "2022-04-21T16:08:59.818Z"
   },
   {
    "duration": 1659,
    "start_time": "2022-04-21T16:09:12.761Z"
   },
   {
    "duration": 843,
    "start_time": "2022-04-21T16:09:14.422Z"
   },
   {
    "duration": 3,
    "start_time": "2022-04-21T16:09:15.268Z"
   },
   {
    "duration": 11,
    "start_time": "2022-04-21T16:09:15.274Z"
   },
   {
    "duration": 23,
    "start_time": "2022-04-21T16:09:15.287Z"
   },
   {
    "duration": 107,
    "start_time": "2022-04-21T16:09:15.312Z"
   },
   {
    "duration": 7,
    "start_time": "2022-04-21T16:09:15.421Z"
   },
   {
    "duration": 253,
    "start_time": "2022-04-21T16:09:15.430Z"
   },
   {
    "duration": 301,
    "start_time": "2022-04-21T16:09:15.686Z"
   },
   {
    "duration": 11,
    "start_time": "2022-04-21T16:09:15.994Z"
   },
   {
    "duration": 22,
    "start_time": "2022-04-21T16:09:16.008Z"
   },
   {
    "duration": 64,
    "start_time": "2022-04-21T16:09:16.033Z"
   },
   {
    "duration": 10,
    "start_time": "2022-04-21T16:09:16.099Z"
   },
   {
    "duration": 17,
    "start_time": "2022-04-21T16:09:16.111Z"
   },
   {
    "duration": 12,
    "start_time": "2022-04-21T16:09:16.130Z"
   },
   {
    "duration": 294,
    "start_time": "2022-04-21T16:09:16.145Z"
   },
   {
    "duration": 0,
    "start_time": "2022-04-21T16:09:16.442Z"
   },
   {
    "duration": 4,
    "start_time": "2022-04-21T16:11:08.721Z"
   },
   {
    "duration": 1563,
    "start_time": "2022-04-21T16:11:14.752Z"
   },
   {
    "duration": 806,
    "start_time": "2022-04-21T16:11:16.317Z"
   },
   {
    "duration": 4,
    "start_time": "2022-04-21T16:11:17.125Z"
   },
   {
    "duration": 22,
    "start_time": "2022-04-21T16:11:17.132Z"
   },
   {
    "duration": 153,
    "start_time": "2022-04-21T16:11:17.156Z"
   },
   {
    "duration": 9,
    "start_time": "2022-04-21T16:11:17.311Z"
   },
   {
    "duration": 233,
    "start_time": "2022-04-21T16:11:17.322Z"
   },
   {
    "duration": 273,
    "start_time": "2022-04-21T16:11:17.557Z"
   },
   {
    "duration": 12,
    "start_time": "2022-04-21T16:11:17.832Z"
   },
   {
    "duration": 54,
    "start_time": "2022-04-21T16:11:17.849Z"
   },
   {
    "duration": 23,
    "start_time": "2022-04-21T16:11:17.906Z"
   },
   {
    "duration": 12,
    "start_time": "2022-04-21T16:11:17.931Z"
   },
   {
    "duration": 55,
    "start_time": "2022-04-21T16:11:17.946Z"
   },
   {
    "duration": 12,
    "start_time": "2022-04-21T16:11:18.004Z"
   },
   {
    "duration": 198,
    "start_time": "2022-04-21T16:11:18.018Z"
   },
   {
    "duration": 0,
    "start_time": "2022-04-21T16:11:18.218Z"
   },
   {
    "duration": 7,
    "start_time": "2022-04-21T16:12:01.471Z"
   },
   {
    "duration": 138,
    "start_time": "2022-04-21T17:07:33.967Z"
   },
   {
    "duration": 13,
    "start_time": "2022-04-21T17:08:34.909Z"
   },
   {
    "duration": 11,
    "start_time": "2022-04-21T17:08:42.706Z"
   },
   {
    "duration": 3321,
    "start_time": "2022-04-21T17:10:19.496Z"
   },
   {
    "duration": 2183,
    "start_time": "2022-04-21T17:10:29.372Z"
   },
   {
    "duration": 795,
    "start_time": "2022-04-21T17:10:31.558Z"
   },
   {
    "duration": 4,
    "start_time": "2022-04-21T17:10:32.355Z"
   },
   {
    "duration": 23,
    "start_time": "2022-04-21T17:10:32.361Z"
   },
   {
    "duration": 84,
    "start_time": "2022-04-21T17:10:32.387Z"
   },
   {
    "duration": 7,
    "start_time": "2022-04-21T17:10:32.473Z"
   },
   {
    "duration": 209,
    "start_time": "2022-04-21T17:10:32.494Z"
   },
   {
    "duration": 235,
    "start_time": "2022-04-21T17:10:32.705Z"
   },
   {
    "duration": 11,
    "start_time": "2022-04-21T17:10:32.942Z"
   },
   {
    "duration": 41,
    "start_time": "2022-04-21T17:10:32.957Z"
   },
   {
    "duration": 7,
    "start_time": "2022-04-21T17:10:33.000Z"
   },
   {
    "duration": 3601,
    "start_time": "2022-04-21T17:10:33.009Z"
   },
   {
    "duration": 0,
    "start_time": "2022-04-21T17:10:36.613Z"
   },
   {
    "duration": 0,
    "start_time": "2022-04-21T17:10:36.614Z"
   },
   {
    "duration": 0,
    "start_time": "2022-04-21T17:10:36.616Z"
   },
   {
    "duration": 0,
    "start_time": "2022-04-21T17:10:36.617Z"
   },
   {
    "duration": 0,
    "start_time": "2022-04-21T17:10:36.619Z"
   },
   {
    "duration": 0,
    "start_time": "2022-04-21T17:10:36.620Z"
   },
   {
    "duration": 19,
    "start_time": "2022-04-21T17:11:01.813Z"
   },
   {
    "duration": 14,
    "start_time": "2022-04-21T17:11:04.405Z"
   },
   {
    "duration": 1544,
    "start_time": "2022-04-21T17:11:22.851Z"
   },
   {
    "duration": 747,
    "start_time": "2022-04-21T17:11:24.398Z"
   },
   {
    "duration": 3,
    "start_time": "2022-04-21T17:11:25.148Z"
   },
   {
    "duration": 22,
    "start_time": "2022-04-21T17:11:25.155Z"
   },
   {
    "duration": 87,
    "start_time": "2022-04-21T17:11:25.180Z"
   },
   {
    "duration": 7,
    "start_time": "2022-04-21T17:11:25.270Z"
   },
   {
    "duration": 226,
    "start_time": "2022-04-21T17:11:25.294Z"
   },
   {
    "duration": 231,
    "start_time": "2022-04-21T17:11:25.523Z"
   },
   {
    "duration": 13,
    "start_time": "2022-04-21T17:11:25.757Z"
   },
   {
    "duration": 18,
    "start_time": "2022-04-21T17:11:25.792Z"
   },
   {
    "duration": 13,
    "start_time": "2022-04-21T17:11:25.812Z"
   },
   {
    "duration": 20,
    "start_time": "2022-04-21T17:11:25.827Z"
   },
   {
    "duration": 55,
    "start_time": "2022-04-21T17:11:25.849Z"
   },
   {
    "duration": 11,
    "start_time": "2022-04-21T17:11:25.906Z"
   },
   {
    "duration": 14,
    "start_time": "2022-04-21T17:11:25.920Z"
   },
   {
    "duration": 9,
    "start_time": "2022-04-21T17:11:25.936Z"
   },
   {
    "duration": 199,
    "start_time": "2022-04-21T17:11:25.947Z"
   },
   {
    "duration": 1816,
    "start_time": "2022-04-22T09:28:18.009Z"
   },
   {
    "duration": 811,
    "start_time": "2022-04-22T09:28:19.827Z"
   },
   {
    "duration": 4,
    "start_time": "2022-04-22T09:28:20.641Z"
   },
   {
    "duration": 28,
    "start_time": "2022-04-22T09:28:20.647Z"
   },
   {
    "duration": 84,
    "start_time": "2022-04-22T09:28:20.678Z"
   },
   {
    "duration": 22,
    "start_time": "2022-04-22T09:28:20.765Z"
   },
   {
    "duration": 206,
    "start_time": "2022-04-22T09:28:20.789Z"
   },
   {
    "duration": 291,
    "start_time": "2022-04-22T09:28:20.997Z"
   },
   {
    "duration": 11,
    "start_time": "2022-04-22T09:28:21.290Z"
   },
   {
    "duration": 20,
    "start_time": "2022-04-22T09:28:21.305Z"
   },
   {
    "duration": 176,
    "start_time": "2022-04-22T09:28:21.327Z"
   },
   {
    "duration": 0,
    "start_time": "2022-04-22T09:28:21.505Z"
   },
   {
    "duration": 0,
    "start_time": "2022-04-22T09:28:21.507Z"
   },
   {
    "duration": 0,
    "start_time": "2022-04-22T09:28:21.509Z"
   },
   {
    "duration": 0,
    "start_time": "2022-04-22T09:28:21.511Z"
   },
   {
    "duration": 0,
    "start_time": "2022-04-22T09:28:21.512Z"
   },
   {
    "duration": 0,
    "start_time": "2022-04-22T09:28:21.515Z"
   },
   {
    "duration": 6,
    "start_time": "2022-04-22T09:28:40.821Z"
   },
   {
    "duration": 18,
    "start_time": "2022-04-22T09:29:01.837Z"
   },
   {
    "duration": 15,
    "start_time": "2022-04-22T09:29:05.220Z"
   },
   {
    "duration": 11,
    "start_time": "2022-04-22T09:29:07.068Z"
   },
   {
    "duration": 4,
    "start_time": "2022-04-22T09:30:05.948Z"
   },
   {
    "duration": 6,
    "start_time": "2022-04-22T09:32:51.642Z"
   },
   {
    "duration": 33,
    "start_time": "2022-04-22T09:33:09.238Z"
   },
   {
    "duration": 829,
    "start_time": "2022-04-22T09:38:55.535Z"
   },
   {
    "duration": 91,
    "start_time": "2022-04-22T09:38:57.359Z"
   },
   {
    "duration": 1530,
    "start_time": "2022-04-22T09:46:09.795Z"
   },
   {
    "duration": 857,
    "start_time": "2022-04-22T09:46:13.611Z"
   },
   {
    "duration": 25,
    "start_time": "2022-04-22T09:46:16.889Z"
   },
   {
    "duration": 82,
    "start_time": "2022-04-22T09:46:18.395Z"
   },
   {
    "duration": 467,
    "start_time": "2022-04-22T09:46:20.811Z"
   },
   {
    "duration": 13,
    "start_time": "2022-04-22T09:46:22.296Z"
   },
   {
    "duration": 16,
    "start_time": "2022-04-22T09:47:00.539Z"
   },
   {
    "duration": 20,
    "start_time": "2022-04-22T09:49:01.500Z"
   },
   {
    "duration": 11,
    "start_time": "2022-04-22T09:49:02.435Z"
   },
   {
    "duration": 16,
    "start_time": "2022-04-22T09:49:04.369Z"
   },
   {
    "duration": 8,
    "start_time": "2022-04-22T09:49:08.905Z"
   },
   {
    "duration": 239,
    "start_time": "2022-04-22T09:50:35.616Z"
   },
   {
    "duration": 25,
    "start_time": "2022-04-22T09:50:40.868Z"
   },
   {
    "duration": 6,
    "start_time": "2022-04-22T09:52:18.411Z"
   },
   {
    "duration": 12,
    "start_time": "2022-04-22T09:52:32.029Z"
   },
   {
    "duration": 306,
    "start_time": "2022-04-22T09:59:45.238Z"
   },
   {
    "duration": 40,
    "start_time": "2022-04-22T10:00:39.477Z"
   },
   {
    "duration": 34,
    "start_time": "2022-04-22T10:00:49.470Z"
   },
   {
    "duration": 1575,
    "start_time": "2022-04-22T10:04:01.863Z"
   },
   {
    "duration": 839,
    "start_time": "2022-04-22T10:04:03.441Z"
   },
   {
    "duration": 23,
    "start_time": "2022-04-22T10:04:04.283Z"
   },
   {
    "duration": 644,
    "start_time": "2022-04-22T10:04:04.309Z"
   },
   {
    "duration": 24,
    "start_time": "2022-04-22T10:04:04.957Z"
   },
   {
    "duration": 39,
    "start_time": "2022-04-22T10:04:04.987Z"
   },
   {
    "duration": 10,
    "start_time": "2022-04-22T10:04:05.028Z"
   },
   {
    "duration": 50,
    "start_time": "2022-04-22T10:04:05.041Z"
   },
   {
    "duration": 213,
    "start_time": "2022-04-22T10:04:05.094Z"
   },
   {
    "duration": 32,
    "start_time": "2022-04-22T10:04:05.309Z"
   },
   {
    "duration": 12,
    "start_time": "2022-04-22T10:04:05.343Z"
   },
   {
    "duration": 13,
    "start_time": "2022-04-22T10:17:17.824Z"
   },
   {
    "duration": 150,
    "start_time": "2022-04-22T10:18:54.074Z"
   },
   {
    "duration": 10,
    "start_time": "2022-04-22T10:20:08.870Z"
   },
   {
    "duration": 864,
    "start_time": "2022-04-22T10:20:15.885Z"
   },
   {
    "duration": 911,
    "start_time": "2022-04-22T10:29:10.472Z"
   },
   {
    "duration": 10,
    "start_time": "2022-04-22T10:29:18.790Z"
   },
   {
    "duration": 816,
    "start_time": "2022-04-22T10:29:21.124Z"
   },
   {
    "duration": 1669,
    "start_time": "2022-04-22T10:31:24.570Z"
   },
   {
    "duration": 825,
    "start_time": "2022-04-22T10:31:26.241Z"
   },
   {
    "duration": 22,
    "start_time": "2022-04-22T10:31:27.068Z"
   },
   {
    "duration": 484,
    "start_time": "2022-04-22T10:31:27.093Z"
   },
   {
    "duration": 15,
    "start_time": "2022-04-22T10:31:27.582Z"
   },
   {
    "duration": 38,
    "start_time": "2022-04-22T10:31:27.600Z"
   },
   {
    "duration": 10,
    "start_time": "2022-04-22T10:31:27.641Z"
   },
   {
    "duration": 26,
    "start_time": "2022-04-22T10:31:27.681Z"
   },
   {
    "duration": 8,
    "start_time": "2022-04-22T10:31:27.709Z"
   },
   {
    "duration": 8,
    "start_time": "2022-04-22T10:31:27.721Z"
   },
   {
    "duration": 12,
    "start_time": "2022-04-22T10:31:27.732Z"
   },
   {
    "duration": 13,
    "start_time": "2022-04-22T10:31:27.788Z"
   },
   {
    "duration": 1473,
    "start_time": "2022-04-22T10:31:27.803Z"
   },
   {
    "duration": 17,
    "start_time": "2022-04-22T10:33:05.375Z"
   },
   {
    "duration": 1515,
    "start_time": "2022-04-22T10:33:25.214Z"
   },
   {
    "duration": 807,
    "start_time": "2022-04-22T10:33:26.732Z"
   },
   {
    "duration": 20,
    "start_time": "2022-04-22T10:33:27.541Z"
   },
   {
    "duration": 507,
    "start_time": "2022-04-22T10:33:27.565Z"
   },
   {
    "duration": 20,
    "start_time": "2022-04-22T10:33:28.075Z"
   },
   {
    "duration": 37,
    "start_time": "2022-04-22T10:33:28.098Z"
   },
   {
    "duration": 11,
    "start_time": "2022-04-22T10:33:28.138Z"
   },
   {
    "duration": 24,
    "start_time": "2022-04-22T10:33:28.182Z"
   },
   {
    "duration": 258,
    "start_time": "2022-04-22T10:33:28.209Z"
   },
   {
    "duration": 169,
    "start_time": "2022-04-22T10:33:28.471Z"
   },
   {
    "duration": 0,
    "start_time": "2022-04-22T10:33:28.643Z"
   },
   {
    "duration": 0,
    "start_time": "2022-04-22T10:33:28.645Z"
   },
   {
    "duration": 0,
    "start_time": "2022-04-22T10:33:28.647Z"
   },
   {
    "duration": 37,
    "start_time": "2022-04-22T10:33:46.011Z"
   },
   {
    "duration": 1550,
    "start_time": "2022-04-22T10:34:33.032Z"
   },
   {
    "duration": 821,
    "start_time": "2022-04-22T10:34:34.586Z"
   },
   {
    "duration": 18,
    "start_time": "2022-04-22T10:34:35.410Z"
   },
   {
    "duration": 487,
    "start_time": "2022-04-22T10:34:35.431Z"
   },
   {
    "duration": 10,
    "start_time": "2022-04-22T10:34:35.921Z"
   },
   {
    "duration": 57,
    "start_time": "2022-04-22T10:34:35.934Z"
   },
   {
    "duration": 14,
    "start_time": "2022-04-22T10:34:35.994Z"
   },
   {
    "duration": 23,
    "start_time": "2022-04-22T10:34:36.010Z"
   },
   {
    "duration": 739,
    "start_time": "2022-04-22T10:34:36.035Z"
   },
   {
    "duration": 60,
    "start_time": "2022-04-22T10:34:36.783Z"
   },
   {
    "duration": 18,
    "start_time": "2022-04-22T10:34:36.846Z"
   },
   {
    "duration": 15,
    "start_time": "2022-04-22T10:34:36.882Z"
   },
   {
    "duration": 777,
    "start_time": "2022-04-22T10:34:36.901Z"
   },
   {
    "duration": 1627,
    "start_time": "2022-04-22T10:35:29.815Z"
   },
   {
    "duration": 832,
    "start_time": "2022-04-22T10:35:31.445Z"
   },
   {
    "duration": 24,
    "start_time": "2022-04-22T10:35:32.279Z"
   },
   {
    "duration": 500,
    "start_time": "2022-04-22T10:35:32.307Z"
   },
   {
    "duration": 13,
    "start_time": "2022-04-22T10:35:32.809Z"
   },
   {
    "duration": 36,
    "start_time": "2022-04-22T10:35:32.824Z"
   },
   {
    "duration": 31,
    "start_time": "2022-04-22T10:35:32.862Z"
   },
   {
    "duration": 22,
    "start_time": "2022-04-22T10:35:32.895Z"
   },
   {
    "duration": 242,
    "start_time": "2022-04-22T10:35:32.919Z"
   },
   {
    "duration": 31,
    "start_time": "2022-04-22T10:35:33.164Z"
   },
   {
    "duration": 16,
    "start_time": "2022-04-22T10:35:33.198Z"
   },
   {
    "duration": 11,
    "start_time": "2022-04-22T10:35:33.216Z"
   },
   {
    "duration": 920,
    "start_time": "2022-04-22T10:35:33.230Z"
   },
   {
    "duration": 11,
    "start_time": "2022-04-22T10:36:02.248Z"
   },
   {
    "duration": 744,
    "start_time": "2022-04-22T10:36:04.653Z"
   },
   {
    "duration": 13,
    "start_time": "2022-04-22T10:37:09.395Z"
   },
   {
    "duration": 11,
    "start_time": "2022-04-22T10:37:10.634Z"
   },
   {
    "duration": 713,
    "start_time": "2022-04-22T10:37:12.906Z"
   },
   {
    "duration": 11,
    "start_time": "2022-04-22T10:37:35.158Z"
   },
   {
    "duration": 710,
    "start_time": "2022-04-22T10:37:37.424Z"
   },
   {
    "duration": 14,
    "start_time": "2022-04-22T10:37:56.501Z"
   },
   {
    "duration": 783,
    "start_time": "2022-04-22T10:37:57.918Z"
   },
   {
    "duration": 806,
    "start_time": "2022-04-22T10:40:07.453Z"
   },
   {
    "duration": 122,
    "start_time": "2022-04-22T10:41:51.198Z"
   },
   {
    "duration": 100,
    "start_time": "2022-04-22T10:48:49.121Z"
   },
   {
    "duration": 795,
    "start_time": "2022-04-22T10:53:09.375Z"
   },
   {
    "duration": 8,
    "start_time": "2022-04-22T10:54:02.691Z"
   },
   {
    "duration": 7,
    "start_time": "2022-04-22T10:54:11.408Z"
   },
   {
    "duration": 8,
    "start_time": "2022-04-22T10:54:23.522Z"
   },
   {
    "duration": 6,
    "start_time": "2022-04-22T10:55:13.822Z"
   },
   {
    "duration": 7,
    "start_time": "2022-04-22T10:55:37.417Z"
   },
   {
    "duration": 800,
    "start_time": "2022-04-22T10:57:30.137Z"
   },
   {
    "duration": 809,
    "start_time": "2022-04-22T10:57:45.521Z"
   },
   {
    "duration": 825,
    "start_time": "2022-04-22T10:58:02.074Z"
   },
   {
    "duration": 883,
    "start_time": "2022-04-22T10:58:15.941Z"
   },
   {
    "duration": 55,
    "start_time": "2022-04-22T11:02:17.600Z"
   },
   {
    "duration": 1786,
    "start_time": "2022-04-22T11:20:08.474Z"
   },
   {
    "duration": 977,
    "start_time": "2022-04-22T11:20:10.262Z"
   },
   {
    "duration": 19,
    "start_time": "2022-04-22T11:20:11.241Z"
   },
   {
    "duration": 569,
    "start_time": "2022-04-22T11:20:11.263Z"
   },
   {
    "duration": 18,
    "start_time": "2022-04-22T11:20:11.834Z"
   },
   {
    "duration": 71,
    "start_time": "2022-04-22T11:20:11.855Z"
   },
   {
    "duration": 19,
    "start_time": "2022-04-22T11:20:11.928Z"
   },
   {
    "duration": 61,
    "start_time": "2022-04-22T11:20:11.950Z"
   },
   {
    "duration": 272,
    "start_time": "2022-04-22T11:20:12.014Z"
   },
   {
    "duration": 32,
    "start_time": "2022-04-22T11:20:12.290Z"
   },
   {
    "duration": 29,
    "start_time": "2022-04-22T11:20:12.325Z"
   },
   {
    "duration": 35,
    "start_time": "2022-04-22T11:20:12.357Z"
   },
   {
    "duration": 1002,
    "start_time": "2022-04-22T11:20:12.397Z"
   },
   {
    "duration": 66,
    "start_time": "2022-04-22T11:20:13.402Z"
   },
   {
    "duration": 162,
    "start_time": "2022-04-22T11:30:53.607Z"
   },
   {
    "duration": 219,
    "start_time": "2022-04-22T11:31:28.606Z"
   },
   {
    "duration": 102,
    "start_time": "2022-04-22T11:31:34.574Z"
   },
   {
    "duration": 114,
    "start_time": "2022-04-22T11:32:58.629Z"
   },
   {
    "duration": 79,
    "start_time": "2022-04-22T11:35:33.017Z"
   },
   {
    "duration": 74,
    "start_time": "2022-04-22T11:35:37.934Z"
   },
   {
    "duration": 64,
    "start_time": "2022-04-22T11:35:46.835Z"
   },
   {
    "duration": 13,
    "start_time": "2022-04-22T11:35:55.509Z"
   },
   {
    "duration": 89,
    "start_time": "2022-04-22T11:36:11.360Z"
   },
   {
    "duration": 83,
    "start_time": "2022-04-22T11:36:49.821Z"
   },
   {
    "duration": 118,
    "start_time": "2022-04-22T11:37:32.375Z"
   },
   {
    "duration": 98,
    "start_time": "2022-04-22T11:38:14.043Z"
   },
   {
    "duration": 127,
    "start_time": "2022-04-22T11:39:04.577Z"
   },
   {
    "duration": 126,
    "start_time": "2022-04-22T11:43:03.068Z"
   },
   {
    "duration": 227,
    "start_time": "2022-04-22T11:43:07.604Z"
   },
   {
    "duration": 82,
    "start_time": "2022-04-22T11:43:15.363Z"
   },
   {
    "duration": 73,
    "start_time": "2022-04-22T11:43:44.670Z"
   },
   {
    "duration": 79,
    "start_time": "2022-04-22T11:43:49.447Z"
   },
   {
    "duration": 80,
    "start_time": "2022-04-22T11:55:12.539Z"
   },
   {
    "duration": 73,
    "start_time": "2022-04-22T13:10:34.444Z"
   },
   {
    "duration": 67,
    "start_time": "2022-04-22T13:14:25.711Z"
   },
   {
    "duration": 112,
    "start_time": "2022-04-22T13:15:04.727Z"
   },
   {
    "duration": 70,
    "start_time": "2022-04-22T13:15:08.399Z"
   },
   {
    "duration": 76,
    "start_time": "2022-04-22T13:15:33.726Z"
   },
   {
    "duration": 69,
    "start_time": "2022-04-22T13:18:27.563Z"
   },
   {
    "duration": 19,
    "start_time": "2022-04-22T13:18:34.988Z"
   },
   {
    "duration": 76,
    "start_time": "2022-04-22T13:19:18.955Z"
   },
   {
    "duration": 75,
    "start_time": "2022-04-22T13:21:14.366Z"
   },
   {
    "duration": 18,
    "start_time": "2022-04-22T13:21:20.996Z"
   },
   {
    "duration": 76,
    "start_time": "2022-04-22T13:25:02.930Z"
   },
   {
    "duration": 61,
    "start_time": "2022-04-22T13:25:07.510Z"
   },
   {
    "duration": 16,
    "start_time": "2022-04-22T13:25:53.462Z"
   },
   {
    "duration": 18,
    "start_time": "2022-04-22T13:26:39.462Z"
   },
   {
    "duration": 13,
    "start_time": "2022-04-22T13:27:51.949Z"
   },
   {
    "duration": 17,
    "start_time": "2022-04-22T13:28:16.387Z"
   },
   {
    "duration": 16,
    "start_time": "2022-04-22T13:29:12.558Z"
   },
   {
    "duration": 16,
    "start_time": "2022-04-22T13:29:59.818Z"
   },
   {
    "duration": 17,
    "start_time": "2022-04-22T13:30:06.699Z"
   },
   {
    "duration": 147,
    "start_time": "2022-04-22T13:30:31.366Z"
   },
   {
    "duration": 136,
    "start_time": "2022-04-22T13:30:40.022Z"
   },
   {
    "duration": 108,
    "start_time": "2022-04-22T13:30:47.552Z"
   },
   {
    "duration": 88,
    "start_time": "2022-04-22T13:30:54.270Z"
   },
   {
    "duration": 70,
    "start_time": "2022-04-22T13:30:58.734Z"
   },
   {
    "duration": 3,
    "start_time": "2022-04-22T13:41:29.333Z"
   },
   {
    "duration": 1547,
    "start_time": "2022-04-22T15:26:23.281Z"
   },
   {
    "duration": 825,
    "start_time": "2022-04-22T15:26:24.831Z"
   },
   {
    "duration": 20,
    "start_time": "2022-04-22T15:26:25.658Z"
   },
   {
    "duration": 484,
    "start_time": "2022-04-22T15:26:25.680Z"
   },
   {
    "duration": 16,
    "start_time": "2022-04-22T15:26:26.167Z"
   },
   {
    "duration": 35,
    "start_time": "2022-04-22T15:26:26.186Z"
   },
   {
    "duration": 11,
    "start_time": "2022-04-22T15:26:26.224Z"
   },
   {
    "duration": 57,
    "start_time": "2022-04-22T15:26:26.237Z"
   },
   {
    "duration": 225,
    "start_time": "2022-04-22T15:26:26.297Z"
   },
   {
    "duration": 19,
    "start_time": "2022-04-22T15:26:26.525Z"
   },
   {
    "duration": 37,
    "start_time": "2022-04-22T15:26:26.547Z"
   },
   {
    "duration": 12,
    "start_time": "2022-04-22T15:26:26.587Z"
   },
   {
    "duration": 880,
    "start_time": "2022-04-22T15:26:26.602Z"
   },
   {
    "duration": 74,
    "start_time": "2022-04-22T15:26:27.485Z"
   },
   {
    "duration": 81,
    "start_time": "2022-04-22T15:26:27.561Z"
   },
   {
    "duration": 86,
    "start_time": "2022-04-22T15:26:27.644Z"
   },
   {
    "duration": 1766,
    "start_time": "2022-04-23T12:20:53.215Z"
   },
   {
    "duration": 835,
    "start_time": "2022-04-23T12:20:54.984Z"
   },
   {
    "duration": 20,
    "start_time": "2022-04-23T12:20:55.821Z"
   },
   {
    "duration": 529,
    "start_time": "2022-04-23T12:20:55.844Z"
   },
   {
    "duration": 11,
    "start_time": "2022-04-23T12:20:56.376Z"
   },
   {
    "duration": 52,
    "start_time": "2022-04-23T12:20:56.389Z"
   },
   {
    "duration": 11,
    "start_time": "2022-04-23T12:20:56.443Z"
   },
   {
    "duration": 19,
    "start_time": "2022-04-23T12:20:56.457Z"
   },
   {
    "duration": 231,
    "start_time": "2022-04-23T12:20:56.478Z"
   },
   {
    "duration": 27,
    "start_time": "2022-04-23T12:20:56.713Z"
   },
   {
    "duration": 12,
    "start_time": "2022-04-23T12:20:56.742Z"
   },
   {
    "duration": 7,
    "start_time": "2022-04-23T12:20:56.756Z"
   },
   {
    "duration": 11,
    "start_time": "2022-04-23T12:20:56.765Z"
   },
   {
    "duration": 842,
    "start_time": "2022-04-23T12:20:56.778Z"
   },
   {
    "duration": 78,
    "start_time": "2022-04-23T12:20:57.625Z"
   },
   {
    "duration": 83,
    "start_time": "2022-04-23T12:20:57.706Z"
   },
   {
    "duration": 87,
    "start_time": "2022-04-23T12:20:57.792Z"
   },
   {
    "duration": 4,
    "start_time": "2022-04-23T12:22:02.345Z"
   },
   {
    "duration": 880,
    "start_time": "2022-04-23T12:22:07.769Z"
   },
   {
    "duration": 11,
    "start_time": "2022-04-23T12:22:10.714Z"
   },
   {
    "duration": 873,
    "start_time": "2022-04-23T12:22:12.787Z"
   },
   {
    "duration": 4,
    "start_time": "2022-04-23T12:22:35.750Z"
   },
   {
    "duration": 16,
    "start_time": "2022-04-23T12:22:38.589Z"
   },
   {
    "duration": 806,
    "start_time": "2022-04-23T12:22:41.591Z"
   },
   {
    "duration": 82,
    "start_time": "2022-04-23T12:22:49.198Z"
   },
   {
    "duration": 4,
    "start_time": "2022-04-23T12:22:58.120Z"
   },
   {
    "duration": 11,
    "start_time": "2022-04-23T12:23:01.085Z"
   },
   {
    "duration": 795,
    "start_time": "2022-04-23T12:23:04.109Z"
   },
   {
    "duration": 76,
    "start_time": "2022-04-23T12:23:07.513Z"
   },
   {
    "duration": 1559,
    "start_time": "2022-04-23T12:26:11.021Z"
   },
   {
    "duration": 819,
    "start_time": "2022-04-23T12:26:12.584Z"
   },
   {
    "duration": 19,
    "start_time": "2022-04-23T12:26:13.409Z"
   },
   {
    "duration": 501,
    "start_time": "2022-04-23T12:26:13.430Z"
   },
   {
    "duration": 11,
    "start_time": "2022-04-23T12:26:13.933Z"
   },
   {
    "duration": 94,
    "start_time": "2022-04-23T12:26:13.946Z"
   },
   {
    "duration": 12,
    "start_time": "2022-04-23T12:26:14.042Z"
   },
   {
    "duration": 76,
    "start_time": "2022-04-23T12:26:14.056Z"
   },
   {
    "duration": 711,
    "start_time": "2022-04-23T12:26:14.138Z"
   },
   {
    "duration": 73,
    "start_time": "2022-04-23T12:26:14.851Z"
   },
   {
    "duration": 16,
    "start_time": "2022-04-23T12:26:14.928Z"
   },
   {
    "duration": 7,
    "start_time": "2022-04-23T12:26:14.947Z"
   },
   {
    "duration": 6,
    "start_time": "2022-04-23T12:26:14.957Z"
   },
   {
    "duration": 60,
    "start_time": "2022-04-23T12:26:14.966Z"
   },
   {
    "duration": 2006,
    "start_time": "2022-04-23T12:26:15.029Z"
   },
   {
    "duration": 135,
    "start_time": "2022-04-23T12:26:17.037Z"
   },
   {
    "duration": 122,
    "start_time": "2022-04-23T12:26:17.225Z"
   },
   {
    "duration": 126,
    "start_time": "2022-04-23T12:26:17.349Z"
   },
   {
    "duration": 4,
    "start_time": "2022-04-23T12:28:40.364Z"
   },
   {
    "duration": 11,
    "start_time": "2022-04-23T12:28:43.604Z"
   },
   {
    "duration": 746,
    "start_time": "2022-04-23T12:28:47.004Z"
   },
   {
    "duration": 73,
    "start_time": "2022-04-23T12:28:59.130Z"
   },
   {
    "duration": 4,
    "start_time": "2022-04-23T12:30:15.319Z"
   },
   {
    "duration": 10,
    "start_time": "2022-04-23T12:30:17.403Z"
   },
   {
    "duration": 798,
    "start_time": "2022-04-23T12:30:20.177Z"
   },
   {
    "duration": 4,
    "start_time": "2022-04-23T12:30:30.470Z"
   },
   {
    "duration": 16,
    "start_time": "2022-04-23T12:30:32.991Z"
   },
   {
    "duration": 819,
    "start_time": "2022-04-23T12:30:36.107Z"
   },
   {
    "duration": 4,
    "start_time": "2022-04-23T12:30:48.618Z"
   },
   {
    "duration": 1509,
    "start_time": "2022-04-23T12:30:58.158Z"
   },
   {
    "duration": 827,
    "start_time": "2022-04-23T12:30:59.670Z"
   },
   {
    "duration": 18,
    "start_time": "2022-04-23T12:31:00.499Z"
   },
   {
    "duration": 508,
    "start_time": "2022-04-23T12:31:00.521Z"
   },
   {
    "duration": 12,
    "start_time": "2022-04-23T12:31:01.031Z"
   },
   {
    "duration": 38,
    "start_time": "2022-04-23T12:31:01.045Z"
   },
   {
    "duration": 38,
    "start_time": "2022-04-23T12:31:01.086Z"
   },
   {
    "duration": 20,
    "start_time": "2022-04-23T12:31:01.126Z"
   },
   {
    "duration": 227,
    "start_time": "2022-04-23T12:31:01.149Z"
   },
   {
    "duration": 21,
    "start_time": "2022-04-23T12:31:01.379Z"
   },
   {
    "duration": 11,
    "start_time": "2022-04-23T12:31:01.425Z"
   },
   {
    "duration": 9,
    "start_time": "2022-04-23T12:31:01.438Z"
   },
   {
    "duration": 11,
    "start_time": "2022-04-23T12:31:01.449Z"
   },
   {
    "duration": 888,
    "start_time": "2022-04-23T12:31:01.462Z"
   },
   {
    "duration": 95,
    "start_time": "2022-04-23T12:31:02.352Z"
   },
   {
    "duration": 81,
    "start_time": "2022-04-23T12:31:02.449Z"
   },
   {
    "duration": 73,
    "start_time": "2022-04-23T12:31:02.533Z"
   },
   {
    "duration": 4,
    "start_time": "2022-04-23T12:31:50.469Z"
   },
   {
    "duration": 11,
    "start_time": "2022-04-23T12:31:52.389Z"
   },
   {
    "duration": 805,
    "start_time": "2022-04-23T12:31:54.389Z"
   },
   {
    "duration": 79,
    "start_time": "2022-04-23T12:32:01.921Z"
   },
   {
    "duration": 71,
    "start_time": "2022-04-23T12:32:23.728Z"
   },
   {
    "duration": 4,
    "start_time": "2022-04-23T12:34:14.763Z"
   },
   {
    "duration": 10,
    "start_time": "2022-04-23T12:34:20.928Z"
   },
   {
    "duration": 803,
    "start_time": "2022-04-23T12:34:24.215Z"
   },
   {
    "duration": 79,
    "start_time": "2022-04-23T12:34:27.111Z"
   },
   {
    "duration": 67,
    "start_time": "2022-04-23T12:34:39.771Z"
   },
   {
    "duration": 68,
    "start_time": "2022-04-23T12:34:44.240Z"
   },
   {
    "duration": 4,
    "start_time": "2022-04-23T12:35:40.994Z"
   },
   {
    "duration": 1526,
    "start_time": "2022-04-23T12:35:49.046Z"
   },
   {
    "duration": 859,
    "start_time": "2022-04-23T12:35:50.574Z"
   },
   {
    "duration": 20,
    "start_time": "2022-04-23T12:35:51.435Z"
   },
   {
    "duration": 529,
    "start_time": "2022-04-23T12:35:51.458Z"
   },
   {
    "duration": 12,
    "start_time": "2022-04-23T12:35:51.989Z"
   },
   {
    "duration": 53,
    "start_time": "2022-04-23T12:35:52.003Z"
   },
   {
    "duration": 13,
    "start_time": "2022-04-23T12:35:52.058Z"
   },
   {
    "duration": 56,
    "start_time": "2022-04-23T12:35:52.074Z"
   },
   {
    "duration": 219,
    "start_time": "2022-04-23T12:35:52.133Z"
   },
   {
    "duration": 20,
    "start_time": "2022-04-23T12:35:52.355Z"
   },
   {
    "duration": 11,
    "start_time": "2022-04-23T12:35:52.377Z"
   },
   {
    "duration": 8,
    "start_time": "2022-04-23T12:35:52.390Z"
   },
   {
    "duration": 10,
    "start_time": "2022-04-23T12:35:52.425Z"
   },
   {
    "duration": 864,
    "start_time": "2022-04-23T12:35:52.437Z"
   },
   {
    "duration": 89,
    "start_time": "2022-04-23T12:35:53.303Z"
   },
   {
    "duration": 83,
    "start_time": "2022-04-23T12:35:53.395Z"
   },
   {
    "duration": 94,
    "start_time": "2022-04-23T12:35:53.480Z"
   },
   {
    "duration": 4,
    "start_time": "2022-04-23T12:38:26.457Z"
   },
   {
    "duration": 12,
    "start_time": "2022-04-23T12:38:28.937Z"
   },
   {
    "duration": 885,
    "start_time": "2022-04-23T12:38:31.084Z"
   },
   {
    "duration": 76,
    "start_time": "2022-04-23T12:38:38.769Z"
   },
   {
    "duration": 1589,
    "start_time": "2022-04-23T12:39:01.428Z"
   },
   {
    "duration": 840,
    "start_time": "2022-04-23T12:39:03.020Z"
   },
   {
    "duration": 20,
    "start_time": "2022-04-23T12:39:03.862Z"
   },
   {
    "duration": 518,
    "start_time": "2022-04-23T12:39:03.885Z"
   },
   {
    "duration": 20,
    "start_time": "2022-04-23T12:39:04.405Z"
   },
   {
    "duration": 35,
    "start_time": "2022-04-23T12:39:04.428Z"
   },
   {
    "duration": 12,
    "start_time": "2022-04-23T12:39:04.465Z"
   },
   {
    "duration": 55,
    "start_time": "2022-04-23T12:39:04.479Z"
   },
   {
    "duration": 211,
    "start_time": "2022-04-23T12:39:04.536Z"
   },
   {
    "duration": 20,
    "start_time": "2022-04-23T12:39:04.751Z"
   },
   {
    "duration": 38,
    "start_time": "2022-04-23T12:39:04.774Z"
   },
   {
    "duration": 10,
    "start_time": "2022-04-23T12:39:04.814Z"
   },
   {
    "duration": 17,
    "start_time": "2022-04-23T12:39:04.826Z"
   },
   {
    "duration": 906,
    "start_time": "2022-04-23T12:39:04.845Z"
   },
   {
    "duration": 93,
    "start_time": "2022-04-23T12:39:05.753Z"
   },
   {
    "duration": 88,
    "start_time": "2022-04-23T12:39:05.848Z"
   },
   {
    "duration": 70,
    "start_time": "2022-04-23T12:39:05.939Z"
   },
   {
    "duration": 212,
    "start_time": "2022-04-23T12:48:30.932Z"
   },
   {
    "duration": 150,
    "start_time": "2022-04-23T12:48:53.043Z"
   },
   {
    "duration": 84,
    "start_time": "2022-04-23T12:49:14.254Z"
   },
   {
    "duration": 790,
    "start_time": "2022-04-23T12:49:34.146Z"
   },
   {
    "duration": 797,
    "start_time": "2022-04-23T12:49:42.028Z"
   },
   {
    "duration": 106,
    "start_time": "2022-04-23T12:49:49.969Z"
   },
   {
    "duration": 1532,
    "start_time": "2022-04-23T12:51:11.654Z"
   },
   {
    "duration": 877,
    "start_time": "2022-04-23T12:51:13.189Z"
   },
   {
    "duration": 19,
    "start_time": "2022-04-23T12:51:14.069Z"
   },
   {
    "duration": 496,
    "start_time": "2022-04-23T12:51:14.091Z"
   },
   {
    "duration": 12,
    "start_time": "2022-04-23T12:51:14.591Z"
   },
   {
    "duration": 56,
    "start_time": "2022-04-23T12:51:14.606Z"
   },
   {
    "duration": 14,
    "start_time": "2022-04-23T12:51:14.665Z"
   },
   {
    "duration": 57,
    "start_time": "2022-04-23T12:51:14.682Z"
   },
   {
    "duration": 216,
    "start_time": "2022-04-23T12:51:14.741Z"
   },
   {
    "duration": 19,
    "start_time": "2022-04-23T12:51:14.961Z"
   },
   {
    "duration": 27,
    "start_time": "2022-04-23T12:51:14.982Z"
   },
   {
    "duration": 47,
    "start_time": "2022-04-23T12:51:15.011Z"
   },
   {
    "duration": 33,
    "start_time": "2022-04-23T12:51:15.061Z"
   },
   {
    "duration": 879,
    "start_time": "2022-04-23T12:51:15.096Z"
   },
   {
    "duration": 90,
    "start_time": "2022-04-23T12:51:15.977Z"
   },
   {
    "duration": 84,
    "start_time": "2022-04-23T12:51:16.070Z"
   },
   {
    "duration": 90,
    "start_time": "2022-04-23T12:51:16.156Z"
   },
   {
    "duration": 13,
    "start_time": "2022-04-23T12:59:09.941Z"
   },
   {
    "duration": 77,
    "start_time": "2022-04-23T12:59:51.638Z"
   },
   {
    "duration": 175,
    "start_time": "2022-04-23T13:02:23.871Z"
   },
   {
    "duration": 4,
    "start_time": "2022-04-23T13:02:57.494Z"
   },
   {
    "duration": 1645,
    "start_time": "2022-04-23T13:03:06.105Z"
   },
   {
    "duration": 915,
    "start_time": "2022-04-23T13:03:07.753Z"
   },
   {
    "duration": 21,
    "start_time": "2022-04-23T13:03:08.671Z"
   },
   {
    "duration": 522,
    "start_time": "2022-04-23T13:03:08.695Z"
   },
   {
    "duration": 11,
    "start_time": "2022-04-23T13:03:09.224Z"
   },
   {
    "duration": 39,
    "start_time": "2022-04-23T13:03:09.238Z"
   },
   {
    "duration": 12,
    "start_time": "2022-04-23T13:03:09.279Z"
   },
   {
    "duration": 21,
    "start_time": "2022-04-23T13:03:09.338Z"
   },
   {
    "duration": 235,
    "start_time": "2022-04-23T13:03:09.361Z"
   },
   {
    "duration": 36,
    "start_time": "2022-04-23T13:03:09.599Z"
   },
   {
    "duration": 12,
    "start_time": "2022-04-23T13:03:09.638Z"
   },
   {
    "duration": 7,
    "start_time": "2022-04-23T13:03:09.652Z"
   },
   {
    "duration": 12,
    "start_time": "2022-04-23T13:03:09.661Z"
   },
   {
    "duration": 1168,
    "start_time": "2022-04-23T13:03:09.676Z"
   },
   {
    "duration": 156,
    "start_time": "2022-04-23T13:03:10.847Z"
   },
   {
    "duration": 145,
    "start_time": "2022-04-23T13:03:11.005Z"
   },
   {
    "duration": 15,
    "start_time": "2022-04-23T13:03:11.153Z"
   },
   {
    "duration": 113,
    "start_time": "2022-04-23T13:03:11.171Z"
   },
   {
    "duration": 5,
    "start_time": "2022-04-23T13:04:30.038Z"
   },
   {
    "duration": 10,
    "start_time": "2022-04-23T13:04:32.653Z"
   },
   {
    "duration": 903,
    "start_time": "2022-04-23T13:04:34.821Z"
   },
   {
    "duration": 4,
    "start_time": "2022-04-23T13:04:54.038Z"
   },
   {
    "duration": 10,
    "start_time": "2022-04-23T13:04:55.581Z"
   },
   {
    "duration": 940,
    "start_time": "2022-04-23T13:04:57.498Z"
   },
   {
    "duration": 128,
    "start_time": "2022-04-23T13:07:12.720Z"
   },
   {
    "duration": 131,
    "start_time": "2022-04-23T13:07:24.914Z"
   },
   {
    "duration": 15,
    "start_time": "2022-04-23T13:07:29.902Z"
   },
   {
    "duration": 11,
    "start_time": "2022-04-23T13:07:57.155Z"
   },
   {
    "duration": 13,
    "start_time": "2022-04-23T13:08:01.942Z"
   },
   {
    "duration": 4,
    "start_time": "2022-04-23T13:08:12.366Z"
   },
   {
    "duration": 5,
    "start_time": "2022-04-23T13:11:27.524Z"
   },
   {
    "duration": 11,
    "start_time": "2022-04-23T13:11:29.553Z"
   },
   {
    "duration": 1105,
    "start_time": "2022-04-23T13:11:35.663Z"
   },
   {
    "duration": 4,
    "start_time": "2022-04-23T13:11:51.764Z"
   },
   {
    "duration": 4,
    "start_time": "2022-04-23T13:11:52.844Z"
   },
   {
    "duration": 15,
    "start_time": "2022-04-23T13:11:54.235Z"
   },
   {
    "duration": 881,
    "start_time": "2022-04-23T13:11:56.020Z"
   },
   {
    "duration": 103,
    "start_time": "2022-04-23T13:12:20.412Z"
   },
   {
    "duration": 3,
    "start_time": "2022-04-23T13:12:43.352Z"
   },
   {
    "duration": 11,
    "start_time": "2022-04-23T13:12:47.742Z"
   },
   {
    "duration": 827,
    "start_time": "2022-04-23T13:12:49.448Z"
   },
   {
    "duration": 90,
    "start_time": "2022-04-23T13:12:52.273Z"
   },
   {
    "duration": 71,
    "start_time": "2022-04-23T13:12:54.037Z"
   },
   {
    "duration": 6,
    "start_time": "2022-04-23T13:12:57.566Z"
   },
   {
    "duration": 87,
    "start_time": "2022-04-23T13:12:59.183Z"
   },
   {
    "duration": 79,
    "start_time": "2022-04-23T13:13:07.155Z"
   },
   {
    "duration": 81,
    "start_time": "2022-04-23T13:13:25.220Z"
   },
   {
    "duration": 1622,
    "start_time": "2022-04-23T13:13:33.899Z"
   },
   {
    "duration": 905,
    "start_time": "2022-04-23T13:13:35.524Z"
   },
   {
    "duration": 22,
    "start_time": "2022-04-23T13:13:36.432Z"
   },
   {
    "duration": 533,
    "start_time": "2022-04-23T13:13:36.456Z"
   },
   {
    "duration": 11,
    "start_time": "2022-04-23T13:13:36.993Z"
   },
   {
    "duration": 55,
    "start_time": "2022-04-23T13:13:37.007Z"
   },
   {
    "duration": 13,
    "start_time": "2022-04-23T13:13:37.064Z"
   },
   {
    "duration": 54,
    "start_time": "2022-04-23T13:13:37.079Z"
   },
   {
    "duration": 231,
    "start_time": "2022-04-23T13:13:37.136Z"
   },
   {
    "duration": 20,
    "start_time": "2022-04-23T13:13:37.370Z"
   },
   {
    "duration": 40,
    "start_time": "2022-04-23T13:13:37.393Z"
   },
   {
    "duration": 7,
    "start_time": "2022-04-23T13:13:37.436Z"
   },
   {
    "duration": 11,
    "start_time": "2022-04-23T13:13:37.446Z"
   },
   {
    "duration": 883,
    "start_time": "2022-04-23T13:13:37.460Z"
   },
   {
    "duration": 91,
    "start_time": "2022-04-23T13:13:38.345Z"
   },
   {
    "duration": 66,
    "start_time": "2022-04-23T13:13:38.439Z"
   },
   {
    "duration": 86,
    "start_time": "2022-04-23T13:13:38.508Z"
   },
   {
    "duration": 2082,
    "start_time": "2022-04-24T08:37:03.400Z"
   },
   {
    "duration": 954,
    "start_time": "2022-04-24T08:37:05.486Z"
   },
   {
    "duration": 19,
    "start_time": "2022-04-24T08:37:06.443Z"
   },
   {
    "duration": 728,
    "start_time": "2022-04-24T08:37:06.467Z"
   },
   {
    "duration": 25,
    "start_time": "2022-04-24T08:37:07.198Z"
   },
   {
    "duration": 55,
    "start_time": "2022-04-24T08:37:07.226Z"
   },
   {
    "duration": 12,
    "start_time": "2022-04-24T08:37:07.284Z"
   },
   {
    "duration": 28,
    "start_time": "2022-04-24T08:37:07.325Z"
   },
   {
    "duration": 226,
    "start_time": "2022-04-24T08:37:07.355Z"
   },
   {
    "duration": 22,
    "start_time": "2022-04-24T08:37:07.586Z"
   },
   {
    "duration": 14,
    "start_time": "2022-04-24T08:37:07.626Z"
   },
   {
    "duration": 7,
    "start_time": "2022-04-24T08:37:07.643Z"
   },
   {
    "duration": 11,
    "start_time": "2022-04-24T08:37:07.653Z"
   },
   {
    "duration": 980,
    "start_time": "2022-04-24T08:37:07.667Z"
   },
   {
    "duration": 109,
    "start_time": "2022-04-24T08:37:08.649Z"
   },
   {
    "duration": 99,
    "start_time": "2022-04-24T08:37:08.761Z"
   },
   {
    "duration": 95,
    "start_time": "2022-04-24T08:37:08.862Z"
   },
   {
    "duration": 1970,
    "start_time": "2022-04-24T10:26:33.342Z"
   },
   {
    "duration": 875,
    "start_time": "2022-04-24T10:26:35.315Z"
   },
   {
    "duration": 23,
    "start_time": "2022-04-24T10:26:36.192Z"
   },
   {
    "duration": 515,
    "start_time": "2022-04-24T10:26:36.217Z"
   },
   {
    "duration": 13,
    "start_time": "2022-04-24T10:26:36.736Z"
   },
   {
    "duration": 39,
    "start_time": "2022-04-24T10:26:36.752Z"
   },
   {
    "duration": 40,
    "start_time": "2022-04-24T10:26:36.793Z"
   },
   {
    "duration": 30,
    "start_time": "2022-04-24T10:26:36.837Z"
   },
   {
    "duration": 344,
    "start_time": "2022-04-24T10:26:36.870Z"
   },
   {
    "duration": 33,
    "start_time": "2022-04-24T10:26:37.216Z"
   },
   {
    "duration": 17,
    "start_time": "2022-04-24T10:26:37.253Z"
   },
   {
    "duration": 17,
    "start_time": "2022-04-24T10:26:37.273Z"
   },
   {
    "duration": 38,
    "start_time": "2022-04-24T10:26:37.293Z"
   },
   {
    "duration": 863,
    "start_time": "2022-04-24T10:26:37.338Z"
   },
   {
    "duration": 89,
    "start_time": "2022-04-24T10:26:38.203Z"
   },
   {
    "duration": 80,
    "start_time": "2022-04-24T10:26:38.294Z"
   },
   {
    "duration": 98,
    "start_time": "2022-04-24T10:26:38.377Z"
   },
   {
    "duration": 3,
    "start_time": "2022-04-24T10:28:41.617Z"
   },
   {
    "duration": 13,
    "start_time": "2022-04-24T10:28:44.333Z"
   },
   {
    "duration": 880,
    "start_time": "2022-04-24T10:28:46.937Z"
   },
   {
    "duration": 5,
    "start_time": "2022-04-24T10:31:30.879Z"
   },
   {
    "duration": 111,
    "start_time": "2022-04-24T10:31:33.248Z"
   },
   {
    "duration": 80,
    "start_time": "2022-04-24T10:31:35.384Z"
   },
   {
    "duration": 82,
    "start_time": "2022-04-24T10:31:37.636Z"
   },
   {
    "duration": 4,
    "start_time": "2022-04-24T10:42:13.811Z"
   },
   {
    "duration": 6,
    "start_time": "2022-04-24T10:42:27.817Z"
   },
   {
    "duration": 2160,
    "start_time": "2022-04-24T10:43:10.826Z"
   },
   {
    "duration": 1351,
    "start_time": "2022-04-24T10:43:12.990Z"
   },
   {
    "duration": 28,
    "start_time": "2022-04-24T10:43:14.345Z"
   },
   {
    "duration": 593,
    "start_time": "2022-04-24T10:43:14.378Z"
   },
   {
    "duration": 15,
    "start_time": "2022-04-24T10:43:14.973Z"
   },
   {
    "duration": 66,
    "start_time": "2022-04-24T10:43:14.991Z"
   },
   {
    "duration": 12,
    "start_time": "2022-04-24T10:43:15.060Z"
   },
   {
    "duration": 53,
    "start_time": "2022-04-24T10:43:15.075Z"
   },
   {
    "duration": 294,
    "start_time": "2022-04-24T10:43:15.130Z"
   },
   {
    "duration": 20,
    "start_time": "2022-04-24T10:43:15.428Z"
   },
   {
    "duration": 33,
    "start_time": "2022-04-24T10:43:15.450Z"
   },
   {
    "duration": 13,
    "start_time": "2022-04-24T10:43:15.487Z"
   },
   {
    "duration": 1360,
    "start_time": "2022-04-24T10:43:15.524Z"
   },
   {
    "duration": 4,
    "start_time": "2022-04-24T10:43:16.886Z"
   },
   {
    "duration": 103,
    "start_time": "2022-04-24T10:43:16.894Z"
   },
   {
    "duration": 105,
    "start_time": "2022-04-24T10:43:17.000Z"
   },
   {
    "duration": 116,
    "start_time": "2022-04-24T10:43:17.109Z"
   },
   {
    "duration": 7,
    "start_time": "2022-04-24T10:43:17.227Z"
   },
   {
    "duration": 5,
    "start_time": "2022-04-24T10:43:27.645Z"
   },
   {
    "duration": 117,
    "start_time": "2022-04-24T10:45:26.265Z"
   },
   {
    "duration": 15,
    "start_time": "2022-04-24T10:45:34.528Z"
   },
   {
    "duration": 16,
    "start_time": "2022-04-24T10:45:58.626Z"
   },
   {
    "duration": 16,
    "start_time": "2022-04-24T10:46:20.336Z"
   },
   {
    "duration": 249,
    "start_time": "2022-04-24T10:46:55.362Z"
   },
   {
    "duration": 15,
    "start_time": "2022-04-24T10:47:04.628Z"
   },
   {
    "duration": 7,
    "start_time": "2022-04-24T10:47:38.716Z"
   },
   {
    "duration": 8,
    "start_time": "2022-04-24T10:48:23.080Z"
   },
   {
    "duration": 18,
    "start_time": "2022-04-24T10:49:24.551Z"
   },
   {
    "duration": 21,
    "start_time": "2022-04-24T10:49:36.231Z"
   },
   {
    "duration": 7,
    "start_time": "2022-04-24T10:51:02.613Z"
   },
   {
    "duration": 23,
    "start_time": "2022-04-24T10:51:10.910Z"
   },
   {
    "duration": 43,
    "start_time": "2022-04-24T10:52:10.825Z"
   },
   {
    "duration": 155,
    "start_time": "2022-04-24T10:54:41.731Z"
   },
   {
    "duration": 477,
    "start_time": "2022-04-24T10:54:46.858Z"
   },
   {
    "duration": 302,
    "start_time": "2022-04-24T10:55:23.630Z"
   },
   {
    "duration": 426,
    "start_time": "2022-04-24T10:55:47.233Z"
   },
   {
    "duration": 266,
    "start_time": "2022-04-24T10:56:13.290Z"
   },
   {
    "duration": 79,
    "start_time": "2022-04-24T10:57:40.256Z"
   },
   {
    "duration": 31,
    "start_time": "2022-04-24T10:57:54.953Z"
   },
   {
    "duration": 278,
    "start_time": "2022-04-24T10:58:34.548Z"
   },
   {
    "duration": 437,
    "start_time": "2022-04-24T10:59:38.744Z"
   },
   {
    "duration": 339,
    "start_time": "2022-04-24T11:00:06.044Z"
   },
   {
    "duration": 154,
    "start_time": "2022-04-24T11:04:52.285Z"
   },
   {
    "duration": 615,
    "start_time": "2022-04-24T11:05:04.038Z"
   },
   {
    "duration": 126,
    "start_time": "2022-04-24T11:08:52.775Z"
   },
   {
    "duration": 16,
    "start_time": "2022-04-24T11:08:59.906Z"
   },
   {
    "duration": 6,
    "start_time": "2022-04-24T11:09:42.430Z"
   },
   {
    "duration": 75,
    "start_time": "2022-04-24T11:09:44.062Z"
   },
   {
    "duration": 101,
    "start_time": "2022-04-24T11:09:45.965Z"
   },
   {
    "duration": 115,
    "start_time": "2022-04-24T11:09:47.702Z"
   },
   {
    "duration": 4,
    "start_time": "2022-04-24T11:13:01.400Z"
   },
   {
    "duration": 114,
    "start_time": "2022-04-24T11:13:04.744Z"
   },
   {
    "duration": 2203,
    "start_time": "2022-04-24T11:13:14.866Z"
   },
   {
    "duration": 1315,
    "start_time": "2022-04-24T11:13:17.072Z"
   },
   {
    "duration": 30,
    "start_time": "2022-04-24T11:13:18.390Z"
   },
   {
    "duration": 801,
    "start_time": "2022-04-24T11:13:18.424Z"
   },
   {
    "duration": 19,
    "start_time": "2022-04-24T11:13:19.231Z"
   },
   {
    "duration": 72,
    "start_time": "2022-04-24T11:13:19.254Z"
   },
   {
    "duration": 34,
    "start_time": "2022-04-24T11:13:19.330Z"
   },
   {
    "duration": 56,
    "start_time": "2022-04-24T11:13:19.371Z"
   },
   {
    "duration": 317,
    "start_time": "2022-04-24T11:13:19.431Z"
   },
   {
    "duration": 34,
    "start_time": "2022-04-24T11:13:19.753Z"
   },
   {
    "duration": 48,
    "start_time": "2022-04-24T11:13:19.790Z"
   },
   {
    "duration": 18,
    "start_time": "2022-04-24T11:13:19.841Z"
   },
   {
    "duration": 1299,
    "start_time": "2022-04-24T11:13:19.862Z"
   },
   {
    "duration": 7,
    "start_time": "2022-04-24T11:13:21.165Z"
   },
   {
    "duration": 144,
    "start_time": "2022-04-24T11:13:21.176Z"
   },
   {
    "duration": 123,
    "start_time": "2022-04-24T11:13:21.325Z"
   },
   {
    "duration": 126,
    "start_time": "2022-04-24T11:13:21.452Z"
   },
   {
    "duration": 6,
    "start_time": "2022-04-24T11:13:21.581Z"
   },
   {
    "duration": 34,
    "start_time": "2022-04-24T11:13:21.590Z"
   },
   {
    "duration": 29,
    "start_time": "2022-04-24T11:13:21.628Z"
   },
   {
    "duration": 30,
    "start_time": "2022-04-24T11:13:21.660Z"
   },
   {
    "duration": 773,
    "start_time": "2022-04-24T11:13:21.693Z"
   },
   {
    "duration": 7,
    "start_time": "2022-04-24T11:22:03.437Z"
   },
   {
    "duration": 7,
    "start_time": "2022-04-24T11:22:08.536Z"
   },
   {
    "duration": 177,
    "start_time": "2022-04-24T11:23:50.741Z"
   },
   {
    "duration": 16,
    "start_time": "2022-04-24T11:24:47.063Z"
   },
   {
    "duration": 102,
    "start_time": "2022-04-24T11:34:11.585Z"
   },
   {
    "duration": 2122,
    "start_time": "2022-04-24T11:34:48.456Z"
   },
   {
    "duration": 1042,
    "start_time": "2022-04-24T11:34:50.582Z"
   },
   {
    "duration": 28,
    "start_time": "2022-04-24T11:34:51.627Z"
   },
   {
    "duration": 683,
    "start_time": "2022-04-24T11:34:51.660Z"
   },
   {
    "duration": 16,
    "start_time": "2022-04-24T11:34:52.346Z"
   },
   {
    "duration": 64,
    "start_time": "2022-04-24T11:34:52.364Z"
   },
   {
    "duration": 20,
    "start_time": "2022-04-24T11:34:52.431Z"
   },
   {
    "duration": 36,
    "start_time": "2022-04-24T11:34:52.454Z"
   },
   {
    "duration": 380,
    "start_time": "2022-04-24T11:34:52.494Z"
   },
   {
    "duration": 26,
    "start_time": "2022-04-24T11:34:52.879Z"
   },
   {
    "duration": 17,
    "start_time": "2022-04-24T11:34:52.923Z"
   },
   {
    "duration": 13,
    "start_time": "2022-04-24T11:34:52.943Z"
   },
   {
    "duration": 940,
    "start_time": "2022-04-24T11:34:52.959Z"
   },
   {
    "duration": 6,
    "start_time": "2022-04-24T11:34:53.901Z"
   },
   {
    "duration": 117,
    "start_time": "2022-04-24T11:34:53.926Z"
   },
   {
    "duration": 88,
    "start_time": "2022-04-24T11:34:54.046Z"
   },
   {
    "duration": 105,
    "start_time": "2022-04-24T11:34:54.137Z"
   },
   {
    "duration": 5,
    "start_time": "2022-04-24T11:34:54.245Z"
   },
   {
    "duration": 32,
    "start_time": "2022-04-24T11:34:54.253Z"
   },
   {
    "duration": 21,
    "start_time": "2022-04-24T11:34:54.287Z"
   },
   {
    "duration": 33,
    "start_time": "2022-04-24T11:34:54.311Z"
   },
   {
    "duration": 736,
    "start_time": "2022-04-24T11:34:54.347Z"
   },
   {
    "duration": 103,
    "start_time": "2022-04-24T11:53:18.086Z"
   },
   {
    "duration": 127,
    "start_time": "2022-04-24T11:59:37.702Z"
   },
   {
    "duration": 4,
    "start_time": "2022-04-24T12:16:27.633Z"
   },
   {
    "duration": 26,
    "start_time": "2022-04-24T12:31:32.551Z"
   },
   {
    "duration": 330,
    "start_time": "2022-04-24T12:32:43.905Z"
   },
   {
    "duration": 73,
    "start_time": "2022-04-24T12:32:54.444Z"
   },
   {
    "duration": 35,
    "start_time": "2022-04-24T12:33:26.433Z"
   },
   {
    "duration": 47,
    "start_time": "2022-04-24T12:34:21.441Z"
   },
   {
    "duration": 34,
    "start_time": "2022-04-24T12:34:57.459Z"
   },
   {
    "duration": 17,
    "start_time": "2022-04-24T12:39:45.937Z"
   },
   {
    "duration": 75,
    "start_time": "2022-04-24T12:40:40.102Z"
   },
   {
    "duration": 90,
    "start_time": "2022-04-24T12:40:46.863Z"
   },
   {
    "duration": 157,
    "start_time": "2022-04-24T12:43:04.672Z"
   },
   {
    "duration": 20,
    "start_time": "2022-04-24T12:43:10.104Z"
   },
   {
    "duration": 22,
    "start_time": "2022-04-24T12:43:18.001Z"
   },
   {
    "duration": 36,
    "start_time": "2022-04-24T12:45:34.673Z"
   },
   {
    "duration": 15,
    "start_time": "2022-04-24T12:46:31.607Z"
   },
   {
    "duration": 19,
    "start_time": "2022-04-24T12:46:41.182Z"
   },
   {
    "duration": 13,
    "start_time": "2022-04-24T12:47:25.687Z"
   },
   {
    "duration": 22,
    "start_time": "2022-04-24T12:47:32.777Z"
   },
   {
    "duration": 37,
    "start_time": "2022-04-24T12:48:10.574Z"
   },
   {
    "duration": 39,
    "start_time": "2022-04-24T12:56:43.249Z"
   },
   {
    "duration": 1922,
    "start_time": "2022-04-24T13:19:28.945Z"
   },
   {
    "duration": 1341,
    "start_time": "2022-04-24T13:19:40.778Z"
   },
   {
    "duration": 1350,
    "start_time": "2022-04-24T13:19:47.437Z"
   },
   {
    "duration": 995,
    "start_time": "2022-04-24T13:22:07.552Z"
   },
   {
    "duration": 1382,
    "start_time": "2022-04-24T15:50:26.337Z"
   },
   {
    "duration": 615,
    "start_time": "2022-04-24T15:50:27.722Z"
   },
   {
    "duration": 22,
    "start_time": "2022-04-24T15:50:28.339Z"
   },
   {
    "duration": 296,
    "start_time": "2022-04-24T15:50:28.364Z"
   },
   {
    "duration": 8,
    "start_time": "2022-04-24T15:50:28.661Z"
   },
   {
    "duration": 21,
    "start_time": "2022-04-24T15:50:28.671Z"
   },
   {
    "duration": 7,
    "start_time": "2022-04-24T15:50:28.693Z"
   },
   {
    "duration": 12,
    "start_time": "2022-04-24T15:50:28.722Z"
   },
   {
    "duration": 139,
    "start_time": "2022-04-24T15:50:28.735Z"
   },
   {
    "duration": 11,
    "start_time": "2022-04-24T15:50:28.877Z"
   },
   {
    "duration": 7,
    "start_time": "2022-04-24T15:50:28.890Z"
   },
   {
    "duration": 6,
    "start_time": "2022-04-24T15:50:28.899Z"
   },
   {
    "duration": 447,
    "start_time": "2022-04-24T15:50:28.922Z"
   },
   {
    "duration": 2,
    "start_time": "2022-04-24T15:50:29.371Z"
   },
   {
    "duration": 50,
    "start_time": "2022-04-24T15:50:29.375Z"
   },
   {
    "duration": 38,
    "start_time": "2022-04-24T15:50:29.427Z"
   },
   {
    "duration": 58,
    "start_time": "2022-04-24T15:50:29.466Z"
   },
   {
    "duration": 3,
    "start_time": "2022-04-24T15:50:29.525Z"
   },
   {
    "duration": 5,
    "start_time": "2022-04-24T15:50:29.530Z"
   },
   {
    "duration": 9,
    "start_time": "2022-04-24T15:50:29.537Z"
   },
   {
    "duration": 4,
    "start_time": "2022-04-24T15:50:29.547Z"
   },
   {
    "duration": 370,
    "start_time": "2022-04-24T15:50:29.553Z"
   },
   {
    "duration": 22,
    "start_time": "2022-04-24T15:50:29.924Z"
   },
   {
    "duration": 15,
    "start_time": "2022-04-24T15:50:29.947Z"
   },
   {
    "duration": 674,
    "start_time": "2022-04-24T15:50:29.964Z"
   },
   {
    "duration": 1258,
    "start_time": "2022-04-24T15:53:04.985Z"
   },
   {
    "duration": 597,
    "start_time": "2022-04-24T15:53:06.245Z"
   },
   {
    "duration": 14,
    "start_time": "2022-04-24T15:53:06.843Z"
   },
   {
    "duration": 291,
    "start_time": "2022-04-24T15:53:06.860Z"
   },
   {
    "duration": 8,
    "start_time": "2022-04-24T15:53:07.153Z"
   },
   {
    "duration": 24,
    "start_time": "2022-04-24T15:53:07.162Z"
   },
   {
    "duration": 8,
    "start_time": "2022-04-24T15:53:07.188Z"
   },
   {
    "duration": 31,
    "start_time": "2022-04-24T15:53:07.198Z"
   },
   {
    "duration": 147,
    "start_time": "2022-04-24T15:53:07.231Z"
   },
   {
    "duration": 11,
    "start_time": "2022-04-24T15:53:07.382Z"
   },
   {
    "duration": 9,
    "start_time": "2022-04-24T15:53:07.396Z"
   },
   {
    "duration": 8,
    "start_time": "2022-04-24T15:53:07.422Z"
   },
   {
    "duration": 8,
    "start_time": "2022-04-24T15:53:07.432Z"
   },
   {
    "duration": 9,
    "start_time": "2022-04-24T15:53:07.442Z"
   },
   {
    "duration": 463,
    "start_time": "2022-04-24T15:53:07.453Z"
   },
   {
    "duration": 3,
    "start_time": "2022-04-24T15:53:07.922Z"
   },
   {
    "duration": 44,
    "start_time": "2022-04-24T15:53:07.927Z"
   },
   {
    "duration": 54,
    "start_time": "2022-04-24T15:53:07.973Z"
   },
   {
    "duration": 42,
    "start_time": "2022-04-24T15:53:08.029Z"
   },
   {
    "duration": 3,
    "start_time": "2022-04-24T15:53:08.073Z"
   },
   {
    "duration": 6,
    "start_time": "2022-04-24T15:53:08.077Z"
   },
   {
    "duration": 15,
    "start_time": "2022-04-24T15:53:08.085Z"
   },
   {
    "duration": 6,
    "start_time": "2022-04-24T15:53:08.123Z"
   },
   {
    "duration": 373,
    "start_time": "2022-04-24T15:53:08.131Z"
   },
   {
    "duration": 30,
    "start_time": "2022-04-24T15:53:08.505Z"
   },
   {
    "duration": 16,
    "start_time": "2022-04-24T15:53:08.537Z"
   },
   {
    "duration": 627,
    "start_time": "2022-04-24T15:53:08.554Z"
   },
   {
    "duration": 147,
    "start_time": "2022-04-24T15:55:18.999Z"
   },
   {
    "duration": 4,
    "start_time": "2022-04-24T15:56:01.517Z"
   },
   {
    "duration": 3,
    "start_time": "2022-04-24T15:56:11.801Z"
   },
   {
    "duration": 387,
    "start_time": "2022-04-24T15:57:20.603Z"
   },
   {
    "duration": 11,
    "start_time": "2022-04-24T15:58:01.956Z"
   },
   {
    "duration": 562,
    "start_time": "2022-04-24T15:58:14.955Z"
   },
   {
    "duration": 1215,
    "start_time": "2022-04-24T15:58:41.028Z"
   },
   {
    "duration": 625,
    "start_time": "2022-04-24T15:58:42.246Z"
   },
   {
    "duration": 17,
    "start_time": "2022-04-24T15:58:42.873Z"
   },
   {
    "duration": 310,
    "start_time": "2022-04-24T15:58:42.892Z"
   },
   {
    "duration": 19,
    "start_time": "2022-04-24T15:58:43.204Z"
   },
   {
    "duration": 29,
    "start_time": "2022-04-24T15:58:43.225Z"
   },
   {
    "duration": 8,
    "start_time": "2022-04-24T15:58:43.256Z"
   },
   {
    "duration": 17,
    "start_time": "2022-04-24T15:58:43.266Z"
   },
   {
    "duration": 166,
    "start_time": "2022-04-24T15:58:43.285Z"
   },
   {
    "duration": 13,
    "start_time": "2022-04-24T15:58:43.452Z"
   },
   {
    "duration": 9,
    "start_time": "2022-04-24T15:58:43.466Z"
   },
   {
    "duration": 7,
    "start_time": "2022-04-24T15:58:43.476Z"
   },
   {
    "duration": 9,
    "start_time": "2022-04-24T15:58:43.485Z"
   },
   {
    "duration": 10,
    "start_time": "2022-04-24T15:58:43.523Z"
   },
   {
    "duration": 13,
    "start_time": "2022-04-24T15:58:43.535Z"
   },
   {
    "duration": 488,
    "start_time": "2022-04-24T15:58:43.550Z"
   },
   {
    "duration": 3,
    "start_time": "2022-04-24T15:58:44.040Z"
   },
   {
    "duration": 48,
    "start_time": "2022-04-24T15:58:44.044Z"
   },
   {
    "duration": 48,
    "start_time": "2022-04-24T15:58:44.093Z"
   },
   {
    "duration": 40,
    "start_time": "2022-04-24T15:58:44.143Z"
   },
   {
    "duration": 3,
    "start_time": "2022-04-24T15:58:44.185Z"
   },
   {
    "duration": 6,
    "start_time": "2022-04-24T15:58:44.190Z"
   },
   {
    "duration": 32,
    "start_time": "2022-04-24T15:58:44.198Z"
   },
   {
    "duration": 5,
    "start_time": "2022-04-24T15:58:44.232Z"
   },
   {
    "duration": 387,
    "start_time": "2022-04-24T15:58:44.239Z"
   },
   {
    "duration": 34,
    "start_time": "2022-04-24T15:58:44.628Z"
   },
   {
    "duration": 73,
    "start_time": "2022-04-24T15:58:44.664Z"
   },
   {
    "duration": 604,
    "start_time": "2022-04-24T15:58:44.739Z"
   },
   {
    "duration": 3,
    "start_time": "2022-04-24T15:58:45.346Z"
   },
   {
    "duration": 748,
    "start_time": "2022-04-24T15:58:45.351Z"
   },
   {
    "duration": 409,
    "start_time": "2022-04-24T16:02:50.248Z"
   },
   {
    "duration": 814,
    "start_time": "2022-04-24T16:03:01.412Z"
   },
   {
    "duration": 4,
    "start_time": "2022-04-24T16:04:36.754Z"
   },
   {
    "duration": 1137,
    "start_time": "2022-04-24T16:04:48.970Z"
   },
   {
    "duration": 616,
    "start_time": "2022-04-24T16:04:50.109Z"
   },
   {
    "duration": 13,
    "start_time": "2022-04-24T16:04:50.726Z"
   },
   {
    "duration": 304,
    "start_time": "2022-04-24T16:04:50.741Z"
   },
   {
    "duration": 9,
    "start_time": "2022-04-24T16:04:51.047Z"
   },
   {
    "duration": 27,
    "start_time": "2022-04-24T16:04:51.057Z"
   },
   {
    "duration": 8,
    "start_time": "2022-04-24T16:04:51.085Z"
   },
   {
    "duration": 37,
    "start_time": "2022-04-24T16:04:51.095Z"
   },
   {
    "duration": 144,
    "start_time": "2022-04-24T16:04:51.134Z"
   },
   {
    "duration": 14,
    "start_time": "2022-04-24T16:04:51.280Z"
   },
   {
    "duration": 10,
    "start_time": "2022-04-24T16:04:51.295Z"
   },
   {
    "duration": 7,
    "start_time": "2022-04-24T16:04:51.323Z"
   },
   {
    "duration": 9,
    "start_time": "2022-04-24T16:04:51.332Z"
   },
   {
    "duration": 10,
    "start_time": "2022-04-24T16:04:51.344Z"
   },
   {
    "duration": 10,
    "start_time": "2022-04-24T16:04:51.356Z"
   },
   {
    "duration": 8,
    "start_time": "2022-04-24T16:04:51.367Z"
   },
   {
    "duration": 453,
    "start_time": "2022-04-24T16:04:51.376Z"
   },
   {
    "duration": 3,
    "start_time": "2022-04-24T16:04:51.831Z"
   },
   {
    "duration": 41,
    "start_time": "2022-04-24T16:04:51.836Z"
   },
   {
    "duration": 57,
    "start_time": "2022-04-24T16:04:51.879Z"
   },
   {
    "duration": 39,
    "start_time": "2022-04-24T16:04:51.937Z"
   },
   {
    "duration": 3,
    "start_time": "2022-04-24T16:04:51.978Z"
   },
   {
    "duration": 8,
    "start_time": "2022-04-24T16:04:51.983Z"
   },
   {
    "duration": 30,
    "start_time": "2022-04-24T16:04:51.993Z"
   },
   {
    "duration": 5,
    "start_time": "2022-04-24T16:04:52.025Z"
   },
   {
    "duration": 365,
    "start_time": "2022-04-24T16:04:52.031Z"
   },
   {
    "duration": 28,
    "start_time": "2022-04-24T16:04:52.398Z"
   },
   {
    "duration": 16,
    "start_time": "2022-04-24T16:04:52.427Z"
   },
   {
    "duration": 559,
    "start_time": "2022-04-24T16:04:52.445Z"
   },
   {
    "duration": 2,
    "start_time": "2022-04-24T16:04:53.006Z"
   },
   {
    "duration": 1599,
    "start_time": "2022-04-24T16:04:53.010Z"
   },
   {
    "duration": 4,
    "start_time": "2022-04-24T16:16:34.076Z"
   },
   {
    "duration": 2951,
    "start_time": "2022-04-24T16:18:20.406Z"
   },
   {
    "duration": 2108,
    "start_time": "2022-04-24T16:26:23.172Z"
   },
   {
    "duration": 2596,
    "start_time": "2022-04-24T16:33:13.808Z"
   },
   {
    "duration": 343,
    "start_time": "2022-04-24T16:40:53.542Z"
   },
   {
    "duration": 7,
    "start_time": "2022-04-24T16:41:21.066Z"
   },
   {
    "duration": 964,
    "start_time": "2022-04-24T16:41:30.539Z"
   },
   {
    "duration": 10,
    "start_time": "2022-04-24T16:42:41.345Z"
   },
   {
    "duration": 7,
    "start_time": "2022-04-24T16:43:10.261Z"
   },
   {
    "duration": 498,
    "start_time": "2022-04-24T16:43:20.107Z"
   },
   {
    "duration": 10,
    "start_time": "2022-04-24T16:43:49.937Z"
   },
   {
    "duration": 1487,
    "start_time": "2022-04-24T16:43:55.421Z"
   },
   {
    "duration": 3,
    "start_time": "2022-04-24T16:44:48.045Z"
   },
   {
    "duration": 947,
    "start_time": "2022-04-24T16:45:03.688Z"
   },
   {
    "duration": 1524,
    "start_time": "2022-04-24T16:45:36.188Z"
   },
   {
    "duration": 1127,
    "start_time": "2022-04-24T16:47:22.347Z"
   },
   {
    "duration": 948,
    "start_time": "2022-04-24T16:48:03.045Z"
   },
   {
    "duration": 1720,
    "start_time": "2022-04-24T16:48:29.402Z"
   },
   {
    "duration": 1081,
    "start_time": "2022-04-24T16:48:42.078Z"
   },
   {
    "duration": 2009,
    "start_time": "2022-04-24T16:48:49.442Z"
   },
   {
    "duration": 1217,
    "start_time": "2022-04-24T16:50:02.729Z"
   },
   {
    "duration": 642,
    "start_time": "2022-04-24T16:50:03.949Z"
   },
   {
    "duration": 13,
    "start_time": "2022-04-24T16:50:04.593Z"
   },
   {
    "duration": 325,
    "start_time": "2022-04-24T16:50:04.609Z"
   },
   {
    "duration": 9,
    "start_time": "2022-04-24T16:50:04.936Z"
   },
   {
    "duration": 23,
    "start_time": "2022-04-24T16:50:04.947Z"
   },
   {
    "duration": 8,
    "start_time": "2022-04-24T16:50:04.972Z"
   },
   {
    "duration": 42,
    "start_time": "2022-04-24T16:50:04.982Z"
   },
   {
    "duration": 147,
    "start_time": "2022-04-24T16:50:05.026Z"
   },
   {
    "duration": 13,
    "start_time": "2022-04-24T16:50:05.177Z"
   },
   {
    "duration": 9,
    "start_time": "2022-04-24T16:50:05.193Z"
   },
   {
    "duration": 8,
    "start_time": "2022-04-24T16:50:05.222Z"
   },
   {
    "duration": 8,
    "start_time": "2022-04-24T16:50:05.233Z"
   },
   {
    "duration": 10,
    "start_time": "2022-04-24T16:50:05.243Z"
   },
   {
    "duration": 9,
    "start_time": "2022-04-24T16:50:05.255Z"
   },
   {
    "duration": 12,
    "start_time": "2022-04-24T16:50:05.267Z"
   },
   {
    "duration": 12,
    "start_time": "2022-04-24T16:50:05.281Z"
   },
   {
    "duration": 9,
    "start_time": "2022-04-24T16:50:05.323Z"
   },
   {
    "duration": 7,
    "start_time": "2022-04-24T16:50:05.334Z"
   },
   {
    "duration": 474,
    "start_time": "2022-04-24T16:50:05.342Z"
   },
   {
    "duration": 3,
    "start_time": "2022-04-24T16:50:05.817Z"
   },
   {
    "duration": 42,
    "start_time": "2022-04-24T16:50:05.823Z"
   },
   {
    "duration": 37,
    "start_time": "2022-04-24T16:50:05.867Z"
   },
   {
    "duration": 55,
    "start_time": "2022-04-24T16:50:05.906Z"
   },
   {
    "duration": 3,
    "start_time": "2022-04-24T16:50:05.962Z"
   },
   {
    "duration": 6,
    "start_time": "2022-04-24T16:50:05.967Z"
   },
   {
    "duration": 12,
    "start_time": "2022-04-24T16:50:05.975Z"
   },
   {
    "duration": 4,
    "start_time": "2022-04-24T16:50:05.991Z"
   },
   {
    "duration": 388,
    "start_time": "2022-04-24T16:50:06.022Z"
   },
   {
    "duration": 27,
    "start_time": "2022-04-24T16:50:06.412Z"
   },
   {
    "duration": 16,
    "start_time": "2022-04-24T16:50:06.441Z"
   },
   {
    "duration": 620,
    "start_time": "2022-04-24T16:50:06.459Z"
   },
   {
    "duration": 3,
    "start_time": "2022-04-24T16:50:07.082Z"
   },
   {
    "duration": 1839,
    "start_time": "2022-04-24T16:50:07.087Z"
   },
   {
    "duration": 2068,
    "start_time": "2022-04-24T16:50:08.927Z"
   },
   {
    "duration": 2130,
    "start_time": "2022-04-24T16:50:10.997Z"
   },
   {
    "duration": 2531,
    "start_time": "2022-04-24T16:50:13.129Z"
   },
   {
    "duration": 985,
    "start_time": "2022-04-24T16:50:15.662Z"
   },
   {
    "duration": 1567,
    "start_time": "2022-04-24T16:50:16.648Z"
   },
   {
    "duration": 892,
    "start_time": "2022-04-24T16:50:18.217Z"
   },
   {
    "duration": 1577,
    "start_time": "2022-04-24T16:50:19.111Z"
   },
   {
    "duration": 1195,
    "start_time": "2022-04-24T16:50:20.690Z"
   },
   {
    "duration": 1999,
    "start_time": "2022-04-24T16:50:21.887Z"
   },
   {
    "duration": 2012,
    "start_time": "2022-04-24T17:06:58.623Z"
   },
   {
    "duration": 1917,
    "start_time": "2022-04-24T17:07:06.640Z"
   },
   {
    "duration": 2086,
    "start_time": "2022-04-24T17:07:14.284Z"
   },
   {
    "duration": 2306,
    "start_time": "2022-04-24T17:07:28.559Z"
   },
   {
    "duration": 2574,
    "start_time": "2022-04-24T17:07:38.664Z"
   },
   {
    "duration": 1395,
    "start_time": "2022-04-25T09:20:24.639Z"
   },
   {
    "duration": 602,
    "start_time": "2022-04-25T09:20:26.037Z"
   },
   {
    "duration": 13,
    "start_time": "2022-04-25T09:20:26.641Z"
   },
   {
    "duration": 319,
    "start_time": "2022-04-25T09:20:26.655Z"
   },
   {
    "duration": 8,
    "start_time": "2022-04-25T09:20:26.976Z"
   },
   {
    "duration": 29,
    "start_time": "2022-04-25T09:20:26.986Z"
   },
   {
    "duration": 8,
    "start_time": "2022-04-25T09:20:27.016Z"
   },
   {
    "duration": 33,
    "start_time": "2022-04-25T09:20:27.025Z"
   },
   {
    "duration": 146,
    "start_time": "2022-04-25T09:20:27.060Z"
   },
   {
    "duration": 13,
    "start_time": "2022-04-25T09:20:27.208Z"
   },
   {
    "duration": 36,
    "start_time": "2022-04-25T09:20:27.223Z"
   },
   {
    "duration": 29,
    "start_time": "2022-04-25T09:20:27.260Z"
   },
   {
    "duration": 10,
    "start_time": "2022-04-25T09:20:27.291Z"
   },
   {
    "duration": 22,
    "start_time": "2022-04-25T09:20:27.304Z"
   },
   {
    "duration": 39,
    "start_time": "2022-04-25T09:20:27.328Z"
   },
   {
    "duration": 17,
    "start_time": "2022-04-25T09:20:27.369Z"
   },
   {
    "duration": 14,
    "start_time": "2022-04-25T09:20:27.388Z"
   },
   {
    "duration": 8,
    "start_time": "2022-04-25T09:20:27.404Z"
   },
   {
    "duration": 8,
    "start_time": "2022-04-25T09:20:27.413Z"
   },
   {
    "duration": 460,
    "start_time": "2022-04-25T09:20:27.423Z"
   },
   {
    "duration": 2,
    "start_time": "2022-04-25T09:20:27.885Z"
   },
   {
    "duration": 45,
    "start_time": "2022-04-25T09:20:27.889Z"
   },
   {
    "duration": 46,
    "start_time": "2022-04-25T09:20:27.936Z"
   },
   {
    "duration": 43,
    "start_time": "2022-04-25T09:20:27.983Z"
   },
   {
    "duration": 3,
    "start_time": "2022-04-25T09:20:28.028Z"
   },
   {
    "duration": 4,
    "start_time": "2022-04-25T09:20:28.054Z"
   },
   {
    "duration": 14,
    "start_time": "2022-04-25T09:20:28.060Z"
   },
   {
    "duration": 8,
    "start_time": "2022-04-25T09:20:28.076Z"
   },
   {
    "duration": 380,
    "start_time": "2022-04-25T09:20:28.086Z"
   },
   {
    "duration": 33,
    "start_time": "2022-04-25T09:20:28.469Z"
   },
   {
    "duration": 65,
    "start_time": "2022-04-25T09:20:28.504Z"
   },
   {
    "duration": 615,
    "start_time": "2022-04-25T09:20:28.571Z"
   },
   {
    "duration": 3,
    "start_time": "2022-04-25T09:20:29.188Z"
   },
   {
    "duration": 1857,
    "start_time": "2022-04-25T09:20:29.193Z"
   },
   {
    "duration": 2037,
    "start_time": "2022-04-25T09:20:31.054Z"
   },
   {
    "duration": 2116,
    "start_time": "2022-04-25T09:20:33.093Z"
   },
   {
    "duration": 2537,
    "start_time": "2022-04-25T09:20:35.211Z"
   },
   {
    "duration": 1006,
    "start_time": "2022-04-25T09:20:37.755Z"
   },
   {
    "duration": 1688,
    "start_time": "2022-04-25T09:20:38.762Z"
   },
   {
    "duration": 845,
    "start_time": "2022-04-25T09:20:40.454Z"
   },
   {
    "duration": 1592,
    "start_time": "2022-04-25T09:20:41.303Z"
   },
   {
    "duration": 1250,
    "start_time": "2022-04-25T09:20:42.896Z"
   },
   {
    "duration": 1925,
    "start_time": "2022-04-25T09:20:44.148Z"
   },
   {
    "duration": 174,
    "start_time": "2022-04-25T09:28:16.105Z"
   },
   {
    "duration": 146,
    "start_time": "2022-04-25T10:31:11.986Z"
   },
   {
    "duration": 1265,
    "start_time": "2022-04-25T12:09:30.562Z"
   },
   {
    "duration": 639,
    "start_time": "2022-04-25T12:09:31.829Z"
   },
   {
    "duration": 14,
    "start_time": "2022-04-25T12:09:32.469Z"
   },
   {
    "duration": 348,
    "start_time": "2022-04-25T12:09:32.485Z"
   },
   {
    "duration": 19,
    "start_time": "2022-04-25T12:09:32.836Z"
   },
   {
    "duration": 43,
    "start_time": "2022-04-25T12:09:32.857Z"
   },
   {
    "duration": 14,
    "start_time": "2022-04-25T12:09:32.901Z"
   },
   {
    "duration": 31,
    "start_time": "2022-04-25T12:09:32.916Z"
   },
   {
    "duration": 253,
    "start_time": "2022-04-25T12:09:32.949Z"
   },
   {
    "duration": 21,
    "start_time": "2022-04-25T12:09:33.204Z"
   },
   {
    "duration": 48,
    "start_time": "2022-04-25T12:09:33.227Z"
   },
   {
    "duration": 33,
    "start_time": "2022-04-25T12:09:33.277Z"
   },
   {
    "duration": 36,
    "start_time": "2022-04-25T12:09:33.312Z"
   },
   {
    "duration": 37,
    "start_time": "2022-04-25T12:09:33.352Z"
   },
   {
    "duration": 32,
    "start_time": "2022-04-25T12:09:33.392Z"
   },
   {
    "duration": 36,
    "start_time": "2022-04-25T12:09:33.427Z"
   },
   {
    "duration": 28,
    "start_time": "2022-04-25T12:09:33.466Z"
   },
   {
    "duration": 34,
    "start_time": "2022-04-25T12:09:33.496Z"
   },
   {
    "duration": 34,
    "start_time": "2022-04-25T12:09:33.531Z"
   },
   {
    "duration": 513,
    "start_time": "2022-04-25T12:09:33.567Z"
   },
   {
    "duration": 4,
    "start_time": "2022-04-25T12:09:34.082Z"
   },
   {
    "duration": 48,
    "start_time": "2022-04-25T12:09:34.088Z"
   },
   {
    "duration": 52,
    "start_time": "2022-04-25T12:09:34.138Z"
   },
   {
    "duration": 43,
    "start_time": "2022-04-25T12:09:34.192Z"
   },
   {
    "duration": 4,
    "start_time": "2022-04-25T12:09:34.254Z"
   },
   {
    "duration": 7,
    "start_time": "2022-04-25T12:09:34.260Z"
   },
   {
    "duration": 13,
    "start_time": "2022-04-25T12:09:34.269Z"
   },
   {
    "duration": 4,
    "start_time": "2022-04-25T12:09:34.284Z"
   },
   {
    "duration": 420,
    "start_time": "2022-04-25T12:09:34.290Z"
   },
   {
    "duration": 232,
    "start_time": "2022-04-25T12:09:34.712Z"
   },
   {
    "duration": 0,
    "start_time": "2022-04-25T12:09:34.954Z"
   },
   {
    "duration": 0,
    "start_time": "2022-04-25T12:09:34.956Z"
   },
   {
    "duration": 0,
    "start_time": "2022-04-25T12:09:34.957Z"
   },
   {
    "duration": 0,
    "start_time": "2022-04-25T12:09:34.958Z"
   },
   {
    "duration": 0,
    "start_time": "2022-04-25T12:09:34.959Z"
   },
   {
    "duration": 0,
    "start_time": "2022-04-25T12:09:34.960Z"
   },
   {
    "duration": 0,
    "start_time": "2022-04-25T12:09:34.962Z"
   },
   {
    "duration": 0,
    "start_time": "2022-04-25T12:09:34.963Z"
   },
   {
    "duration": 0,
    "start_time": "2022-04-25T12:09:34.964Z"
   },
   {
    "duration": 0,
    "start_time": "2022-04-25T12:09:34.965Z"
   },
   {
    "duration": 0,
    "start_time": "2022-04-25T12:09:34.966Z"
   },
   {
    "duration": 0,
    "start_time": "2022-04-25T12:09:34.967Z"
   },
   {
    "duration": 0,
    "start_time": "2022-04-25T12:09:34.968Z"
   },
   {
    "duration": 1285,
    "start_time": "2022-04-25T12:10:51.981Z"
   },
   {
    "duration": 632,
    "start_time": "2022-04-25T12:10:53.268Z"
   },
   {
    "duration": 18,
    "start_time": "2022-04-25T12:10:53.902Z"
   },
   {
    "duration": 486,
    "start_time": "2022-04-25T12:10:53.923Z"
   },
   {
    "duration": 10,
    "start_time": "2022-04-25T12:10:54.411Z"
   },
   {
    "duration": 52,
    "start_time": "2022-04-25T12:10:54.423Z"
   },
   {
    "duration": 10,
    "start_time": "2022-04-25T12:10:54.476Z"
   },
   {
    "duration": 24,
    "start_time": "2022-04-25T12:10:54.488Z"
   },
   {
    "duration": 254,
    "start_time": "2022-04-25T12:10:54.514Z"
   },
   {
    "duration": 21,
    "start_time": "2022-04-25T12:10:54.771Z"
   },
   {
    "duration": 12,
    "start_time": "2022-04-25T12:10:54.794Z"
   },
   {
    "duration": 14,
    "start_time": "2022-04-25T12:10:54.808Z"
   },
   {
    "duration": 37,
    "start_time": "2022-04-25T12:10:54.824Z"
   },
   {
    "duration": 10,
    "start_time": "2022-04-25T12:10:54.863Z"
   },
   {
    "duration": 13,
    "start_time": "2022-04-25T12:10:54.875Z"
   },
   {
    "duration": 12,
    "start_time": "2022-04-25T12:10:54.889Z"
   },
   {
    "duration": 12,
    "start_time": "2022-04-25T12:10:54.904Z"
   },
   {
    "duration": 37,
    "start_time": "2022-04-25T12:10:54.918Z"
   },
   {
    "duration": 9,
    "start_time": "2022-04-25T12:10:54.957Z"
   },
   {
    "duration": 569,
    "start_time": "2022-04-25T12:10:54.968Z"
   },
   {
    "duration": 3,
    "start_time": "2022-04-25T12:10:55.539Z"
   },
   {
    "duration": 49,
    "start_time": "2022-04-25T12:10:55.544Z"
   },
   {
    "duration": 66,
    "start_time": "2022-04-25T12:10:55.596Z"
   },
   {
    "duration": 45,
    "start_time": "2022-04-25T12:10:55.664Z"
   },
   {
    "duration": 4,
    "start_time": "2022-04-25T12:10:55.711Z"
   },
   {
    "duration": 19,
    "start_time": "2022-04-25T12:10:55.717Z"
   },
   {
    "duration": 29,
    "start_time": "2022-04-25T12:10:55.738Z"
   },
   {
    "duration": 7,
    "start_time": "2022-04-25T12:10:55.771Z"
   },
   {
    "duration": 403,
    "start_time": "2022-04-25T12:10:55.779Z"
   },
   {
    "duration": 70,
    "start_time": "2022-04-25T12:10:56.184Z"
   },
   {
    "duration": 23,
    "start_time": "2022-04-25T12:10:56.257Z"
   },
   {
    "duration": 77,
    "start_time": "2022-04-25T12:10:56.283Z"
   },
   {
    "duration": 865,
    "start_time": "2022-04-25T12:10:56.362Z"
   },
   {
    "duration": 3,
    "start_time": "2022-04-25T12:10:57.229Z"
   },
   {
    "duration": 2441,
    "start_time": "2022-04-25T12:10:57.235Z"
   },
   {
    "duration": 2925,
    "start_time": "2022-04-25T12:10:59.678Z"
   },
   {
    "duration": 2118,
    "start_time": "2022-04-25T12:11:02.605Z"
   },
   {
    "duration": 2309,
    "start_time": "2022-04-25T12:11:04.725Z"
   },
   {
    "duration": 968,
    "start_time": "2022-04-25T12:11:07.036Z"
   },
   {
    "duration": 2365,
    "start_time": "2022-04-25T12:11:08.006Z"
   },
   {
    "duration": 1212,
    "start_time": "2022-04-25T12:11:10.373Z"
   },
   {
    "duration": 2477,
    "start_time": "2022-04-25T12:11:11.587Z"
   },
   {
    "duration": 1775,
    "start_time": "2022-04-25T12:11:14.066Z"
   },
   {
    "duration": 2702,
    "start_time": "2022-04-25T12:11:15.843Z"
   },
   {
    "duration": 1280,
    "start_time": "2022-04-25T13:51:20.926Z"
   },
   {
    "duration": 1076,
    "start_time": "2022-04-25T13:51:22.209Z"
   },
   {
    "duration": 20,
    "start_time": "2022-04-25T13:51:23.288Z"
   },
   {
    "duration": 490,
    "start_time": "2022-04-25T13:51:23.311Z"
   },
   {
    "duration": 11,
    "start_time": "2022-04-25T13:51:23.803Z"
   },
   {
    "duration": 46,
    "start_time": "2022-04-25T13:51:23.817Z"
   },
   {
    "duration": 9,
    "start_time": "2022-04-25T13:51:23.865Z"
   },
   {
    "duration": 21,
    "start_time": "2022-04-25T13:51:23.875Z"
   },
   {
    "duration": 157,
    "start_time": "2022-04-25T13:51:23.898Z"
   },
   {
    "duration": 15,
    "start_time": "2022-04-25T13:51:24.058Z"
   },
   {
    "duration": 16,
    "start_time": "2022-04-25T13:51:24.074Z"
   },
   {
    "duration": 9,
    "start_time": "2022-04-25T13:51:24.092Z"
   },
   {
    "duration": 17,
    "start_time": "2022-04-25T13:51:24.103Z"
   },
   {
    "duration": 33,
    "start_time": "2022-04-25T13:51:24.122Z"
   },
   {
    "duration": 18,
    "start_time": "2022-04-25T13:51:24.158Z"
   },
   {
    "duration": 15,
    "start_time": "2022-04-25T13:51:24.177Z"
   },
   {
    "duration": 11,
    "start_time": "2022-04-25T13:51:24.194Z"
   },
   {
    "duration": 15,
    "start_time": "2022-04-25T13:51:24.207Z"
   },
   {
    "duration": 14,
    "start_time": "2022-04-25T13:51:24.224Z"
   },
   {
    "duration": 565,
    "start_time": "2022-04-25T13:51:24.240Z"
   },
   {
    "duration": 48,
    "start_time": "2022-04-25T13:51:24.807Z"
   },
   {
    "duration": 3,
    "start_time": "2022-04-25T13:51:24.857Z"
   },
   {
    "duration": 81,
    "start_time": "2022-04-25T13:51:24.862Z"
   },
   {
    "duration": 32,
    "start_time": "2022-04-25T13:51:24.945Z"
   },
   {
    "duration": 53,
    "start_time": "2022-04-25T13:51:24.980Z"
   },
   {
    "duration": 21,
    "start_time": "2022-04-25T13:51:25.035Z"
   },
   {
    "duration": 11,
    "start_time": "2022-04-25T13:51:25.058Z"
   },
   {
    "duration": 12,
    "start_time": "2022-04-25T13:51:25.073Z"
   },
   {
    "duration": 12,
    "start_time": "2022-04-25T13:51:25.087Z"
   },
   {
    "duration": 517,
    "start_time": "2022-04-25T13:51:25.101Z"
   },
   {
    "duration": 6,
    "start_time": "2022-04-25T13:51:25.620Z"
   },
   {
    "duration": 32,
    "start_time": "2022-04-25T13:51:25.628Z"
   },
   {
    "duration": 203,
    "start_time": "2022-04-25T13:51:25.661Z"
   },
   {
    "duration": 0,
    "start_time": "2022-04-25T13:51:25.866Z"
   },
   {
    "duration": 0,
    "start_time": "2022-04-25T13:51:25.868Z"
   },
   {
    "duration": 0,
    "start_time": "2022-04-25T13:51:25.870Z"
   },
   {
    "duration": 0,
    "start_time": "2022-04-25T13:51:25.871Z"
   },
   {
    "duration": 0,
    "start_time": "2022-04-25T13:51:25.873Z"
   },
   {
    "duration": 0,
    "start_time": "2022-04-25T13:51:25.874Z"
   },
   {
    "duration": 0,
    "start_time": "2022-04-25T13:51:25.876Z"
   },
   {
    "duration": 0,
    "start_time": "2022-04-25T13:51:25.878Z"
   },
   {
    "duration": 0,
    "start_time": "2022-04-25T13:51:25.879Z"
   },
   {
    "duration": 0,
    "start_time": "2022-04-25T13:51:25.881Z"
   },
   {
    "duration": 0,
    "start_time": "2022-04-25T13:51:25.883Z"
   },
   {
    "duration": 653,
    "start_time": "2022-04-25T13:51:44.214Z"
   },
   {
    "duration": 1315,
    "start_time": "2022-04-25T13:51:58.151Z"
   },
   {
    "duration": 716,
    "start_time": "2022-04-25T13:51:59.469Z"
   },
   {
    "duration": 16,
    "start_time": "2022-04-25T13:52:00.186Z"
   },
   {
    "duration": 373,
    "start_time": "2022-04-25T13:52:00.203Z"
   },
   {
    "duration": 9,
    "start_time": "2022-04-25T13:52:00.578Z"
   },
   {
    "duration": 38,
    "start_time": "2022-04-25T13:52:00.590Z"
   },
   {
    "duration": 10,
    "start_time": "2022-04-25T13:52:00.630Z"
   },
   {
    "duration": 21,
    "start_time": "2022-04-25T13:52:00.655Z"
   },
   {
    "duration": 237,
    "start_time": "2022-04-25T13:52:00.678Z"
   },
   {
    "duration": 15,
    "start_time": "2022-04-25T13:52:00.917Z"
   },
   {
    "duration": 101,
    "start_time": "2022-04-25T13:52:00.934Z"
   },
   {
    "duration": 30,
    "start_time": "2022-04-25T13:52:01.037Z"
   },
   {
    "duration": 27,
    "start_time": "2022-04-25T13:52:01.069Z"
   },
   {
    "duration": 28,
    "start_time": "2022-04-25T13:52:01.100Z"
   },
   {
    "duration": 37,
    "start_time": "2022-04-25T13:52:01.130Z"
   },
   {
    "duration": 25,
    "start_time": "2022-04-25T13:52:01.169Z"
   },
   {
    "duration": 16,
    "start_time": "2022-04-25T13:52:01.195Z"
   },
   {
    "duration": 52,
    "start_time": "2022-04-25T13:52:01.213Z"
   },
   {
    "duration": 60,
    "start_time": "2022-04-25T13:52:01.267Z"
   },
   {
    "duration": 554,
    "start_time": "2022-04-25T13:52:01.329Z"
   },
   {
    "duration": 29,
    "start_time": "2022-04-25T13:52:01.885Z"
   },
   {
    "duration": 9,
    "start_time": "2022-04-25T13:52:01.916Z"
   },
   {
    "duration": 54,
    "start_time": "2022-04-25T13:52:01.927Z"
   },
   {
    "duration": 38,
    "start_time": "2022-04-25T13:52:01.983Z"
   },
   {
    "duration": 67,
    "start_time": "2022-04-25T13:52:02.023Z"
   },
   {
    "duration": 5,
    "start_time": "2022-04-25T13:52:02.092Z"
   },
   {
    "duration": 21,
    "start_time": "2022-04-25T13:52:02.099Z"
   },
   {
    "duration": 25,
    "start_time": "2022-04-25T13:52:02.122Z"
   },
   {
    "duration": 7,
    "start_time": "2022-04-25T13:52:02.154Z"
   },
   {
    "duration": 378,
    "start_time": "2022-04-25T13:52:02.162Z"
   },
   {
    "duration": 12,
    "start_time": "2022-04-25T13:52:02.542Z"
   },
   {
    "duration": 32,
    "start_time": "2022-04-25T13:52:02.556Z"
   },
   {
    "duration": 699,
    "start_time": "2022-04-25T13:52:02.590Z"
   },
   {
    "duration": 3,
    "start_time": "2022-04-25T13:52:03.291Z"
   },
   {
    "duration": 2554,
    "start_time": "2022-04-25T13:52:03.297Z"
   },
   {
    "duration": 2096,
    "start_time": "2022-04-25T13:52:05.852Z"
   },
   {
    "duration": 2210,
    "start_time": "2022-04-25T13:52:07.950Z"
   },
   {
    "duration": 3642,
    "start_time": "2022-04-25T13:52:10.162Z"
   },
   {
    "duration": 931,
    "start_time": "2022-04-25T13:52:13.806Z"
   },
   {
    "duration": 1840,
    "start_time": "2022-04-25T13:52:14.740Z"
   },
   {
    "duration": 884,
    "start_time": "2022-04-25T13:52:16.584Z"
   },
   {
    "duration": 2158,
    "start_time": "2022-04-25T13:52:17.471Z"
   },
   {
    "duration": 1682,
    "start_time": "2022-04-25T13:52:19.631Z"
   },
   {
    "duration": 1866,
    "start_time": "2022-04-25T13:52:21.315Z"
   },
   {
    "duration": 1278,
    "start_time": "2022-04-25T14:22:02.153Z"
   },
   {
    "duration": 692,
    "start_time": "2022-04-25T14:22:03.433Z"
   },
   {
    "duration": 14,
    "start_time": "2022-04-25T14:22:04.127Z"
   },
   {
    "duration": 350,
    "start_time": "2022-04-25T14:22:04.144Z"
   },
   {
    "duration": 9,
    "start_time": "2022-04-25T14:22:04.496Z"
   },
   {
    "duration": 30,
    "start_time": "2022-04-25T14:22:04.506Z"
   },
   {
    "duration": 22,
    "start_time": "2022-04-25T14:22:04.538Z"
   },
   {
    "duration": 18,
    "start_time": "2022-04-25T14:22:04.562Z"
   },
   {
    "duration": 160,
    "start_time": "2022-04-25T14:22:04.581Z"
   },
   {
    "duration": 18,
    "start_time": "2022-04-25T14:22:04.744Z"
   },
   {
    "duration": 22,
    "start_time": "2022-04-25T14:22:04.763Z"
   },
   {
    "duration": 21,
    "start_time": "2022-04-25T14:22:04.787Z"
   },
   {
    "duration": 26,
    "start_time": "2022-04-25T14:22:04.810Z"
   },
   {
    "duration": 24,
    "start_time": "2022-04-25T14:22:04.838Z"
   },
   {
    "duration": 30,
    "start_time": "2022-04-25T14:22:04.863Z"
   },
   {
    "duration": 27,
    "start_time": "2022-04-25T14:22:04.895Z"
   },
   {
    "duration": 31,
    "start_time": "2022-04-25T14:22:04.924Z"
   },
   {
    "duration": 27,
    "start_time": "2022-04-25T14:22:04.957Z"
   },
   {
    "duration": 23,
    "start_time": "2022-04-25T14:22:04.985Z"
   },
   {
    "duration": 518,
    "start_time": "2022-04-25T14:22:05.010Z"
   },
   {
    "duration": 35,
    "start_time": "2022-04-25T14:22:05.529Z"
   },
   {
    "duration": 3,
    "start_time": "2022-04-25T14:22:05.566Z"
   },
   {
    "duration": 43,
    "start_time": "2022-04-25T14:22:05.571Z"
   },
   {
    "duration": 43,
    "start_time": "2022-04-25T14:22:05.615Z"
   },
   {
    "duration": 47,
    "start_time": "2022-04-25T14:22:05.660Z"
   },
   {
    "duration": 6,
    "start_time": "2022-04-25T14:22:05.709Z"
   },
   {
    "duration": 22,
    "start_time": "2022-04-25T14:22:05.717Z"
   },
   {
    "duration": 16,
    "start_time": "2022-04-25T14:22:05.754Z"
   },
   {
    "duration": 6,
    "start_time": "2022-04-25T14:22:05.772Z"
   },
   {
    "duration": 526,
    "start_time": "2022-04-25T14:22:05.780Z"
   },
   {
    "duration": 6,
    "start_time": "2022-04-25T14:22:06.307Z"
   },
   {
    "duration": 42,
    "start_time": "2022-04-25T14:22:06.314Z"
   },
   {
    "duration": 660,
    "start_time": "2022-04-25T14:22:06.358Z"
   },
   {
    "duration": 4,
    "start_time": "2022-04-25T14:22:07.019Z"
   },
   {
    "duration": 1645,
    "start_time": "2022-04-25T14:22:07.024Z"
   },
   {
    "duration": 2044,
    "start_time": "2022-04-25T14:22:08.671Z"
   },
   {
    "duration": 2200,
    "start_time": "2022-04-25T14:22:10.716Z"
   },
   {
    "duration": 2497,
    "start_time": "2022-04-25T14:22:12.918Z"
   },
   {
    "duration": 1461,
    "start_time": "2022-04-25T14:22:15.417Z"
   },
   {
    "duration": 1804,
    "start_time": "2022-04-25T14:22:16.881Z"
   },
   {
    "duration": 871,
    "start_time": "2022-04-25T14:22:18.687Z"
   },
   {
    "duration": 1504,
    "start_time": "2022-04-25T14:22:19.560Z"
   },
   {
    "duration": 1668,
    "start_time": "2022-04-25T14:22:21.066Z"
   },
   {
    "duration": 1813,
    "start_time": "2022-04-25T14:22:22.736Z"
   },
   {
    "duration": 1636,
    "start_time": "2022-04-25T15:00:15.065Z"
   },
   {
    "duration": 1185,
    "start_time": "2022-04-25T15:00:16.704Z"
   },
   {
    "duration": 13,
    "start_time": "2022-04-25T15:00:17.891Z"
   },
   {
    "duration": 387,
    "start_time": "2022-04-25T15:00:17.907Z"
   },
   {
    "duration": 9,
    "start_time": "2022-04-25T15:00:18.297Z"
   },
   {
    "duration": 28,
    "start_time": "2022-04-25T15:00:18.308Z"
   },
   {
    "duration": 33,
    "start_time": "2022-04-25T15:00:18.338Z"
   },
   {
    "duration": 22,
    "start_time": "2022-04-25T15:00:18.373Z"
   },
   {
    "duration": 233,
    "start_time": "2022-04-25T15:00:18.398Z"
   },
   {
    "duration": 26,
    "start_time": "2022-04-25T15:00:18.634Z"
   },
   {
    "duration": 21,
    "start_time": "2022-04-25T15:00:18.662Z"
   },
   {
    "duration": 23,
    "start_time": "2022-04-25T15:00:18.686Z"
   },
   {
    "duration": 29,
    "start_time": "2022-04-25T15:00:18.711Z"
   },
   {
    "duration": 39,
    "start_time": "2022-04-25T15:00:18.743Z"
   },
   {
    "duration": 32,
    "start_time": "2022-04-25T15:00:18.784Z"
   },
   {
    "duration": 31,
    "start_time": "2022-04-25T15:00:18.818Z"
   },
   {
    "duration": 29,
    "start_time": "2022-04-25T15:00:18.851Z"
   },
   {
    "duration": 34,
    "start_time": "2022-04-25T15:00:18.883Z"
   },
   {
    "duration": 28,
    "start_time": "2022-04-25T15:00:18.919Z"
   },
   {
    "duration": 576,
    "start_time": "2022-04-25T15:00:18.950Z"
   },
   {
    "duration": 53,
    "start_time": "2022-04-25T15:00:19.529Z"
   },
   {
    "duration": 4,
    "start_time": "2022-04-25T15:00:19.584Z"
   },
   {
    "duration": 45,
    "start_time": "2022-04-25T15:00:19.590Z"
   },
   {
    "duration": 45,
    "start_time": "2022-04-25T15:00:19.637Z"
   },
   {
    "duration": 49,
    "start_time": "2022-04-25T15:00:19.684Z"
   },
   {
    "duration": 21,
    "start_time": "2022-04-25T15:00:19.735Z"
   },
   {
    "duration": 18,
    "start_time": "2022-04-25T15:00:19.759Z"
   },
   {
    "duration": 14,
    "start_time": "2022-04-25T15:00:19.782Z"
   },
   {
    "duration": 5,
    "start_time": "2022-04-25T15:00:19.797Z"
   },
   {
    "duration": 408,
    "start_time": "2022-04-25T15:00:19.804Z"
   },
   {
    "duration": 4,
    "start_time": "2022-04-25T15:00:20.214Z"
   },
   {
    "duration": 45,
    "start_time": "2022-04-25T15:00:20.220Z"
   },
   {
    "duration": 654,
    "start_time": "2022-04-25T15:00:20.267Z"
   },
   {
    "duration": 5,
    "start_time": "2022-04-25T15:00:20.923Z"
   },
   {
    "duration": 1909,
    "start_time": "2022-04-25T15:00:20.929Z"
   },
   {
    "duration": 2159,
    "start_time": "2022-04-25T15:00:22.840Z"
   },
   {
    "duration": 2233,
    "start_time": "2022-04-25T15:00:25.001Z"
   },
   {
    "duration": 2620,
    "start_time": "2022-04-25T15:00:27.236Z"
   },
   {
    "duration": 902,
    "start_time": "2022-04-25T15:00:29.858Z"
   },
   {
    "duration": 1830,
    "start_time": "2022-04-25T15:00:30.762Z"
   },
   {
    "duration": 939,
    "start_time": "2022-04-25T15:00:32.594Z"
   },
   {
    "duration": 1576,
    "start_time": "2022-04-25T15:00:33.534Z"
   },
   {
    "duration": 1215,
    "start_time": "2022-04-25T15:00:35.112Z"
   },
   {
    "duration": 1932,
    "start_time": "2022-04-25T15:00:36.329Z"
   },
   {
    "duration": 1247,
    "start_time": "2022-04-26T06:29:04.682Z"
   },
   {
    "duration": 653,
    "start_time": "2022-04-26T06:29:05.931Z"
   },
   {
    "duration": 13,
    "start_time": "2022-04-26T06:29:06.586Z"
   },
   {
    "duration": 317,
    "start_time": "2022-04-26T06:29:06.601Z"
   },
   {
    "duration": 8,
    "start_time": "2022-04-26T06:29:06.920Z"
   },
   {
    "duration": 23,
    "start_time": "2022-04-26T06:29:06.930Z"
   },
   {
    "duration": 8,
    "start_time": "2022-04-26T06:29:06.955Z"
   },
   {
    "duration": 14,
    "start_time": "2022-04-26T06:29:06.964Z"
   },
   {
    "duration": 154,
    "start_time": "2022-04-26T06:29:07.008Z"
   },
   {
    "duration": 13,
    "start_time": "2022-04-26T06:29:07.165Z"
   },
   {
    "duration": 8,
    "start_time": "2022-04-26T06:29:07.180Z"
   },
   {
    "duration": 21,
    "start_time": "2022-04-26T06:29:07.190Z"
   },
   {
    "duration": 8,
    "start_time": "2022-04-26T06:29:07.214Z"
   },
   {
    "duration": 11,
    "start_time": "2022-04-26T06:29:07.224Z"
   },
   {
    "duration": 10,
    "start_time": "2022-04-26T06:29:07.237Z"
   },
   {
    "duration": 11,
    "start_time": "2022-04-26T06:29:07.249Z"
   },
   {
    "duration": 7,
    "start_time": "2022-04-26T06:29:07.262Z"
   },
   {
    "duration": 42,
    "start_time": "2022-04-26T06:29:07.271Z"
   },
   {
    "duration": 13,
    "start_time": "2022-04-26T06:29:07.315Z"
   },
   {
    "duration": 494,
    "start_time": "2022-04-26T06:29:07.330Z"
   },
   {
    "duration": 26,
    "start_time": "2022-04-26T06:29:07.826Z"
   },
   {
    "duration": 3,
    "start_time": "2022-04-26T06:29:07.853Z"
   },
   {
    "duration": 57,
    "start_time": "2022-04-26T06:29:07.858Z"
   },
   {
    "duration": 30,
    "start_time": "2022-04-26T06:29:07.917Z"
   },
   {
    "duration": 33,
    "start_time": "2022-04-26T06:29:07.949Z"
   },
   {
    "duration": 3,
    "start_time": "2022-04-26T06:29:07.984Z"
   },
   {
    "duration": 15,
    "start_time": "2022-04-26T06:29:08.008Z"
   },
   {
    "duration": 10,
    "start_time": "2022-04-26T06:29:08.027Z"
   },
   {
    "duration": 7,
    "start_time": "2022-04-26T06:29:08.039Z"
   },
   {
    "duration": 400,
    "start_time": "2022-04-26T06:29:08.048Z"
   },
   {
    "duration": 5,
    "start_time": "2022-04-26T06:29:08.449Z"
   },
   {
    "duration": 17,
    "start_time": "2022-04-26T06:29:08.455Z"
   },
   {
    "duration": 698,
    "start_time": "2022-04-26T06:29:08.474Z"
   },
   {
    "duration": 3,
    "start_time": "2022-04-26T06:29:09.173Z"
   },
   {
    "duration": 1753,
    "start_time": "2022-04-26T06:29:09.177Z"
   },
   {
    "duration": 2073,
    "start_time": "2022-04-26T06:29:10.932Z"
   },
   {
    "duration": 2243,
    "start_time": "2022-04-26T06:29:13.007Z"
   },
   {
    "duration": 2642,
    "start_time": "2022-04-26T06:29:15.252Z"
   },
   {
    "duration": 928,
    "start_time": "2022-04-26T06:29:17.896Z"
   },
   {
    "duration": 1721,
    "start_time": "2022-04-26T06:29:18.826Z"
   },
   {
    "duration": 882,
    "start_time": "2022-04-26T06:29:20.549Z"
   },
   {
    "duration": 1567,
    "start_time": "2022-04-26T06:29:21.433Z"
   },
   {
    "duration": 1195,
    "start_time": "2022-04-26T06:29:23.002Z"
   },
   {
    "duration": 1903,
    "start_time": "2022-04-26T06:29:24.199Z"
   },
   {
    "duration": 61,
    "start_time": "2022-04-26T06:37:06.130Z"
   },
   {
    "duration": 73,
    "start_time": "2022-04-26T06:42:41.060Z"
   },
   {
    "duration": 45,
    "start_time": "2022-04-26T06:55:25.953Z"
   },
   {
    "duration": 1338,
    "start_time": "2022-04-26T06:55:36.848Z"
   },
   {
    "duration": 612,
    "start_time": "2022-04-26T06:55:38.189Z"
   },
   {
    "duration": 12,
    "start_time": "2022-04-26T06:55:38.803Z"
   },
   {
    "duration": 344,
    "start_time": "2022-04-26T06:55:38.817Z"
   },
   {
    "duration": 10,
    "start_time": "2022-04-26T06:55:39.163Z"
   },
   {
    "duration": 42,
    "start_time": "2022-04-26T06:55:39.174Z"
   },
   {
    "duration": 10,
    "start_time": "2022-04-26T06:55:39.218Z"
   },
   {
    "duration": 21,
    "start_time": "2022-04-26T06:55:39.230Z"
   },
   {
    "duration": 169,
    "start_time": "2022-04-26T06:55:39.253Z"
   },
   {
    "duration": 14,
    "start_time": "2022-04-26T06:55:39.425Z"
   },
   {
    "duration": 32,
    "start_time": "2022-04-26T06:55:39.441Z"
   },
   {
    "duration": 10,
    "start_time": "2022-04-26T06:55:39.475Z"
   },
   {
    "duration": 27,
    "start_time": "2022-04-26T06:55:39.487Z"
   },
   {
    "duration": 24,
    "start_time": "2022-04-26T06:55:39.516Z"
   },
   {
    "duration": 49,
    "start_time": "2022-04-26T06:55:39.542Z"
   },
   {
    "duration": 27,
    "start_time": "2022-04-26T06:55:39.593Z"
   },
   {
    "duration": 27,
    "start_time": "2022-04-26T06:55:39.622Z"
   },
   {
    "duration": 23,
    "start_time": "2022-04-26T06:55:39.651Z"
   },
   {
    "duration": 19,
    "start_time": "2022-04-26T06:55:39.676Z"
   },
   {
    "duration": 490,
    "start_time": "2022-04-26T06:55:39.697Z"
   },
   {
    "duration": 41,
    "start_time": "2022-04-26T06:55:40.188Z"
   },
   {
    "duration": 3,
    "start_time": "2022-04-26T06:55:40.231Z"
   },
   {
    "duration": 36,
    "start_time": "2022-04-26T06:55:40.236Z"
   },
   {
    "duration": 29,
    "start_time": "2022-04-26T06:55:40.274Z"
   },
   {
    "duration": 46,
    "start_time": "2022-04-26T06:55:40.304Z"
   },
   {
    "duration": 3,
    "start_time": "2022-04-26T06:55:40.352Z"
   },
   {
    "duration": 28,
    "start_time": "2022-04-26T06:55:40.356Z"
   },
   {
    "duration": 21,
    "start_time": "2022-04-26T06:55:40.387Z"
   },
   {
    "duration": 28,
    "start_time": "2022-04-26T06:55:40.409Z"
   },
   {
    "duration": 363,
    "start_time": "2022-04-26T06:55:40.439Z"
   },
   {
    "duration": 4,
    "start_time": "2022-04-26T06:55:40.803Z"
   },
   {
    "duration": 29,
    "start_time": "2022-04-26T06:55:40.809Z"
   },
   {
    "duration": 589,
    "start_time": "2022-04-26T06:55:40.839Z"
   },
   {
    "duration": 3,
    "start_time": "2022-04-26T06:55:41.429Z"
   },
   {
    "duration": 3410,
    "start_time": "2022-04-26T06:55:41.433Z"
   },
   {
    "duration": 4979,
    "start_time": "2022-04-26T06:55:44.845Z"
   },
   {
    "duration": 2740,
    "start_time": "2022-04-26T06:55:49.826Z"
   },
   {
    "duration": 2387,
    "start_time": "2022-04-26T06:55:52.568Z"
   },
   {
    "duration": 790,
    "start_time": "2022-04-26T06:55:54.957Z"
   },
   {
    "duration": 1489,
    "start_time": "2022-04-26T06:55:55.749Z"
   },
   {
    "duration": 934,
    "start_time": "2022-04-26T06:55:57.240Z"
   },
   {
    "duration": 1457,
    "start_time": "2022-04-26T06:55:58.176Z"
   },
   {
    "duration": 1056,
    "start_time": "2022-04-26T06:55:59.635Z"
   },
   {
    "duration": 1700,
    "start_time": "2022-04-26T06:56:00.693Z"
   },
   {
    "duration": 523,
    "start_time": "2022-04-26T06:59:58.999Z"
   },
   {
    "duration": 500,
    "start_time": "2022-04-26T07:00:30.770Z"
   },
   {
    "duration": 133,
    "start_time": "2022-04-26T07:01:26.310Z"
   },
   {
    "duration": 2432,
    "start_time": "2022-04-26T07:04:17.146Z"
   },
   {
    "duration": 1974,
    "start_time": "2022-04-26T07:04:37.831Z"
   },
   {
    "duration": 788,
    "start_time": "2022-04-26T07:05:04.495Z"
   },
   {
    "duration": 1181,
    "start_time": "2022-04-26T07:13:38.733Z"
   },
   {
    "duration": 647,
    "start_time": "2022-04-26T07:13:39.916Z"
   },
   {
    "duration": 12,
    "start_time": "2022-04-26T07:13:40.564Z"
   },
   {
    "duration": 320,
    "start_time": "2022-04-26T07:13:40.578Z"
   },
   {
    "duration": 9,
    "start_time": "2022-04-26T07:13:40.900Z"
   },
   {
    "duration": 43,
    "start_time": "2022-04-26T07:13:40.910Z"
   },
   {
    "duration": 8,
    "start_time": "2022-04-26T07:13:40.955Z"
   },
   {
    "duration": 27,
    "start_time": "2022-04-26T07:13:40.966Z"
   },
   {
    "duration": 174,
    "start_time": "2022-04-26T07:13:40.995Z"
   },
   {
    "duration": 15,
    "start_time": "2022-04-26T07:13:41.172Z"
   },
   {
    "duration": 13,
    "start_time": "2022-04-26T07:13:41.188Z"
   },
   {
    "duration": 25,
    "start_time": "2022-04-26T07:13:41.203Z"
   },
   {
    "duration": 31,
    "start_time": "2022-04-26T07:13:41.230Z"
   },
   {
    "duration": 25,
    "start_time": "2022-04-26T07:13:41.263Z"
   },
   {
    "duration": 26,
    "start_time": "2022-04-26T07:13:41.291Z"
   },
   {
    "duration": 33,
    "start_time": "2022-04-26T07:13:41.318Z"
   },
   {
    "duration": 25,
    "start_time": "2022-04-26T07:13:41.353Z"
   },
   {
    "duration": 26,
    "start_time": "2022-04-26T07:13:41.380Z"
   },
   {
    "duration": 27,
    "start_time": "2022-04-26T07:13:41.408Z"
   },
   {
    "duration": 486,
    "start_time": "2022-04-26T07:13:41.436Z"
   },
   {
    "duration": 2,
    "start_time": "2022-04-26T07:13:41.924Z"
   },
   {
    "duration": 15,
    "start_time": "2022-04-26T07:13:41.928Z"
   },
   {
    "duration": 61,
    "start_time": "2022-04-26T07:13:41.945Z"
   },
   {
    "duration": 37,
    "start_time": "2022-04-26T07:13:42.008Z"
   },
   {
    "duration": 42,
    "start_time": "2022-04-26T07:13:42.047Z"
   },
   {
    "duration": 3,
    "start_time": "2022-04-26T07:13:42.091Z"
   },
   {
    "duration": 46,
    "start_time": "2022-04-26T07:13:42.096Z"
   },
   {
    "duration": 4,
    "start_time": "2022-04-26T07:13:42.146Z"
   },
   {
    "duration": 16,
    "start_time": "2022-04-26T07:13:42.152Z"
   },
   {
    "duration": 6,
    "start_time": "2022-04-26T07:13:42.170Z"
   },
   {
    "duration": 379,
    "start_time": "2022-04-26T07:13:42.178Z"
   },
   {
    "duration": 5,
    "start_time": "2022-04-26T07:13:42.559Z"
   },
   {
    "duration": 24,
    "start_time": "2022-04-26T07:13:42.566Z"
   },
   {
    "duration": 660,
    "start_time": "2022-04-26T07:13:42.592Z"
   },
   {
    "duration": 4,
    "start_time": "2022-04-26T07:13:43.254Z"
   },
   {
    "duration": 1595,
    "start_time": "2022-04-26T07:13:43.259Z"
   },
   {
    "duration": 1856,
    "start_time": "2022-04-26T07:13:44.856Z"
   },
   {
    "duration": 1899,
    "start_time": "2022-04-26T07:13:46.714Z"
   },
   {
    "duration": 2225,
    "start_time": "2022-04-26T07:13:48.615Z"
   },
   {
    "duration": 804,
    "start_time": "2022-04-26T07:13:50.842Z"
   },
   {
    "duration": 1493,
    "start_time": "2022-04-26T07:13:51.647Z"
   },
   {
    "duration": 793,
    "start_time": "2022-04-26T07:13:53.142Z"
   },
   {
    "duration": 1320,
    "start_time": "2022-04-26T07:13:53.937Z"
   },
   {
    "duration": 1011,
    "start_time": "2022-04-26T07:13:55.258Z"
   },
   {
    "duration": 1689,
    "start_time": "2022-04-26T07:13:56.271Z"
   },
   {
    "duration": 1192,
    "start_time": "2022-04-26T07:26:29.525Z"
   },
   {
    "duration": 635,
    "start_time": "2022-04-26T07:26:30.718Z"
   },
   {
    "duration": 12,
    "start_time": "2022-04-26T07:26:31.354Z"
   },
   {
    "duration": 309,
    "start_time": "2022-04-26T07:26:31.368Z"
   },
   {
    "duration": 8,
    "start_time": "2022-04-26T07:26:31.679Z"
   },
   {
    "duration": 35,
    "start_time": "2022-04-26T07:26:31.688Z"
   },
   {
    "duration": 8,
    "start_time": "2022-04-26T07:26:31.725Z"
   },
   {
    "duration": 38,
    "start_time": "2022-04-26T07:26:31.734Z"
   },
   {
    "duration": 132,
    "start_time": "2022-04-26T07:26:31.774Z"
   },
   {
    "duration": 15,
    "start_time": "2022-04-26T07:26:31.908Z"
   },
   {
    "duration": 14,
    "start_time": "2022-04-26T07:26:31.924Z"
   },
   {
    "duration": 11,
    "start_time": "2022-04-26T07:26:31.939Z"
   },
   {
    "duration": 18,
    "start_time": "2022-04-26T07:26:31.951Z"
   },
   {
    "duration": 29,
    "start_time": "2022-04-26T07:26:31.971Z"
   },
   {
    "duration": 27,
    "start_time": "2022-04-26T07:26:32.001Z"
   },
   {
    "duration": 30,
    "start_time": "2022-04-26T07:26:32.030Z"
   },
   {
    "duration": 32,
    "start_time": "2022-04-26T07:26:32.062Z"
   },
   {
    "duration": 29,
    "start_time": "2022-04-26T07:26:32.096Z"
   },
   {
    "duration": 28,
    "start_time": "2022-04-26T07:26:32.127Z"
   },
   {
    "duration": 455,
    "start_time": "2022-04-26T07:26:32.156Z"
   },
   {
    "duration": 3,
    "start_time": "2022-04-26T07:26:32.612Z"
   },
   {
    "duration": 3,
    "start_time": "2022-04-26T07:26:32.622Z"
   },
   {
    "duration": 44,
    "start_time": "2022-04-26T07:26:32.627Z"
   },
   {
    "duration": 56,
    "start_time": "2022-04-26T07:26:32.673Z"
   },
   {
    "duration": 39,
    "start_time": "2022-04-26T07:26:32.731Z"
   },
   {
    "duration": 4,
    "start_time": "2022-04-26T07:26:32.772Z"
   },
   {
    "duration": 46,
    "start_time": "2022-04-26T07:26:32.777Z"
   },
   {
    "duration": 4,
    "start_time": "2022-04-26T07:26:32.827Z"
   },
   {
    "duration": 11,
    "start_time": "2022-04-26T07:26:32.833Z"
   },
   {
    "duration": 4,
    "start_time": "2022-04-26T07:26:32.846Z"
   },
   {
    "duration": 396,
    "start_time": "2022-04-26T07:26:32.852Z"
   },
   {
    "duration": 7,
    "start_time": "2022-04-26T07:26:33.250Z"
   },
   {
    "duration": 22,
    "start_time": "2022-04-26T07:26:33.259Z"
   },
   {
    "duration": 641,
    "start_time": "2022-04-26T07:26:33.283Z"
   },
   {
    "duration": 3,
    "start_time": "2022-04-26T07:26:33.926Z"
   },
   {
    "duration": 1541,
    "start_time": "2022-04-26T07:26:33.931Z"
   },
   {
    "duration": 1903,
    "start_time": "2022-04-26T07:26:35.474Z"
   },
   {
    "duration": 2680,
    "start_time": "2022-04-26T07:26:37.379Z"
   },
   {
    "duration": 2449,
    "start_time": "2022-04-26T07:26:40.061Z"
   },
   {
    "duration": 902,
    "start_time": "2022-04-26T07:26:42.512Z"
   },
   {
    "duration": 1794,
    "start_time": "2022-04-26T07:26:43.415Z"
   },
   {
    "duration": 893,
    "start_time": "2022-04-26T07:26:45.211Z"
   },
   {
    "duration": 1400,
    "start_time": "2022-04-26T07:26:46.106Z"
   },
   {
    "duration": 1092,
    "start_time": "2022-04-26T07:26:47.507Z"
   },
   {
    "duration": 1789,
    "start_time": "2022-04-26T07:26:48.601Z"
   },
   {
    "duration": 71,
    "start_time": "2022-04-26T12:54:25.134Z"
   },
   {
    "duration": 1828,
    "start_time": "2022-04-26T12:54:33.128Z"
   },
   {
    "duration": 803,
    "start_time": "2022-04-26T12:54:34.959Z"
   },
   {
    "duration": 20,
    "start_time": "2022-04-26T12:54:35.765Z"
   },
   {
    "duration": 569,
    "start_time": "2022-04-26T12:54:35.788Z"
   },
   {
    "duration": 10,
    "start_time": "2022-04-26T12:54:36.359Z"
   },
   {
    "duration": 35,
    "start_time": "2022-04-26T12:54:36.371Z"
   },
   {
    "duration": 11,
    "start_time": "2022-04-26T12:54:36.408Z"
   },
   {
    "duration": 19,
    "start_time": "2022-04-26T12:54:36.452Z"
   },
   {
    "duration": 211,
    "start_time": "2022-04-26T12:54:36.473Z"
   },
   {
    "duration": 17,
    "start_time": "2022-04-26T12:54:36.688Z"
   },
   {
    "duration": 12,
    "start_time": "2022-04-26T12:54:36.707Z"
   },
   {
    "duration": 31,
    "start_time": "2022-04-26T12:54:36.721Z"
   },
   {
    "duration": 16,
    "start_time": "2022-04-26T12:54:36.754Z"
   },
   {
    "duration": 13,
    "start_time": "2022-04-26T12:54:36.772Z"
   },
   {
    "duration": 14,
    "start_time": "2022-04-26T12:54:36.787Z"
   },
   {
    "duration": 16,
    "start_time": "2022-04-26T12:54:36.803Z"
   },
   {
    "duration": 37,
    "start_time": "2022-04-26T12:54:36.821Z"
   },
   {
    "duration": 12,
    "start_time": "2022-04-26T12:54:36.861Z"
   },
   {
    "duration": 9,
    "start_time": "2022-04-26T12:54:36.875Z"
   },
   {
    "duration": 738,
    "start_time": "2022-04-26T12:54:36.886Z"
   },
   {
    "duration": 3,
    "start_time": "2022-04-26T12:54:37.626Z"
   },
   {
    "duration": 19,
    "start_time": "2022-04-26T12:54:37.632Z"
   },
   {
    "duration": 90,
    "start_time": "2022-04-26T12:54:37.654Z"
   },
   {
    "duration": 61,
    "start_time": "2022-04-26T12:54:37.746Z"
   },
   {
    "duration": 86,
    "start_time": "2022-04-26T12:54:37.810Z"
   },
   {
    "duration": 4,
    "start_time": "2022-04-26T12:54:37.898Z"
   },
   {
    "duration": 57,
    "start_time": "2022-04-26T12:54:37.905Z"
   },
   {
    "duration": 5,
    "start_time": "2022-04-26T12:54:37.969Z"
   },
   {
    "duration": 18,
    "start_time": "2022-04-26T12:54:37.977Z"
   },
   {
    "duration": 10,
    "start_time": "2022-04-26T12:54:37.998Z"
   },
   {
    "duration": 756,
    "start_time": "2022-04-26T12:54:38.010Z"
   },
   {
    "duration": 8,
    "start_time": "2022-04-26T12:54:38.769Z"
   },
   {
    "duration": 90,
    "start_time": "2022-04-26T12:54:38.780Z"
   },
   {
    "duration": 1271,
    "start_time": "2022-04-26T12:54:38.874Z"
   },
   {
    "duration": 5,
    "start_time": "2022-04-26T12:54:40.151Z"
   },
   {
    "duration": 2541,
    "start_time": "2022-04-26T12:54:40.158Z"
   },
   {
    "duration": 3008,
    "start_time": "2022-04-26T12:54:42.701Z"
   },
   {
    "duration": 3106,
    "start_time": "2022-04-26T12:54:45.711Z"
   },
   {
    "duration": 229,
    "start_time": "2022-04-26T12:54:48.819Z"
   },
   {
    "duration": 0,
    "start_time": "2022-04-26T12:54:49.052Z"
   },
   {
    "duration": 1,
    "start_time": "2022-04-26T12:54:49.053Z"
   },
   {
    "duration": 0,
    "start_time": "2022-04-26T12:54:49.055Z"
   },
   {
    "duration": 0,
    "start_time": "2022-04-26T12:54:49.057Z"
   },
   {
    "duration": 0,
    "start_time": "2022-04-26T12:54:49.059Z"
   },
   {
    "duration": 0,
    "start_time": "2022-04-26T12:54:49.060Z"
   },
   {
    "duration": 0,
    "start_time": "2022-04-26T12:54:49.062Z"
   },
   {
    "duration": 26,
    "start_time": "2022-04-26T12:55:36.387Z"
   },
   {
    "duration": 19,
    "start_time": "2022-04-26T12:56:05.722Z"
   },
   {
    "duration": 16,
    "start_time": "2022-04-26T12:58:06.285Z"
   },
   {
    "duration": 18,
    "start_time": "2022-04-26T12:58:23.815Z"
   },
   {
    "duration": 23,
    "start_time": "2022-04-26T12:58:28.940Z"
   },
   {
    "duration": 17,
    "start_time": "2022-04-26T12:58:35.965Z"
   },
   {
    "duration": 3743,
    "start_time": "2022-04-26T13:00:11.890Z"
   },
   {
    "duration": 3894,
    "start_time": "2022-04-26T13:01:15.066Z"
   },
   {
    "duration": 3074,
    "start_time": "2022-04-26T13:01:23.867Z"
   },
   {
    "duration": 4340,
    "start_time": "2022-04-26T13:01:47.686Z"
   },
   {
    "duration": 108,
    "start_time": "2022-04-26T13:06:17.752Z"
   },
   {
    "duration": 1518,
    "start_time": "2022-04-26T13:09:31.471Z"
   },
   {
    "duration": 803,
    "start_time": "2022-04-26T13:09:32.991Z"
   },
   {
    "duration": 25,
    "start_time": "2022-04-26T13:09:33.797Z"
   },
   {
    "duration": 649,
    "start_time": "2022-04-26T13:09:33.826Z"
   },
   {
    "duration": 14,
    "start_time": "2022-04-26T13:09:34.478Z"
   },
   {
    "duration": 59,
    "start_time": "2022-04-26T13:09:34.494Z"
   },
   {
    "duration": 12,
    "start_time": "2022-04-26T13:09:34.555Z"
   },
   {
    "duration": 21,
    "start_time": "2022-04-26T13:09:34.570Z"
   },
   {
    "duration": 233,
    "start_time": "2022-04-26T13:09:34.595Z"
   },
   {
    "duration": 26,
    "start_time": "2022-04-26T13:09:34.832Z"
   },
   {
    "duration": 19,
    "start_time": "2022-04-26T13:09:34.860Z"
   },
   {
    "duration": 15,
    "start_time": "2022-04-26T13:09:34.882Z"
   },
   {
    "duration": 17,
    "start_time": "2022-04-26T13:09:34.900Z"
   },
   {
    "duration": 38,
    "start_time": "2022-04-26T13:09:34.920Z"
   },
   {
    "duration": 14,
    "start_time": "2022-04-26T13:09:34.961Z"
   },
   {
    "duration": 15,
    "start_time": "2022-04-26T13:09:34.977Z"
   },
   {
    "duration": 23,
    "start_time": "2022-04-26T13:09:34.994Z"
   },
   {
    "duration": 35,
    "start_time": "2022-04-26T13:09:35.019Z"
   },
   {
    "duration": 15,
    "start_time": "2022-04-26T13:09:35.056Z"
   },
   {
    "duration": 743,
    "start_time": "2022-04-26T13:09:35.073Z"
   },
   {
    "duration": 4,
    "start_time": "2022-04-26T13:09:35.819Z"
   },
   {
    "duration": 8,
    "start_time": "2022-04-26T13:09:35.825Z"
   },
   {
    "duration": 93,
    "start_time": "2022-04-26T13:09:35.835Z"
   },
   {
    "duration": 72,
    "start_time": "2022-04-26T13:09:35.931Z"
   },
   {
    "duration": 116,
    "start_time": "2022-04-26T13:09:36.005Z"
   },
   {
    "duration": 6,
    "start_time": "2022-04-26T13:09:36.124Z"
   },
   {
    "duration": 53,
    "start_time": "2022-04-26T13:09:36.132Z"
   },
   {
    "duration": 6,
    "start_time": "2022-04-26T13:09:36.190Z"
   },
   {
    "duration": 21,
    "start_time": "2022-04-26T13:09:36.199Z"
   },
   {
    "duration": 31,
    "start_time": "2022-04-26T13:09:36.222Z"
   },
   {
    "duration": 531,
    "start_time": "2022-04-26T13:09:36.255Z"
   },
   {
    "duration": 8,
    "start_time": "2022-04-26T13:09:36.789Z"
   },
   {
    "duration": 55,
    "start_time": "2022-04-26T13:09:36.799Z"
   },
   {
    "duration": 986,
    "start_time": "2022-04-26T13:09:36.857Z"
   },
   {
    "duration": 3,
    "start_time": "2022-04-26T13:09:37.852Z"
   },
   {
    "duration": 2607,
    "start_time": "2022-04-26T13:09:37.858Z"
   },
   {
    "duration": 3359,
    "start_time": "2022-04-26T13:09:40.468Z"
   },
   {
    "duration": 4622,
    "start_time": "2022-04-26T13:09:43.830Z"
   },
   {
    "duration": 3948,
    "start_time": "2022-04-26T13:09:48.454Z"
   },
   {
    "duration": 249,
    "start_time": "2022-04-26T13:09:52.405Z"
   },
   {
    "duration": 0,
    "start_time": "2022-04-26T13:09:52.657Z"
   },
   {
    "duration": 0,
    "start_time": "2022-04-26T13:09:52.659Z"
   },
   {
    "duration": 0,
    "start_time": "2022-04-26T13:09:52.662Z"
   },
   {
    "duration": 0,
    "start_time": "2022-04-26T13:09:52.664Z"
   },
   {
    "duration": 0,
    "start_time": "2022-04-26T13:09:52.666Z"
   },
   {
    "duration": 0,
    "start_time": "2022-04-26T13:09:52.669Z"
   },
   {
    "duration": 0,
    "start_time": "2022-04-26T13:09:52.670Z"
   },
   {
    "duration": 1516,
    "start_time": "2022-04-26T13:10:49.646Z"
   },
   {
    "duration": 786,
    "start_time": "2022-04-26T13:10:51.165Z"
   },
   {
    "duration": 18,
    "start_time": "2022-04-26T13:10:51.953Z"
   },
   {
    "duration": 481,
    "start_time": "2022-04-26T13:10:51.973Z"
   },
   {
    "duration": 11,
    "start_time": "2022-04-26T13:10:52.457Z"
   },
   {
    "duration": 46,
    "start_time": "2022-04-26T13:10:52.471Z"
   },
   {
    "duration": 39,
    "start_time": "2022-04-26T13:10:52.520Z"
   },
   {
    "duration": 20,
    "start_time": "2022-04-26T13:10:52.562Z"
   },
   {
    "duration": 234,
    "start_time": "2022-04-26T13:10:52.585Z"
   },
   {
    "duration": 29,
    "start_time": "2022-04-26T13:10:52.824Z"
   },
   {
    "duration": 13,
    "start_time": "2022-04-26T13:10:52.855Z"
   },
   {
    "duration": 11,
    "start_time": "2022-04-26T13:10:52.871Z"
   },
   {
    "duration": 18,
    "start_time": "2022-04-26T13:10:52.884Z"
   },
   {
    "duration": 20,
    "start_time": "2022-04-26T13:10:52.904Z"
   },
   {
    "duration": 39,
    "start_time": "2022-04-26T13:10:52.927Z"
   },
   {
    "duration": 19,
    "start_time": "2022-04-26T13:10:52.969Z"
   },
   {
    "duration": 13,
    "start_time": "2022-04-26T13:10:52.990Z"
   },
   {
    "duration": 13,
    "start_time": "2022-04-26T13:10:53.006Z"
   },
   {
    "duration": 39,
    "start_time": "2022-04-26T13:10:53.021Z"
   },
   {
    "duration": 764,
    "start_time": "2022-04-26T13:10:53.062Z"
   },
   {
    "duration": 4,
    "start_time": "2022-04-26T13:10:53.828Z"
   },
   {
    "duration": 18,
    "start_time": "2022-04-26T13:10:53.834Z"
   },
   {
    "duration": 78,
    "start_time": "2022-04-26T13:10:53.854Z"
   },
   {
    "duration": 75,
    "start_time": "2022-04-26T13:10:53.935Z"
   },
   {
    "duration": 85,
    "start_time": "2022-04-26T13:10:54.012Z"
   },
   {
    "duration": 5,
    "start_time": "2022-04-26T13:10:54.099Z"
   },
   {
    "duration": 63,
    "start_time": "2022-04-26T13:10:54.106Z"
   },
   {
    "duration": 7,
    "start_time": "2022-04-26T13:10:54.174Z"
   },
   {
    "duration": 18,
    "start_time": "2022-04-26T13:10:54.183Z"
   },
   {
    "duration": 6,
    "start_time": "2022-04-26T13:10:54.204Z"
   },
   {
    "duration": 692,
    "start_time": "2022-04-26T13:10:54.213Z"
   },
   {
    "duration": 8,
    "start_time": "2022-04-26T13:10:54.908Z"
   },
   {
    "duration": 50,
    "start_time": "2022-04-26T13:10:54.918Z"
   },
   {
    "duration": 1009,
    "start_time": "2022-04-26T13:10:54.970Z"
   },
   {
    "duration": 4,
    "start_time": "2022-04-26T13:10:55.981Z"
   },
   {
    "duration": 2471,
    "start_time": "2022-04-26T13:10:55.987Z"
   },
   {
    "duration": 3036,
    "start_time": "2022-04-26T13:10:58.461Z"
   },
   {
    "duration": 3170,
    "start_time": "2022-04-26T13:11:01.500Z"
   },
   {
    "duration": 3809,
    "start_time": "2022-04-26T13:11:04.673Z"
   },
   {
    "duration": 23,
    "start_time": "2022-04-26T13:11:08.485Z"
   },
   {
    "duration": 3147,
    "start_time": "2022-04-26T13:11:08.511Z"
   },
   {
    "duration": 3068,
    "start_time": "2022-04-26T13:11:11.660Z"
   },
   {
    "duration": 1373,
    "start_time": "2022-04-26T13:11:14.730Z"
   },
   {
    "duration": 2533,
    "start_time": "2022-04-26T13:11:16.106Z"
   },
   {
    "duration": 1552,
    "start_time": "2022-04-26T13:11:18.641Z"
   },
   {
    "duration": 3034,
    "start_time": "2022-04-26T13:11:20.195Z"
   },
   {
    "duration": 1806,
    "start_time": "2022-04-26T13:11:23.231Z"
   },
   {
    "duration": 2998,
    "start_time": "2022-04-26T13:11:25.040Z"
   },
   {
    "duration": 1250,
    "start_time": "2022-04-26T13:29:11.371Z"
   },
   {
    "duration": 2441,
    "start_time": "2022-04-26T13:29:21.410Z"
   },
   {
    "duration": 2043,
    "start_time": "2022-04-26T13:29:45.185Z"
   },
   {
    "duration": 3328,
    "start_time": "2022-04-26T13:29:50.197Z"
   },
   {
    "duration": 1364,
    "start_time": "2022-04-26T13:29:56.393Z"
   },
   {
    "duration": 2411,
    "start_time": "2022-04-26T13:30:00.488Z"
   },
   {
    "duration": 146,
    "start_time": "2022-04-26T13:58:30.111Z"
   },
   {
    "duration": 1602,
    "start_time": "2022-04-26T14:05:40.876Z"
   },
   {
    "duration": 793,
    "start_time": "2022-04-26T14:05:42.481Z"
   },
   {
    "duration": 25,
    "start_time": "2022-04-26T14:05:43.277Z"
   },
   {
    "duration": 740,
    "start_time": "2022-04-26T14:05:43.307Z"
   },
   {
    "duration": 16,
    "start_time": "2022-04-26T14:05:44.052Z"
   },
   {
    "duration": 55,
    "start_time": "2022-04-26T14:05:44.070Z"
   },
   {
    "duration": 36,
    "start_time": "2022-04-26T14:05:44.128Z"
   },
   {
    "duration": 27,
    "start_time": "2022-04-26T14:05:44.167Z"
   },
   {
    "duration": 378,
    "start_time": "2022-04-26T14:05:44.197Z"
   },
   {
    "duration": 33,
    "start_time": "2022-04-26T14:05:44.581Z"
   },
   {
    "duration": 14,
    "start_time": "2022-04-26T14:05:44.616Z"
   },
   {
    "duration": 12,
    "start_time": "2022-04-26T14:05:44.652Z"
   },
   {
    "duration": 12,
    "start_time": "2022-04-26T14:05:44.666Z"
   },
   {
    "duration": 15,
    "start_time": "2022-04-26T14:05:44.681Z"
   },
   {
    "duration": 14,
    "start_time": "2022-04-26T14:05:44.698Z"
   },
   {
    "duration": 16,
    "start_time": "2022-04-26T14:05:44.752Z"
   },
   {
    "duration": 10,
    "start_time": "2022-04-26T14:05:44.771Z"
   },
   {
    "duration": 20,
    "start_time": "2022-04-26T14:05:44.784Z"
   },
   {
    "duration": 10,
    "start_time": "2022-04-26T14:05:44.807Z"
   },
   {
    "duration": 1209,
    "start_time": "2022-04-26T14:05:44.820Z"
   },
   {
    "duration": 4,
    "start_time": "2022-04-26T14:05:46.032Z"
   },
   {
    "duration": 57,
    "start_time": "2022-04-26T14:05:46.039Z"
   },
   {
    "duration": 119,
    "start_time": "2022-04-26T14:05:46.099Z"
   },
   {
    "duration": 93,
    "start_time": "2022-04-26T14:05:46.220Z"
   },
   {
    "duration": 94,
    "start_time": "2022-04-26T14:05:46.315Z"
   },
   {
    "duration": 5,
    "start_time": "2022-04-26T14:05:46.412Z"
   },
   {
    "duration": 62,
    "start_time": "2022-04-26T14:05:46.420Z"
   },
   {
    "duration": 5,
    "start_time": "2022-04-26T14:05:46.489Z"
   },
   {
    "duration": 26,
    "start_time": "2022-04-26T14:05:46.499Z"
   },
   {
    "duration": 16,
    "start_time": "2022-04-26T14:05:46.528Z"
   },
   {
    "duration": 732,
    "start_time": "2022-04-26T14:05:46.553Z"
   },
   {
    "duration": 8,
    "start_time": "2022-04-26T14:05:47.289Z"
   },
   {
    "duration": 74,
    "start_time": "2022-04-26T14:05:47.301Z"
   },
   {
    "duration": 1079,
    "start_time": "2022-04-26T14:05:47.379Z"
   },
   {
    "duration": 4,
    "start_time": "2022-04-26T14:05:48.461Z"
   },
   {
    "duration": 2548,
    "start_time": "2022-04-26T14:05:48.468Z"
   },
   {
    "duration": 3025,
    "start_time": "2022-04-26T14:05:51.018Z"
   },
   {
    "duration": 3121,
    "start_time": "2022-04-26T14:05:54.045Z"
   },
   {
    "duration": 3908,
    "start_time": "2022-04-26T14:05:57.169Z"
   },
   {
    "duration": 17,
    "start_time": "2022-04-26T14:06:01.079Z"
   },
   {
    "duration": 3193,
    "start_time": "2022-04-26T14:06:01.099Z"
   },
   {
    "duration": 3324,
    "start_time": "2022-04-26T14:06:04.294Z"
   },
   {
    "duration": 1346,
    "start_time": "2022-04-26T14:06:07.621Z"
   },
   {
    "duration": 4018,
    "start_time": "2022-04-26T14:06:08.970Z"
   },
   {
    "duration": 2055,
    "start_time": "2022-04-26T14:06:12.991Z"
   },
   {
    "duration": 3837,
    "start_time": "2022-04-26T14:06:15.053Z"
   },
   {
    "duration": 2699,
    "start_time": "2022-04-26T14:06:18.893Z"
   },
   {
    "duration": 3035,
    "start_time": "2022-04-26T14:06:21.595Z"
   },
   {
    "duration": 1278,
    "start_time": "2022-04-26T14:06:24.632Z"
   },
   {
    "duration": 2655,
    "start_time": "2022-04-26T14:06:25.913Z"
   },
   {
    "duration": 1430,
    "start_time": "2022-04-26T14:06:28.570Z"
   },
   {
    "duration": 2348,
    "start_time": "2022-04-26T14:06:30.003Z"
   },
   {
    "duration": 1029,
    "start_time": "2022-04-27T08:12:04.867Z"
   },
   {
    "duration": 535,
    "start_time": "2022-04-27T08:12:05.898Z"
   },
   {
    "duration": 12,
    "start_time": "2022-04-27T08:12:06.434Z"
   },
   {
    "duration": 276,
    "start_time": "2022-04-27T08:12:06.448Z"
   },
   {
    "duration": 8,
    "start_time": "2022-04-27T08:12:06.725Z"
   },
   {
    "duration": 23,
    "start_time": "2022-04-27T08:12:06.734Z"
   },
   {
    "duration": 7,
    "start_time": "2022-04-27T08:12:06.759Z"
   },
   {
    "duration": 18,
    "start_time": "2022-04-27T08:12:06.768Z"
   },
   {
    "duration": 145,
    "start_time": "2022-04-27T08:12:06.787Z"
   },
   {
    "duration": 13,
    "start_time": "2022-04-27T08:12:06.934Z"
   },
   {
    "duration": 13,
    "start_time": "2022-04-27T08:12:06.949Z"
   },
   {
    "duration": 7,
    "start_time": "2022-04-27T08:12:06.963Z"
   },
   {
    "duration": 9,
    "start_time": "2022-04-27T08:12:06.972Z"
   },
   {
    "duration": 9,
    "start_time": "2022-04-27T08:12:06.983Z"
   },
   {
    "duration": 32,
    "start_time": "2022-04-27T08:12:06.993Z"
   },
   {
    "duration": 15,
    "start_time": "2022-04-27T08:12:07.027Z"
   },
   {
    "duration": 15,
    "start_time": "2022-04-27T08:12:07.044Z"
   },
   {
    "duration": 8,
    "start_time": "2022-04-27T08:12:07.061Z"
   },
   {
    "duration": 13,
    "start_time": "2022-04-27T08:12:07.071Z"
   },
   {
    "duration": 447,
    "start_time": "2022-04-27T08:12:07.086Z"
   },
   {
    "duration": 3,
    "start_time": "2022-04-27T08:12:07.534Z"
   },
   {
    "duration": 9,
    "start_time": "2022-04-27T08:12:07.538Z"
   },
   {
    "duration": 42,
    "start_time": "2022-04-27T08:12:07.549Z"
   },
   {
    "duration": 54,
    "start_time": "2022-04-27T08:12:07.593Z"
   },
   {
    "duration": 40,
    "start_time": "2022-04-27T08:12:07.648Z"
   },
   {
    "duration": 3,
    "start_time": "2022-04-27T08:12:07.689Z"
   },
   {
    "duration": 39,
    "start_time": "2022-04-27T08:12:07.694Z"
   },
   {
    "duration": 4,
    "start_time": "2022-04-27T08:12:07.736Z"
   },
   {
    "duration": 13,
    "start_time": "2022-04-27T08:12:07.742Z"
   },
   {
    "duration": 7,
    "start_time": "2022-04-27T08:12:07.757Z"
   },
   {
    "duration": 417,
    "start_time": "2022-04-27T08:12:07.765Z"
   },
   {
    "duration": 4,
    "start_time": "2022-04-27T08:12:08.184Z"
   },
   {
    "duration": 43,
    "start_time": "2022-04-27T08:12:08.190Z"
   },
   {
    "duration": 541,
    "start_time": "2022-04-27T08:12:08.235Z"
   },
   {
    "duration": 3,
    "start_time": "2022-04-27T08:12:08.778Z"
   },
   {
    "duration": 1475,
    "start_time": "2022-04-27T08:12:08.782Z"
   },
   {
    "duration": 1850,
    "start_time": "2022-04-27T08:12:10.259Z"
   },
   {
    "duration": 1963,
    "start_time": "2022-04-27T08:12:12.111Z"
   },
   {
    "duration": 2368,
    "start_time": "2022-04-27T08:12:14.076Z"
   },
   {
    "duration": 10,
    "start_time": "2022-04-27T08:12:16.445Z"
   },
   {
    "duration": 1872,
    "start_time": "2022-04-27T08:12:16.457Z"
   },
   {
    "duration": 1921,
    "start_time": "2022-04-27T08:12:18.330Z"
   },
   {
    "duration": 829,
    "start_time": "2022-04-27T08:12:20.253Z"
   },
   {
    "duration": 1503,
    "start_time": "2022-04-27T08:12:21.083Z"
   },
   {
    "duration": 786,
    "start_time": "2022-04-27T08:12:22.587Z"
   },
   {
    "duration": 1351,
    "start_time": "2022-04-27T08:12:23.375Z"
   },
   {
    "duration": 1135,
    "start_time": "2022-04-27T08:12:24.727Z"
   },
   {
    "duration": 1755,
    "start_time": "2022-04-27T08:12:25.863Z"
   },
   {
    "duration": 772,
    "start_time": "2022-04-27T08:12:27.624Z"
   },
   {
    "duration": 1408,
    "start_time": "2022-04-27T08:12:28.398Z"
   },
   {
    "duration": 800,
    "start_time": "2022-04-27T08:12:29.807Z"
   },
   {
    "duration": 1320,
    "start_time": "2022-04-27T08:12:30.609Z"
   }
  ],
  "kernelspec": {
   "display_name": "Python 3 (ipykernel)",
   "language": "python",
   "name": "python3"
  },
  "language_info": {
   "codemirror_mode": {
    "name": "ipython",
    "version": 3
   },
   "file_extension": ".py",
   "mimetype": "text/x-python",
   "name": "python",
   "nbconvert_exporter": "python",
   "pygments_lexer": "ipython3",
   "version": "3.9.7"
  },
  "toc": {
   "base_numbering": 1,
   "nav_menu": {},
   "number_sections": true,
   "sideBar": true,
   "skip_h1_title": true,
   "title_cell": "Table of Contents",
   "title_sidebar": "Contents",
   "toc_cell": false,
   "toc_position": {
    "height": "calc(100% - 180px)",
    "left": "10px",
    "top": "150px",
    "width": "304.5px"
   },
   "toc_section_display": true,
   "toc_window_display": true
  }
 },
 "nbformat": 4,
 "nbformat_minor": 4
}
