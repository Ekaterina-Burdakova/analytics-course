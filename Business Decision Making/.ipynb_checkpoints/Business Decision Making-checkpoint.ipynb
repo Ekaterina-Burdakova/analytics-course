{
 "cells": [
  {
   "cell_type": "markdown",
   "metadata": {},
   "source": [
    "# Название проекта:  Анализ гипотез для увеличения выручки интернет магазина."
   ]
  },
  {
   "cell_type": "markdown",
   "metadata": {},
   "source": [
    "Как аналитику крупного интернет-магазина перед нами стоит задача. Вместе с отделом маркетинга мы подготовили список гипотез для увеличения выручки.\n",
    "Нам предстоит провести приоритезацию гипотез, запустить A/B-тест и проанализировать результаты."
   ]
  },
  {
   "cell_type": "markdown",
   "metadata": {},
   "source": [
    "## Описание данных:\n",
    "\n",
    "<strong>Данные для первой части</strong></div><div class=\"paragraph\">Файл <code class=\"code-inline code-inline_theme_light\">/datasets/hypothesis.csv</code>. <a href=\"https://code.s3.yandex.net/datasets/hypothesis.csv\" target=\"_blank\">Скачать датасет</a></div><ul><li><code class=\"code-inline code-inline_theme_light\">Hypothesis</code> — краткое описание гипотезы;</li><li><code class=\"code-inline code-inline_theme_light\">Reach</code> — охват пользователей по 10-балльной шкале;</li><li><code class=\"code-inline code-inline_theme_light\">Impact</code> — влияние на пользователей по 10-балльной шкале;</li><li><code class=\"code-inline code-inline_theme_light\">Confidence</code> — уверенность в гипотезе по 10-балльной шкале;</li><li><code class=\"code-inline code-inline_theme_light\">Efforts</code> — затраты ресурсов на проверку гипотезы по 10-балльной шкале. Чем больше значение <code class=\"code-inline code-inline_theme_light\">Efforts</code>, тем дороже проверка гипотезы.</li></ul><div class=\"paragraph\"><strong>Данные для второй части</strong></div><div class=\"paragraph\">Файл <code class=\"code-inline code-inline_theme_light\">/datasets/orders.csv</code>. <a href=\"https://code.s3.yandex.net/datasets/orders.csv\" target=\"_blank\">Скачать датасет</a></div><ul><li><code class=\"code-inline code-inline_theme_light\">transactionId</code> — идентификатор заказа;</li><li><code class=\"code-inline code-inline_theme_light\">visitorId</code> — идентификатор пользователя, совершившего заказ;</li><li><code class=\"code-inline code-inline_theme_light\">date</code> — дата, когда был совершён заказ;</li><li><code class=\"code-inline code-inline_theme_light\">revenue</code> — выручка заказа;</li><li><code class=\"code-inline code-inline_theme_light\">group</code> — группа A/B-теста, в которую попал заказ.</li></ul><div class=\"paragraph\">Файл <code class=\"code-inline code-inline_theme_light\">/datasets/visitors.csv</code>. <a href=\"https://code.s3.yandex.net/datasets/visitors.csv\" target=\"_blank\">Скачать датасет</a></div><ul><li><code class=\"code-inline code-inline_theme_light\">date</code> — дата;</li><li><code class=\"code-inline code-inline_theme_light\">group</code> — группа A/B-теста;</li><li><code class=\"code-inline code-inline_theme_light\">visitors</code> — количество пользователей в указанную дату в указанной группе A/B-теста</li></ul>"
   ]
  },
  {
   "cell_type": "markdown",
   "metadata": {},
   "source": [
    "## Приоретизация гипотез"
   ]
  },
  {
   "cell_type": "markdown",
   "metadata": {},
   "source": [
    "Импортируем все необходимые библиотеки"
   ]
  },
  {
   "cell_type": "code",
   "execution_count": 1,
   "metadata": {},
   "outputs": [],
   "source": [
    "import pandas as pd\n",
    "import scipy.stats as stats\n",
    "import datetime as dt\n",
    "import numpy as np\n",
    "import matplotlib.pyplot as plt\n",
    "import seaborn as sns\n",
    "from scipy import stats as st"
   ]
  },
  {
   "cell_type": "code",
   "execution_count": 2,
   "metadata": {},
   "outputs": [
    {
     "data": {
      "text/html": [
       "<div>\n",
       "<style scoped>\n",
       "    .dataframe tbody tr th:only-of-type {\n",
       "        vertical-align: middle;\n",
       "    }\n",
       "\n",
       "    .dataframe tbody tr th {\n",
       "        vertical-align: top;\n",
       "    }\n",
       "\n",
       "    .dataframe thead th {\n",
       "        text-align: right;\n",
       "    }\n",
       "</style>\n",
       "<table border=\"1\" class=\"dataframe\">\n",
       "  <thead>\n",
       "    <tr style=\"text-align: right;\">\n",
       "      <th></th>\n",
       "      <th>Hypothesis</th>\n",
       "      <th>Reach</th>\n",
       "      <th>Impact</th>\n",
       "      <th>Confidence</th>\n",
       "      <th>Efforts</th>\n",
       "    </tr>\n",
       "  </thead>\n",
       "  <tbody>\n",
       "    <tr>\n",
       "      <th>0</th>\n",
       "      <td>Добавить два новых канала привлечения трафика,...</td>\n",
       "      <td>3</td>\n",
       "      <td>10</td>\n",
       "      <td>8</td>\n",
       "      <td>6</td>\n",
       "    </tr>\n",
       "    <tr>\n",
       "      <th>1</th>\n",
       "      <td>Запустить собственную службу доставки, что сок...</td>\n",
       "      <td>2</td>\n",
       "      <td>5</td>\n",
       "      <td>4</td>\n",
       "      <td>10</td>\n",
       "    </tr>\n",
       "    <tr>\n",
       "      <th>2</th>\n",
       "      <td>Добавить блоки рекомендаций товаров на сайт ин...</td>\n",
       "      <td>8</td>\n",
       "      <td>3</td>\n",
       "      <td>7</td>\n",
       "      <td>3</td>\n",
       "    </tr>\n",
       "    <tr>\n",
       "      <th>3</th>\n",
       "      <td>Изменить структура категорий, что увеличит кон...</td>\n",
       "      <td>8</td>\n",
       "      <td>3</td>\n",
       "      <td>3</td>\n",
       "      <td>8</td>\n",
       "    </tr>\n",
       "    <tr>\n",
       "      <th>4</th>\n",
       "      <td>Изменить цвет фона главной страницы, чтобы уве...</td>\n",
       "      <td>3</td>\n",
       "      <td>1</td>\n",
       "      <td>1</td>\n",
       "      <td>1</td>\n",
       "    </tr>\n",
       "    <tr>\n",
       "      <th>5</th>\n",
       "      <td>Добавить страницу отзывов клиентов о магазине,...</td>\n",
       "      <td>3</td>\n",
       "      <td>2</td>\n",
       "      <td>2</td>\n",
       "      <td>3</td>\n",
       "    </tr>\n",
       "    <tr>\n",
       "      <th>6</th>\n",
       "      <td>Показать на главной странице баннеры с актуаль...</td>\n",
       "      <td>5</td>\n",
       "      <td>3</td>\n",
       "      <td>8</td>\n",
       "      <td>3</td>\n",
       "    </tr>\n",
       "    <tr>\n",
       "      <th>7</th>\n",
       "      <td>Добавить форму подписки на все основные страни...</td>\n",
       "      <td>10</td>\n",
       "      <td>7</td>\n",
       "      <td>8</td>\n",
       "      <td>5</td>\n",
       "    </tr>\n",
       "    <tr>\n",
       "      <th>8</th>\n",
       "      <td>Запустить акцию, дающую скидку на товар в день...</td>\n",
       "      <td>1</td>\n",
       "      <td>9</td>\n",
       "      <td>9</td>\n",
       "      <td>5</td>\n",
       "    </tr>\n",
       "  </tbody>\n",
       "</table>\n",
       "</div>"
      ],
      "text/plain": [
       "                                          Hypothesis  Reach  Impact  \\\n",
       "0  Добавить два новых канала привлечения трафика,...      3      10   \n",
       "1  Запустить собственную службу доставки, что сок...      2       5   \n",
       "2  Добавить блоки рекомендаций товаров на сайт ин...      8       3   \n",
       "3  Изменить структура категорий, что увеличит кон...      8       3   \n",
       "4  Изменить цвет фона главной страницы, чтобы уве...      3       1   \n",
       "5  Добавить страницу отзывов клиентов о магазине,...      3       2   \n",
       "6  Показать на главной странице баннеры с актуаль...      5       3   \n",
       "7  Добавить форму подписки на все основные страни...     10       7   \n",
       "8  Запустить акцию, дающую скидку на товар в день...      1       9   \n",
       "\n",
       "   Confidence  Efforts  \n",
       "0           8        6  \n",
       "1           4       10  \n",
       "2           7        3  \n",
       "3           3        8  \n",
       "4           1        1  \n",
       "5           2        3  \n",
       "6           8        3  \n",
       "7           8        5  \n",
       "8           9        5  "
      ]
     },
     "execution_count": 2,
     "metadata": {},
     "output_type": "execute_result"
    }
   ],
   "source": [
    "data = pd.read_csv('https://raw.githubusercontent.com/Ekaterina-Burdakova/analytics-course/master/datasets/hypothesis.csv', sep=',')\n",
    "data"
   ]
  },
  {
   "cell_type": "code",
   "execution_count": 3,
   "metadata": {},
   "outputs": [],
   "source": [
    "data.columns = data.columns.str.lower()"
   ]
  },
  {
   "cell_type": "markdown",
   "metadata": {},
   "source": [
    "Проведем приоритезацию гипотез с помощью фреймворка `ICE` (умножаем значимость для пользовательского опыта `impact` на нашу уверенность в этом `confidence` и делим на цену уровень стоимости проверки `efforts`)"
   ]
  },
  {
   "cell_type": "code",
   "execution_count": 4,
   "metadata": {},
   "outputs": [
    {
     "data": {
      "text/html": [
       "<div>\n",
       "<style scoped>\n",
       "    .dataframe tbody tr th:only-of-type {\n",
       "        vertical-align: middle;\n",
       "    }\n",
       "\n",
       "    .dataframe tbody tr th {\n",
       "        vertical-align: top;\n",
       "    }\n",
       "\n",
       "    .dataframe thead th {\n",
       "        text-align: right;\n",
       "    }\n",
       "</style>\n",
       "<table border=\"1\" class=\"dataframe\">\n",
       "  <thead>\n",
       "    <tr style=\"text-align: right;\">\n",
       "      <th></th>\n",
       "      <th>hypothesis</th>\n",
       "      <th>ICE</th>\n",
       "    </tr>\n",
       "  </thead>\n",
       "  <tbody>\n",
       "    <tr>\n",
       "      <th>8</th>\n",
       "      <td>Запустить акцию, дающую скидку на товар в день рождения</td>\n",
       "      <td>16.20</td>\n",
       "    </tr>\n",
       "    <tr>\n",
       "      <th>0</th>\n",
       "      <td>Добавить два новых канала привлечения трафика, что позволит привлекать на 30% больше пользователей</td>\n",
       "      <td>13.33</td>\n",
       "    </tr>\n",
       "    <tr>\n",
       "      <th>7</th>\n",
       "      <td>Добавить форму подписки на все основные страницы, чтобы собрать базу клиентов для email-рассылок</td>\n",
       "      <td>11.20</td>\n",
       "    </tr>\n",
       "    <tr>\n",
       "      <th>6</th>\n",
       "      <td>Показать на главной странице баннеры с актуальными акциями и распродажами, чтобы увеличить конверсию</td>\n",
       "      <td>8.00</td>\n",
       "    </tr>\n",
       "    <tr>\n",
       "      <th>2</th>\n",
       "      <td>Добавить блоки рекомендаций товаров на сайт интернет магазина, чтобы повысить конверсию и средний чек заказа</td>\n",
       "      <td>7.00</td>\n",
       "    </tr>\n",
       "    <tr>\n",
       "      <th>1</th>\n",
       "      <td>Запустить собственную службу доставки, что сократит срок доставки заказов</td>\n",
       "      <td>2.00</td>\n",
       "    </tr>\n",
       "    <tr>\n",
       "      <th>5</th>\n",
       "      <td>Добавить страницу отзывов клиентов о магазине, что позволит увеличить количество заказов</td>\n",
       "      <td>1.33</td>\n",
       "    </tr>\n",
       "    <tr>\n",
       "      <th>3</th>\n",
       "      <td>Изменить структура категорий, что увеличит конверсию, т.к. пользователи быстрее найдут нужный товар</td>\n",
       "      <td>1.12</td>\n",
       "    </tr>\n",
       "    <tr>\n",
       "      <th>4</th>\n",
       "      <td>Изменить цвет фона главной страницы, чтобы увеличить вовлеченность пользователей</td>\n",
       "      <td>1.00</td>\n",
       "    </tr>\n",
       "  </tbody>\n",
       "</table>\n",
       "</div>"
      ],
      "text/plain": [
       "                                                                                                     hypothesis  \\\n",
       "8                                                       Запустить акцию, дающую скидку на товар в день рождения   \n",
       "0            Добавить два новых канала привлечения трафика, что позволит привлекать на 30% больше пользователей   \n",
       "7              Добавить форму подписки на все основные страницы, чтобы собрать базу клиентов для email-рассылок   \n",
       "6          Показать на главной странице баннеры с актуальными акциями и распродажами, чтобы увеличить конверсию   \n",
       "2  Добавить блоки рекомендаций товаров на сайт интернет магазина, чтобы повысить конверсию и средний чек заказа   \n",
       "1                                     Запустить собственную службу доставки, что сократит срок доставки заказов   \n",
       "5                      Добавить страницу отзывов клиентов о магазине, что позволит увеличить количество заказов   \n",
       "3           Изменить структура категорий, что увеличит конверсию, т.к. пользователи быстрее найдут нужный товар   \n",
       "4                              Изменить цвет фона главной страницы, чтобы увеличить вовлеченность пользователей   \n",
       "\n",
       "     ICE  \n",
       "8  16.20  \n",
       "0  13.33  \n",
       "7  11.20  \n",
       "6   8.00  \n",
       "2   7.00  \n",
       "1   2.00  \n",
       "5   1.33  \n",
       "3   1.12  \n",
       "4   1.00  "
      ]
     },
     "metadata": {},
     "output_type": "display_data"
    }
   ],
   "source": [
    "data['ICE'] = round (data['impact']*data['confidence']/data['efforts'], 2) # рассчитываем ICE, результат записываем в отдельный столбец\n",
    "pd.set_option('max_colwidth', 150) # увеличиваем максимальную ширину столбца, чтобы была возможность прочесть гипотезы полностью\n",
    "display(data[['hypothesis','ICE']].sort_values(by='ICE', ascending=False)) # выводим на экран гипотезы в порядке приоритезации по ICE"
   ]
  },
  {
   "cell_type": "markdown",
   "metadata": {},
   "source": [
    "Теперь воспользуемся фреймворком `RICE`. При использовании этого фреймворка в множители числителя добавляем значение оценку количества пользователей, которых затронут изменения `reach` "
   ]
  },
  {
   "cell_type": "code",
   "execution_count": 5,
   "metadata": {
    "scrolled": true
   },
   "outputs": [
    {
     "data": {
      "text/html": [
       "<div>\n",
       "<style scoped>\n",
       "    .dataframe tbody tr th:only-of-type {\n",
       "        vertical-align: middle;\n",
       "    }\n",
       "\n",
       "    .dataframe tbody tr th {\n",
       "        vertical-align: top;\n",
       "    }\n",
       "\n",
       "    .dataframe thead th {\n",
       "        text-align: right;\n",
       "    }\n",
       "</style>\n",
       "<table border=\"1\" class=\"dataframe\">\n",
       "  <thead>\n",
       "    <tr style=\"text-align: right;\">\n",
       "      <th></th>\n",
       "      <th>hypothesis</th>\n",
       "      <th>RICE</th>\n",
       "    </tr>\n",
       "  </thead>\n",
       "  <tbody>\n",
       "    <tr>\n",
       "      <th>7</th>\n",
       "      <td>Добавить форму подписки на все основные страницы, чтобы собрать базу клиентов для email-рассылок</td>\n",
       "      <td>112.0</td>\n",
       "    </tr>\n",
       "    <tr>\n",
       "      <th>2</th>\n",
       "      <td>Добавить блоки рекомендаций товаров на сайт интернет магазина, чтобы повысить конверсию и средний чек заказа</td>\n",
       "      <td>56.0</td>\n",
       "    </tr>\n",
       "    <tr>\n",
       "      <th>0</th>\n",
       "      <td>Добавить два новых канала привлечения трафика, что позволит привлекать на 30% больше пользователей</td>\n",
       "      <td>40.0</td>\n",
       "    </tr>\n",
       "    <tr>\n",
       "      <th>6</th>\n",
       "      <td>Показать на главной странице баннеры с актуальными акциями и распродажами, чтобы увеличить конверсию</td>\n",
       "      <td>40.0</td>\n",
       "    </tr>\n",
       "    <tr>\n",
       "      <th>8</th>\n",
       "      <td>Запустить акцию, дающую скидку на товар в день рождения</td>\n",
       "      <td>16.2</td>\n",
       "    </tr>\n",
       "    <tr>\n",
       "      <th>3</th>\n",
       "      <td>Изменить структура категорий, что увеличит конверсию, т.к. пользователи быстрее найдут нужный товар</td>\n",
       "      <td>9.0</td>\n",
       "    </tr>\n",
       "    <tr>\n",
       "      <th>1</th>\n",
       "      <td>Запустить собственную службу доставки, что сократит срок доставки заказов</td>\n",
       "      <td>4.0</td>\n",
       "    </tr>\n",
       "    <tr>\n",
       "      <th>5</th>\n",
       "      <td>Добавить страницу отзывов клиентов о магазине, что позволит увеличить количество заказов</td>\n",
       "      <td>4.0</td>\n",
       "    </tr>\n",
       "    <tr>\n",
       "      <th>4</th>\n",
       "      <td>Изменить цвет фона главной страницы, чтобы увеличить вовлеченность пользователей</td>\n",
       "      <td>3.0</td>\n",
       "    </tr>\n",
       "  </tbody>\n",
       "</table>\n",
       "</div>"
      ],
      "text/plain": [
       "                                                                                                     hypothesis  \\\n",
       "7              Добавить форму подписки на все основные страницы, чтобы собрать базу клиентов для email-рассылок   \n",
       "2  Добавить блоки рекомендаций товаров на сайт интернет магазина, чтобы повысить конверсию и средний чек заказа   \n",
       "0            Добавить два новых канала привлечения трафика, что позволит привлекать на 30% больше пользователей   \n",
       "6          Показать на главной странице баннеры с актуальными акциями и распродажами, чтобы увеличить конверсию   \n",
       "8                                                       Запустить акцию, дающую скидку на товар в день рождения   \n",
       "3           Изменить структура категорий, что увеличит конверсию, т.к. пользователи быстрее найдут нужный товар   \n",
       "1                                     Запустить собственную службу доставки, что сократит срок доставки заказов   \n",
       "5                      Добавить страницу отзывов клиентов о магазине, что позволит увеличить количество заказов   \n",
       "4                              Изменить цвет фона главной страницы, чтобы увеличить вовлеченность пользователей   \n",
       "\n",
       "    RICE  \n",
       "7  112.0  \n",
       "2   56.0  \n",
       "0   40.0  \n",
       "6   40.0  \n",
       "8   16.2  \n",
       "3    9.0  \n",
       "1    4.0  \n",
       "5    4.0  \n",
       "4    3.0  "
      ]
     },
     "metadata": {},
     "output_type": "display_data"
    }
   ],
   "source": [
    "data['RICE'] = data['reach']*data['impact']*data['confidence']/data['efforts'] # рассчитываем RICE, результат записываем в отдельный столбец\n",
    "display(data[['hypothesis','RICE']].sort_values(by='RICE', ascending=False)) # выводим на экран гипотезы в порядке приоритезации по RICE"
   ]
  },
  {
   "cell_type": "markdown",
   "metadata": {},
   "source": [
    "Для наглядности выведем рядом очередность приоритезации гипотез разными фреймворками"
   ]
  },
  {
   "cell_type": "markdown",
   "metadata": {},
   "source": [
    "<table class=\"tftable\" border=\"1\">\n",
    "<tr><th>ICE</th><th>RICE</th></tr>\n",
    "<tr><td>8</td><td>7</td></tr>\n",
    "<tr><td>0</td><td>2</td></tr>\n",
    "<tr><td>7</td><td>0</td></tr>\n",
    "<tr><td>6</td><td>6</td></tr>\n",
    "<tr><td>2</td><td>8</td></tr>\n",
    "<tr><td>1</td><td>3</td></tr>\n",
    "<tr><td>5</td><td>1</td></tr>\n",
    "<tr><td>3</td><td>5</td></tr>\n",
    "<tr><td>4</td><td>4</td></tr>\n",
    "</table>\n"
   ]
  },
  {
   "cell_type": "markdown",
   "metadata": {},
   "source": [
    "Результаты несколько разнятся. Это связано с тем, что `RICE` учитывает оценку количества пользователей, которых затронут изменения и чем их больше, тем приоритет гипотезы выше. Для `ICE` этот критерий не учитывается.\n",
    "\n",
    "Стоит отметить, что в обоих случаях можно выделить приоритетными гипотезы под номерами `7, 0, 6`. Несмотря на то, что их приоритет разнится при оценке разными фреймворками, в обоих случаях они вверху нашего \"рейтинга\". Гипотезы же `4, 5, 3, 1` в обоих случаях имеют низкий приоритет."
   ]
  },
  {
   "cell_type": "markdown",
   "metadata": {},
   "source": [
    "## Анализ А/В теста"
   ]
  },
  {
   "cell_type": "markdown",
   "metadata": {},
   "source": [
    "### Предобработка"
   ]
  },
  {
   "cell_type": "markdown",
   "metadata": {},
   "source": [
    "Для начала запишем данные из имеющихся датафреймов в переменные `orders` и `visitors` соответственно и посмотрим как выглядят таблицы."
   ]
  },
  {
   "cell_type": "code",
   "execution_count": 6,
   "metadata": {
    "scrolled": true
   },
   "outputs": [
    {
     "data": {
      "text/html": [
       "<div>\n",
       "<style scoped>\n",
       "    .dataframe tbody tr th:only-of-type {\n",
       "        vertical-align: middle;\n",
       "    }\n",
       "\n",
       "    .dataframe tbody tr th {\n",
       "        vertical-align: top;\n",
       "    }\n",
       "\n",
       "    .dataframe thead th {\n",
       "        text-align: right;\n",
       "    }\n",
       "</style>\n",
       "<table border=\"1\" class=\"dataframe\">\n",
       "  <thead>\n",
       "    <tr style=\"text-align: right;\">\n",
       "      <th></th>\n",
       "      <th>transactionId</th>\n",
       "      <th>visitorId</th>\n",
       "      <th>date</th>\n",
       "      <th>revenue</th>\n",
       "      <th>group</th>\n",
       "    </tr>\n",
       "  </thead>\n",
       "  <tbody>\n",
       "    <tr>\n",
       "      <th>0</th>\n",
       "      <td>3667963787</td>\n",
       "      <td>3312258926</td>\n",
       "      <td>2019-08-15</td>\n",
       "      <td>1650</td>\n",
       "      <td>B</td>\n",
       "    </tr>\n",
       "    <tr>\n",
       "      <th>1</th>\n",
       "      <td>2804400009</td>\n",
       "      <td>3642806036</td>\n",
       "      <td>2019-08-15</td>\n",
       "      <td>730</td>\n",
       "      <td>B</td>\n",
       "    </tr>\n",
       "    <tr>\n",
       "      <th>2</th>\n",
       "      <td>2961555356</td>\n",
       "      <td>4069496402</td>\n",
       "      <td>2019-08-15</td>\n",
       "      <td>400</td>\n",
       "      <td>A</td>\n",
       "    </tr>\n",
       "    <tr>\n",
       "      <th>3</th>\n",
       "      <td>3797467345</td>\n",
       "      <td>1196621759</td>\n",
       "      <td>2019-08-15</td>\n",
       "      <td>9759</td>\n",
       "      <td>B</td>\n",
       "    </tr>\n",
       "    <tr>\n",
       "      <th>4</th>\n",
       "      <td>2282983706</td>\n",
       "      <td>2322279887</td>\n",
       "      <td>2019-08-15</td>\n",
       "      <td>2308</td>\n",
       "      <td>B</td>\n",
       "    </tr>\n",
       "  </tbody>\n",
       "</table>\n",
       "</div>"
      ],
      "text/plain": [
       "   transactionId   visitorId        date  revenue group\n",
       "0     3667963787  3312258926  2019-08-15     1650     B\n",
       "1     2804400009  3642806036  2019-08-15      730     B\n",
       "2     2961555356  4069496402  2019-08-15      400     A\n",
       "3     3797467345  1196621759  2019-08-15     9759     B\n",
       "4     2282983706  2322279887  2019-08-15     2308     B"
      ]
     },
     "execution_count": 6,
     "metadata": {},
     "output_type": "execute_result"
    }
   ],
   "source": [
    "orders = pd.read_csv('https://raw.githubusercontent.com/Ekaterina-Burdakova/analytics-course/master/datasets/orders.csv', sep=',')\n",
    "orders.head()"
   ]
  },
  {
   "cell_type": "code",
   "execution_count": 7,
   "metadata": {
    "scrolled": true
   },
   "outputs": [
    {
     "data": {
      "text/html": [
       "<div>\n",
       "<style scoped>\n",
       "    .dataframe tbody tr th:only-of-type {\n",
       "        vertical-align: middle;\n",
       "    }\n",
       "\n",
       "    .dataframe tbody tr th {\n",
       "        vertical-align: top;\n",
       "    }\n",
       "\n",
       "    .dataframe thead th {\n",
       "        text-align: right;\n",
       "    }\n",
       "</style>\n",
       "<table border=\"1\" class=\"dataframe\">\n",
       "  <thead>\n",
       "    <tr style=\"text-align: right;\">\n",
       "      <th></th>\n",
       "      <th>date</th>\n",
       "      <th>group</th>\n",
       "      <th>visitors</th>\n",
       "    </tr>\n",
       "  </thead>\n",
       "  <tbody>\n",
       "    <tr>\n",
       "      <th>0</th>\n",
       "      <td>2019-08-01</td>\n",
       "      <td>A</td>\n",
       "      <td>719</td>\n",
       "    </tr>\n",
       "    <tr>\n",
       "      <th>1</th>\n",
       "      <td>2019-08-02</td>\n",
       "      <td>A</td>\n",
       "      <td>619</td>\n",
       "    </tr>\n",
       "    <tr>\n",
       "      <th>2</th>\n",
       "      <td>2019-08-03</td>\n",
       "      <td>A</td>\n",
       "      <td>507</td>\n",
       "    </tr>\n",
       "    <tr>\n",
       "      <th>3</th>\n",
       "      <td>2019-08-04</td>\n",
       "      <td>A</td>\n",
       "      <td>717</td>\n",
       "    </tr>\n",
       "    <tr>\n",
       "      <th>4</th>\n",
       "      <td>2019-08-05</td>\n",
       "      <td>A</td>\n",
       "      <td>756</td>\n",
       "    </tr>\n",
       "  </tbody>\n",
       "</table>\n",
       "</div>"
      ],
      "text/plain": [
       "         date group  visitors\n",
       "0  2019-08-01     A       719\n",
       "1  2019-08-02     A       619\n",
       "2  2019-08-03     A       507\n",
       "3  2019-08-04     A       717\n",
       "4  2019-08-05     A       756"
      ]
     },
     "execution_count": 7,
     "metadata": {},
     "output_type": "execute_result"
    }
   ],
   "source": [
    "visitors = pd.read_csv('https://raw.githubusercontent.com/Ekaterina-Burdakova/analytics-course/master/datasets/visitors.csv')\n",
    "visitors.head()"
   ]
  },
  {
   "cell_type": "markdown",
   "metadata": {},
   "source": [
    "Приведем тип данных в столбцах `date` в обоих датафреймах к типу `datetime`"
   ]
  },
  {
   "cell_type": "code",
   "execution_count": 8,
   "metadata": {},
   "outputs": [],
   "source": [
    "orders['date'] = orders['date'].map(\n",
    "    lambda x: dt.datetime.strptime(x, '%Y-%m-%d')\n",
    ")\n",
    "visitors['date'] = visitors['date'].map(\n",
    "    lambda x: dt.datetime.strptime(x, '%Y-%m-%d')\n",
    ")"
   ]
  },
  {
   "cell_type": "markdown",
   "metadata": {},
   "source": [
    "Проверяем корректность разделения пользователей по группам. "
   ]
  },
  {
   "cell_type": "code",
   "execution_count": 9,
   "metadata": {},
   "outputs": [
    {
     "data": {
      "text/plain": [
       "58"
      ]
     },
     "execution_count": 9,
     "metadata": {},
     "output_type": "execute_result"
    }
   ],
   "source": [
    "# отбираем группы из данных с заказами \n",
    "group_a=orders.query('group == \"A\"') \n",
    "group_b=orders.query('group == \"B\"') \n",
    "  \n",
    "# получаем id пользователей, попавших в обе группы \n",
    "group_intersections=list(np.intersect1d(group_a['visitorId'], group_b['visitorId']))\n",
    "len(group_intersections)"
   ]
  },
  {
   "cell_type": "markdown",
   "metadata": {},
   "source": [
    "Получается 58 пользователей попали в обе группы. Это может исказить выводы дальнейшего исследования, поэтому от записей о покупках этих пользователей придется избавиться"
   ]
  },
  {
   "cell_type": "code",
   "execution_count": 10,
   "metadata": {},
   "outputs": [],
   "source": [
    "# перезаписываем orders\n",
    "orders = orders.query('visitorId not in @group_intersections')"
   ]
  },
  {
   "cell_type": "markdown",
   "metadata": {},
   "source": [
    "Проверим, что в данных не осталось записей о пользователях попавших в обе группы"
   ]
  },
  {
   "cell_type": "code",
   "execution_count": 11,
   "metadata": {},
   "outputs": [
    {
     "data": {
      "text/plain": [
       "0"
      ]
     },
     "execution_count": 11,
     "metadata": {},
     "output_type": "execute_result"
    }
   ],
   "source": [
    "# отбираем группы из данных с заказами \n",
    "group_a=orders.query('group == \"A\"') \n",
    "group_b=orders.query('group == \"B\"') \n",
    "  \n",
    "# получаем пользователей, попавших в обе группы \n",
    "group_intersections=list(np.intersect1d(group_a['visitorId'], group_b['visitorId']))\n",
    "len(group_intersections)"
   ]
  },
  {
   "cell_type": "markdown",
   "metadata": {},
   "source": [
    "Чтобы построить графики, нужно собрать кумулятивные данные. Создадим датафрейм `cumulativeData` со столбцами:\n",
    "* `date` — дата;\n",
    "* `group` — группа A/B-теста (A или B);\n",
    "* `orders` — кумулятивное количество заказов на указанную дату в указанной группе;\n",
    "* `buyers` — кумулятивное количество пользователей, совершивших хотя бы один заказ, на указанную дату в указанной группе;\n",
    "* `revenue` — кумулятивная выручка на указанную дату в указанной группе (средний чек);\n",
    "* `visitors` — кумулятивное количество посетителей интернет-магазина на указанную дату в определённой группе.\n",
    "\n",
    "Для этого вначале подготовимся."
   ]
  },
  {
   "cell_type": "code",
   "execution_count": 12,
   "metadata": {},
   "outputs": [],
   "source": [
    "# создаем массив уникальных пар значений дат и групп теста\n",
    "datesGroups = orders[['date','group']].drop_duplicates()"
   ]
  },
  {
   "cell_type": "markdown",
   "metadata": {},
   "source": [
    "Получим строки таблицы `orders`, дата которых меньше или равна дате элемента из `datesGroups`, а группа теста равна группе из datesGroups.\n",
    "\n",
    "Агрегируем значения. Вычислим максимальную дату. Для группы тоже рассчитаем максимум, и хотя она будет определённой, сделаем это, чтобы столбец `group` не пропал из итогового вывода. Найдём число уникальных ID заказов и пользователей. Подсчитаем сумму средних чеков\n",
    "\n",
    "Применим методы к каждой строке датафрейма и отсортируем результаты по столбцам `date` и `group`.\n",
    "\n",
    "Результат запишем в датафрейм `ordersAgregated` \n"
   ]
  },
  {
   "cell_type": "code",
   "execution_count": 13,
   "metadata": {},
   "outputs": [],
   "source": [
    "ordersAggregated = datesGroups.apply(lambda x: orders[np.logical_and(orders['date'] <= x['date'], orders['group'] == x['group'])]\\\n",
    ".agg({'date' : 'max', 'group' : 'max', 'transactionId' : 'nunique', 'visitorId' : 'nunique', 'revenue' : 'sum'}), axis=1).sort_values(by=['date','group'])"
   ]
  },
  {
   "cell_type": "markdown",
   "metadata": {},
   "source": [
    "Аналогично `visitorsAggregated`"
   ]
  },
  {
   "cell_type": "code",
   "execution_count": 14,
   "metadata": {},
   "outputs": [],
   "source": [
    "visitorsAggregated = datesGroups.apply(lambda x: visitors[np.logical_and(visitors['date'] <= x['date'], visitors['group'] == x['group'])].agg({'date' : 'max', 'group' : 'max', 'visitors' : 'sum'}), axis=1).sort_values(by=['date','group'])"
   ]
  },
  {
   "cell_type": "markdown",
   "metadata": {},
   "source": [
    "Таким образом в `ordersAggregated` и `visitorsAggregated` будут находиться такие данные как будто мы ежедневно считали результаты тестирования до выбранного дня включительно и сохраняли их в строках таблиц."
   ]
  },
  {
   "cell_type": "code",
   "execution_count": 15,
   "metadata": {},
   "outputs": [
    {
     "name": "stdout",
     "output_type": "stream",
     "text": [
      "        date group  orders  buyers  revenue  visitors\n",
      "0 2019-08-01     A      23      19   142779       719\n",
      "1 2019-08-01     B      17      17    59758       713\n",
      "2 2019-08-02     A      42      36   234381      1338\n",
      "3 2019-08-02     B      40      39   221801      1294\n",
      "4 2019-08-03     A      66      60   346854      1845\n"
     ]
    }
   ],
   "source": [
    "# объединяем кумулятивные данные в одной таблице и присваиваем ее столбцам понятные названия\n",
    "cumulativeData = ordersAggregated.merge(visitorsAggregated, left_on=['date', 'group'], right_on=['date', 'group'])\n",
    "cumulativeData.columns = ['date', 'group', 'orders', 'buyers', 'revenue', 'visitors']\n",
    "\n",
    "print(cumulativeData.head(5)) "
   ]
  },
  {
   "cell_type": "markdown",
   "metadata": {},
   "source": [
    "### График кумулятивной выручки по группам"
   ]
  },
  {
   "cell_type": "code",
   "execution_count": 16,
   "metadata": {},
   "outputs": [],
   "source": [
    "# параметры визуализации\n",
    "sns.set(font_scale=2, style='whitegrid', rc={'figure.figsize':(20,7)})"
   ]
  },
  {
   "cell_type": "code",
   "execution_count": 17,
   "metadata": {},
   "outputs": [
    {
     "data": {
      "image/png": "[encoded data removed]",
      "text/plain": [
       "<Figure size 1440x504 with 1 Axes>"
      ]
     },
     "metadata": {},
     "output_type": "display_data"
    }
   ],
   "source": [
    "# датафрейм с кумулятивным количеством заказов и кумулятивной выручкой по дням в группе А\n",
    "cumulativeRevenueA = cumulativeData[cumulativeData['group']=='A'][['date','revenue', 'orders']]\n",
    "\n",
    "# датафрейм с кумулятивным количеством заказов и кумулятивной выручкой по дням в группе B\n",
    "cumulativeRevenueB = cumulativeData[cumulativeData['group']=='B'][['date','revenue', 'orders']]\n",
    "\n",
    "# Строим график выручки группы А\n",
    "plt.plot(cumulativeRevenueA['date'], cumulativeRevenueA['revenue'], label='A')\n",
    "\n",
    "# Строим график выручки группы B\n",
    "plt.plot(cumulativeRevenueB['date'], cumulativeRevenueB['revenue'], label='B')\n",
    "\n",
    "# размер шрифта по оси х\n",
    "plt.tick_params(axis='x', which='major', labelsize=15)\n",
    "\n",
    "plt.title('График кумулятивной выручки по группам')\n",
    "plt.xlabel('Дата')\n",
    "plt.ylabel('Выручка')\n",
    "plt.legend(); "
   ]
  },
  {
   "cell_type": "markdown",
   "metadata": {},
   "source": [
    "`Вывод:`\n",
    "* выручка стабильно растет на протяжении всего теста в обоих группах;\n",
    "* в начале теста метрика немного колеблется, но показывает близкие значения в обоих группах;\n",
    "* у группы `B` наблюдается резкий всплеск после 17.08, который может быть связан с резким увеличением заказов в этот день,  либо о появлении очень дорогих заказов в выборке;\n",
    "* после выброса в группе `B` выручки в обоих группах стабилизируются и растут практически одинаково.\n",
    "\n",
    "Однозначно утверждать, что группа `B` лучше на данном шаге нельзя.\n"
   ]
  },
  {
   "cell_type": "markdown",
   "metadata": {},
   "source": [
    "###  График кумулятивного среднего чека по группам."
   ]
  },
  {
   "cell_type": "markdown",
   "metadata": {},
   "source": [
    "Построим графики среднего чека по группам — разделим кумулятивную выручку на кумулятивное число заказов:"
   ]
  },
  {
   "cell_type": "code",
   "execution_count": 18,
   "metadata": {},
   "outputs": [
    {
     "data": {
      "image/png": "[encoded data removed]",
      "text/plain": [
       "<Figure size 1440x504 with 1 Axes>"
      ]
     },
     "metadata": {},
     "output_type": "display_data"
    }
   ],
   "source": [
    "# график среднего чека группы А\n",
    "plt.plot(cumulativeRevenueA['date'], cumulativeRevenueA['revenue']/cumulativeRevenueA['orders'], label='A')\n",
    "\n",
    "# график среднего чека группы В\n",
    "plt.plot(cumulativeRevenueB['date'], cumulativeRevenueB['revenue']/cumulativeRevenueB['orders'], label='B')\n",
    "\n",
    "# размер шрифта по оси x\n",
    "plt.tick_params(axis='x', which='major', labelsize=15)\n",
    "\n",
    "plt.title('График кумулятивного среднего чека по группам')\n",
    "plt.xlabel('Дата')\n",
    "plt.ylabel('Кумулятивный cредний чек')\n",
    "plt.legend();"
   ]
  },
  {
   "cell_type": "markdown",
   "metadata": {},
   "source": [
    "`Вывод:`\n",
    "* В целом к концу теста метрика стабилизируется в обоих группах.\n",
    "* Группа `А`, в отличии от группы `В` более равномерна, к концу теста средний чек почти сравнялся с максимальным значением, достигнутым 13 августа.\n",
    "* Выделяется аномальный рост среднего чека 18-19 августа по группе `В`, а затем снижение. Возможно, в группу B в первой половине теста попали крупные заказы (резкий всплеск на графике). Тогда ей нужно больше данных, чтобы прийти к реальному среднему чеку и установиться на его уровне;\n"
   ]
  },
  {
   "cell_type": "markdown",
   "metadata": {},
   "source": [
    "### График относительного изменения кумулятивного среднего чека группы В к группе А."
   ]
  },
  {
   "cell_type": "markdown",
   "metadata": {},
   "source": [
    "Построим график относительного различия для среднего чека. "
   ]
  },
  {
   "cell_type": "code",
   "execution_count": 19,
   "metadata": {},
   "outputs": [
    {
     "data": {
      "image/png": "[encoded data removed]",
      "text/plain": [
       "<Figure size 1440x504 with 1 Axes>"
      ]
     },
     "metadata": {},
     "output_type": "display_data"
    }
   ],
   "source": [
    "# собираем данные в одном датафрейме\n",
    "mergedCumulativeRevenue = cumulativeRevenueA.merge(cumulativeRevenueB, left_on='date', right_on='date', how='left', suffixes=['A', 'B'])\n",
    "\n",
    "# cтроим отношение средних чеков\n",
    "plt.plot(mergedCumulativeRevenue['date'], (mergedCumulativeRevenue['revenueB']/mergedCumulativeRevenue['ordersB'])/(mergedCumulativeRevenue['revenueA']/mergedCumulativeRevenue['ordersA'])-1)\n",
    "\n",
    "# добавляем ось X\n",
    "plt.axhline(y=0, color='black', linestyle='--')\n",
    "\n",
    "# размер шрифта по оси x\n",
    "plt.tick_params(axis='x', which='major', labelsize=15)\n",
    "\n",
    "plt.title('График относительного изменения кумулятивного среднего чека группы B к группе A')\n",
    "plt.xlabel('Дата')\n",
    "plt.ylabel('Кумулятивный cредний чек');"
   ]
  },
  {
   "cell_type": "markdown",
   "metadata": {},
   "source": [
    "`Вывод:`\n",
    "* В начале теста лучше себя чувствовали показатели группы `B`, затем они стали ухудшаться относительно `А`\n",
    "* Ближе к середине теста 13.08 `А` достигает своих лучших показателей, поэтому график опускается в худшую за время теста для `B` точку\n",
    "* Однако важно отметить, что на графике различия между сегментами резко «скачет» в некоторых днях, например 05.08 или 08.08, но особенно выделяется, конечно скачок 18.08. Очевидно есть выбросы.\n",
    "* После выброса метрика снижается и стремится стабилизироваться.\n"
   ]
  },
  {
   "cell_type": "markdown",
   "metadata": {},
   "source": [
    "### График кумулятивной конверсии по группам"
   ]
  },
  {
   "cell_type": "markdown",
   "metadata": {},
   "source": [
    "Теперь посмотрим на кумулятивную конверсию"
   ]
  },
  {
   "cell_type": "code",
   "execution_count": 20,
   "metadata": {},
   "outputs": [
    {
     "data": {
      "image/png": "[encoded data removed]",
      "text/plain": [
       "<Figure size 1440x504 with 1 Axes>"
      ]
     },
     "metadata": {},
     "output_type": "display_data"
    }
   ],
   "source": [
    "# считаем кумулятивную конверсию\n",
    "cumulativeData['conversion'] = cumulativeData['orders']/cumulativeData['visitors']\n",
    "\n",
    "# отделяем данные по группе A\n",
    "cumulativeDataA = cumulativeData[cumulativeData['group']=='A']\n",
    "\n",
    "# отделяем данные по группе B\n",
    "cumulativeDataB = cumulativeData[cumulativeData['group']=='B']\n",
    "\n",
    "# строим графики\n",
    "plt.plot(cumulativeDataA['date'], cumulativeDataA['conversion'], label='A')\n",
    "plt.plot(cumulativeDataB['date'], cumulativeDataB['conversion'], label='B')\n",
    "plt.legend()\n",
    "\n",
    "# размер шрифта по оси x\n",
    "plt.tick_params(axis='x', which='major', labelsize=15)\n",
    "\n",
    "# задаем масштаб осей\n",
    "plt.axis([dt.datetime(2019, 8, 1), dt.datetime(2019, 9, 1), 0.020, 0.038])\n",
    "\n",
    "plt.title('График кумулятивной конверсии по группам')\n",
    "plt.xlabel('Дата')\n",
    "plt.ylabel('Кумулятивная конверсия');"
   ]
  },
  {
   "cell_type": "markdown",
   "metadata": {},
   "source": [
    "`Вывод:`\n",
    "* В начале теста наблюдаем заметные колебания. В начале конверсия у группы `А` была больше группы `B`, но уже к концу первой недели тестирования конверсия группы `В` выросла, а группы `А` снизилась, после чего графики начали стремиться к стабилизации\n",
    "* К 11-12 августа различие в конверсии у обоих групп становится очевидно, и начинает фиксироваться. \n",
    "* Примерно к 20 августа колебания максимально сглаживаются \n",
    "* В целом, конверсия у группы `В` стабильно лучше по накопленным показателям чем `A`"
   ]
  },
  {
   "cell_type": "markdown",
   "metadata": {},
   "source": [
    "### График относительного изменения кумулятивной конверсии группы В к группе А"
   ]
  },
  {
   "cell_type": "markdown",
   "metadata": {},
   "source": [
    "Построим график относительного изменения кумулятивных конверсий"
   ]
  },
  {
   "cell_type": "code",
   "execution_count": 21,
   "metadata": {},
   "outputs": [
    {
     "data": {
      "image/png": "[encoded data removed]",
      "text/plain": [
       "<Figure size 1440x504 with 1 Axes>"
      ]
     },
     "metadata": {},
     "output_type": "display_data"
    }
   ],
   "source": [
    "mergedCumulativeConversions = cumulativeDataA[['date','conversion']].merge(cumulativeDataB[['date','conversion']], left_on='date', right_on='date', how='left', suffixes=['A', 'B'])\n",
    "\n",
    "plt.plot(mergedCumulativeConversions['date'], mergedCumulativeConversions['conversionB']/mergedCumulativeConversions['conversionA']-1, label=\"Относительный прирост конверсии группы B относительно группы A\")\n",
    "plt.legend()\n",
    "\n",
    "plt.axhline(y=0, color='black', linestyle='--')\n",
    "plt.axhline(y=0.1, color='grey', linestyle='--')\n",
    "plt.axis([dt.datetime(2019, 8, 1), dt.datetime(2019, 9, 1), -0.3, 0.3])\n",
    "\n",
    "# размер шрифта по оси x\n",
    "plt.tick_params(axis='x', which='major', labelsize=15)\n",
    "\n",
    "plt.title('График относительного изменения кумулятивной конверсии группы B к группе A')\n",
    "plt.xlabel('Дата')\n",
    "plt.ylabel('Кумулятивная конверсия');"
   ]
  },
  {
   "cell_type": "markdown",
   "metadata": {},
   "source": [
    "`Вывод:`\n",
    "\n",
    "* C самого начала теста, метрика группа `В` меньше группы `А`, но с 6 августа вырвалась вперед и стабильно росла до своего пика 15.08 в 21%, далее метрика начинается снижаться и стремиться к стабилизации. \n",
    "\n",
    "* В целом отношение конверсии стремится примерно к уровню 13-17% в пользу `B`, но в последние дни теста еще растет. Скорее всего отношение конверсии еще полностью не установилось, и сейчас делать какие-либо однозначные выводы по тесту еще нельзя, но на первый взгляд `B` выглядит интереснее в плане конверсии."
   ]
  },
  {
   "cell_type": "markdown",
   "metadata": {},
   "source": [
    "### Точечный график количества заказов по пользователям"
   ]
  },
  {
   "cell_type": "markdown",
   "metadata": {},
   "source": [
    "Для начала посмотрим топ количества заказов в табличном виде"
   ]
  },
  {
   "cell_type": "code",
   "execution_count": 22,
   "metadata": {
    "scrolled": true
   },
   "outputs": [
    {
     "data": {
      "text/html": [
       "<div>\n",
       "<style scoped>\n",
       "    .dataframe tbody tr th:only-of-type {\n",
       "        vertical-align: middle;\n",
       "    }\n",
       "\n",
       "    .dataframe tbody tr th {\n",
       "        vertical-align: top;\n",
       "    }\n",
       "\n",
       "    .dataframe thead th {\n",
       "        text-align: right;\n",
       "    }\n",
       "</style>\n",
       "<table border=\"1\" class=\"dataframe\">\n",
       "  <thead>\n",
       "    <tr style=\"text-align: right;\">\n",
       "      <th></th>\n",
       "      <th>visitorId</th>\n",
       "      <th>orders</th>\n",
       "    </tr>\n",
       "  </thead>\n",
       "  <tbody>\n",
       "    <tr>\n",
       "      <th>908</th>\n",
       "      <td>3967698036</td>\n",
       "      <td>3</td>\n",
       "    </tr>\n",
       "    <tr>\n",
       "      <th>55</th>\n",
       "      <td>249864742</td>\n",
       "      <td>3</td>\n",
       "    </tr>\n",
       "    <tr>\n",
       "      <th>478</th>\n",
       "      <td>2108163459</td>\n",
       "      <td>3</td>\n",
       "    </tr>\n",
       "    <tr>\n",
       "      <th>687</th>\n",
       "      <td>2988190573</td>\n",
       "      <td>3</td>\n",
       "    </tr>\n",
       "    <tr>\n",
       "      <th>890</th>\n",
       "      <td>3908431265</td>\n",
       "      <td>3</td>\n",
       "    </tr>\n",
       "    <tr>\n",
       "      <th>138</th>\n",
       "      <td>611059232</td>\n",
       "      <td>3</td>\n",
       "    </tr>\n",
       "    <tr>\n",
       "      <th>632</th>\n",
       "      <td>2742574263</td>\n",
       "      <td>3</td>\n",
       "    </tr>\n",
       "    <tr>\n",
       "      <th>157</th>\n",
       "      <td>678354126</td>\n",
       "      <td>2</td>\n",
       "    </tr>\n",
       "    <tr>\n",
       "      <th>323</th>\n",
       "      <td>1404560065</td>\n",
       "      <td>2</td>\n",
       "    </tr>\n",
       "    <tr>\n",
       "      <th>452</th>\n",
       "      <td>1985475298</td>\n",
       "      <td>2</td>\n",
       "    </tr>\n",
       "  </tbody>\n",
       "</table>\n",
       "</div>"
      ],
      "text/plain": [
       "      visitorId  orders\n",
       "908  3967698036       3\n",
       "55    249864742       3\n",
       "478  2108163459       3\n",
       "687  2988190573       3\n",
       "890  3908431265       3\n",
       "138   611059232       3\n",
       "632  2742574263       3\n",
       "157   678354126       2\n",
       "323  1404560065       2\n",
       "452  1985475298       2"
      ]
     },
     "execution_count": 22,
     "metadata": {},
     "output_type": "execute_result"
    }
   ],
   "source": [
    "ordersByUsers = (orders.groupby('visitorId', as_index=False).agg({'transactionId': pd.Series.nunique}))\n",
    "ordersByUsers.columns = ['visitorId', 'orders']\n",
    "\n",
    "ordersByUsers.sort_values(by='orders', ascending=False).head(10)"
   ]
  },
  {
   "cell_type": "markdown",
   "metadata": {},
   "source": [
    "Теперь построим точечный график количества заказов по пользователям"
   ]
  },
  {
   "cell_type": "code",
   "execution_count": 23,
   "metadata": {},
   "outputs": [
    {
     "data": {
      "image/png": "[encoded data removed]",
      "text/plain": [
       "<Figure size 1440x504 with 1 Axes>"
      ]
     },
     "metadata": {},
     "output_type": "display_data"
    }
   ],
   "source": [
    "# серия из чисел от 0 до количества наблюдений в ordersByUsers\n",
    "x_values = pd.Series(range(0, len(ordersByUsers)))\n",
    "plt.scatter(x_values, ordersByUsers['orders']);\n",
    "\n",
    "plt.title('Точечный график количества заказов по пользователям')\n",
    "plt.ylabel('Количество заказов');"
   ]
  },
  {
   "cell_type": "markdown",
   "metadata": {},
   "source": [
    "`Вывод:` \n",
    "\n",
    "Есть пользователи, которые совершали по 1, 2, 3 заказов. Чаще всего 1 заказ, не редки случаи и 2-х заказов. Их точная доля не ясна — непонятно, считать их аномалиями или нет. Для этого необходимо посчитать выборочные перцентили количества заказов на одного пользователя."
   ]
  },
  {
   "cell_type": "markdown",
   "metadata": {},
   "source": [
    "### Посчитаем выборочные 95-й и 99-й перцентили количества заказов на одного пользователя"
   ]
  },
  {
   "cell_type": "code",
   "execution_count": 24,
   "metadata": {},
   "outputs": [
    {
     "name": "stdout",
     "output_type": "stream",
     "text": [
      "[1. 2.]\n"
     ]
    }
   ],
   "source": [
    "print(np.percentile(ordersByUsers['orders'], [95, 99])) "
   ]
  },
  {
   "cell_type": "markdown",
   "metadata": {},
   "source": [
    "`Вывод:` \n",
    "\n",
    "Не более 5% пользователей оформляли больше чем один и не более 1% пользователей - больше двух заказов. Целесообразно выбрать 1 заказ на одного пользователя за нижнюю границу \"нормального\" числа заказов, и отсеять аномальных пользователей."
   ]
  },
  {
   "cell_type": "markdown",
   "metadata": {},
   "source": [
    "### Точечный график стоимости заказов"
   ]
  },
  {
   "cell_type": "markdown",
   "metadata": {},
   "source": [
    "Для начала посмотрим в табличном виде топ по стоимости заказов"
   ]
  },
  {
   "cell_type": "code",
   "execution_count": 25,
   "metadata": {
    "scrolled": false
   },
   "outputs": [
    {
     "data": {
      "text/html": [
       "<div>\n",
       "<style scoped>\n",
       "    .dataframe tbody tr th:only-of-type {\n",
       "        vertical-align: middle;\n",
       "    }\n",
       "\n",
       "    .dataframe tbody tr th {\n",
       "        vertical-align: top;\n",
       "    }\n",
       "\n",
       "    .dataframe thead th {\n",
       "        text-align: right;\n",
       "    }\n",
       "</style>\n",
       "<table border=\"1\" class=\"dataframe\">\n",
       "  <thead>\n",
       "    <tr style=\"text-align: right;\">\n",
       "      <th></th>\n",
       "      <th>transactionId</th>\n",
       "      <th>visitorId</th>\n",
       "      <th>date</th>\n",
       "      <th>revenue</th>\n",
       "      <th>group</th>\n",
       "    </tr>\n",
       "  </thead>\n",
       "  <tbody>\n",
       "    <tr>\n",
       "      <th>425</th>\n",
       "      <td>590470918</td>\n",
       "      <td>1920142716</td>\n",
       "      <td>2019-08-19</td>\n",
       "      <td>1294500</td>\n",
       "      <td>B</td>\n",
       "    </tr>\n",
       "    <tr>\n",
       "      <th>1196</th>\n",
       "      <td>3936777065</td>\n",
       "      <td>2108080724</td>\n",
       "      <td>2019-08-15</td>\n",
       "      <td>202740</td>\n",
       "      <td>B</td>\n",
       "    </tr>\n",
       "    <tr>\n",
       "      <th>1136</th>\n",
       "      <td>666610489</td>\n",
       "      <td>1307669133</td>\n",
       "      <td>2019-08-13</td>\n",
       "      <td>92550</td>\n",
       "      <td>A</td>\n",
       "    </tr>\n",
       "    <tr>\n",
       "      <th>744</th>\n",
       "      <td>3668308183</td>\n",
       "      <td>888512513</td>\n",
       "      <td>2019-08-27</td>\n",
       "      <td>86620</td>\n",
       "      <td>B</td>\n",
       "    </tr>\n",
       "    <tr>\n",
       "      <th>743</th>\n",
       "      <td>3603576309</td>\n",
       "      <td>4133034833</td>\n",
       "      <td>2019-08-09</td>\n",
       "      <td>67990</td>\n",
       "      <td>A</td>\n",
       "    </tr>\n",
       "    <tr>\n",
       "      <th>1103</th>\n",
       "      <td>1348774318</td>\n",
       "      <td>1164614297</td>\n",
       "      <td>2019-08-12</td>\n",
       "      <td>66350</td>\n",
       "      <td>A</td>\n",
       "    </tr>\n",
       "    <tr>\n",
       "      <th>1099</th>\n",
       "      <td>316924019</td>\n",
       "      <td>148427295</td>\n",
       "      <td>2019-08-12</td>\n",
       "      <td>65710</td>\n",
       "      <td>A</td>\n",
       "    </tr>\n",
       "    <tr>\n",
       "      <th>949</th>\n",
       "      <td>1347999392</td>\n",
       "      <td>887908475</td>\n",
       "      <td>2019-08-21</td>\n",
       "      <td>60450</td>\n",
       "      <td>A</td>\n",
       "    </tr>\n",
       "    <tr>\n",
       "      <th>940</th>\n",
       "      <td>2420050534</td>\n",
       "      <td>4003628586</td>\n",
       "      <td>2019-08-08</td>\n",
       "      <td>58550</td>\n",
       "      <td>B</td>\n",
       "    </tr>\n",
       "    <tr>\n",
       "      <th>131</th>\n",
       "      <td>3163614039</td>\n",
       "      <td>2254586615</td>\n",
       "      <td>2019-08-22</td>\n",
       "      <td>53904</td>\n",
       "      <td>A</td>\n",
       "    </tr>\n",
       "  </tbody>\n",
       "</table>\n",
       "</div>"
      ],
      "text/plain": [
       "      transactionId   visitorId       date  revenue group\n",
       "425       590470918  1920142716 2019-08-19  1294500     B\n",
       "1196     3936777065  2108080724 2019-08-15   202740     B\n",
       "1136      666610489  1307669133 2019-08-13    92550     A\n",
       "744      3668308183   888512513 2019-08-27    86620     B\n",
       "743      3603576309  4133034833 2019-08-09    67990     A\n",
       "1103     1348774318  1164614297 2019-08-12    66350     A\n",
       "1099      316924019   148427295 2019-08-12    65710     A\n",
       "949      1347999392   887908475 2019-08-21    60450     A\n",
       "940      2420050534  4003628586 2019-08-08    58550     B\n",
       "131      3163614039  2254586615 2019-08-22    53904     A"
      ]
     },
     "execution_count": 25,
     "metadata": {},
     "output_type": "execute_result"
    }
   ],
   "source": [
    "orders.sort_values(by='revenue', ascending=False).head(10)"
   ]
  },
  {
   "cell_type": "markdown",
   "metadata": {},
   "source": [
    "даже в этой таблице уже виден пользователь из группы `B`, который скорее всего и стал причиной аномального всплеска, потратив 1 294 500 рублей"
   ]
  },
  {
   "cell_type": "markdown",
   "metadata": {},
   "source": [
    "Теперь построим точечный график"
   ]
  },
  {
   "cell_type": "code",
   "execution_count": 26,
   "metadata": {},
   "outputs": [
    {
     "data": {
      "image/png": "[encoded data removed]",
      "text/plain": [
       "<Figure size 1440x504 with 1 Axes>"
      ]
     },
     "metadata": {},
     "output_type": "display_data"
    }
   ],
   "source": [
    "x_values = pd.Series(range(0, len(orders['revenue'])))\n",
    "plt.scatter(x_values, orders['revenue']);\n",
    "plt.title('Точечный график стоимостей заказов')\n",
    "plt.ylabel('Стоимость заказа в млн.');"
   ]
  },
  {
   "cell_type": "markdown",
   "metadata": {},
   "source": [
    "`Вывод:`\n",
    "\n",
    "На графике зафиксирован один самый крупный заказ на сумму 1 294 500. Далее виден заказ в размере 202 740 Все остальные заказы ниже 92 550. Для того, чтобы точно определить стоимость заказа, которую следует считать аномальной посчитаем выборочные перцентели."
   ]
  },
  {
   "cell_type": "markdown",
   "metadata": {},
   "source": [
    "### Посчитаем выборочные 95-й и 99-й перцентили стоимости заказов"
   ]
  },
  {
   "cell_type": "code",
   "execution_count": 27,
   "metadata": {},
   "outputs": [
    {
     "name": "stdout",
     "output_type": "stream",
     "text": [
      "[26785. 53904.]\n"
     ]
    }
   ],
   "source": [
    "print(np.percentile(orders['revenue'], [95, 99])) "
   ]
  },
  {
   "cell_type": "markdown",
   "metadata": {},
   "source": [
    "`Вывод:`\n",
    "\n",
    "Не более, чем у 5% пользователей чек дороже 26 785, и только не более 1% пользователей оформили на чек дороже  53 904. Границей для определения аномальных заказов следует обозначить до 26 785."
   ]
  },
  {
   "cell_type": "markdown",
   "metadata": {},
   "source": [
    "### Cтатистическая значимость различия в конверсии между группами по \"сырым\" данным."
   ]
  },
  {
   "cell_type": "markdown",
   "metadata": {},
   "source": [
    "Перед тестом Манна-Уитни проверим гипотезу о нормальном распределении с помощью критерия Шапиро-Уилка:\n",
    "\n",
    "$\\begin{equation*}\n",
    " \\begin{cases}\n",
    "   H_0 :\\text{Конверсии группы A распределены нормально }\\\\\n",
    "   H_1 :\\text{Конверсии группы A не распределены нормально}\n",
    " \\end{cases}\n",
    "\\end{equation*}$\n",
    "\n",
    "α=5% критический уровень статистической значимости.\n",
    "\n",
    "Аналогично для группы B."
   ]
  },
  {
   "cell_type": "code",
   "execution_count": 28,
   "metadata": {
    "scrolled": false
   },
   "outputs": [
    {
     "name": "stdout",
     "output_type": "stream",
     "text": [
      "Shapiro-Wilk normality test, W-statistic: 0.132646, p-value: 0.000000\n",
      "Отклонить гипотезу о нормальности распределении группа А\n",
      "Shapiro-Wilk normality test, W-statistic: 0.150587, p-value: 0.000000\n",
      "Отклонить гипотезу о нормальности распределении группа В\n"
     ]
    },
    {
     "name": "stderr",
     "output_type": "stream",
     "text": [
      "C:\\ProgramData\\Anaconda3\\lib\\site-packages\\scipy\\stats\\morestats.py:1760: UserWarning: p-value may not be accurate for N > 5000.\n",
      "  warnings.warn(\"p-value may not be accurate for N > 5000.\")\n"
     ]
    }
   ],
   "source": [
    "visitorsADaily = visitors[visitors['group'] == 'A'][['date', 'visitors']]\n",
    "visitorsADaily.columns = ['date', 'visitorsPerDateA']\n",
    "\n",
    "visitorsACummulative = visitorsADaily.apply(\n",
    "    lambda x: visitorsADaily[visitorsADaily['date'] <= x['date']].agg(\n",
    "        {'date': 'max', 'visitorsPerDateA': 'sum'}\n",
    "    ),\n",
    "    axis=1,\n",
    ")\n",
    "visitorsACummulative.columns = ['date', 'visitorsCummulativeA']\n",
    "\n",
    "visitorsBDaily = visitors[visitors['group'] == 'B'][['date', 'visitors']]\n",
    "visitorsBDaily.columns = ['date', 'visitorsPerDateB']\n",
    "\n",
    "visitorsBCummulative = visitorsBDaily.apply(\n",
    "    lambda x: visitorsBDaily[visitorsBDaily['date'] <= x['date']].agg(\n",
    "        {'date': 'max', 'visitorsPerDateB': 'sum'}\n",
    "    ),\n",
    "    axis=1,\n",
    ")\n",
    "visitorsBCummulative.columns = ['date', 'visitorsCummulativeB']\n",
    "\n",
    "ordersADaily = (\n",
    "    orders[orders['group'] == 'A'][['date', 'transactionId', 'visitorId', 'revenue']]\n",
    "    .groupby('date', as_index=False)\n",
    "    .agg({'transactionId': pd.Series.nunique, 'revenue': 'sum'})\n",
    ")\n",
    "ordersADaily.columns = ['date', 'ordersPerDateA', 'revenuePerDateA']\n",
    "\n",
    "ordersACummulative = ordersADaily.apply(\n",
    "    lambda x: ordersADaily[ordersADaily['date'] <= x['date']].agg(\n",
    "        {'date': 'max', 'ordersPerDateA': 'sum', 'revenuePerDateA': 'sum'}\n",
    "    ),\n",
    "    axis=1,\n",
    ").sort_values(by=['date'])\n",
    "ordersACummulative.columns = [\n",
    "    'date',\n",
    "    'ordersCummulativeA',\n",
    "    'revenueCummulativeA',\n",
    "]\n",
    "\n",
    "ordersBDaily = (\n",
    "    orders[orders['group'] == 'B'][['date', 'transactionId', 'visitorId', 'revenue']]\n",
    "    .groupby('date', as_index=False)\n",
    "    .agg({'transactionId': pd.Series.nunique, 'revenue': 'sum'})\n",
    ")\n",
    "ordersBDaily.columns = ['date', 'ordersPerDateB', 'revenuePerDateB']\n",
    "\n",
    "ordersBCummulative = ordersBDaily.apply(\n",
    "    lambda x: ordersBDaily[ordersBDaily['date'] <= x['date']].agg(\n",
    "        {'date': 'max', 'ordersPerDateB': 'sum', 'revenuePerDateB': 'sum'}\n",
    "    ),\n",
    "    axis=1,\n",
    ").sort_values(by=['date'])\n",
    "ordersBCummulative.columns = [\n",
    "    'date',\n",
    "    'ordersCummulativeB',\n",
    "    'revenueCummulativeB',\n",
    "]\n",
    "\n",
    "data = (\n",
    "    ordersADaily.merge(\n",
    "        ordersBDaily, left_on='date', right_on='date', how='left'\n",
    "    )\n",
    "    .merge(ordersACummulative, left_on='date', right_on='date', how='left')\n",
    "    .merge(ordersBCummulative, left_on='date', right_on='date', how='left')\n",
    "    .merge(visitorsADaily, left_on='date', right_on='date', how='left')\n",
    "    .merge(visitorsBDaily, left_on='date', right_on='date', how='left')\n",
    "    .merge(visitorsACummulative, left_on='date', right_on='date', how='left')\n",
    "    .merge(visitorsBCummulative, left_on='date', right_on='date', how='left')\n",
    ")\n",
    "\n",
    "# для пользователей, совершивших хотя бы 1 заказ, будет указано число заказов\n",
    "ordersByUsersA = (\n",
    "    orders[orders['group'] == 'A']\n",
    "    .groupby('visitorId', as_index=False)\n",
    "    .agg({'transactionId': pd.Series.nunique})\n",
    ")\n",
    "ordersByUsersA.columns = ['userId', 'orders']\n",
    "\n",
    "ordersByUsersB = (\n",
    "    orders[orders['group'] == 'B']\n",
    "    .groupby('visitorId', as_index=False)\n",
    "    .agg({'transactionId': pd.Series.nunique})\n",
    ")\n",
    "ordersByUsersB.columns = ['userId', 'orders'] \n",
    "\n",
    "# пользователям с заказами будет соответствовать число заказов пользователя, а пользователям без заказов — нули\n",
    "sampleA = pd.concat([ordersByUsersA['orders'],pd.Series(0, index=np.arange(data['visitorsPerDateA'].sum() - len(ordersByUsersA['orders'])), name='orders')],axis=0)\n",
    "\n",
    "sampleB = pd.concat([ordersByUsersB['orders'],pd.Series(0, index=np.arange(data['visitorsPerDateB'].sum() - len(ordersByUsersB['orders'])), name='orders')],axis=0)\n",
    "\n",
    "# зададим уровень значимости 5%\n",
    "alpha=0.05\n",
    "p=st.shapiro(sampleA)\n",
    "print(\"Shapiro-Wilk normality test, W-statistic: %f, p-value: %f\" % p)\n",
    "if p[1] > alpha:\n",
    "    print('Принять гипотезу о нормальности распределении группа А')\n",
    "else:\n",
    "    print('Отклонить гипотезу о нормальности распределении группа А')\n",
    "    \n",
    "p=st.shapiro(sampleB)\n",
    "print(\"Shapiro-Wilk normality test, W-statistic: %f, p-value: %f\" % p)\n",
    "if p[1] > alpha:\n",
    "    print('Принять гипотезу о нормальности распределении группа В')\n",
    "else:\n",
    "    print('Отклонить гипотезу о нормальности распределении группа В')    "
   ]
  },
  {
   "cell_type": "markdown",
   "metadata": {},
   "source": [
    "Итак данные в обоих группах данные не подходят под нормальное распределение, поэтому воспользуемся U-критерием Манна — Уитни\n",
    "\n",
    "$\\begin{equation*}\n",
    " \\begin{cases}\n",
    "   H_0 :\\text{Конверсии групп A и B равны, статистически значимых отличий нет }\\\\\n",
    "   H_1 :\\text{Конверсии групп A и B различны, статистически значимые отличия есть}\n",
    " \\end{cases}\n",
    "\\end{equation*}$\n",
    "\n",
    "α=5% критический уровень статистической значимости."
   ]
  },
  {
   "cell_type": "markdown",
   "metadata": {},
   "source": [
    "Применим тест U-критерий Манна — Уитни"
   ]
  },
  {
   "cell_type": "code",
   "execution_count": 29,
   "metadata": {
    "scrolled": true
   },
   "outputs": [
    {
     "name": "stdout",
     "output_type": "stream",
     "text": [
      "0.011\n",
      "0.16\n"
     ]
    }
   ],
   "source": [
    "print(\"{0:.3f}\".format(stats.mannwhitneyu(sampleA, sampleB)[1]))\n",
    "\n",
    "print(\"{0:.2f}\".format(sampleB.mean() / sampleA.mean() - 1))"
   ]
  },
  {
   "cell_type": "markdown",
   "metadata": {},
   "source": [
    "`Вывод:`\n",
    "\n",
    " * Первое число — p-value = 0.011 меньше 0.05. Значит, нулевую гипотезу о том, что конверсии равны и статистически значимых различий в конверсии между группами нет `отвергаем`. Конверсии различаются значимо.\n",
    " * Относительный проигрыш группы `A` составляет 16%"
   ]
  },
  {
   "cell_type": "markdown",
   "metadata": {},
   "source": [
    "### Статистическая значимость различий в среднем чеке заказа между группами по «сырым» данным. "
   ]
  },
  {
   "cell_type": "markdown",
   "metadata": {},
   "source": [
    "$\\begin{equation*}\n",
    " \\begin{cases}\n",
    "   H_0 :\\text{Средние чеки групп A и B равны, статистически значимых отличий нет }\\\\\n",
    "   H_1 :\\text{Средние чеки групп A и B различны, статистически значимые отличия есть}\n",
    " \\end{cases}\n",
    "\\end{equation*}$\n",
    "\n",
    "α=5% критический уровень статистической значимости."
   ]
  },
  {
   "cell_type": "code",
   "execution_count": 30,
   "metadata": {},
   "outputs": [
    {
     "name": "stdout",
     "output_type": "stream",
     "text": [
      "0.829\n",
      "0.29\n"
     ]
    }
   ],
   "source": [
    "print('{0:.3f}'.format(stats.mannwhitneyu(orders[orders['group']=='A']['revenue'], orders[orders['group']=='B']['revenue'])[1]))\n",
    "print('{0:.2f}'.format(orders[orders['group']=='B']['revenue'].mean()/orders[orders['group']=='A']['revenue'].mean()-1))"
   ]
  },
  {
   "cell_type": "markdown",
   "metadata": {},
   "source": [
    "`Вывод:`\n",
    "\n",
    " * Первое число — p-value = 0.829 значительно больше 0.05. Значит, нулевую гипотезу о том, что средние чеки равны и статистически значимых различий между группами в размере среднего чека нет `принимаем`.\n",
    " * При этом средний чек группы `B` значительно выше чем у `А`, почти на 29%, но тут свою роль могли сыграть выбросы, проверим это далее на очищенных данных"
   ]
  },
  {
   "cell_type": "markdown",
   "metadata": {},
   "source": [
    "### Статистическая значимость различий в конверсии между группами по «очищенным» данным."
   ]
  },
  {
   "cell_type": "markdown",
   "metadata": {},
   "source": [
    "Как мы определились ранее, за аномальных пользователей примем тех, кто совершил более 1 заказа или совершил заказ дороже 26 785 рублей. Сделаем срезы пользователей с числом заказов больше 2 — `usersWithManyOrders` и пользователей, совершивших заказы дороже 26 785 — `usersWithExpensiveOrders`. Объединим их в таблице `abnormalUsers`."
   ]
  },
  {
   "cell_type": "code",
   "execution_count": 31,
   "metadata": {},
   "outputs": [
    {
     "name": "stdout",
     "output_type": "stream",
     "text": [
      "568     113298937\n",
      "1099    148427295\n",
      "928     204675465\n",
      "33      249864742\n",
      "684     358944393\n",
      "dtype: int64\n",
      "86\n"
     ]
    }
   ],
   "source": [
    "usersWithManyOrders = pd.concat(\n",
    "    [\n",
    "        ordersByUsersA[ordersByUsersA['orders'] > 1]['userId'],\n",
    "        ordersByUsersB[ordersByUsersB['orders'] > 1]['userId'],\n",
    "    ],\n",
    "    axis=0,\n",
    ")\n",
    "usersWithExpensiveOrders = orders[orders['revenue'] > 26785]['visitorId']\n",
    "abnormalUsers = (\n",
    "    pd.concat([usersWithManyOrders, usersWithExpensiveOrders], axis=0)\n",
    "    .drop_duplicates()\n",
    "    .sort_values()\n",
    ")\n",
    "print(abnormalUsers.head(5))\n",
    "print(abnormalUsers.shape[0])"
   ]
  },
  {
   "cell_type": "markdown",
   "metadata": {},
   "source": [
    "Получаем `86 аномальных пользователя`, проверим как они повлияли на результат теста.\n",
    "\n",
    "Посчитаем статистическую значимость различий в конверсии между группами теста по очищенным данным. Сначала подготовим выборки количества заказов по пользователям по группам теста:"
   ]
  },
  {
   "cell_type": "markdown",
   "metadata": {},
   "source": [
    "$\\begin{equation*}\n",
    " \\begin{cases}\n",
    "   H_0 :\\text{Конверсии групп A и B равны, статистически значимых отличий нет }\\\\\n",
    "   H_1 :\\text{Конверсии групп A и B различны, статистически значимые отличия есть}\n",
    " \\end{cases}\n",
    "\\end{equation*}$\n",
    "\n",
    "α=5% критический уровень статистической значимости."
   ]
  },
  {
   "cell_type": "code",
   "execution_count": 32,
   "metadata": {
    "scrolled": true
   },
   "outputs": [],
   "source": [
    "sampleAFiltered = pd.concat(\n",
    "    [\n",
    "        ordersByUsersA[\n",
    "            np.logical_not(ordersByUsersA['userId'].isin(abnormalUsers))\n",
    "        ]['orders'],\n",
    "        pd.Series(\n",
    "            0,\n",
    "            index=np.arange(\n",
    "                data['visitorsPerDateA'].sum() - len(ordersByUsersA['orders'])\n",
    "            ),\n",
    "            name='orders',\n",
    "        ),\n",
    "    ],\n",
    "    axis=0,\n",
    ")\n",
    "\n",
    "sampleBFiltered = pd.concat(\n",
    "    [\n",
    "        ordersByUsersB[\n",
    "            np.logical_not(ordersByUsersB['userId'].isin(abnormalUsers))\n",
    "        ]['orders'],\n",
    "        pd.Series(\n",
    "            0,\n",
    "            index=np.arange(\n",
    "                data['visitorsPerDateB'].sum() - len(ordersByUsersB['orders'])\n",
    "            ),\n",
    "            name='orders',\n",
    "        ),\n",
    "    ],\n",
    "    axis=0,\n",
    ")\n",
    "\n"
   ]
  },
  {
   "cell_type": "markdown",
   "metadata": {},
   "source": [
    "Применим тест U-критерий Манна — Уитни"
   ]
  },
  {
   "cell_type": "code",
   "execution_count": 33,
   "metadata": {
    "scrolled": false
   },
   "outputs": [
    {
     "name": "stdout",
     "output_type": "stream",
     "text": [
      "0.016\n",
      "0.17\n"
     ]
    }
   ],
   "source": [
    "print('{0:.3f}'.format(stats.mannwhitneyu(sampleAFiltered, sampleBFiltered)[1]))\n",
    "print('{0:.2f}'.format(sampleBFiltered.mean()/sampleAFiltered.mean()-1)) "
   ]
  },
  {
   "cell_type": "markdown",
   "metadata": {},
   "source": [
    "`Вывод:`\n",
    "\n",
    "Результаты по конверсии значимо не изменились.\n",
    "p-value стал чуть больше на 0,005, что никак не меняет наших выводов.\n",
    "Проигрыш группы `A` на очищенных данных немного увеличился 17% против 16% на сырых"
   ]
  },
  {
   "cell_type": "markdown",
   "metadata": {},
   "source": [
    "### Cтатистическая значимость различий в среднем чеке заказа между группами по «очищенным» данным"
   ]
  },
  {
   "cell_type": "markdown",
   "metadata": {},
   "source": [
    "$\\begin{equation*}\n",
    " \\begin{cases}\n",
    "   H_0 :\\text{Средние чеки групп A и B равны, статистически значимых отличий нет }\\\\\n",
    "   H_1 :\\text{Средние чеки групп A и B различны, статистически значимые отличия есть}\n",
    " \\end{cases}\n",
    "\\end{equation*}$\n",
    "\n",
    "α=5% критический уровень статистической значимости."
   ]
  },
  {
   "cell_type": "code",
   "execution_count": 34,
   "metadata": {},
   "outputs": [
    {
     "name": "stdout",
     "output_type": "stream",
     "text": [
      "0.727\n",
      "-0.03\n"
     ]
    }
   ],
   "source": [
    "print(\n",
    "    '{0:.3f}'.format(\n",
    "        stats.mannwhitneyu(\n",
    "            orders[\n",
    "                np.logical_and(\n",
    "                    orders['group'] == 'A',\n",
    "                    np.logical_not(orders['visitorId'].isin(abnormalUsers)),\n",
    "                )\n",
    "            ]['revenue'],\n",
    "            orders[\n",
    "                np.logical_and(\n",
    "                    orders['group'] == 'B',\n",
    "                    np.logical_not(orders['visitorId'].isin(abnormalUsers)),\n",
    "                )\n",
    "            ]['revenue'],\n",
    "        )[1]\n",
    "    )\n",
    ")\n",
    "\n",
    "print(\n",
    "    \"{0:.2f}\".format(\n",
    "        orders[\n",
    "            np.logical_and(\n",
    "                orders['group'] == 'B',\n",
    "                np.logical_not(orders['visitorId'].isin(abnormalUsers)),\n",
    "            )\n",
    "        ]['revenue'].mean()\n",
    "        / orders[\n",
    "            np.logical_and(\n",
    "                orders['group'] == 'A',\n",
    "                np.logical_not(orders['visitorId'].isin(abnormalUsers)),\n",
    "            )\n",
    "        ]['revenue'].mean()\n",
    "        - 1\n",
    "    )\n",
    ")"
   ]
  },
  {
   "cell_type": "markdown",
   "metadata": {},
   "source": [
    "`Вывод:`\n",
    "\n",
    "* p-value уменьшился почти на 0.1, но по прежнему значительно выше 0,05\n",
    "* Особенно нужно обратить внимание на разницу между средним чеком. Она упала с 29% в пользу `B` до 3% в пользу `A`! Это еще раз заставляет убедиться, что статистически значимых различий по этой метрике между группами нет, а наблюдаемая на неочищенных данных разница как мы и предполагали была связана с выбросами. "
   ]
  },
  {
   "cell_type": "markdown",
   "metadata": {},
   "source": [
    "## Вывод"
   ]
  },
  {
   "cell_type": "markdown",
   "metadata": {},
   "source": [
    "Резюмируем имеющиеся факты:\n",
    "* есть статистически значимые различия по конверсии между группами (как по сырым так и по очищенным данным), при этом преимущество у группы `B` порядка 16-17%;\n",
    "* нет статистически значимых различий по среднему чеку между группами (как по сырым так и по очищенным данным);\n",
    "* график различия конверсий между группами показывает, что результаты группы `B` лучше группы `A`  в конце исследования приблизительно на  13-17%, при этом есть тенденция к еще небольшому улучшению;\n",
    "* график различий кумулятивного среднего чека говорит нам о преимуществе группы `B` только из - за выброса, после чего метрика начинает снижаться к более естественному положению\n",
    "\n",
    "Исходя из обнаруженных фактов тест следует остановить и признать его успешным в части улучшения конверсии в целевой группе `B`\n",
    "В части среднего чека нельзя утверждать, что какая - либо из групп имеет преимущество над другой.\n",
    "Оснований полагать, что при продолжении теста разница между группами в конверсиях либо среднем чеке значимо изменятся нет, т.к. колебания в графиках носят затухающий характер.\n",
    "\n",
    "    \n"
   ]
  },
  {
   "cell_type": "code",
   "execution_count": null,
   "metadata": {},
   "outputs": [],
   "source": []
  }
 ],
 "metadata": {
  "ExecuteTimeLog": [
   {
    "duration": 915,
    "start_time": "2022-05-09T14:29:12.311Z"
   },
   {
    "duration": 3,
    "start_time": "2022-05-09T14:38:06.456Z"
   },
   {
    "duration": 12,
    "start_time": "2022-05-09T14:38:08.077Z"
   },
   {
    "duration": 23,
    "start_time": "2022-05-09T14:38:19.814Z"
   },
   {
    "duration": 93,
    "start_time": "2022-05-09T14:44:33.973Z"
   },
   {
    "duration": 10,
    "start_time": "2022-05-09T14:47:09.112Z"
   },
   {
    "duration": 4,
    "start_time": "2022-05-09T14:47:14.532Z"
   },
   {
    "duration": 15,
    "start_time": "2022-05-09T14:47:24.764Z"
   },
   {
    "duration": 3,
    "start_time": "2022-05-09T14:47:28.956Z"
   },
   {
    "duration": 10,
    "start_time": "2022-05-09T14:47:30.485Z"
   },
   {
    "duration": 8,
    "start_time": "2022-05-09T14:48:19.430Z"
   },
   {
    "duration": 818,
    "start_time": "2022-05-09T15:01:29.654Z"
   },
   {
    "duration": 21,
    "start_time": "2022-05-09T15:01:30.474Z"
   },
   {
    "duration": 16,
    "start_time": "2022-05-09T15:01:30.496Z"
   },
   {
    "duration": 18,
    "start_time": "2022-05-09T15:01:30.515Z"
   },
   {
    "duration": 11,
    "start_time": "2022-05-09T15:01:30.535Z"
   },
   {
    "duration": 146,
    "start_time": "2022-05-09T15:17:36.566Z"
   },
   {
    "duration": 9,
    "start_time": "2022-05-09T15:28:23.421Z"
   },
   {
    "duration": 8,
    "start_time": "2022-05-09T15:28:36.151Z"
   },
   {
    "duration": 10,
    "start_time": "2022-05-09T15:28:59.088Z"
   },
   {
    "duration": 12,
    "start_time": "2022-05-09T15:29:10.262Z"
   },
   {
    "duration": 14,
    "start_time": "2022-05-09T15:29:19.272Z"
   },
   {
    "duration": 11,
    "start_time": "2022-05-09T15:29:34.776Z"
   },
   {
    "duration": 11,
    "start_time": "2022-05-09T15:41:48.688Z"
   },
   {
    "duration": 3,
    "start_time": "2022-05-09T19:38:34.058Z"
   },
   {
    "duration": 768,
    "start_time": "2022-05-09T19:39:43.256Z"
   },
   {
    "duration": 681,
    "start_time": "2022-05-09T19:39:44.026Z"
   },
   {
    "duration": 4,
    "start_time": "2022-05-09T19:39:44.710Z"
   },
   {
    "duration": 22,
    "start_time": "2022-05-09T19:39:44.717Z"
   },
   {
    "duration": 10,
    "start_time": "2022-05-09T19:39:44.741Z"
   },
   {
    "duration": 55,
    "start_time": "2022-05-09T19:39:44.752Z"
   },
   {
    "duration": 99,
    "start_time": "2022-05-09T19:40:45.869Z"
   },
   {
    "duration": 22,
    "start_time": "2022-05-09T19:40:51.623Z"
   },
   {
    "duration": 20,
    "start_time": "2022-05-09T19:41:11.048Z"
   },
   {
    "duration": 45,
    "start_time": "2022-05-09T19:41:21.232Z"
   },
   {
    "duration": 1330,
    "start_time": "2022-05-09T19:46:52.017Z"
   },
   {
    "duration": 24,
    "start_time": "2022-05-09T19:49:16.645Z"
   },
   {
    "duration": 53,
    "start_time": "2022-05-09T19:50:57.789Z"
   },
   {
    "duration": 810,
    "start_time": "2022-05-09T19:51:12.518Z"
   },
   {
    "duration": 52,
    "start_time": "2022-05-09T19:51:54.212Z"
   },
   {
    "duration": 847,
    "start_time": "2022-05-09T19:52:02.182Z"
   },
   {
    "duration": 854,
    "start_time": "2022-05-09T19:52:29.290Z"
   },
   {
    "duration": 26,
    "start_time": "2022-05-09T19:52:30.145Z"
   },
   {
    "duration": 3,
    "start_time": "2022-05-09T19:52:30.172Z"
   },
   {
    "duration": 14,
    "start_time": "2022-05-09T19:52:30.177Z"
   },
   {
    "duration": 26,
    "start_time": "2022-05-09T19:52:30.192Z"
   },
   {
    "duration": 54,
    "start_time": "2022-05-09T19:52:30.221Z"
   },
   {
    "duration": 953,
    "start_time": "2022-05-09T19:52:30.278Z"
   },
   {
    "duration": 0,
    "start_time": "2022-05-09T19:52:31.233Z"
   },
   {
    "duration": 833,
    "start_time": "2022-05-09T19:53:31.330Z"
   },
   {
    "duration": 29,
    "start_time": "2022-05-09T19:54:19.047Z"
   },
   {
    "duration": 23,
    "start_time": "2022-05-09T20:07:00.414Z"
   },
   {
    "duration": 6,
    "start_time": "2022-05-09T20:07:06.164Z"
   },
   {
    "duration": 28,
    "start_time": "2022-05-09T20:07:31.387Z"
   },
   {
    "duration": 24,
    "start_time": "2022-05-09T20:08:11.982Z"
   },
   {
    "duration": 154,
    "start_time": "2022-05-09T20:08:59.712Z"
   },
   {
    "duration": 926,
    "start_time": "2022-05-10T07:45:19.891Z"
   },
   {
    "duration": 29,
    "start_time": "2022-05-10T07:45:20.819Z"
   },
   {
    "duration": 4,
    "start_time": "2022-05-10T07:45:20.849Z"
   },
   {
    "duration": 19,
    "start_time": "2022-05-10T07:45:20.855Z"
   },
   {
    "duration": 11,
    "start_time": "2022-05-10T07:45:20.876Z"
   },
   {
    "duration": 44,
    "start_time": "2022-05-10T07:45:20.889Z"
   },
   {
    "duration": 20,
    "start_time": "2022-05-10T07:45:20.935Z"
   },
   {
    "duration": 6,
    "start_time": "2022-05-10T07:45:20.957Z"
   },
   {
    "duration": 180,
    "start_time": "2022-05-10T07:45:20.965Z"
   },
   {
    "duration": 853,
    "start_time": "2022-05-10T07:49:58.766Z"
   },
   {
    "duration": 29,
    "start_time": "2022-05-10T07:49:59.622Z"
   },
   {
    "duration": 3,
    "start_time": "2022-05-10T07:49:59.653Z"
   },
   {
    "duration": 15,
    "start_time": "2022-05-10T07:49:59.659Z"
   },
   {
    "duration": 12,
    "start_time": "2022-05-10T07:49:59.676Z"
   },
   {
    "duration": 60,
    "start_time": "2022-05-10T07:49:59.690Z"
   },
   {
    "duration": 20,
    "start_time": "2022-05-10T07:49:59.752Z"
   },
   {
    "duration": 6,
    "start_time": "2022-05-10T07:49:59.774Z"
   },
   {
    "duration": 166,
    "start_time": "2022-05-10T07:49:59.782Z"
   },
   {
    "duration": 881,
    "start_time": "2022-05-10T07:51:22.343Z"
   },
   {
    "duration": 39,
    "start_time": "2022-05-10T07:51:23.226Z"
   },
   {
    "duration": 4,
    "start_time": "2022-05-10T07:51:23.267Z"
   },
   {
    "duration": 20,
    "start_time": "2022-05-10T07:51:23.274Z"
   },
   {
    "duration": 14,
    "start_time": "2022-05-10T07:51:23.296Z"
   },
   {
    "duration": 63,
    "start_time": "2022-05-10T07:51:23.312Z"
   },
   {
    "duration": 20,
    "start_time": "2022-05-10T07:51:23.377Z"
   },
   {
    "duration": 16,
    "start_time": "2022-05-10T07:51:23.399Z"
   },
   {
    "duration": 7,
    "start_time": "2022-05-10T07:51:23.417Z"
   },
   {
    "duration": 172,
    "start_time": "2022-05-10T07:51:23.427Z"
   },
   {
    "duration": 14,
    "start_time": "2022-05-10T07:52:00.225Z"
   },
   {
    "duration": 914,
    "start_time": "2022-05-10T07:59:43.359Z"
   },
   {
    "duration": 36,
    "start_time": "2022-05-10T07:59:44.275Z"
   },
   {
    "duration": 4,
    "start_time": "2022-05-10T07:59:44.313Z"
   },
   {
    "duration": 19,
    "start_time": "2022-05-10T07:59:44.324Z"
   },
   {
    "duration": 16,
    "start_time": "2022-05-10T07:59:44.345Z"
   },
   {
    "duration": 49,
    "start_time": "2022-05-10T07:59:44.363Z"
   },
   {
    "duration": 24,
    "start_time": "2022-05-10T07:59:44.414Z"
   },
   {
    "duration": 16,
    "start_time": "2022-05-10T07:59:44.440Z"
   },
   {
    "duration": 8,
    "start_time": "2022-05-10T07:59:44.458Z"
   },
   {
    "duration": 115,
    "start_time": "2022-05-10T07:59:44.470Z"
   },
   {
    "duration": 0,
    "start_time": "2022-05-10T07:59:44.587Z"
   },
   {
    "duration": 24,
    "start_time": "2022-05-10T08:00:29.362Z"
   },
   {
    "duration": 263,
    "start_time": "2022-05-10T08:01:05.610Z"
   },
   {
    "duration": 128,
    "start_time": "2022-05-10T08:01:42.747Z"
   },
   {
    "duration": 11,
    "start_time": "2022-05-10T08:03:19.699Z"
   },
   {
    "duration": 15,
    "start_time": "2022-05-10T08:03:59.190Z"
   },
   {
    "duration": 1762,
    "start_time": "2022-05-10T08:04:22.047Z"
   },
   {
    "duration": 120,
    "start_time": "2022-05-10T08:04:23.812Z"
   },
   {
    "duration": 5,
    "start_time": "2022-05-10T08:04:23.934Z"
   },
   {
    "duration": 32,
    "start_time": "2022-05-10T08:04:23.942Z"
   },
   {
    "duration": 30,
    "start_time": "2022-05-10T08:04:23.976Z"
   },
   {
    "duration": 64,
    "start_time": "2022-05-10T08:04:24.009Z"
   },
   {
    "duration": 21,
    "start_time": "2022-05-10T08:04:24.075Z"
   },
   {
    "duration": 17,
    "start_time": "2022-05-10T08:04:24.098Z"
   },
   {
    "duration": 25,
    "start_time": "2022-05-10T08:04:24.117Z"
   },
   {
    "duration": 195,
    "start_time": "2022-05-10T08:04:24.145Z"
   },
   {
    "duration": 141,
    "start_time": "2022-05-10T08:04:24.343Z"
   },
   {
    "duration": 32,
    "start_time": "2022-05-10T08:04:24.485Z"
   },
   {
    "duration": 283,
    "start_time": "2022-05-10T08:04:24.519Z"
   },
   {
    "duration": 188,
    "start_time": "2022-05-10T08:10:59.264Z"
   },
   {
    "duration": 69,
    "start_time": "2022-05-10T08:22:15.375Z"
   },
   {
    "duration": 5,
    "start_time": "2022-05-10T08:22:36.287Z"
   },
   {
    "duration": 265,
    "start_time": "2022-05-10T08:22:42.353Z"
   },
   {
    "duration": 264,
    "start_time": "2022-05-10T08:32:41.983Z"
   },
   {
    "duration": 256,
    "start_time": "2022-05-10T08:32:48.143Z"
   },
   {
    "duration": 253,
    "start_time": "2022-05-10T08:33:03.552Z"
   },
   {
    "duration": 199,
    "start_time": "2022-05-10T08:33:36.272Z"
   },
   {
    "duration": 263,
    "start_time": "2022-05-10T08:33:48.401Z"
   },
   {
    "duration": 296,
    "start_time": "2022-05-10T08:34:31.121Z"
   },
   {
    "duration": 394,
    "start_time": "2022-05-10T08:35:05.969Z"
   },
   {
    "duration": 513,
    "start_time": "2022-05-10T08:35:23.970Z"
   },
   {
    "duration": 401,
    "start_time": "2022-05-10T08:35:39.691Z"
   },
   {
    "duration": 124,
    "start_time": "2022-05-10T08:39:49.658Z"
   },
   {
    "duration": 4,
    "start_time": "2022-05-10T08:40:12.091Z"
   },
   {
    "duration": 333,
    "start_time": "2022-05-10T08:40:16.708Z"
   },
   {
    "duration": 4,
    "start_time": "2022-05-10T08:40:27.867Z"
   },
   {
    "duration": 5,
    "start_time": "2022-05-10T08:40:35.842Z"
   },
   {
    "duration": 4,
    "start_time": "2022-05-10T08:40:43.750Z"
   },
   {
    "duration": 351,
    "start_time": "2022-05-10T08:40:54.317Z"
   },
   {
    "duration": 4,
    "start_time": "2022-05-10T08:41:04.203Z"
   },
   {
    "duration": 323,
    "start_time": "2022-05-10T08:41:25.782Z"
   },
   {
    "duration": 318,
    "start_time": "2022-05-10T08:41:34.862Z"
   },
   {
    "duration": 14,
    "start_time": "2022-05-10T08:43:13.438Z"
   },
   {
    "duration": 542,
    "start_time": "2022-05-10T08:43:16.998Z"
   },
   {
    "duration": 11,
    "start_time": "2022-05-10T08:47:35.464Z"
   },
   {
    "duration": 462,
    "start_time": "2022-05-10T08:47:37.794Z"
   },
   {
    "duration": 16,
    "start_time": "2022-05-10T08:47:43.867Z"
   },
   {
    "duration": 521,
    "start_time": "2022-05-10T08:47:46.626Z"
   },
   {
    "duration": 3,
    "start_time": "2022-05-10T08:48:02.619Z"
   },
   {
    "duration": 638,
    "start_time": "2022-05-10T08:48:05.604Z"
   },
   {
    "duration": 651,
    "start_time": "2022-05-10T08:48:35.772Z"
   },
   {
    "duration": 507,
    "start_time": "2022-05-10T08:49:21.988Z"
   },
   {
    "duration": 640,
    "start_time": "2022-05-10T08:49:28.372Z"
   },
   {
    "duration": 4,
    "start_time": "2022-05-10T08:58:16.398Z"
   },
   {
    "duration": 557,
    "start_time": "2022-05-10T08:58:19.530Z"
   },
   {
    "duration": 502,
    "start_time": "2022-05-10T08:59:53.226Z"
   },
   {
    "duration": 498,
    "start_time": "2022-05-10T09:00:25.475Z"
   },
   {
    "duration": 487,
    "start_time": "2022-05-10T09:00:35.892Z"
   },
   {
    "duration": 450,
    "start_time": "2022-05-10T09:00:44.700Z"
   },
   {
    "duration": 401,
    "start_time": "2022-05-10T09:00:53.948Z"
   },
   {
    "duration": 1399,
    "start_time": "2022-05-10T09:01:04.584Z"
   },
   {
    "duration": 31,
    "start_time": "2022-05-10T09:01:05.985Z"
   },
   {
    "duration": 6,
    "start_time": "2022-05-10T09:01:06.023Z"
   },
   {
    "duration": 15,
    "start_time": "2022-05-10T09:01:06.032Z"
   },
   {
    "duration": 12,
    "start_time": "2022-05-10T09:01:06.049Z"
   },
   {
    "duration": 46,
    "start_time": "2022-05-10T09:01:06.063Z"
   },
   {
    "duration": 28,
    "start_time": "2022-05-10T09:01:06.111Z"
   },
   {
    "duration": 15,
    "start_time": "2022-05-10T09:01:06.141Z"
   },
   {
    "duration": 8,
    "start_time": "2022-05-10T09:01:06.158Z"
   },
   {
    "duration": 188,
    "start_time": "2022-05-10T09:01:06.169Z"
   },
   {
    "duration": 168,
    "start_time": "2022-05-10T09:01:06.359Z"
   },
   {
    "duration": 17,
    "start_time": "2022-05-10T09:01:06.530Z"
   },
   {
    "duration": 418,
    "start_time": "2022-05-10T09:01:06.549Z"
   },
   {
    "duration": 458,
    "start_time": "2022-05-10T09:01:16.645Z"
   },
   {
    "duration": 439,
    "start_time": "2022-05-10T09:01:21.804Z"
   },
   {
    "duration": 1275,
    "start_time": "2022-05-10T09:01:29.102Z"
   },
   {
    "duration": 26,
    "start_time": "2022-05-10T09:01:30.379Z"
   },
   {
    "duration": 4,
    "start_time": "2022-05-10T09:01:30.406Z"
   },
   {
    "duration": 25,
    "start_time": "2022-05-10T09:01:30.412Z"
   },
   {
    "duration": 22,
    "start_time": "2022-05-10T09:01:30.440Z"
   },
   {
    "duration": 48,
    "start_time": "2022-05-10T09:01:30.464Z"
   },
   {
    "duration": 24,
    "start_time": "2022-05-10T09:01:30.514Z"
   },
   {
    "duration": 15,
    "start_time": "2022-05-10T09:01:30.540Z"
   },
   {
    "duration": 19,
    "start_time": "2022-05-10T09:01:30.556Z"
   },
   {
    "duration": 184,
    "start_time": "2022-05-10T09:01:30.578Z"
   },
   {
    "duration": 188,
    "start_time": "2022-05-10T09:01:30.764Z"
   },
   {
    "duration": 14,
    "start_time": "2022-05-10T09:01:30.954Z"
   },
   {
    "duration": 295,
    "start_time": "2022-05-10T09:01:30.971Z"
   },
   {
    "duration": 305,
    "start_time": "2022-05-10T09:01:37.080Z"
   },
   {
    "duration": 1401,
    "start_time": "2022-05-10T09:01:43.100Z"
   },
   {
    "duration": 29,
    "start_time": "2022-05-10T09:01:44.503Z"
   },
   {
    "duration": 4,
    "start_time": "2022-05-10T09:01:44.538Z"
   },
   {
    "duration": 21,
    "start_time": "2022-05-10T09:01:44.545Z"
   },
   {
    "duration": 12,
    "start_time": "2022-05-10T09:01:44.567Z"
   },
   {
    "duration": 45,
    "start_time": "2022-05-10T09:01:44.581Z"
   },
   {
    "duration": 22,
    "start_time": "2022-05-10T09:01:44.628Z"
   },
   {
    "duration": 20,
    "start_time": "2022-05-10T09:01:44.652Z"
   },
   {
    "duration": 8,
    "start_time": "2022-05-10T09:01:44.675Z"
   },
   {
    "duration": 201,
    "start_time": "2022-05-10T09:01:44.687Z"
   },
   {
    "duration": 193,
    "start_time": "2022-05-10T09:01:44.889Z"
   },
   {
    "duration": 15,
    "start_time": "2022-05-10T09:01:45.084Z"
   },
   {
    "duration": 351,
    "start_time": "2022-05-10T09:01:45.102Z"
   },
   {
    "duration": 389,
    "start_time": "2022-05-10T09:01:48.239Z"
   },
   {
    "duration": 461,
    "start_time": "2022-05-10T09:01:57.112Z"
   },
   {
    "duration": 323,
    "start_time": "2022-05-10T09:03:39.888Z"
   },
   {
    "duration": 316,
    "start_time": "2022-05-10T09:04:01.902Z"
   },
   {
    "duration": 319,
    "start_time": "2022-05-10T09:24:27.148Z"
   },
   {
    "duration": 330,
    "start_time": "2022-05-10T09:25:24.999Z"
   },
   {
    "duration": 431,
    "start_time": "2022-05-10T09:37:17.525Z"
   },
   {
    "duration": 466,
    "start_time": "2022-05-10T09:38:46.791Z"
   },
   {
    "duration": 396,
    "start_time": "2022-05-10T09:38:51.896Z"
   },
   {
    "duration": 1617,
    "start_time": "2022-05-10T09:39:53.931Z"
   },
   {
    "duration": 32,
    "start_time": "2022-05-10T09:39:55.551Z"
   },
   {
    "duration": 5,
    "start_time": "2022-05-10T09:39:55.585Z"
   },
   {
    "duration": 38,
    "start_time": "2022-05-10T09:39:55.593Z"
   },
   {
    "duration": 15,
    "start_time": "2022-05-10T09:39:55.633Z"
   },
   {
    "duration": 47,
    "start_time": "2022-05-10T09:39:55.649Z"
   },
   {
    "duration": 22,
    "start_time": "2022-05-10T09:39:55.698Z"
   },
   {
    "duration": 20,
    "start_time": "2022-05-10T09:39:55.722Z"
   },
   {
    "duration": 8,
    "start_time": "2022-05-10T09:39:55.744Z"
   },
   {
    "duration": 286,
    "start_time": "2022-05-10T09:39:55.755Z"
   },
   {
    "duration": 141,
    "start_time": "2022-05-10T09:39:56.045Z"
   },
   {
    "duration": 12,
    "start_time": "2022-05-10T09:39:56.188Z"
   },
   {
    "duration": 442,
    "start_time": "2022-05-10T09:39:56.226Z"
   },
   {
    "duration": 389,
    "start_time": "2022-05-10T09:39:56.670Z"
   },
   {
    "duration": 512,
    "start_time": "2022-05-10T09:39:57.061Z"
   },
   {
    "duration": 469,
    "start_time": "2022-05-10T09:40:11.801Z"
   },
   {
    "duration": 544,
    "start_time": "2022-05-10T09:40:18.920Z"
   },
   {
    "duration": 428,
    "start_time": "2022-05-10T09:40:40.538Z"
   },
   {
    "duration": 455,
    "start_time": "2022-05-10T09:40:55.698Z"
   },
   {
    "duration": 364,
    "start_time": "2022-05-10T09:41:20.962Z"
   },
   {
    "duration": 409,
    "start_time": "2022-05-10T09:41:42.533Z"
   },
   {
    "duration": 343,
    "start_time": "2022-05-10T09:41:48.385Z"
   },
   {
    "duration": 520,
    "start_time": "2022-05-10T09:41:52.163Z"
   },
   {
    "duration": 559,
    "start_time": "2022-05-10T09:42:52.338Z"
   },
   {
    "duration": 341,
    "start_time": "2022-05-10T09:43:18.066Z"
   },
   {
    "duration": 472,
    "start_time": "2022-05-10T09:43:21.291Z"
   },
   {
    "duration": 333,
    "start_time": "2022-05-10T09:50:48.559Z"
   },
   {
    "duration": 329,
    "start_time": "2022-05-10T09:50:59.079Z"
   },
   {
    "duration": 327,
    "start_time": "2022-05-10T09:51:34.120Z"
   },
   {
    "duration": 497,
    "start_time": "2022-05-10T09:51:41.577Z"
   },
   {
    "duration": 649,
    "start_time": "2022-05-10T09:51:50.289Z"
   },
   {
    "duration": 666,
    "start_time": "2022-05-10T09:52:01.001Z"
   },
   {
    "duration": 312,
    "start_time": "2022-05-10T09:52:53.281Z"
   },
   {
    "duration": 334,
    "start_time": "2022-05-10T09:52:59.122Z"
   },
   {
    "duration": 349,
    "start_time": "2022-05-10T09:53:14.290Z"
   },
   {
    "duration": 315,
    "start_time": "2022-05-10T09:53:21.178Z"
   },
   {
    "duration": 516,
    "start_time": "2022-05-10T09:53:26.283Z"
   },
   {
    "duration": 340,
    "start_time": "2022-05-10T09:54:01.029Z"
   },
   {
    "duration": 366,
    "start_time": "2022-05-10T09:54:15.090Z"
   },
   {
    "duration": 327,
    "start_time": "2022-05-10T09:54:39.068Z"
   },
   {
    "duration": 333,
    "start_time": "2022-05-10T09:54:45.908Z"
   },
   {
    "duration": 347,
    "start_time": "2022-05-10T09:55:22.579Z"
   },
   {
    "duration": 317,
    "start_time": "2022-05-10T09:55:32.746Z"
   },
   {
    "duration": 567,
    "start_time": "2022-05-10T10:03:56.609Z"
   },
   {
    "duration": 466,
    "start_time": "2022-05-10T10:04:09.009Z"
   },
   {
    "duration": 445,
    "start_time": "2022-05-10T10:04:48.354Z"
   },
   {
    "duration": 610,
    "start_time": "2022-05-10T10:06:03.883Z"
   },
   {
    "duration": 450,
    "start_time": "2022-05-10T10:07:07.763Z"
   },
   {
    "duration": 61,
    "start_time": "2022-05-10T12:29:29.042Z"
   },
   {
    "duration": 1390,
    "start_time": "2022-05-10T12:29:35.591Z"
   },
   {
    "duration": 24,
    "start_time": "2022-05-10T12:29:36.983Z"
   },
   {
    "duration": 4,
    "start_time": "2022-05-10T12:29:37.009Z"
   },
   {
    "duration": 19,
    "start_time": "2022-05-10T12:29:37.015Z"
   },
   {
    "duration": 13,
    "start_time": "2022-05-10T12:29:37.036Z"
   },
   {
    "duration": 41,
    "start_time": "2022-05-10T12:29:37.051Z"
   },
   {
    "duration": 17,
    "start_time": "2022-05-10T12:29:37.094Z"
   },
   {
    "duration": 19,
    "start_time": "2022-05-10T12:29:37.113Z"
   },
   {
    "duration": 10,
    "start_time": "2022-05-10T12:29:37.134Z"
   },
   {
    "duration": 192,
    "start_time": "2022-05-10T12:29:37.147Z"
   },
   {
    "duration": 145,
    "start_time": "2022-05-10T12:29:37.341Z"
   },
   {
    "duration": 19,
    "start_time": "2022-05-10T12:29:37.487Z"
   },
   {
    "duration": 301,
    "start_time": "2022-05-10T12:29:37.508Z"
   },
   {
    "duration": 370,
    "start_time": "2022-05-10T12:29:37.810Z"
   },
   {
    "duration": 470,
    "start_time": "2022-05-10T12:29:38.182Z"
   },
   {
    "duration": 352,
    "start_time": "2022-05-10T12:29:38.654Z"
   },
   {
    "duration": 458,
    "start_time": "2022-05-10T12:29:39.008Z"
   },
   {
    "duration": 431,
    "start_time": "2022-05-10T12:29:53.584Z"
   },
   {
    "duration": 460,
    "start_time": "2022-05-10T12:30:02.232Z"
   },
   {
    "duration": 482,
    "start_time": "2022-05-10T12:30:11.345Z"
   },
   {
    "duration": 408,
    "start_time": "2022-05-10T12:39:25.495Z"
   },
   {
    "duration": 3,
    "start_time": "2022-05-10T12:39:56.237Z"
   },
   {
    "duration": 1228,
    "start_time": "2022-05-10T12:40:01.785Z"
   },
   {
    "duration": 19,
    "start_time": "2022-05-10T12:40:03.015Z"
   },
   {
    "duration": 20,
    "start_time": "2022-05-10T12:40:03.035Z"
   },
   {
    "duration": 24,
    "start_time": "2022-05-10T12:40:03.057Z"
   },
   {
    "duration": 23,
    "start_time": "2022-05-10T12:40:03.085Z"
   },
   {
    "duration": 39,
    "start_time": "2022-05-10T12:40:03.109Z"
   },
   {
    "duration": 12,
    "start_time": "2022-05-10T12:40:03.150Z"
   },
   {
    "duration": 16,
    "start_time": "2022-05-10T12:40:03.164Z"
   },
   {
    "duration": 23,
    "start_time": "2022-05-10T12:40:03.183Z"
   },
   {
    "duration": 155,
    "start_time": "2022-05-10T12:40:03.208Z"
   },
   {
    "duration": 116,
    "start_time": "2022-05-10T12:40:03.365Z"
   },
   {
    "duration": 11,
    "start_time": "2022-05-10T12:40:03.483Z"
   },
   {
    "duration": 9,
    "start_time": "2022-05-10T12:40:03.496Z"
   },
   {
    "duration": 416,
    "start_time": "2022-05-10T12:40:03.507Z"
   },
   {
    "duration": 353,
    "start_time": "2022-05-10T12:40:03.925Z"
   },
   {
    "duration": 431,
    "start_time": "2022-05-10T12:40:04.284Z"
   },
   {
    "duration": 335,
    "start_time": "2022-05-10T12:40:04.716Z"
   },
   {
    "duration": 453,
    "start_time": "2022-05-10T12:40:05.052Z"
   },
   {
    "duration": 1657,
    "start_time": "2022-05-10T12:43:13.328Z"
   },
   {
    "duration": 8,
    "start_time": "2022-05-10T12:45:21.961Z"
   },
   {
    "duration": 300,
    "start_time": "2022-05-10T12:46:07.849Z"
   },
   {
    "duration": 314,
    "start_time": "2022-05-10T12:47:22.700Z"
   },
   {
    "duration": 325,
    "start_time": "2022-05-10T12:48:20.020Z"
   },
   {
    "duration": 114,
    "start_time": "2022-05-10T12:49:55.716Z"
   },
   {
    "duration": 114,
    "start_time": "2022-05-10T12:50:03.148Z"
   },
   {
    "duration": 279,
    "start_time": "2022-05-10T12:50:18.077Z"
   },
   {
    "duration": 116,
    "start_time": "2022-05-10T12:51:30.518Z"
   },
   {
    "duration": 4,
    "start_time": "2022-05-10T13:02:59.903Z"
   },
   {
    "duration": 248,
    "start_time": "2022-05-10T13:09:48.576Z"
   },
   {
    "duration": 7,
    "start_time": "2022-05-10T13:10:08.328Z"
   },
   {
    "duration": 197,
    "start_time": "2022-05-10T13:10:10.248Z"
   },
   {
    "duration": 209,
    "start_time": "2022-05-10T13:12:42.323Z"
   },
   {
    "duration": 5,
    "start_time": "2022-05-10T13:20:32.128Z"
   },
   {
    "duration": 3,
    "start_time": "2022-05-10T13:25:59.229Z"
   },
   {
    "duration": 348,
    "start_time": "2022-05-10T13:27:57.191Z"
   },
   {
    "duration": 1658,
    "start_time": "2022-05-11T09:39:10.339Z"
   },
   {
    "duration": 30,
    "start_time": "2022-05-11T09:39:12.001Z"
   },
   {
    "duration": 4,
    "start_time": "2022-05-11T09:39:12.033Z"
   },
   {
    "duration": 19,
    "start_time": "2022-05-11T09:39:12.039Z"
   },
   {
    "duration": 33,
    "start_time": "2022-05-11T09:39:12.062Z"
   },
   {
    "duration": 50,
    "start_time": "2022-05-11T09:39:12.098Z"
   },
   {
    "duration": 24,
    "start_time": "2022-05-11T09:39:12.150Z"
   },
   {
    "duration": 21,
    "start_time": "2022-05-11T09:39:12.176Z"
   },
   {
    "duration": 9,
    "start_time": "2022-05-11T09:39:12.200Z"
   },
   {
    "duration": 263,
    "start_time": "2022-05-11T09:39:12.211Z"
   },
   {
    "duration": 224,
    "start_time": "2022-05-11T09:39:12.477Z"
   },
   {
    "duration": 14,
    "start_time": "2022-05-11T09:39:12.704Z"
   },
   {
    "duration": 11,
    "start_time": "2022-05-11T09:39:12.720Z"
   },
   {
    "duration": 648,
    "start_time": "2022-05-11T09:39:12.735Z"
   },
   {
    "duration": 524,
    "start_time": "2022-05-11T09:39:13.393Z"
   },
   {
    "duration": 620,
    "start_time": "2022-05-11T09:39:13.919Z"
   },
   {
    "duration": 519,
    "start_time": "2022-05-11T09:39:14.541Z"
   },
   {
    "duration": 634,
    "start_time": "2022-05-11T09:39:15.062Z"
   },
   {
    "duration": 246,
    "start_time": "2022-05-11T09:39:15.699Z"
   },
   {
    "duration": 367,
    "start_time": "2022-05-11T09:39:15.947Z"
   },
   {
    "duration": 7,
    "start_time": "2022-05-11T09:39:16.316Z"
   },
   {
    "duration": 12,
    "start_time": "2022-05-11T09:39:16.326Z"
   },
   {
    "duration": 697,
    "start_time": "2022-05-11T09:39:16.340Z"
   },
   {
    "duration": 57,
    "start_time": "2022-05-11T09:39:17.039Z"
   },
   {
    "duration": 1196,
    "start_time": "2022-05-11T09:39:17.098Z"
   },
   {
    "duration": 340,
    "start_time": "2022-05-11T09:58:03.055Z"
   },
   {
    "duration": 434,
    "start_time": "2022-05-11T09:58:17.470Z"
   },
   {
    "duration": 1462,
    "start_time": "2022-05-11T09:59:10.168Z"
   },
   {
    "duration": 75,
    "start_time": "2022-05-11T09:59:11.632Z"
   },
   {
    "duration": 5,
    "start_time": "2022-05-11T09:59:11.710Z"
   },
   {
    "duration": 19,
    "start_time": "2022-05-11T09:59:11.719Z"
   },
   {
    "duration": 17,
    "start_time": "2022-05-11T09:59:11.741Z"
   },
   {
    "duration": 51,
    "start_time": "2022-05-11T09:59:11.792Z"
   },
   {
    "duration": 24,
    "start_time": "2022-05-11T09:59:11.845Z"
   },
   {
    "duration": 22,
    "start_time": "2022-05-11T09:59:11.871Z"
   },
   {
    "duration": 11,
    "start_time": "2022-05-11T09:59:11.896Z"
   },
   {
    "duration": 263,
    "start_time": "2022-05-11T09:59:11.910Z"
   },
   {
    "duration": 224,
    "start_time": "2022-05-11T09:59:12.175Z"
   },
   {
    "duration": 13,
    "start_time": "2022-05-11T09:59:12.402Z"
   },
   {
    "duration": 9,
    "start_time": "2022-05-11T09:59:12.417Z"
   },
   {
    "duration": 653,
    "start_time": "2022-05-11T09:59:12.428Z"
   },
   {
    "duration": 541,
    "start_time": "2022-05-11T09:59:13.084Z"
   },
   {
    "duration": 615,
    "start_time": "2022-05-11T09:59:13.627Z"
   },
   {
    "duration": 620,
    "start_time": "2022-05-11T09:59:14.244Z"
   },
   {
    "duration": 733,
    "start_time": "2022-05-11T09:59:14.866Z"
   },
   {
    "duration": 249,
    "start_time": "2022-05-11T09:59:15.602Z"
   },
   {
    "duration": 350,
    "start_time": "2022-05-11T09:59:15.853Z"
   },
   {
    "duration": 6,
    "start_time": "2022-05-11T09:59:16.206Z"
   },
   {
    "duration": 11,
    "start_time": "2022-05-11T09:59:16.215Z"
   },
   {
    "duration": 408,
    "start_time": "2022-05-11T09:59:16.230Z"
   },
   {
    "duration": 7,
    "start_time": "2022-05-11T09:59:16.641Z"
   },
   {
    "duration": 658,
    "start_time": "2022-05-11T09:59:16.651Z"
   },
   {
    "duration": 203,
    "start_time": "2022-05-11T10:19:16.460Z"
   },
   {
    "duration": 1542,
    "start_time": "2022-05-11T10:21:39.019Z"
   },
   {
    "duration": 29,
    "start_time": "2022-05-11T10:21:40.564Z"
   },
   {
    "duration": 5,
    "start_time": "2022-05-11T10:21:40.595Z"
   },
   {
    "duration": 21,
    "start_time": "2022-05-11T10:21:40.603Z"
   },
   {
    "duration": 15,
    "start_time": "2022-05-11T10:21:40.626Z"
   },
   {
    "duration": 48,
    "start_time": "2022-05-11T10:21:40.644Z"
   },
   {
    "duration": 24,
    "start_time": "2022-05-11T10:21:40.694Z"
   },
   {
    "duration": 21,
    "start_time": "2022-05-11T10:21:40.721Z"
   },
   {
    "duration": 10,
    "start_time": "2022-05-11T10:21:40.745Z"
   },
   {
    "duration": 275,
    "start_time": "2022-05-11T10:21:40.761Z"
   },
   {
    "duration": 223,
    "start_time": "2022-05-11T10:21:41.039Z"
   },
   {
    "duration": 31,
    "start_time": "2022-05-11T10:21:41.264Z"
   },
   {
    "duration": 8,
    "start_time": "2022-05-11T10:21:41.298Z"
   },
   {
    "duration": 721,
    "start_time": "2022-05-11T10:21:41.308Z"
   },
   {
    "duration": 558,
    "start_time": "2022-05-11T10:21:42.032Z"
   },
   {
    "duration": 627,
    "start_time": "2022-05-11T10:21:42.592Z"
   },
   {
    "duration": 541,
    "start_time": "2022-05-11T10:21:43.221Z"
   },
   {
    "duration": 649,
    "start_time": "2022-05-11T10:21:43.765Z"
   },
   {
    "duration": 300,
    "start_time": "2022-05-11T10:21:44.417Z"
   },
   {
    "duration": 378,
    "start_time": "2022-05-11T10:21:44.720Z"
   },
   {
    "duration": 6,
    "start_time": "2022-05-11T10:21:45.100Z"
   },
   {
    "duration": 15,
    "start_time": "2022-05-11T10:21:45.109Z"
   },
   {
    "duration": 402,
    "start_time": "2022-05-11T10:21:45.126Z"
   },
   {
    "duration": 7,
    "start_time": "2022-05-11T10:21:45.531Z"
   },
   {
    "duration": 666,
    "start_time": "2022-05-11T10:21:45.541Z"
   },
   {
    "duration": 1568,
    "start_time": "2022-05-11T10:24:12.192Z"
   },
   {
    "duration": 34,
    "start_time": "2022-05-11T10:24:13.763Z"
   },
   {
    "duration": 5,
    "start_time": "2022-05-11T10:24:13.799Z"
   },
   {
    "duration": 20,
    "start_time": "2022-05-11T10:24:13.807Z"
   },
   {
    "duration": 15,
    "start_time": "2022-05-11T10:24:13.829Z"
   },
   {
    "duration": 49,
    "start_time": "2022-05-11T10:24:13.847Z"
   },
   {
    "duration": 23,
    "start_time": "2022-05-11T10:24:13.898Z"
   },
   {
    "duration": 20,
    "start_time": "2022-05-11T10:24:13.923Z"
   },
   {
    "duration": 11,
    "start_time": "2022-05-11T10:24:13.946Z"
   },
   {
    "duration": 281,
    "start_time": "2022-05-11T10:24:13.961Z"
   },
   {
    "duration": 212,
    "start_time": "2022-05-11T10:24:14.244Z"
   },
   {
    "duration": 37,
    "start_time": "2022-05-11T10:24:14.458Z"
   },
   {
    "duration": 12,
    "start_time": "2022-05-11T10:24:14.497Z"
   },
   {
    "duration": 936,
    "start_time": "2022-05-11T10:24:14.511Z"
   },
   {
    "duration": 576,
    "start_time": "2022-05-11T10:24:15.450Z"
   },
   {
    "duration": 635,
    "start_time": "2022-05-11T10:24:16.028Z"
   },
   {
    "duration": 545,
    "start_time": "2022-05-11T10:24:16.665Z"
   },
   {
    "duration": 622,
    "start_time": "2022-05-11T10:24:17.213Z"
   },
   {
    "duration": 303,
    "start_time": "2022-05-11T10:24:17.838Z"
   },
   {
    "duration": 375,
    "start_time": "2022-05-11T10:24:18.144Z"
   },
   {
    "duration": 7,
    "start_time": "2022-05-11T10:24:18.521Z"
   },
   {
    "duration": 28,
    "start_time": "2022-05-11T10:24:18.531Z"
   },
   {
    "duration": 390,
    "start_time": "2022-05-11T10:24:18.561Z"
   },
   {
    "duration": 6,
    "start_time": "2022-05-11T10:24:18.953Z"
   },
   {
    "duration": 174,
    "start_time": "2022-05-11T10:24:18.961Z"
   },
   {
    "duration": 0,
    "start_time": "2022-05-11T10:24:19.137Z"
   },
   {
    "duration": 32,
    "start_time": "2022-05-11T10:25:55.762Z"
   },
   {
    "duration": 15,
    "start_time": "2022-05-11T10:26:29.451Z"
   },
   {
    "duration": 1560,
    "start_time": "2022-05-11T10:38:59.216Z"
   },
   {
    "duration": 32,
    "start_time": "2022-05-11T10:39:00.778Z"
   },
   {
    "duration": 6,
    "start_time": "2022-05-11T10:39:00.813Z"
   },
   {
    "duration": 29,
    "start_time": "2022-05-11T10:39:00.822Z"
   },
   {
    "duration": 56,
    "start_time": "2022-05-11T10:39:00.854Z"
   },
   {
    "duration": 132,
    "start_time": "2022-05-11T10:39:00.912Z"
   },
   {
    "duration": 50,
    "start_time": "2022-05-11T10:39:01.047Z"
   },
   {
    "duration": 28,
    "start_time": "2022-05-11T10:39:01.100Z"
   },
   {
    "duration": 29,
    "start_time": "2022-05-11T10:39:01.130Z"
   },
   {
    "duration": 292,
    "start_time": "2022-05-11T10:39:01.164Z"
   },
   {
    "duration": 216,
    "start_time": "2022-05-11T10:39:01.459Z"
   },
   {
    "duration": 23,
    "start_time": "2022-05-11T10:39:01.678Z"
   },
   {
    "duration": 13,
    "start_time": "2022-05-11T10:39:01.703Z"
   },
   {
    "duration": 653,
    "start_time": "2022-05-11T10:39:01.718Z"
   },
   {
    "duration": 529,
    "start_time": "2022-05-11T10:39:02.373Z"
   },
   {
    "duration": 597,
    "start_time": "2022-05-11T10:39:02.904Z"
   },
   {
    "duration": 541,
    "start_time": "2022-05-11T10:39:03.503Z"
   },
   {
    "duration": 658,
    "start_time": "2022-05-11T10:39:04.046Z"
   },
   {
    "duration": 269,
    "start_time": "2022-05-11T10:39:04.707Z"
   },
   {
    "duration": 355,
    "start_time": "2022-05-11T10:39:04.979Z"
   },
   {
    "duration": 9,
    "start_time": "2022-05-11T10:39:05.337Z"
   },
   {
    "duration": 12,
    "start_time": "2022-05-11T10:39:05.348Z"
   },
   {
    "duration": 382,
    "start_time": "2022-05-11T10:39:05.362Z"
   },
   {
    "duration": 7,
    "start_time": "2022-05-11T10:39:05.746Z"
   },
   {
    "duration": 162,
    "start_time": "2022-05-11T10:39:05.755Z"
   },
   {
    "duration": 0,
    "start_time": "2022-05-11T10:39:05.920Z"
   },
   {
    "duration": 3601,
    "start_time": "2022-05-11T10:39:32.160Z"
   },
   {
    "duration": 600,
    "start_time": "2022-05-11T10:40:52.810Z"
   },
   {
    "duration": 1460,
    "start_time": "2022-05-11T10:44:44.935Z"
   },
   {
    "duration": 40,
    "start_time": "2022-05-11T10:44:46.398Z"
   },
   {
    "duration": 4,
    "start_time": "2022-05-11T10:44:46.441Z"
   },
   {
    "duration": 20,
    "start_time": "2022-05-11T10:44:46.448Z"
   },
   {
    "duration": 22,
    "start_time": "2022-05-11T10:44:46.471Z"
   },
   {
    "duration": 47,
    "start_time": "2022-05-11T10:44:46.495Z"
   },
   {
    "duration": 23,
    "start_time": "2022-05-11T10:44:46.544Z"
   },
   {
    "duration": 20,
    "start_time": "2022-05-11T10:44:46.569Z"
   },
   {
    "duration": 18,
    "start_time": "2022-05-11T10:44:46.591Z"
   },
   {
    "duration": 247,
    "start_time": "2022-05-11T10:44:46.613Z"
   },
   {
    "duration": 233,
    "start_time": "2022-05-11T10:44:46.863Z"
   },
   {
    "duration": 17,
    "start_time": "2022-05-11T10:44:47.098Z"
   },
   {
    "duration": 6,
    "start_time": "2022-05-11T10:44:47.117Z"
   },
   {
    "duration": 734,
    "start_time": "2022-05-11T10:44:47.125Z"
   },
   {
    "duration": 549,
    "start_time": "2022-05-11T10:44:47.861Z"
   },
   {
    "duration": 597,
    "start_time": "2022-05-11T10:44:48.412Z"
   },
   {
    "duration": 514,
    "start_time": "2022-05-11T10:44:49.011Z"
   },
   {
    "duration": 630,
    "start_time": "2022-05-11T10:44:49.528Z"
   },
   {
    "duration": 269,
    "start_time": "2022-05-11T10:44:50.161Z"
   },
   {
    "duration": 345,
    "start_time": "2022-05-11T10:44:50.432Z"
   },
   {
    "duration": 6,
    "start_time": "2022-05-11T10:44:50.779Z"
   },
   {
    "duration": 12,
    "start_time": "2022-05-11T10:44:50.793Z"
   },
   {
    "duration": 386,
    "start_time": "2022-05-11T10:44:50.807Z"
   },
   {
    "duration": 6,
    "start_time": "2022-05-11T10:44:51.195Z"
   },
   {
    "duration": 643,
    "start_time": "2022-05-11T10:44:51.203Z"
   },
   {
    "duration": 15,
    "start_time": "2022-05-11T10:54:55.998Z"
   },
   {
    "duration": 194,
    "start_time": "2022-05-11T10:56:11.937Z"
   },
   {
    "duration": 3,
    "start_time": "2022-05-11T11:00:32.353Z"
   },
   {
    "duration": 3366,
    "start_time": "2022-05-11T11:04:33.658Z"
   },
   {
    "duration": 3324,
    "start_time": "2022-05-11T11:05:10.275Z"
   },
   {
    "duration": 12,
    "start_time": "2022-05-11T11:05:46.184Z"
   },
   {
    "duration": 14,
    "start_time": "2022-05-11T11:06:07.080Z"
   },
   {
    "duration": 13,
    "start_time": "2022-05-11T11:12:57.691Z"
   },
   {
    "duration": 19,
    "start_time": "2022-05-11T11:13:47.629Z"
   },
   {
    "duration": 12,
    "start_time": "2022-05-11T11:15:52.946Z"
   },
   {
    "duration": 30,
    "start_time": "2022-05-11T11:16:20.071Z"
   },
   {
    "duration": 594,
    "start_time": "2022-05-11T11:16:54.616Z"
   },
   {
    "duration": 17505,
    "start_time": "2022-05-11T11:20:15.271Z"
   },
   {
    "duration": 7073,
    "start_time": "2022-05-11T11:21:03.748Z"
   },
   {
    "duration": 19,
    "start_time": "2022-05-11T11:21:54.133Z"
   },
   {
    "duration": 1632,
    "start_time": "2022-05-11T11:47:30.882Z"
   },
   {
    "duration": 44,
    "start_time": "2022-05-11T11:47:32.517Z"
   },
   {
    "duration": 5,
    "start_time": "2022-05-11T11:47:32.563Z"
   },
   {
    "duration": 26,
    "start_time": "2022-05-11T11:47:32.570Z"
   },
   {
    "duration": 16,
    "start_time": "2022-05-11T11:47:32.599Z"
   },
   {
    "duration": 58,
    "start_time": "2022-05-11T11:47:32.617Z"
   },
   {
    "duration": 24,
    "start_time": "2022-05-11T11:47:32.678Z"
   },
   {
    "duration": 22,
    "start_time": "2022-05-11T11:47:32.704Z"
   },
   {
    "duration": 16,
    "start_time": "2022-05-11T11:47:32.728Z"
   },
   {
    "duration": 285,
    "start_time": "2022-05-11T11:47:32.746Z"
   },
   {
    "duration": 221,
    "start_time": "2022-05-11T11:47:33.033Z"
   },
   {
    "duration": 15,
    "start_time": "2022-05-11T11:47:33.256Z"
   },
   {
    "duration": 25,
    "start_time": "2022-05-11T11:47:33.273Z"
   },
   {
    "duration": 762,
    "start_time": "2022-05-11T11:47:33.304Z"
   },
   {
    "duration": 549,
    "start_time": "2022-05-11T11:47:34.069Z"
   },
   {
    "duration": 622,
    "start_time": "2022-05-11T11:47:34.620Z"
   },
   {
    "duration": 539,
    "start_time": "2022-05-11T11:47:35.245Z"
   },
   {
    "duration": 649,
    "start_time": "2022-05-11T11:47:35.794Z"
   },
   {
    "duration": 256,
    "start_time": "2022-05-11T11:47:36.445Z"
   },
   {
    "duration": 354,
    "start_time": "2022-05-11T11:47:36.704Z"
   },
   {
    "duration": 7,
    "start_time": "2022-05-11T11:47:37.061Z"
   },
   {
    "duration": 30,
    "start_time": "2022-05-11T11:47:37.070Z"
   },
   {
    "duration": 372,
    "start_time": "2022-05-11T11:47:37.102Z"
   },
   {
    "duration": 6,
    "start_time": "2022-05-11T11:47:37.476Z"
   },
   {
    "duration": 624,
    "start_time": "2022-05-11T11:47:37.494Z"
   },
   {
    "duration": 16,
    "start_time": "2022-05-11T11:47:38.121Z"
   },
   {
    "duration": 13,
    "start_time": "2022-05-11T11:47:38.139Z"
   },
   {
    "duration": 47,
    "start_time": "2022-05-11T11:47:38.154Z"
   },
   {
    "duration": 30,
    "start_time": "2022-05-11T11:47:38.203Z"
   },
   {
    "duration": 21,
    "start_time": "2022-05-11T11:47:38.236Z"
   },
   {
    "duration": 25,
    "start_time": "2022-05-11T12:45:29.870Z"
   },
   {
    "duration": 165,
    "start_time": "2022-05-11T12:45:53.051Z"
   },
   {
    "duration": 1588,
    "start_time": "2022-05-11T12:46:39.683Z"
   },
   {
    "duration": 43,
    "start_time": "2022-05-11T12:46:41.274Z"
   },
   {
    "duration": 5,
    "start_time": "2022-05-11T12:46:41.319Z"
   },
   {
    "duration": 22,
    "start_time": "2022-05-11T12:46:41.327Z"
   },
   {
    "duration": 17,
    "start_time": "2022-05-11T12:46:41.351Z"
   },
   {
    "duration": 78,
    "start_time": "2022-05-11T12:46:41.370Z"
   },
   {
    "duration": 24,
    "start_time": "2022-05-11T12:46:41.451Z"
   },
   {
    "duration": 22,
    "start_time": "2022-05-11T12:46:41.478Z"
   },
   {
    "duration": 30,
    "start_time": "2022-05-11T12:46:41.502Z"
   },
   {
    "duration": 166,
    "start_time": "2022-05-11T12:46:41.538Z"
   },
   {
    "duration": 0,
    "start_time": "2022-05-11T12:46:41.708Z"
   },
   {
    "duration": 0,
    "start_time": "2022-05-11T12:46:41.710Z"
   },
   {
    "duration": 0,
    "start_time": "2022-05-11T12:46:41.713Z"
   },
   {
    "duration": 0,
    "start_time": "2022-05-11T12:46:41.715Z"
   },
   {
    "duration": 0,
    "start_time": "2022-05-11T12:46:41.717Z"
   },
   {
    "duration": 0,
    "start_time": "2022-05-11T12:46:41.719Z"
   },
   {
    "duration": 0,
    "start_time": "2022-05-11T12:46:41.721Z"
   },
   {
    "duration": 0,
    "start_time": "2022-05-11T12:46:41.723Z"
   },
   {
    "duration": 0,
    "start_time": "2022-05-11T12:46:41.726Z"
   },
   {
    "duration": 0,
    "start_time": "2022-05-11T12:46:41.729Z"
   },
   {
    "duration": 0,
    "start_time": "2022-05-11T12:46:41.731Z"
   },
   {
    "duration": 1,
    "start_time": "2022-05-11T12:46:41.733Z"
   },
   {
    "duration": 0,
    "start_time": "2022-05-11T12:46:41.735Z"
   },
   {
    "duration": 0,
    "start_time": "2022-05-11T12:46:41.737Z"
   },
   {
    "duration": 0,
    "start_time": "2022-05-11T12:46:41.739Z"
   },
   {
    "duration": 0,
    "start_time": "2022-05-11T12:46:41.795Z"
   },
   {
    "duration": 0,
    "start_time": "2022-05-11T12:46:41.797Z"
   },
   {
    "duration": 0,
    "start_time": "2022-05-11T12:46:41.798Z"
   },
   {
    "duration": 0,
    "start_time": "2022-05-11T12:46:41.799Z"
   },
   {
    "duration": 0,
    "start_time": "2022-05-11T12:46:41.801Z"
   },
   {
    "duration": 0,
    "start_time": "2022-05-11T12:46:41.803Z"
   },
   {
    "duration": 0,
    "start_time": "2022-05-11T12:46:41.804Z"
   },
   {
    "duration": 26,
    "start_time": "2022-05-11T13:01:22.318Z"
   },
   {
    "duration": 5,
    "start_time": "2022-05-11T13:10:58.129Z"
   },
   {
    "duration": 1502,
    "start_time": "2022-05-11T13:11:04.391Z"
   },
   {
    "duration": 31,
    "start_time": "2022-05-11T13:11:05.896Z"
   },
   {
    "duration": 6,
    "start_time": "2022-05-11T13:11:05.929Z"
   },
   {
    "duration": 18,
    "start_time": "2022-05-11T13:11:05.939Z"
   },
   {
    "duration": 37,
    "start_time": "2022-05-11T13:11:05.960Z"
   },
   {
    "duration": 64,
    "start_time": "2022-05-11T13:11:05.999Z"
   },
   {
    "duration": 25,
    "start_time": "2022-05-11T13:11:06.065Z"
   },
   {
    "duration": 22,
    "start_time": "2022-05-11T13:11:06.092Z"
   },
   {
    "duration": 25,
    "start_time": "2022-05-11T13:11:06.116Z"
   },
   {
    "duration": 51,
    "start_time": "2022-05-11T13:11:06.144Z"
   },
   {
    "duration": 16,
    "start_time": "2022-05-11T13:11:06.197Z"
   },
   {
    "duration": 271,
    "start_time": "2022-05-11T13:11:06.215Z"
   },
   {
    "duration": 230,
    "start_time": "2022-05-11T13:11:06.489Z"
   },
   {
    "duration": 16,
    "start_time": "2022-05-11T13:11:06.722Z"
   },
   {
    "duration": 8,
    "start_time": "2022-05-11T13:11:06.740Z"
   },
   {
    "duration": 662,
    "start_time": "2022-05-11T13:11:06.750Z"
   },
   {
    "duration": 555,
    "start_time": "2022-05-11T13:11:07.415Z"
   },
   {
    "duration": 648,
    "start_time": "2022-05-11T13:11:07.972Z"
   },
   {
    "duration": 518,
    "start_time": "2022-05-11T13:11:08.622Z"
   },
   {
    "duration": 751,
    "start_time": "2022-05-11T13:11:09.142Z"
   },
   {
    "duration": 437,
    "start_time": "2022-05-11T13:11:09.895Z"
   },
   {
    "duration": 687,
    "start_time": "2022-05-11T13:11:10.335Z"
   },
   {
    "duration": 5,
    "start_time": "2022-05-11T13:11:11.024Z"
   },
   {
    "duration": 64,
    "start_time": "2022-05-11T13:11:11.031Z"
   },
   {
    "duration": 706,
    "start_time": "2022-05-11T13:11:11.097Z"
   },
   {
    "duration": 6,
    "start_time": "2022-05-11T13:11:11.805Z"
   },
   {
    "duration": 1220,
    "start_time": "2022-05-11T13:11:11.813Z"
   },
   {
    "duration": 14,
    "start_time": "2022-05-11T13:11:13.038Z"
   },
   {
    "duration": 37,
    "start_time": "2022-05-11T13:11:13.055Z"
   },
   {
    "duration": 12,
    "start_time": "2022-05-11T13:11:13.095Z"
   },
   {
    "duration": 29,
    "start_time": "2022-05-11T13:11:13.110Z"
   },
   {
    "duration": 19,
    "start_time": "2022-05-11T13:11:13.141Z"
   },
   {
    "duration": 207,
    "start_time": "2022-05-11T13:23:06.808Z"
   },
   {
    "duration": 152,
    "start_time": "2022-05-11T13:23:15.873Z"
   },
   {
    "duration": 14,
    "start_time": "2022-05-11T13:23:33.857Z"
   },
   {
    "duration": 6,
    "start_time": "2022-05-11T13:26:18.788Z"
   },
   {
    "duration": 11,
    "start_time": "2022-05-11T13:27:05.309Z"
   },
   {
    "duration": 18,
    "start_time": "2022-05-11T13:27:13.159Z"
   },
   {
    "duration": 20,
    "start_time": "2022-05-11T13:27:25.159Z"
   },
   {
    "duration": 12,
    "start_time": "2022-05-11T13:27:40.851Z"
   },
   {
    "duration": 1662,
    "start_time": "2022-05-11T13:28:00.816Z"
   },
   {
    "duration": 80,
    "start_time": "2022-05-11T13:28:02.481Z"
   },
   {
    "duration": 5,
    "start_time": "2022-05-11T13:28:02.563Z"
   },
   {
    "duration": 32,
    "start_time": "2022-05-11T13:28:02.571Z"
   },
   {
    "duration": 15,
    "start_time": "2022-05-11T13:28:02.607Z"
   },
   {
    "duration": 104,
    "start_time": "2022-05-11T13:28:02.624Z"
   },
   {
    "duration": 52,
    "start_time": "2022-05-11T13:28:02.730Z"
   },
   {
    "duration": 30,
    "start_time": "2022-05-11T13:28:02.785Z"
   },
   {
    "duration": 15,
    "start_time": "2022-05-11T13:28:02.818Z"
   },
   {
    "duration": 14,
    "start_time": "2022-05-11T13:28:02.837Z"
   },
   {
    "duration": 59,
    "start_time": "2022-05-11T13:28:02.854Z"
   },
   {
    "duration": 29,
    "start_time": "2022-05-11T13:28:02.916Z"
   },
   {
    "duration": 14,
    "start_time": "2022-05-11T13:28:02.947Z"
   },
   {
    "duration": 305,
    "start_time": "2022-05-11T13:28:02.963Z"
   },
   {
    "duration": 232,
    "start_time": "2022-05-11T13:28:03.271Z"
   },
   {
    "duration": 15,
    "start_time": "2022-05-11T13:28:03.506Z"
   },
   {
    "duration": 13,
    "start_time": "2022-05-11T13:28:03.523Z"
   },
   {
    "duration": 773,
    "start_time": "2022-05-11T13:28:03.538Z"
   },
   {
    "duration": 589,
    "start_time": "2022-05-11T13:28:04.314Z"
   },
   {
    "duration": 624,
    "start_time": "2022-05-11T13:28:04.907Z"
   },
   {
    "duration": 572,
    "start_time": "2022-05-11T13:28:05.534Z"
   },
   {
    "duration": 998,
    "start_time": "2022-05-11T13:28:06.109Z"
   },
   {
    "duration": 258,
    "start_time": "2022-05-11T13:28:07.110Z"
   },
   {
    "duration": 362,
    "start_time": "2022-05-11T13:28:07.371Z"
   },
   {
    "duration": 5,
    "start_time": "2022-05-11T13:28:07.736Z"
   },
   {
    "duration": 17,
    "start_time": "2022-05-11T13:28:07.743Z"
   },
   {
    "duration": 403,
    "start_time": "2022-05-11T13:28:07.762Z"
   },
   {
    "duration": 5,
    "start_time": "2022-05-11T13:28:08.170Z"
   },
   {
    "duration": 663,
    "start_time": "2022-05-11T13:28:08.194Z"
   },
   {
    "duration": 37,
    "start_time": "2022-05-11T13:28:08.859Z"
   },
   {
    "duration": 13,
    "start_time": "2022-05-11T13:28:08.899Z"
   },
   {
    "duration": 18,
    "start_time": "2022-05-11T13:28:08.914Z"
   },
   {
    "duration": 62,
    "start_time": "2022-05-11T13:28:08.934Z"
   },
   {
    "duration": 20,
    "start_time": "2022-05-11T13:28:08.998Z"
   },
   {
    "duration": 18,
    "start_time": "2022-05-11T13:29:51.951Z"
   },
   {
    "duration": 14,
    "start_time": "2022-05-11T13:30:07.206Z"
   },
   {
    "duration": 7,
    "start_time": "2022-05-11T13:35:16.262Z"
   },
   {
    "duration": 20,
    "start_time": "2022-05-11T13:35:17.653Z"
   },
   {
    "duration": 4,
    "start_time": "2022-05-11T13:36:18.275Z"
   },
   {
    "duration": 1740,
    "start_time": "2022-05-11T13:37:16.108Z"
   },
   {
    "duration": 30,
    "start_time": "2022-05-11T13:37:17.852Z"
   },
   {
    "duration": 9,
    "start_time": "2022-05-11T13:37:17.884Z"
   },
   {
    "duration": 26,
    "start_time": "2022-05-11T13:37:17.896Z"
   },
   {
    "duration": 15,
    "start_time": "2022-05-11T13:37:17.925Z"
   },
   {
    "duration": 55,
    "start_time": "2022-05-11T13:37:17.942Z"
   },
   {
    "duration": 28,
    "start_time": "2022-05-11T13:37:18.001Z"
   },
   {
    "duration": 20,
    "start_time": "2022-05-11T13:37:18.031Z"
   },
   {
    "duration": 13,
    "start_time": "2022-05-11T13:37:18.054Z"
   },
   {
    "duration": 33,
    "start_time": "2022-05-11T13:37:18.069Z"
   },
   {
    "duration": 26,
    "start_time": "2022-05-11T13:37:18.106Z"
   },
   {
    "duration": 11,
    "start_time": "2022-05-11T13:37:18.134Z"
   },
   {
    "duration": 450,
    "start_time": "2022-05-11T13:37:18.148Z"
   },
   {
    "duration": 232,
    "start_time": "2022-05-11T13:37:18.605Z"
   },
   {
    "duration": 15,
    "start_time": "2022-05-11T13:37:18.839Z"
   },
   {
    "duration": 14,
    "start_time": "2022-05-11T13:37:18.856Z"
   },
   {
    "duration": 704,
    "start_time": "2022-05-11T13:37:18.872Z"
   },
   {
    "duration": 608,
    "start_time": "2022-05-11T13:37:19.578Z"
   },
   {
    "duration": 642,
    "start_time": "2022-05-11T13:37:20.188Z"
   },
   {
    "duration": 595,
    "start_time": "2022-05-11T13:37:20.832Z"
   },
   {
    "duration": 676,
    "start_time": "2022-05-11T13:37:21.430Z"
   },
   {
    "duration": 324,
    "start_time": "2022-05-11T13:37:22.109Z"
   },
   {
    "duration": 401,
    "start_time": "2022-05-11T13:37:22.436Z"
   },
   {
    "duration": 6,
    "start_time": "2022-05-11T13:37:22.839Z"
   },
   {
    "duration": 21,
    "start_time": "2022-05-11T13:37:22.847Z"
   },
   {
    "duration": 547,
    "start_time": "2022-05-11T13:37:22.871Z"
   },
   {
    "duration": 7,
    "start_time": "2022-05-11T13:37:23.420Z"
   },
   {
    "duration": 750,
    "start_time": "2022-05-11T13:37:23.429Z"
   },
   {
    "duration": 24,
    "start_time": "2022-05-11T13:37:24.181Z"
   },
   {
    "duration": 18,
    "start_time": "2022-05-11T13:37:24.209Z"
   },
   {
    "duration": 13,
    "start_time": "2022-05-11T13:37:24.230Z"
   },
   {
    "duration": 70,
    "start_time": "2022-05-11T13:37:24.246Z"
   },
   {
    "duration": 20,
    "start_time": "2022-05-11T13:37:24.318Z"
   },
   {
    "duration": 525,
    "start_time": "2022-05-11T13:40:54.748Z"
   },
   {
    "duration": 615,
    "start_time": "2022-05-11T13:40:59.018Z"
   },
   {
    "duration": 757,
    "start_time": "2022-05-11T13:41:17.785Z"
   },
   {
    "duration": 6,
    "start_time": "2022-05-11T13:49:29.497Z"
   },
   {
    "duration": 29,
    "start_time": "2022-05-11T13:59:11.747Z"
   },
   {
    "duration": 817,
    "start_time": "2022-05-11T13:59:25.641Z"
   },
   {
    "duration": 20,
    "start_time": "2022-05-11T14:01:04.428Z"
   },
   {
    "duration": 1907,
    "start_time": "2022-05-11T14:24:54.030Z"
   },
   {
    "duration": 40,
    "start_time": "2022-05-11T14:24:55.940Z"
   },
   {
    "duration": 4,
    "start_time": "2022-05-11T14:24:55.982Z"
   },
   {
    "duration": 20,
    "start_time": "2022-05-11T14:24:55.989Z"
   },
   {
    "duration": 15,
    "start_time": "2022-05-11T14:24:56.011Z"
   },
   {
    "duration": 52,
    "start_time": "2022-05-11T14:24:56.028Z"
   },
   {
    "duration": 23,
    "start_time": "2022-05-11T14:24:56.082Z"
   },
   {
    "duration": 21,
    "start_time": "2022-05-11T14:24:56.108Z"
   },
   {
    "duration": 16,
    "start_time": "2022-05-11T14:24:56.132Z"
   },
   {
    "duration": 6,
    "start_time": "2022-05-11T14:24:56.152Z"
   },
   {
    "duration": 38,
    "start_time": "2022-05-11T14:24:56.160Z"
   },
   {
    "duration": 8,
    "start_time": "2022-05-11T14:24:56.201Z"
   },
   {
    "duration": 275,
    "start_time": "2022-05-11T14:24:56.211Z"
   },
   {
    "duration": 219,
    "start_time": "2022-05-11T14:24:56.488Z"
   },
   {
    "duration": 16,
    "start_time": "2022-05-11T14:24:56.709Z"
   },
   {
    "duration": 7,
    "start_time": "2022-05-11T14:24:56.728Z"
   },
   {
    "duration": 669,
    "start_time": "2022-05-11T14:24:56.737Z"
   },
   {
    "duration": 582,
    "start_time": "2022-05-11T14:24:57.408Z"
   },
   {
    "duration": 612,
    "start_time": "2022-05-11T14:24:57.992Z"
   },
   {
    "duration": 548,
    "start_time": "2022-05-11T14:24:58.606Z"
   },
   {
    "duration": 660,
    "start_time": "2022-05-11T14:24:59.157Z"
   },
   {
    "duration": 351,
    "start_time": "2022-05-11T14:24:59.820Z"
   },
   {
    "duration": 360,
    "start_time": "2022-05-11T14:25:00.173Z"
   },
   {
    "duration": 6,
    "start_time": "2022-05-11T14:25:00.535Z"
   },
   {
    "duration": 31,
    "start_time": "2022-05-11T14:25:00.543Z"
   },
   {
    "duration": 387,
    "start_time": "2022-05-11T14:25:00.576Z"
   },
   {
    "duration": 8,
    "start_time": "2022-05-11T14:25:00.965Z"
   },
   {
    "duration": 711,
    "start_time": "2022-05-11T14:25:00.992Z"
   },
   {
    "duration": 17,
    "start_time": "2022-05-11T14:25:01.706Z"
   },
   {
    "duration": 14,
    "start_time": "2022-05-11T14:25:01.725Z"
   },
   {
    "duration": 17,
    "start_time": "2022-05-11T14:25:01.742Z"
   },
   {
    "duration": 58,
    "start_time": "2022-05-11T14:25:01.762Z"
   },
   {
    "duration": 28,
    "start_time": "2022-05-11T14:25:01.823Z"
   },
   {
    "duration": 1874,
    "start_time": "2022-05-11T18:49:27.650Z"
   },
   {
    "duration": 47,
    "start_time": "2022-05-11T18:49:29.527Z"
   },
   {
    "duration": 4,
    "start_time": "2022-05-11T18:49:29.577Z"
   },
   {
    "duration": 20,
    "start_time": "2022-05-11T18:49:29.584Z"
   },
   {
    "duration": 25,
    "start_time": "2022-05-11T18:49:29.607Z"
   },
   {
    "duration": 49,
    "start_time": "2022-05-11T18:49:29.634Z"
   },
   {
    "duration": 25,
    "start_time": "2022-05-11T18:49:29.685Z"
   },
   {
    "duration": 23,
    "start_time": "2022-05-11T18:49:29.712Z"
   },
   {
    "duration": 16,
    "start_time": "2022-05-11T18:49:29.737Z"
   },
   {
    "duration": 7,
    "start_time": "2022-05-11T18:49:29.758Z"
   },
   {
    "duration": 18,
    "start_time": "2022-05-11T18:49:29.767Z"
   },
   {
    "duration": 39,
    "start_time": "2022-05-11T18:49:29.788Z"
   },
   {
    "duration": 283,
    "start_time": "2022-05-11T18:49:29.830Z"
   },
   {
    "duration": 222,
    "start_time": "2022-05-11T18:49:30.116Z"
   },
   {
    "duration": 16,
    "start_time": "2022-05-11T18:49:30.341Z"
   },
   {
    "duration": 20,
    "start_time": "2022-05-11T18:49:30.359Z"
   },
   {
    "duration": 682,
    "start_time": "2022-05-11T18:49:30.381Z"
   },
   {
    "duration": 585,
    "start_time": "2022-05-11T18:49:31.065Z"
   },
   {
    "duration": 707,
    "start_time": "2022-05-11T18:49:31.652Z"
   },
   {
    "duration": 580,
    "start_time": "2022-05-11T18:49:32.362Z"
   },
   {
    "duration": 655,
    "start_time": "2022-05-11T18:49:32.944Z"
   },
   {
    "duration": 305,
    "start_time": "2022-05-11T18:49:33.602Z"
   },
   {
    "duration": 518,
    "start_time": "2022-05-11T18:49:33.926Z"
   },
   {
    "duration": 8,
    "start_time": "2022-05-11T18:49:34.446Z"
   },
   {
    "duration": 14,
    "start_time": "2022-05-11T18:49:34.457Z"
   },
   {
    "duration": 555,
    "start_time": "2022-05-11T18:49:34.473Z"
   },
   {
    "duration": 7,
    "start_time": "2022-05-11T18:49:35.031Z"
   },
   {
    "duration": 641,
    "start_time": "2022-05-11T18:49:35.044Z"
   },
   {
    "duration": 16,
    "start_time": "2022-05-11T18:49:35.688Z"
   },
   {
    "duration": 16,
    "start_time": "2022-05-11T18:49:35.726Z"
   },
   {
    "duration": 20,
    "start_time": "2022-05-11T18:49:35.744Z"
   },
   {
    "duration": 31,
    "start_time": "2022-05-11T18:49:35.766Z"
   },
   {
    "duration": 21,
    "start_time": "2022-05-11T18:49:35.824Z"
   },
   {
    "duration": 14,
    "start_time": "2022-05-11T19:01:03.680Z"
   },
   {
    "duration": 125,
    "start_time": "2022-05-11T19:01:57.335Z"
   },
   {
    "duration": 141,
    "start_time": "2022-05-11T19:02:02.358Z"
   },
   {
    "duration": 14,
    "start_time": "2022-05-11T19:02:14.840Z"
   },
   {
    "duration": 111,
    "start_time": "2022-05-11T19:02:44.038Z"
   },
   {
    "duration": 7085,
    "start_time": "2022-05-11T19:35:50.707Z"
   },
   {
    "duration": 56,
    "start_time": "2022-05-11T19:35:57.795Z"
   },
   {
    "duration": 9,
    "start_time": "2022-05-11T19:35:57.854Z"
   },
   {
    "duration": 26,
    "start_time": "2022-05-11T19:35:57.866Z"
   },
   {
    "duration": 18,
    "start_time": "2022-05-11T19:35:57.895Z"
   },
   {
    "duration": 252,
    "start_time": "2022-05-11T19:35:57.926Z"
   },
   {
    "duration": 134,
    "start_time": "2022-05-11T19:35:58.181Z"
   },
   {
    "duration": 37,
    "start_time": "2022-05-11T19:35:58.318Z"
   },
   {
    "duration": 24,
    "start_time": "2022-05-11T19:35:58.359Z"
   },
   {
    "duration": 12,
    "start_time": "2022-05-11T19:35:58.388Z"
   },
   {
    "duration": 34,
    "start_time": "2022-05-11T19:35:58.402Z"
   },
   {
    "duration": 32,
    "start_time": "2022-05-11T19:35:58.439Z"
   },
   {
    "duration": 541,
    "start_time": "2022-05-11T19:35:58.474Z"
   },
   {
    "duration": 328,
    "start_time": "2022-05-11T19:35:59.018Z"
   },
   {
    "duration": 35,
    "start_time": "2022-05-11T19:35:59.350Z"
   },
   {
    "duration": 5,
    "start_time": "2022-05-11T19:35:59.388Z"
   },
   {
    "duration": 2325,
    "start_time": "2022-05-11T19:35:59.395Z"
   },
   {
    "duration": 1608,
    "start_time": "2022-05-11T19:36:01.753Z"
   },
   {
    "duration": 1149,
    "start_time": "2022-05-11T19:36:03.364Z"
   },
   {
    "duration": 609,
    "start_time": "2022-05-11T19:36:04.515Z"
   },
   {
    "duration": 678,
    "start_time": "2022-05-11T19:36:05.127Z"
   },
   {
    "duration": 275,
    "start_time": "2022-05-11T19:36:05.808Z"
   },
   {
    "duration": 403,
    "start_time": "2022-05-11T19:36:06.086Z"
   },
   {
    "duration": 9,
    "start_time": "2022-05-11T19:36:06.491Z"
   },
   {
    "duration": 42,
    "start_time": "2022-05-11T19:36:06.502Z"
   },
   {
    "duration": 389,
    "start_time": "2022-05-11T19:36:06.547Z"
   },
   {
    "duration": 6,
    "start_time": "2022-05-11T19:36:06.938Z"
   },
   {
    "duration": 1021,
    "start_time": "2022-05-11T19:36:06.950Z"
   },
   {
    "duration": 17,
    "start_time": "2022-05-11T19:36:07.973Z"
   },
   {
    "duration": 15,
    "start_time": "2022-05-11T19:36:07.993Z"
   },
   {
    "duration": 22,
    "start_time": "2022-05-11T19:36:08.011Z"
   },
   {
    "duration": 37,
    "start_time": "2022-05-11T19:36:08.035Z"
   },
   {
    "duration": 21,
    "start_time": "2022-05-11T19:36:08.074Z"
   },
   {
    "duration": 294,
    "start_time": "2022-05-11T19:41:45.533Z"
   },
   {
    "duration": 253,
    "start_time": "2022-05-11T19:43:05.216Z"
   },
   {
    "duration": 122,
    "start_time": "2022-05-11T19:43:13.295Z"
   },
   {
    "duration": 171,
    "start_time": "2022-05-11T19:43:16.487Z"
   },
   {
    "duration": 355,
    "start_time": "2022-05-11T19:43:29.134Z"
   },
   {
    "duration": 94,
    "start_time": "2022-05-11T19:43:35.346Z"
   },
   {
    "duration": 1604,
    "start_time": "2022-05-11T19:55:14.562Z"
   },
   {
    "duration": 40,
    "start_time": "2022-05-11T19:55:16.169Z"
   },
   {
    "duration": 5,
    "start_time": "2022-05-11T19:55:16.211Z"
   },
   {
    "duration": 24,
    "start_time": "2022-05-11T19:55:16.219Z"
   },
   {
    "duration": 16,
    "start_time": "2022-05-11T19:55:16.245Z"
   },
   {
    "duration": 55,
    "start_time": "2022-05-11T19:55:16.264Z"
   },
   {
    "duration": 25,
    "start_time": "2022-05-11T19:55:16.321Z"
   },
   {
    "duration": 24,
    "start_time": "2022-05-11T19:55:16.349Z"
   },
   {
    "duration": 21,
    "start_time": "2022-05-11T19:55:16.375Z"
   },
   {
    "duration": 26,
    "start_time": "2022-05-11T19:55:16.402Z"
   },
   {
    "duration": 18,
    "start_time": "2022-05-11T19:55:16.431Z"
   },
   {
    "duration": 10,
    "start_time": "2022-05-11T19:55:16.452Z"
   },
   {
    "duration": 308,
    "start_time": "2022-05-11T19:55:16.465Z"
   },
   {
    "duration": 225,
    "start_time": "2022-05-11T19:55:16.775Z"
   },
   {
    "duration": 31,
    "start_time": "2022-05-11T19:55:17.003Z"
   },
   {
    "duration": 7,
    "start_time": "2022-05-11T19:55:17.036Z"
   },
   {
    "duration": 695,
    "start_time": "2022-05-11T19:55:17.045Z"
   },
   {
    "duration": 575,
    "start_time": "2022-05-11T19:55:17.742Z"
   },
   {
    "duration": 639,
    "start_time": "2022-05-11T19:55:18.321Z"
   },
   {
    "duration": 879,
    "start_time": "2022-05-11T19:55:18.964Z"
   },
   {
    "duration": 649,
    "start_time": "2022-05-11T19:55:19.845Z"
   },
   {
    "duration": 464,
    "start_time": "2022-05-11T19:55:20.496Z"
   },
   {
    "duration": 374,
    "start_time": "2022-05-11T19:55:20.963Z"
   },
   {
    "duration": 8,
    "start_time": "2022-05-11T19:55:21.340Z"
   },
   {
    "duration": 22,
    "start_time": "2022-05-11T19:55:21.351Z"
   },
   {
    "duration": 591,
    "start_time": "2022-05-11T19:55:21.376Z"
   },
   {
    "duration": 8,
    "start_time": "2022-05-11T19:55:21.970Z"
   },
   {
    "duration": 663,
    "start_time": "2022-05-11T19:55:21.984Z"
   },
   {
    "duration": 21,
    "start_time": "2022-05-11T19:55:22.650Z"
   },
   {
    "duration": 18,
    "start_time": "2022-05-11T19:55:22.674Z"
   },
   {
    "duration": 17,
    "start_time": "2022-05-11T19:55:22.726Z"
   },
   {
    "duration": 34,
    "start_time": "2022-05-11T19:55:22.746Z"
   },
   {
    "duration": 53,
    "start_time": "2022-05-11T19:55:22.783Z"
   },
   {
    "duration": 1168,
    "start_time": "2022-05-12T10:48:27.171Z"
   },
   {
    "duration": 21,
    "start_time": "2022-05-12T10:48:28.341Z"
   },
   {
    "duration": 4,
    "start_time": "2022-05-12T10:48:28.364Z"
   },
   {
    "duration": 23,
    "start_time": "2022-05-12T10:48:28.370Z"
   },
   {
    "duration": 11,
    "start_time": "2022-05-12T10:48:28.395Z"
   },
   {
    "duration": 42,
    "start_time": "2022-05-12T10:48:28.409Z"
   },
   {
    "duration": 14,
    "start_time": "2022-05-12T10:48:28.453Z"
   },
   {
    "duration": 13,
    "start_time": "2022-05-12T10:48:28.469Z"
   },
   {
    "duration": 14,
    "start_time": "2022-05-12T10:48:28.484Z"
   },
   {
    "duration": 5,
    "start_time": "2022-05-12T10:48:28.502Z"
   },
   {
    "duration": 13,
    "start_time": "2022-05-12T10:48:28.509Z"
   },
   {
    "duration": 6,
    "start_time": "2022-05-12T10:48:28.524Z"
   },
   {
    "duration": 166,
    "start_time": "2022-05-12T10:48:28.532Z"
   },
   {
    "duration": 124,
    "start_time": "2022-05-12T10:48:28.699Z"
   },
   {
    "duration": 10,
    "start_time": "2022-05-12T10:48:28.824Z"
   },
   {
    "duration": 6,
    "start_time": "2022-05-12T10:48:28.836Z"
   },
   {
    "duration": 408,
    "start_time": "2022-05-12T10:48:28.844Z"
   },
   {
    "duration": 319,
    "start_time": "2022-05-12T10:48:29.254Z"
   },
   {
    "duration": 404,
    "start_time": "2022-05-12T10:48:29.587Z"
   },
   {
    "duration": 599,
    "start_time": "2022-05-12T10:48:29.993Z"
   },
   {
    "duration": 746,
    "start_time": "2022-05-12T10:48:30.595Z"
   },
   {
    "duration": 153,
    "start_time": "2022-05-12T10:48:31.343Z"
   },
   {
    "duration": 208,
    "start_time": "2022-05-12T10:48:31.497Z"
   },
   {
    "duration": 5,
    "start_time": "2022-05-12T10:48:31.706Z"
   },
   {
    "duration": 26,
    "start_time": "2022-05-12T10:48:31.713Z"
   },
   {
    "duration": 214,
    "start_time": "2022-05-12T10:48:31.741Z"
   },
   {
    "duration": 4,
    "start_time": "2022-05-12T10:48:31.957Z"
   },
   {
    "duration": 371,
    "start_time": "2022-05-12T10:48:31.965Z"
   },
   {
    "duration": 10,
    "start_time": "2022-05-12T10:48:32.338Z"
   },
   {
    "duration": 15,
    "start_time": "2022-05-12T10:48:32.350Z"
   },
   {
    "duration": 21,
    "start_time": "2022-05-12T10:48:32.367Z"
   },
   {
    "duration": 22,
    "start_time": "2022-05-12T10:48:32.389Z"
   },
   {
    "duration": 13,
    "start_time": "2022-05-12T10:48:32.413Z"
   },
   {
    "duration": 238,
    "start_time": "2022-05-12T12:21:59.874Z"
   },
   {
    "duration": 48,
    "start_time": "2022-05-12T12:31:07.162Z"
   },
   {
    "duration": 1653,
    "start_time": "2022-05-12T12:31:57.130Z"
   },
   {
    "duration": 34,
    "start_time": "2022-05-12T12:31:58.786Z"
   },
   {
    "duration": 6,
    "start_time": "2022-05-12T12:31:58.822Z"
   },
   {
    "duration": 52,
    "start_time": "2022-05-12T12:31:58.841Z"
   },
   {
    "duration": 17,
    "start_time": "2022-05-12T12:31:58.897Z"
   },
   {
    "duration": 82,
    "start_time": "2022-05-12T12:31:58.917Z"
   },
   {
    "duration": 21,
    "start_time": "2022-05-12T12:31:59.002Z"
   },
   {
    "duration": 24,
    "start_time": "2022-05-12T12:31:59.025Z"
   },
   {
    "duration": 26,
    "start_time": "2022-05-12T12:31:59.051Z"
   },
   {
    "duration": 7,
    "start_time": "2022-05-12T12:31:59.079Z"
   },
   {
    "duration": 17,
    "start_time": "2022-05-12T12:31:59.088Z"
   },
   {
    "duration": 31,
    "start_time": "2022-05-12T12:31:59.107Z"
   },
   {
    "duration": 223,
    "start_time": "2022-05-12T12:31:59.141Z"
   },
   {
    "duration": 152,
    "start_time": "2022-05-12T12:31:59.367Z"
   },
   {
    "duration": 25,
    "start_time": "2022-05-12T12:31:59.521Z"
   },
   {
    "duration": 12,
    "start_time": "2022-05-12T12:31:59.552Z"
   },
   {
    "duration": 517,
    "start_time": "2022-05-12T12:31:59.567Z"
   },
   {
    "duration": 507,
    "start_time": "2022-05-12T12:32:00.087Z"
   },
   {
    "duration": 527,
    "start_time": "2022-05-12T12:32:00.596Z"
   },
   {
    "duration": 419,
    "start_time": "2022-05-12T12:32:01.133Z"
   },
   {
    "duration": 519,
    "start_time": "2022-05-12T12:32:01.554Z"
   },
   {
    "duration": 180,
    "start_time": "2022-05-12T12:32:02.075Z"
   },
   {
    "duration": 271,
    "start_time": "2022-05-12T12:32:02.258Z"
   },
   {
    "duration": 8,
    "start_time": "2022-05-12T12:32:02.533Z"
   },
   {
    "duration": 26,
    "start_time": "2022-05-12T12:32:02.544Z"
   },
   {
    "duration": 292,
    "start_time": "2022-05-12T12:32:02.573Z"
   },
   {
    "duration": 5,
    "start_time": "2022-05-12T12:32:02.868Z"
   },
   {
    "duration": 130,
    "start_time": "2022-05-12T12:32:02.875Z"
   },
   {
    "duration": 0,
    "start_time": "2022-05-12T12:32:03.007Z"
   },
   {
    "duration": 0,
    "start_time": "2022-05-12T12:32:03.009Z"
   },
   {
    "duration": 0,
    "start_time": "2022-05-12T12:32:03.010Z"
   },
   {
    "duration": 0,
    "start_time": "2022-05-12T12:32:03.011Z"
   },
   {
    "duration": 0,
    "start_time": "2022-05-12T12:32:03.012Z"
   },
   {
    "duration": 0,
    "start_time": "2022-05-12T12:32:03.013Z"
   },
   {
    "duration": 241,
    "start_time": "2022-05-12T12:32:38.888Z"
   },
   {
    "duration": 364,
    "start_time": "2022-05-12T12:34:41.486Z"
   },
   {
    "duration": 371,
    "start_time": "2022-05-12T12:35:37.552Z"
   },
   {
    "duration": 24,
    "start_time": "2022-05-12T12:35:52.567Z"
   },
   {
    "duration": 441,
    "start_time": "2022-05-12T12:36:24.366Z"
   },
   {
    "duration": 371,
    "start_time": "2022-05-12T12:36:52.242Z"
   },
   {
    "duration": 385,
    "start_time": "2022-05-12T12:40:07.224Z"
   },
   {
    "duration": 1362,
    "start_time": "2022-05-12T12:42:57.359Z"
   },
   {
    "duration": 43,
    "start_time": "2022-05-12T12:42:58.723Z"
   },
   {
    "duration": 9,
    "start_time": "2022-05-12T12:42:58.769Z"
   },
   {
    "duration": 17,
    "start_time": "2022-05-12T12:42:58.780Z"
   },
   {
    "duration": 14,
    "start_time": "2022-05-12T12:42:58.800Z"
   },
   {
    "duration": 68,
    "start_time": "2022-05-12T12:42:58.816Z"
   },
   {
    "duration": 19,
    "start_time": "2022-05-12T12:42:58.886Z"
   },
   {
    "duration": 15,
    "start_time": "2022-05-12T12:42:58.907Z"
   },
   {
    "duration": 53,
    "start_time": "2022-05-12T12:42:58.924Z"
   },
   {
    "duration": 8,
    "start_time": "2022-05-12T12:42:58.979Z"
   },
   {
    "duration": 19,
    "start_time": "2022-05-12T12:42:58.989Z"
   },
   {
    "duration": 14,
    "start_time": "2022-05-12T12:42:59.010Z"
   },
   {
    "duration": 225,
    "start_time": "2022-05-12T12:42:59.026Z"
   },
   {
    "duration": 140,
    "start_time": "2022-05-12T12:42:59.255Z"
   },
   {
    "duration": 10,
    "start_time": "2022-05-12T12:42:59.397Z"
   },
   {
    "duration": 7,
    "start_time": "2022-05-12T12:42:59.410Z"
   },
   {
    "duration": 1323,
    "start_time": "2022-05-12T12:42:59.434Z"
   },
   {
    "duration": 983,
    "start_time": "2022-05-12T12:43:00.761Z"
   },
   {
    "duration": 475,
    "start_time": "2022-05-12T12:43:01.753Z"
   },
   {
    "duration": 420,
    "start_time": "2022-05-12T12:43:02.234Z"
   },
   {
    "duration": 513,
    "start_time": "2022-05-12T12:43:02.656Z"
   },
   {
    "duration": 157,
    "start_time": "2022-05-12T12:43:03.171Z"
   },
   {
    "duration": 266,
    "start_time": "2022-05-12T12:43:03.333Z"
   },
   {
    "duration": 5,
    "start_time": "2022-05-12T12:43:03.601Z"
   },
   {
    "duration": 38,
    "start_time": "2022-05-12T12:43:03.607Z"
   },
   {
    "duration": 272,
    "start_time": "2022-05-12T12:43:03.648Z"
   },
   {
    "duration": 14,
    "start_time": "2022-05-12T12:43:03.922Z"
   },
   {
    "duration": 406,
    "start_time": "2022-05-12T12:43:03.945Z"
   },
   {
    "duration": 34,
    "start_time": "2022-05-12T12:43:04.355Z"
   },
   {
    "duration": 14,
    "start_time": "2022-05-12T12:43:04.391Z"
   },
   {
    "duration": 29,
    "start_time": "2022-05-12T12:43:04.408Z"
   },
   {
    "duration": 29,
    "start_time": "2022-05-12T12:43:04.445Z"
   },
   {
    "duration": 26,
    "start_time": "2022-05-12T12:43:04.476Z"
   },
   {
    "duration": 14,
    "start_time": "2022-05-12T12:43:04.504Z"
   },
   {
    "duration": 13,
    "start_time": "2022-05-12T12:46:58.776Z"
   },
   {
    "duration": 234,
    "start_time": "2022-05-12T12:47:56.991Z"
   },
   {
    "duration": 20,
    "start_time": "2022-05-12T12:49:01.621Z"
   },
   {
    "duration": 12,
    "start_time": "2022-05-12T12:49:10.059Z"
   },
   {
    "duration": 254,
    "start_time": "2022-05-12T13:25:42.754Z"
   },
   {
    "duration": 1312,
    "start_time": "2022-05-12T13:31:25.462Z"
   },
   {
    "duration": 34,
    "start_time": "2022-05-12T13:31:26.776Z"
   },
   {
    "duration": 3,
    "start_time": "2022-05-12T13:31:26.812Z"
   },
   {
    "duration": 25,
    "start_time": "2022-05-12T13:31:26.818Z"
   },
   {
    "duration": 15,
    "start_time": "2022-05-12T13:31:26.848Z"
   },
   {
    "duration": 122,
    "start_time": "2022-05-12T13:31:26.867Z"
   },
   {
    "duration": 81,
    "start_time": "2022-05-12T13:31:26.991Z"
   },
   {
    "duration": 16,
    "start_time": "2022-05-12T13:31:27.074Z"
   },
   {
    "duration": 17,
    "start_time": "2022-05-12T13:31:27.092Z"
   },
   {
    "duration": 6,
    "start_time": "2022-05-12T13:31:27.112Z"
   },
   {
    "duration": 12,
    "start_time": "2022-05-12T13:31:27.120Z"
   },
   {
    "duration": 28,
    "start_time": "2022-05-12T13:31:27.138Z"
   },
   {
    "duration": 179,
    "start_time": "2022-05-12T13:31:27.167Z"
   },
   {
    "duration": 132,
    "start_time": "2022-05-12T13:31:27.348Z"
   },
   {
    "duration": 12,
    "start_time": "2022-05-12T13:31:27.482Z"
   },
   {
    "duration": 11,
    "start_time": "2022-05-12T13:31:27.495Z"
   },
   {
    "duration": 498,
    "start_time": "2022-05-12T13:31:27.507Z"
   },
   {
    "duration": 448,
    "start_time": "2022-05-12T13:31:28.006Z"
   },
   {
    "duration": 463,
    "start_time": "2022-05-12T13:31:28.459Z"
   },
   {
    "duration": 400,
    "start_time": "2022-05-12T13:31:28.924Z"
   },
   {
    "duration": 653,
    "start_time": "2022-05-12T13:31:29.326Z"
   },
   {
    "duration": 181,
    "start_time": "2022-05-12T13:31:29.981Z"
   },
   {
    "duration": 247,
    "start_time": "2022-05-12T13:31:30.164Z"
   },
   {
    "duration": 5,
    "start_time": "2022-05-12T13:31:30.413Z"
   },
   {
    "duration": 27,
    "start_time": "2022-05-12T13:31:30.420Z"
   },
   {
    "duration": 268,
    "start_time": "2022-05-12T13:31:30.451Z"
   },
   {
    "duration": 15,
    "start_time": "2022-05-12T13:31:30.721Z"
   },
   {
    "duration": 379,
    "start_time": "2022-05-12T13:31:30.742Z"
   },
   {
    "duration": 43,
    "start_time": "2022-05-12T13:31:31.123Z"
   },
   {
    "duration": 10,
    "start_time": "2022-05-12T13:31:31.169Z"
   },
   {
    "duration": 17,
    "start_time": "2022-05-12T13:31:31.181Z"
   },
   {
    "duration": 19,
    "start_time": "2022-05-12T13:31:31.200Z"
   },
   {
    "duration": 52,
    "start_time": "2022-05-12T13:31:31.221Z"
   },
   {
    "duration": 24,
    "start_time": "2022-05-12T13:31:31.275Z"
   },
   {
    "duration": 1890,
    "start_time": "2022-05-13T07:26:18.736Z"
   },
   {
    "duration": 31,
    "start_time": "2022-05-13T07:26:20.629Z"
   },
   {
    "duration": 4,
    "start_time": "2022-05-13T07:26:20.662Z"
   },
   {
    "duration": 24,
    "start_time": "2022-05-13T07:26:20.681Z"
   },
   {
    "duration": 17,
    "start_time": "2022-05-13T07:26:20.707Z"
   },
   {
    "duration": 37,
    "start_time": "2022-05-13T07:26:20.726Z"
   },
   {
    "duration": 22,
    "start_time": "2022-05-13T07:26:20.765Z"
   },
   {
    "duration": 22,
    "start_time": "2022-05-13T07:26:20.789Z"
   },
   {
    "duration": 15,
    "start_time": "2022-05-13T07:26:20.813Z"
   },
   {
    "duration": 7,
    "start_time": "2022-05-13T07:26:20.832Z"
   },
   {
    "duration": 42,
    "start_time": "2022-05-13T07:26:20.841Z"
   },
   {
    "duration": 17,
    "start_time": "2022-05-13T07:26:20.885Z"
   },
   {
    "duration": 383,
    "start_time": "2022-05-13T07:26:20.904Z"
   },
   {
    "duration": 236,
    "start_time": "2022-05-13T07:26:21.289Z"
   },
   {
    "duration": 15,
    "start_time": "2022-05-13T07:26:21.528Z"
   },
   {
    "duration": 7,
    "start_time": "2022-05-13T07:26:21.546Z"
   },
   {
    "duration": 707,
    "start_time": "2022-05-13T07:26:21.582Z"
   },
   {
    "duration": 618,
    "start_time": "2022-05-13T07:26:22.292Z"
   },
   {
    "duration": 669,
    "start_time": "2022-05-13T07:26:22.912Z"
   },
   {
    "duration": 574,
    "start_time": "2022-05-13T07:26:23.584Z"
   },
   {
    "duration": 672,
    "start_time": "2022-05-13T07:26:24.160Z"
   },
   {
    "duration": 246,
    "start_time": "2022-05-13T07:26:24.835Z"
   },
   {
    "duration": 363,
    "start_time": "2022-05-13T07:26:25.083Z"
   },
   {
    "duration": 6,
    "start_time": "2022-05-13T07:26:25.448Z"
   },
   {
    "duration": 33,
    "start_time": "2022-05-13T07:26:25.456Z"
   },
   {
    "duration": 375,
    "start_time": "2022-05-13T07:26:25.491Z"
   },
   {
    "duration": 6,
    "start_time": "2022-05-13T07:26:25.868Z"
   },
   {
    "duration": 617,
    "start_time": "2022-05-13T07:26:25.885Z"
   },
   {
    "duration": 30,
    "start_time": "2022-05-13T07:26:26.504Z"
   },
   {
    "duration": 14,
    "start_time": "2022-05-13T07:26:26.536Z"
   },
   {
    "duration": 13,
    "start_time": "2022-05-13T07:26:26.582Z"
   },
   {
    "duration": 12,
    "start_time": "2022-05-13T07:26:26.597Z"
   },
   {
    "duration": 32,
    "start_time": "2022-05-13T07:26:26.611Z"
   },
   {
    "duration": 52,
    "start_time": "2022-05-13T07:26:26.645Z"
   }
  ],
  "kernelspec": {
   "display_name": "Python 3 (ipykernel)",
   "language": "python",
   "name": "python3"
  },
  "language_info": {
   "codemirror_mode": {
    "name": "ipython",
    "version": 3
   },
   "file_extension": ".py",
   "mimetype": "text/x-python",
   "name": "python",
   "nbconvert_exporter": "python",
   "pygments_lexer": "ipython3",
   "version": "3.9.7"
  },
  "toc": {
   "base_numbering": 1,
   "nav_menu": {},
   "number_sections": true,
   "sideBar": true,
   "skip_h1_title": true,
   "title_cell": "Table of Contents",
   "title_sidebar": "Contents",
   "toc_cell": false,
   "toc_position": {
    "height": "calc(100% - 180px)",
    "left": "10px",
    "top": "150px",
    "width": "400.85px"
   },
   "toc_section_display": true,
   "toc_window_display": true
  }
 },
 "nbformat": 4,
 "nbformat_minor": 2
}
